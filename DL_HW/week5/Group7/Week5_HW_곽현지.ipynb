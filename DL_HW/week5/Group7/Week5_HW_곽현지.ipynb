{
 "cells": [
  {
   "cell_type": "markdown",
   "metadata": {},
   "source": [
    "# Deep Learning 5주차 세션 과제"
   ]
  },
  {
   "cell_type": "markdown",
   "metadata": {},
   "source": [
    "### 과제1) 모두의딥러닝 시즌2 강의의 longsequence 코드 lstm 모델 적용해보기"
   ]
  },
  {
   "cell_type": "code",
   "execution_count": 1,
   "metadata": {},
   "outputs": [],
   "source": [
    "import torch\n",
    "import torch.optim as optim\n",
    "import numpy as np"
   ]
  },
  {
   "cell_type": "code",
   "execution_count": 2,
   "metadata": {},
   "outputs": [
    {
     "data": {
      "text/plain": [
       "<torch._C.Generator at 0x1afa60d6590>"
      ]
     },
     "execution_count": 2,
     "metadata": {},
     "output_type": "execute_result"
    }
   ],
   "source": [
    "# Random seed to make results deterministic and reproducible\n",
    "torch.manual_seed(0)"
   ]
  },
  {
   "cell_type": "code",
   "execution_count": 3,
   "metadata": {},
   "outputs": [],
   "source": [
    "sentence = (\"if you want to build a ship, don't drum up people together to \"\n",
    "            \"collect wood and don't assign them tasks and work, but rather \"\n",
    "            \"teach them to long for the endless immensity of the sea.\")"
   ]
  },
  {
   "cell_type": "code",
   "execution_count": 4,
   "metadata": {},
   "outputs": [
    {
     "data": {
      "text/plain": [
       "{'.': 0,\n",
       " ' ': 1,\n",
       " 'n': 2,\n",
       " 'r': 3,\n",
       " ',': 4,\n",
       " 'c': 5,\n",
       " 'l': 6,\n",
       " 'u': 7,\n",
       " 'y': 8,\n",
       " 'a': 9,\n",
       " 'm': 10,\n",
       " 't': 11,\n",
       " 'd': 12,\n",
       " 'i': 13,\n",
       " 'h': 14,\n",
       " 'g': 15,\n",
       " 'f': 16,\n",
       " 'p': 17,\n",
       " 'b': 18,\n",
       " \"'\": 19,\n",
       " 'w': 20,\n",
       " 'e': 21,\n",
       " 'k': 22,\n",
       " 'o': 23,\n",
       " 's': 24}"
      ]
     },
     "execution_count": 4,
     "metadata": {},
     "output_type": "execute_result"
    }
   ],
   "source": [
    "# make dictionary\n",
    "char_set = list(set(sentence))\n",
    "char_dic = {c: i for i, c in enumerate(char_set)} # index를 key로 알파벳을 valueㄹ 갖는 딕셔너리 생성\n",
    "char_dic"
   ]
  },
  {
   "cell_type": "code",
   "execution_count": 5,
   "metadata": {},
   "outputs": [],
   "source": [
    "# hyper parameters\n",
    "dic_size = len(char_dic)\n",
    "hidden_size = len(char_dic) \n",
    "sequence_length = 10  # window size, 10글자씩 사용할래\n",
    "learning_rate = 0.1"
   ]
  },
  {
   "cell_type": "code",
   "execution_count": 6,
   "metadata": {},
   "outputs": [
    {
     "name": "stdout",
     "output_type": "stream",
     "text": [
      "0 if you wan -> f you want\n",
      "1 f you want ->  you want \n",
      "2  you want  -> you want t\n",
      "3 you want t -> ou want to\n",
      "4 ou want to -> u want to \n",
      "5 u want to  ->  want to b\n",
      "6  want to b -> want to bu\n",
      "7 want to bu -> ant to bui\n",
      "8 ant to bui -> nt to buil\n",
      "9 nt to buil -> t to build\n",
      "10 t to build ->  to build \n",
      "11  to build  -> to build a\n",
      "12 to build a -> o build a \n",
      "13 o build a  ->  build a s\n",
      "14  build a s -> build a sh\n",
      "15 build a sh -> uild a shi\n",
      "16 uild a shi -> ild a ship\n",
      "17 ild a ship -> ld a ship,\n",
      "18 ld a ship, -> d a ship, \n",
      "19 d a ship,  ->  a ship, d\n",
      "20  a ship, d -> a ship, do\n",
      "21 a ship, do ->  ship, don\n",
      "22  ship, don -> ship, don'\n",
      "23 ship, don' -> hip, don't\n",
      "24 hip, don't -> ip, don't \n",
      "25 ip, don't  -> p, don't d\n",
      "26 p, don't d -> , don't dr\n",
      "27 , don't dr ->  don't dru\n",
      "28  don't dru -> don't drum\n",
      "29 don't drum -> on't drum \n",
      "30 on't drum  -> n't drum u\n",
      "31 n't drum u -> 't drum up\n",
      "32 't drum up -> t drum up \n",
      "33 t drum up  ->  drum up p\n",
      "34  drum up p -> drum up pe\n",
      "35 drum up pe -> rum up peo\n",
      "36 rum up peo -> um up peop\n",
      "37 um up peop -> m up peopl\n",
      "38 m up peopl ->  up people\n",
      "39  up people -> up people \n",
      "40 up people  -> p people t\n",
      "41 p people t ->  people to\n",
      "42  people to -> people tog\n",
      "43 people tog -> eople toge\n",
      "44 eople toge -> ople toget\n",
      "45 ople toget -> ple togeth\n",
      "46 ple togeth -> le togethe\n",
      "47 le togethe -> e together\n",
      "48 e together ->  together \n",
      "49  together  -> together t\n",
      "50 together t -> ogether to\n",
      "51 ogether to -> gether to \n",
      "52 gether to  -> ether to c\n",
      "53 ether to c -> ther to co\n",
      "54 ther to co -> her to col\n",
      "55 her to col -> er to coll\n",
      "56 er to coll -> r to colle\n",
      "57 r to colle ->  to collec\n",
      "58  to collec -> to collect\n",
      "59 to collect -> o collect \n",
      "60 o collect  ->  collect w\n",
      "61  collect w -> collect wo\n",
      "62 collect wo -> ollect woo\n",
      "63 ollect woo -> llect wood\n",
      "64 llect wood -> lect wood \n",
      "65 lect wood  -> ect wood a\n",
      "66 ect wood a -> ct wood an\n",
      "67 ct wood an -> t wood and\n",
      "68 t wood and ->  wood and \n",
      "69  wood and  -> wood and d\n",
      "70 wood and d -> ood and do\n",
      "71 ood and do -> od and don\n",
      "72 od and don -> d and don'\n",
      "73 d and don' ->  and don't\n",
      "74  and don't -> and don't \n",
      "75 and don't  -> nd don't a\n",
      "76 nd don't a -> d don't as\n",
      "77 d don't as ->  don't ass\n",
      "78  don't ass -> don't assi\n",
      "79 don't assi -> on't assig\n",
      "80 on't assig -> n't assign\n",
      "81 n't assign -> 't assign \n",
      "82 't assign  -> t assign t\n",
      "83 t assign t ->  assign th\n",
      "84  assign th -> assign the\n",
      "85 assign the -> ssign them\n",
      "86 ssign them -> sign them \n",
      "87 sign them  -> ign them t\n",
      "88 ign them t -> gn them ta\n",
      "89 gn them ta -> n them tas\n",
      "90 n them tas ->  them task\n",
      "91  them task -> them tasks\n",
      "92 them tasks -> hem tasks \n",
      "93 hem tasks  -> em tasks a\n",
      "94 em tasks a -> m tasks an\n",
      "95 m tasks an ->  tasks and\n",
      "96  tasks and -> tasks and \n",
      "97 tasks and  -> asks and w\n",
      "98 asks and w -> sks and wo\n",
      "99 sks and wo -> ks and wor\n",
      "100 ks and wor -> s and work\n",
      "101 s and work ->  and work,\n",
      "102  and work, -> and work, \n",
      "103 and work,  -> nd work, b\n",
      "104 nd work, b -> d work, bu\n",
      "105 d work, bu ->  work, but\n",
      "106  work, but -> work, but \n",
      "107 work, but  -> ork, but r\n",
      "108 ork, but r -> rk, but ra\n",
      "109 rk, but ra -> k, but rat\n",
      "110 k, but rat -> , but rath\n",
      "111 , but rath ->  but rathe\n",
      "112  but rathe -> but rather\n",
      "113 but rather -> ut rather \n",
      "114 ut rather  -> t rather t\n",
      "115 t rather t ->  rather te\n",
      "116  rather te -> rather tea\n",
      "117 rather tea -> ather teac\n",
      "118 ather teac -> ther teach\n",
      "119 ther teach -> her teach \n",
      "120 her teach  -> er teach t\n",
      "121 er teach t -> r teach th\n",
      "122 r teach th ->  teach the\n",
      "123  teach the -> teach them\n",
      "124 teach them -> each them \n",
      "125 each them  -> ach them t\n",
      "126 ach them t -> ch them to\n",
      "127 ch them to -> h them to \n",
      "128 h them to  ->  them to l\n",
      "129  them to l -> them to lo\n",
      "130 them to lo -> hem to lon\n",
      "131 hem to lon -> em to long\n",
      "132 em to long -> m to long \n",
      "133 m to long  ->  to long f\n",
      "134  to long f -> to long fo\n",
      "135 to long fo -> o long for\n",
      "136 o long for ->  long for \n",
      "137  long for  -> long for t\n",
      "138 long for t -> ong for th\n",
      "139 ong for th -> ng for the\n",
      "140 ng for the -> g for the \n",
      "141 g for the  ->  for the e\n",
      "142  for the e -> for the en\n",
      "143 for the en -> or the end\n",
      "144 or the end -> r the endl\n",
      "145 r the endl ->  the endle\n",
      "146  the endle -> the endles\n",
      "147 the endles -> he endless\n",
      "148 he endless -> e endless \n",
      "149 e endless  ->  endless i\n",
      "150  endless i -> endless im\n",
      "151 endless im -> ndless imm\n",
      "152 ndless imm -> dless imme\n",
      "153 dless imme -> less immen\n",
      "154 less immen -> ess immens\n",
      "155 ess immens -> ss immensi\n",
      "156 ss immensi -> s immensit\n",
      "157 s immensit ->  immensity\n",
      "158  immensity -> immensity \n",
      "159 immensity  -> mmensity o\n",
      "160 mmensity o -> mensity of\n",
      "161 mensity of -> ensity of \n",
      "162 ensity of  -> nsity of t\n",
      "163 nsity of t -> sity of th\n",
      "164 sity of th -> ity of the\n",
      "165 ity of the -> ty of the \n",
      "166 ty of the  -> y of the s\n",
      "167 y of the s ->  of the se\n",
      "168  of the se -> of the sea\n",
      "169 of the sea -> f the sea.\n"
     ]
    }
   ],
   "source": [
    "# data setting\n",
    "x_data = []\n",
    "y_data = []\n",
    "\n",
    "for i in range(0, len(sentence) - sequence_length): # 가져올 수 있는 chunk의 개수\n",
    "    x_str = sentence[i:i + sequence_length]\n",
    "    y_str = sentence[i + 1: i + sequence_length + 1] \n",
    "    print(i, x_str, '->', y_str)\n",
    "\n",
    "    x_data.append([char_dic[c] for c in x_str]) # string을 index로 만들어 넣어준다\n",
    "    y_data.append([char_dic[c] for c in y_str])\n",
    "\n",
    "x_one_hot = [np.eye(dic_size)[x] for x in x_data] # one-hot encoding"
   ]
  },
  {
   "cell_type": "code",
   "execution_count": 7,
   "metadata": {},
   "outputs": [],
   "source": [
    "X = torch.FloatTensor(x_one_hot)\n",
    "Y = torch.LongTensor(y_data)"
   ]
  },
  {
   "cell_type": "code",
   "execution_count": 8,
   "metadata": {},
   "outputs": [],
   "source": [
    "# declare LSTM + FC\n",
    "class Net(torch.nn.Module):\n",
    "    def __init__(self, input_dim, hidden_dim, layers):\n",
    "        super(Net, self).__init__()\n",
    "        self.rnn = torch.nn.LSTM(input_dim, hidden_dim, num_layers=layers, batch_first=True)\n",
    "        self.fc = torch.nn.Linear(hidden_dim, hidden_dim, bias=True)\n",
    "\n",
    "    def forward(self, x):\n",
    "        x, _status = self.rnn(x)\n",
    "        x = self.fc(x)\n",
    "        return x\n",
    "\n",
    "net = Net(dic_size, hidden_size, 2)"
   ]
  },
  {
   "cell_type": "code",
   "execution_count": 9,
   "metadata": {},
   "outputs": [],
   "source": [
    "# loss & optimizer setting\n",
    "criterion = torch.nn.CrossEntropyLoss()\n",
    "optimizer = optim.Adam(net.parameters(), learning_rate)"
   ]
  },
  {
   "cell_type": "code",
   "execution_count": 10,
   "metadata": {},
   "outputs": [
    {
     "name": "stdout",
     "output_type": "stream",
     "text": [
      "                                                                                                                                                                                   \n",
      "                                                                                                                                                                                   \n",
      "tlt      tt       tt      t           ttt            tttt         ttt                     tt    t               tt     tttt    ttt   tt      ttt     tt           tt           t   \n",
      "                                                                                                                                                                                   \n",
      "                                                                                                                                                                                   \n",
      "                                        t            t  tt  t t                                      t           tt      t   t tt  tttttt      t    tt t            t         t t  \n",
      "                                                                                                                                                                                   \n",
      "                                                                                                                                                                                   \n",
      "                                                                                                                                                                                   \n",
      "                                                                                                                                                                                   \n",
      "                                                                                                                                                                                   \n",
      "                                                                                                                                                                                   \n",
      "                                                                                                                                                                                   \n",
      "                                                                                                                                                                                   \n",
      "                                                                                                                                                                                   \n",
      "                                                                                                                                                                                   \n",
      "                                                                                                                                                                                   \n",
      "                                       t                                                                      t t              t t                                                 \n",
      "  t                   t  t           t t                  t                 t t       t   t   t t       t t   t t        t t   t t    t       t   t                     t     t    \n",
      "  t tt   t      t   t t  t  t        t t             t  t t   t    t      t t t       t   t   t t  t    t t   t t t      t t   t t  t t       t t t  t                  t  t  t    \n",
      "  t tt   t    t t   t t  t  t t t    t tt t          t  t t  tt    t t    t t t t t   t   t   t t  tt t t t   t t t t    t t   t t  t t  t  t t t t  t  t               t  t  t    \n",
      "  t tt   t t  ttt   t t  t  t ttt t  t tt t      t   t  t t  tt    t t    t t t ttt t t   t   t t  tt t t t   t ttt t  t t t   t t  t t  t  t t t t  t  t t t t   tt    t  t  t    \n",
      "  t tt   t t  ttt   t t  t  t ttt t  t tt t      t   t  t t  tt    t t    t t t ttt t t t t   t t  tt t t t   t ttt t tt t t   t t  t t  t  t t t t  t  t t t t   tt    t  t  t    \n",
      "  t tt   t t  ttt   t t  t  t ttt t  t tt t      t   t  t t  tt    t t    t t t ttt t t t tt  t t  tt t t t   t ttt t t  t t   t t  t t  t  t t t t  tt t t t t   tt    t  t  tt   \n",
      "  t tt   t t  ttt   t t  t  t ttt t  t tt t  t   t   t  t t  tt    t t    t t t ttt t t t tt  t t  tt t t t   t ttt t t  t t   t t  t t  t  t t t t  tt t   t t   tt t  t  t  tt   \n",
      "t t tt   t t  ttt   t t  t  t ttt t  t tt t  t   t   t  t t  tt    t t    t t t ttt t   t tt  t t  tt t t t   t ttt t t  t t  tt t  t t  t  t t t t  tt t   t tt  tt t  t  t  tt   \n",
      "t t tto  t t  ttt   t t  t  t ttt t  t tt to tt  t   tt t t  tt    t t    t t t ttt t   t tt  t t   t t t t   t ttt t t  t t  tt t  t t  t  t t t t  tt t   t tt   t t  tt t  tt  t\n",
      "t t ttoo t t  ttt   tot  to t ttt t  t tt to to  t   t  t t  tt    t tooo tot t ttt to  t tt  t t   t tot too t ttt t t  t t  tt t  t t  t ot t t t  tt t   t tt   t t  to t  tt  t\n",
      "t t ttooot t ottt   tot  to t ott t  t tt to to  t   to t t  tt    t tooo tot t ott to  t tt  t too t tot too t ttt t t  t t  tt to t to t ot t t t  tt t   t to   t t  to to tt  t\n",
      "t t otooototootttoo tot  to t oot t  t tt to to  too  t t to tto   t tooo tot t oot to  t to  m too t tot too t ttt t t  m to tt to t to t oo t t to  t t   t to   t to to to to  t\n",
      "t t othoosotootttho tot  to t oot to t tt to to  to   h m t  tt    t tooo tos t oot to  t ts  m to  t tos tooot ttt t t  m t  tt to m to toos t t to mo t   m th   t to to to mo  s\n",
      "t t sthoodotoodtthoedot  to toost toot tt toosooetooe s m teedhhoeet toos tot toost toh t tso m toost tos tooot ttt t t  m teeth to m to tood t t to mhotooet ts   thto to to mo  s\n",
      "t t sthsodotoodttho dot  to d odt do t tp toesoeetoeemh m teedhhee t toos dot d odt doi t td  m too t tot too t dtt t t  m teeth th m to dood t t teemhot eet th   t to do to mh  s\n",
      "t t sthsod toodtths dot  th d sdt do t tp toosoeetoeemh m teedhhoeet doos dot d sdt doi t dd  m toost tot doo t dtt t toem teeth th m to dood t t toemhot eet th   t th do to rh  s\n",
      "t t sthoododoodtthd dot  td d sdt do t tp toosoeetoeerh m toedhhoeet doos dot d sdt dos t ddoem toost tot doo t dtt t toem toeth to m to dond tos toerhod eet th   t th do toerh  s\n",
      "t t sthoododoedtthd dot  td d  dt do t tp toosheetoeerhem toedo ee t do s dot d  dt do  teddoem too t tod doe t dtt t toem toeth toer toedoed tor toerhod ees th  et to dh toerh rs\n",
      "ted tttoododondttht dot  th dosdt do t tp toothentonether tondosoent doos dod dosdt dosit ddoer toost tod doost dtt tother toosh toer tondosd tos toerhod eot th  nd th ds toerh sd\n",
      "tet sptondodo duthd dot  ph d  dt do t tp tonthentoeerher to do eent do s dod d  dt dsiis ddoer tonss dod do  t dut tother tonsh ther to do d tom toerhod ens th  nt td ds toerh ss\n",
      "sed sutosdodo duthd dst  ps do dt do t tp tooshentoeemher toedo eent do s dss d ndt dsiis ddher thsss dsd do ks dut tother tonsh ther th do d dom toerhnd ens sh ent pd ds therh ss\n",
      "sesoshtosdoto duihd dothiph dosdt do t tp tosshento ether to dosoent doss dod dosdt dsiis dsher thsss dsd dos t dut tother tonsh ther th dosd tor toerhndoens thienshth ds therhiss\n",
      "nedonuhondoto duihd dothips doedt doem tp phnshentoeerher toedoooent dons dod dondt dssis dther tonss dsd donns dut tother tonss ther to do d tor toe todoens sh ensisd do the t ss\n",
      "netos tosshth duihd d t  ph do dt do m tp thnsh rh nemhem to do oerh do s d s d sdt dsiis tshem thnis dst do is dut t them tonth them th do d tom toerhnd eri phierhiss ds therhiph\n",
      "nodod tondoto duild doth ps dondt do m tp pensh nto erher to do oent dond dod dondt dnsis dther thnis dnd don t dut pother tonss ther th do d dor therhnd ens tpiendhty do the a ps\n",
      "nedod tondoto duild doth py dondt do m tp penshento erher to do oent dond dod dondt dositedthe  tonss dnd donnt dut nother tonss the  to do d dor the and ens tp endsty do the a ps\n",
      "netot tondhto duild d th ph dondt ao m tp ppnphento erhem to do lent dons dnd dondt ansitedther tonks dnt donkt dut pethem tonsh ther to do d tot toerend ens tpienshty dt the eeps\n"
     ]
    },
    {
     "name": "stdout",
     "output_type": "stream",
     "text": [
      "potodutonthto duild d thip, dosdt aopm tp ppnphento ethem to dollent dons dnt d ndt assis tthem tosksidnt donks dut pnthem tonsh them to do d tot toerens ens piienshty dt thereeps\n",
      "noton lond do duild d thip, dondt aorm tp peaplentoeemher to dollent do s dnd dondt assig dthem tosks dnd do ks dut rethem toash ther to do d tor toerend ens pi ensity df thereeps\n",
      "noton lond do duild d thip, dondt aorm tp peanlento ether to dollent dood dnd dondt ansig dther tonks dnd dorks dut rother toash ther to dord for therend ens pimensity af thereeps\n",
      "notor wondhdo duild d thip, don't do m tp peoplenth ether th dollent dood dnd don't dssig dthem thsks dnd dork, dut rother thash ther th dor' for therend ens iimenshty af thereips\n",
      "nosor londhth dutld d thip, dor't ao m tp penplenth ether to dollent do d dnd dor't asskg dther tank, dnd dork, dut pether toash ther ta do d for toerend ens phmensity af thereeps\n",
      "nlsor lont to duild d ship, dor't aoum tp pecplento ether to dollent dond dnd dor't assigndthem tosks dnd dork, dut pethem toash ther to dor' for toerens ens immensity af toereips\n",
      "nlsor lont to duild dnship, don't aoum tp peoplento ethem to dollent dond dnd don't assigndthem tosks dnd dork, dut rathem toash ther to dor' fot toerend ens immensity af thereens\n",
      "mldor lont to duild dnship, don't aoum tp peoplento ethem to dollent wood dnd don't assigngthem tosks dnd dork, dui rathem toash ther to dor' for therend ens immensity af thereens\n",
      "mldor wont to duild d ship, don't doum up peoplento ether te dollent dood dnd don't dssig gthem tonks and dork, dut rathem teash ther ta dor' for therendlens immensity af thereens\n",
      "mlsor want to duild d ship, don't doum rp peoplerto ether te dollent wood dnd don't dssig gthem tosks and dork, dut rather teash ther to dord tor therendlens immensity af thersens\n",
      "mlsor want to duild a ship, don't aoum rp people to ether te collect wood dnd don't assig gthem tosks and donk, dut rather teosh ther to son' for therendhens immensity af the sens\n",
      "mlson want to build a ship, don't aoum up people togethem te collect wood dnd don't assig gthem tosks and donk, dut rathem teosh them to con' for the endlens immensity af the sens\n",
      "mltor want to build a ship, don't aoum up people togethem to collect wood dnd don't assig nthem tasks and donk, dut rathem teosh them ta con' tor the endlens immensity af the eens\n",
      "nltor want to build a ship, don't aoum up people togethem to collect wood dnd don't assigngthem tasks and dork, dut rather toach them ta co d tor the endlens immensity af the eenn\n",
      "nltou wont to build a ship, don't aoum up people together to collect wood and don't assignnthem tasks and dork, dut rather toach them ta cond for the endlecs immensity af the eean\n",
      "nldou want to build a ship, don't aoum up people together to collect wood and don't assignnthem tosks and dork, dut rather toach them to cond for therendlecs immensity af the eean\n",
      "nldou want to build a ship, don't aoum up people together to collect wood and don't assigngthem tosks and dork, dut rather toach them to cond for therendlecs immensity af the eean\n",
      "nldou want to build a ship, don't aoum up people together to collect wood and don't assignnthem tosks and dork, wut rather teach them to bon' for the endless immensity of the sean\n",
      "nldou want to build a ship, don't aoum up people together to collect wood and don't assignnthem tosks and dork, but rather teach them to bon' for the endless immensity of the sean\n",
      "nndou want to build a ship, don't aoum up people together to collect wood and don't assignnthem tosks and dork, but rather teach them to bong for the endless immensity af the sean\n",
      "nndou want to build a ship, don't aoum up people together to collect wood and don't assignnthem tosks and dork, but rather teach them to bong for the endless immensity of the sean\n",
      "nndou want to build a ship, don't arum up people together to collect wood and don't assignnthem tosks and dork, but rather teach them to bong for the endless immensity rf the sean\n",
      "nndou want to build a ship, don't arum up people together to collect wood and don't assignnthem tasks and work, but rather teach them to bong for the endless immensity of the sean\n",
      "n dou want to build a ship, don't arum up people together to collect wood and don't assignnthem tasks and work, but rather teach them to long for the endless immensity of the sean\n",
      "m dou want to build a ship, don't arum up people together to collect wood and don't assign them tasks and work, but rather teach them to long for the endless immensity of the sean\n",
      "m dou want to build a ship, don't arum up people together to collect wood and don't assign them tasks and work, but rather teach them to cong for the endless immensity of the sean\n",
      "m dou want to build a ship, don't arum up people together to collect wood and don't assign them tosks and work, but rather teach them to cong for the endless immensity of the sean\n",
      "m tou want to build a ship, don't arum up people together to collect wood and don't assign them tasks and work, but rather teach them to cong for the endless immensity of the sean\n",
      "t tou want to build a ship, don't arum up people together to collect wood and don't assign them tasks and work, but rather teach them to long for the endless immensity of the sean\n",
      "t fou want to build a ship, don't drum up people together to collect wood and don't assign them tasks and work, but rather teach them to long for the endless immensity of the sean\n",
      "t fou want to build a ship, don't arum up people together to collect wood and don't assign them tasks and work, but rather teach them to cong for the endless immensity of the sea.\n",
      "t fou want to build a ship, don't drum up people together to collect wood and don't assign them tasks and work, but rather teach them to long for the endless immensity of the sea.\n",
      "t fou want to build a ship, don't drum up people together to collect wood and don't assign them tasks and work, but rather teach them to long for the endless immensity of the sea.\n",
      "t fou want to build a ship, don't arum up people together to collect wood and don't assign them tasks and work, but rather teach them to long for the endless immensity of the sea.\n",
      "t dou want to build a ship, don't arum up people together to collect wood and don't assign them tasks and work, but rather teach them to long for the endless immensity of the sea.\n",
      "t dou want to build a ship, don't drum up people together to collect wood and don't assign them tasks and work, but rather teach them to long for the endless immensity of the sea.\n",
      "t dou want to build a ship, don't drum up people together to collect wood and don't assign them tasks and work, but rather teach them to long for the endless immensity of the sea.\n",
      "t dou want to build a ship, don't drum up people together to collect wood and don't assign them tasks and work, but rather teach them to long for the endless immensity of the sea.\n",
      "t dou want to build a ship, don't drum up people together to collect wood and don't assign them tasks and work, but rather teach them to long for the endless immensity of the sea.\n",
      "t dou want to build a ship, don't drum up people together to collect wood and don't assign them tasks and work, but rather teach them to long for the endless immensity of the sea.\n",
      "t dou want to build a ship, don't drum up people together to collect wood and don't assign them tasks and work, but rather teach them to long for the endless immensity of the sea.\n",
      "t tou want to build a ship, don't drum up people together to collect wood and don't assign them tasks and work, but rather teach them to long for the endless immensity of the sea.\n",
      "t dou want to build a ship, don't drum up people together to collect wood and don't assign them tasks and work, but rather teach them to long for the endless immensity of the sea.\n",
      "t dou want to build a ship, don't arum up people together to collect wood and don't assign them tasks and work, but rather teach them to long for the endless immensity of the sea.\n",
      "t dou want to build a ship, don't drum up people together to collect wood and don't assign them tasks and work, but rather teach them to long for the endless immensity of the sea.\n"
     ]
    },
    {
     "name": "stdout",
     "output_type": "stream",
     "text": [
      "t dou want to build a ship, don't drum up people together to collect wood and don't dssign them tasks and work, but rather teach them to long for the endless immensity of the sea.\n",
      "t dou want to build a ship, don't drum up people together to collect wood and don't assign them tasks and work, but rather teach them to long for the endless immensity of the sea.\n",
      "t dou want to build a ship, don't drum up people together to collect wood and don't assign them tasks and work, but rather teach them to long for the endless immensity of the sea.\n",
      "t dou want to build a ship, don't drum up people together to collect wood and don't assign them tasks and work, but rather teach them to long for the endless immensity of the sea.\n",
      "t dou want to build a ship, don't drum up people together to collect wood and don't assign them tasks and work, but rather teach them to long for the endless immensity of the sea.\n",
      "t you want to build a ship, don't drum up people together to collect wood and don't assign them tasks and work, but rather teach them to long for the endless immensity of the sea.\n",
      "t you want to build a ship, don't drum up people together to collect wood and don't assign them tasks and work, but rather teach them to long for the endless immensity of the sea.\n",
      "t you want to build a ship, don't drum up people together to collect wood and don't assign them tasks and work, but rather teach them to long for the endless immensity of the sea.\n",
      "t you want to build a ship, don't drum up people together to collect wood and don't assign them tasks and work, but rather teach them to long for the endless immensity of the sea.\n",
      "t you want to build a ship, don't drum up people together to collect wood and don't assign them tasks and work, but rather teach them to long for the endless immensity of the sea.\n"
     ]
    }
   ],
   "source": [
    "# start training\n",
    "for i in range(100): \n",
    "    optimizer.zero_grad() \n",
    "    outputs = net(X)\n",
    "    loss = criterion(outputs.view(-1, dic_size), Y.view(-1)) \n",
    "    loss.backward() # gradient 계산\n",
    "    optimizer.step() # parameter 업데이트\n",
    "\n",
    "    results = outputs.argmax(dim=2)\n",
    "    predict_str = \"\"\n",
    "    for j, result in enumerate(results):\n",
    "        # print(i, j, ''.join([char_set[t] for t in result]), loss.item())\n",
    "        if j == 0: \n",
    "            predict_str += ''.join([char_set[t] for t in result])\n",
    "        else: # result의 맨 마지막 값만 가져와 기존의 prediction string에 붙여주기\n",
    "            predict_str += char_set[result[-1]]\n",
    "\n",
    "    print(predict_str)"
   ]
  },
  {
   "cell_type": "markdown",
   "metadata": {},
   "source": [
    "### 과제2)  \n",
    "https://tutorials.pytorch.kr/intermediate/char_rnn_classification_tutorial.html 따라해보기!"
   ]
  },
  {
   "cell_type": "markdown",
   "metadata": {},
   "source": [
    "18개 언어로 된 수천 개의 성(姓)을 훈련시키고, 철자에 따라 이름이 어떤 언어인지 예측"
   ]
  },
  {
   "cell_type": "code",
   "execution_count": 11,
   "metadata": {},
   "outputs": [],
   "source": [
    "from __future__ import unicode_literals, print_function, division\n",
    "from io import open\n",
    "import glob\n",
    "import os"
   ]
  },
  {
   "cell_type": "code",
   "execution_count": 12,
   "metadata": {},
   "outputs": [],
   "source": [
    "def findFiles(path): return glob.glob(path)"
   ]
  },
  {
   "cell_type": "code",
   "execution_count": 29,
   "metadata": {},
   "outputs": [
    {
     "name": "stdout",
     "output_type": "stream",
     "text": [
      "['C:/Users/njj06/Desktop/data/names\\\\Arabic.txt', 'C:/Users/njj06/Desktop/data/names\\\\Chinese.txt', 'C:/Users/njj06/Desktop/data/names\\\\Czech.txt', 'C:/Users/njj06/Desktop/data/names\\\\Dutch.txt', 'C:/Users/njj06/Desktop/data/names\\\\English.txt', 'C:/Users/njj06/Desktop/data/names\\\\French.txt', 'C:/Users/njj06/Desktop/data/names\\\\German.txt', 'C:/Users/njj06/Desktop/data/names\\\\Greek.txt', 'C:/Users/njj06/Desktop/data/names\\\\Irish.txt', 'C:/Users/njj06/Desktop/data/names\\\\Italian.txt', 'C:/Users/njj06/Desktop/data/names\\\\Japanese.txt', 'C:/Users/njj06/Desktop/data/names\\\\Korean.txt', 'C:/Users/njj06/Desktop/data/names\\\\Polish.txt', 'C:/Users/njj06/Desktop/data/names\\\\Portuguese.txt', 'C:/Users/njj06/Desktop/data/names\\\\Russian.txt', 'C:/Users/njj06/Desktop/data/names\\\\Scottish.txt', 'C:/Users/njj06/Desktop/data/names\\\\Spanish.txt', 'C:/Users/njj06/Desktop/data/names\\\\Vietnamese.txt']\n"
     ]
    }
   ],
   "source": [
    "print(findFiles('C:/Users/njj06/Desktop/data/names/*.txt'))"
   ]
  },
  {
   "cell_type": "code",
   "execution_count": 30,
   "metadata": {},
   "outputs": [
    {
     "name": "stdout",
     "output_type": "stream",
     "text": [
      "Slusarski\n"
     ]
    }
   ],
   "source": [
    "import unicodedata\n",
    "import string\n",
    "\n",
    "all_letters = string.ascii_letters + \" .,;'\"\n",
    "n_letters = len(all_letters)\n",
    "\n",
    "# 유니코드 문자열을 ASCII로 변환\n",
    "def unicodeToAscii(s):\n",
    "    return ''.join(\n",
    "        c for c in unicodedata.normalize('NFD', s)\n",
    "        if unicodedata.category(c) != 'Mn'\n",
    "        and c in all_letters\n",
    "    )\n",
    "\n",
    "print(unicodeToAscii('Ślusàrski'))"
   ]
  },
  {
   "cell_type": "code",
   "execution_count": 31,
   "metadata": {},
   "outputs": [
    {
     "data": {
      "text/plain": [
       "\"abcdefghijklmnopqrstuvwxyzABCDEFGHIJKLMNOPQRSTUVWXYZ .,;'\""
      ]
     },
     "execution_count": 31,
     "metadata": {},
     "output_type": "execute_result"
    }
   ],
   "source": [
    "all_letters"
   ]
  },
  {
   "cell_type": "code",
   "execution_count": 32,
   "metadata": {},
   "outputs": [],
   "source": [
    "# 각 언어별 이름 목록 사전 category_lines 생성: {language: [names...]} 언어를 이름에 mapping\n",
    "category_lines = {}\n",
    "all_categories = []"
   ]
  },
  {
   "cell_type": "code",
   "execution_count": 33,
   "metadata": {},
   "outputs": [],
   "source": [
    "# 파일을 읽고 줄 단위로 분리\n",
    "def readLines(filename):\n",
    "    lines = open(filename, encoding='utf-8').read().strip().split('\\n')\n",
    "    return [unicodeToAscii(line) for line in lines]\n",
    "\n",
    "for filename in findFiles('data/names/*.txt'):\n",
    "    category = os.path.splitext(os.path.basename(filename))[0]\n",
    "    all_categories.append(category)\n",
    "    lines = readLines(filename)\n",
    "    category_lines[category] = lines\n",
    "\n",
    "n_categories = len(all_categories)"
   ]
  },
  {
   "cell_type": "code",
   "execution_count": 34,
   "metadata": {},
   "outputs": [
    {
     "name": "stdout",
     "output_type": "stream",
     "text": [
      "['Abandonato', 'Abatangelo', 'Abatantuono', 'Abate', 'Abategiovanni']\n"
     ]
    }
   ],
   "source": [
    "print(category_lines['Italian'][:5])  # category_lines 확인해보기"
   ]
  },
  {
   "cell_type": "code",
   "execution_count": 43,
   "metadata": {},
   "outputs": [
    {
     "name": "stdout",
     "output_type": "stream",
     "text": [
      "tensor([[0., 0., 0., 0., 0., 0., 0., 0., 0., 0., 0., 0., 0., 0., 0., 0., 0., 0.,\n",
      "         0., 0., 0., 0., 0., 0., 0., 0., 0., 0., 0., 0., 0., 0., 0., 0., 0., 1.,\n",
      "         0., 0., 0., 0., 0., 0., 0., 0., 0., 0., 0., 0., 0., 0., 0., 0., 0., 0.,\n",
      "         0., 0., 0.]])\n",
      "torch.Size([5, 1, 57])\n"
     ]
    }
   ],
   "source": [
    "# 이름을 tensor로 변환해주자\n",
    "\n",
    "import torch\n",
    "\n",
    "# all_letters 로 문자의 주소 찾기, 예시 \"a\" = 0, \"b\" = 1, ...\n",
    "def letterToIndex(letter):\n",
    "    return all_letters.find(letter)\n",
    "\n",
    "# 하나의 문자를 크기가 <1 x n_letters>인 tensor로 표현\n",
    "def letterToTensor(letter):\n",
    "    tensor = torch.zeros(1, n_letters)\n",
    "    tensor[0][letterToIndex(letter)] = 1 # one-hot encoding\n",
    "    return tensor\n",
    "\n",
    "# 단어를 만들기 위해 이름을 torch.Size([이름길이, 1, n_letters]) array로 변경\n",
    "def lineToTensor(line):\n",
    "    tensor = torch.zeros(len(line), 1, n_letters)\n",
    "    for li, letter in enumerate(line):\n",
    "        tensor[li][0][letterToIndex(letter)] = 1\n",
    "    return tensor\n",
    "\n",
    "print(letterToTensor('J')) # 문자 J에 대한 원핫인코딩 결과\n",
    "print(lineToTensor('Jones').size())"
   ]
  },
  {
   "cell_type": "markdown",
   "metadata": {},
   "source": [
    "---\n",
    "이 구조에 따라서 모델을 만들어보자\n",
    "\n",
    "![](https://i.imgur.com/Z2xbySO.png)"
   ]
  },
  {
   "cell_type": "code",
   "execution_count": 36,
   "metadata": {},
   "outputs": [],
   "source": [
    "import torch.nn as nn\n",
    "\n",
    "class RNN(nn.Module):\n",
    "    def __init__(self, input_size, hidden_size, output_size):\n",
    "        super(RNN, self).__init__()\n",
    "\n",
    "        self.hidden_size = hidden_size\n",
    "\n",
    "        self.i2h = nn.Linear(input_size + hidden_size, hidden_size)\n",
    "        self.i2o = nn.Linear(input_size + hidden_size, output_size)\n",
    "        self.softmax = nn.LogSoftmax(dim=1)\n",
    "        # 두 개의 선형 계층과 logsoftmax 계층\n",
    "        \n",
    "    def forward(self, input, hidden):\n",
    "        combined = torch.cat((input, hidden), 1)\n",
    "        hidden = self.i2h(combined)\n",
    "        output = self.i2o(combined)\n",
    "        output = self.softmax(output)\n",
    "        return output, hidden\n",
    "    \n",
    "    def initHidden(self):\n",
    "        return torch.zeros(1, self.hidden_size)\n",
    "    \n",
    "n_hidden = 128\n",
    "rnn = RNN(n_letters, n_hidden, n_categories)"
   ]
  },
  {
   "cell_type": "code",
   "execution_count": 37,
   "metadata": {},
   "outputs": [],
   "source": [
    "input = letterToTensor('A')\n",
    "hidden =torch.zeros(1, n_hidden)\n",
    "\n",
    "output, next_hidden = rnn(input, hidden)\n",
    "# 입력과 이전 은닉상태를 출력과 다음 은닉상태로 전달"
   ]
  },
  {
   "cell_type": "code",
   "execution_count": 38,
   "metadata": {},
   "outputs": [
    {
     "name": "stdout",
     "output_type": "stream",
     "text": [
      "tensor([[-2.8972, -2.9242, -2.9079, -2.8427, -2.8979, -2.9466, -2.8723, -3.0259,\n",
      "         -2.9028, -2.9134, -2.8902, -2.9175, -2.8586, -2.8606, -2.7938, -2.8559,\n",
      "         -2.9353, -2.8082]], grad_fn=<LogSoftmaxBackward>)\n"
     ]
    }
   ],
   "source": [
    "input = lineToTensor('Albert')\n",
    "# lineToTensor 함수를 이용해 문자 길이 입력\n",
    "hidden = torch.zeros(1, n_hidden)\n",
    "\n",
    "output, next_hidden = rnn(input[0], hidden)\n",
    "print(output)\n",
    "# 출력은 해당 카테고리의 likelihood"
   ]
  },
  {
   "cell_type": "code",
   "execution_count": 39,
   "metadata": {},
   "outputs": [
    {
     "name": "stdout",
     "output_type": "stream",
     "text": [
      "('Russian', 14)\n"
     ]
    }
   ],
   "source": [
    "# likelihood가 가장 큰 언어와 번호 반환\n",
    "def categoryFromOutput(output):\n",
    "    top_n, top_i = output.topk(1) # 텐서의 가장 큰 값 및 주소\n",
    "    category_i = top_i[0].item()     # 텐서에서 정수 값으로 변경\n",
    "    return all_categories[category_i], category_i\n",
    "\n",
    "print(categoryFromOutput(output))"
   ]
  },
  {
   "cell_type": "code",
   "execution_count": 40,
   "metadata": {},
   "outputs": [
    {
     "name": "stdout",
     "output_type": "stream",
     "text": [
      "category = Czech / line = Jelinek\n",
      "category = English / line = Redding\n",
      "category = Czech / line = Stary\n",
      "category = Chinese / line = She\n",
      "category = Greek / line = Gianakopulos\n",
      "category = Portuguese / line = Souza\n",
      "category = Arabic / line = Totah\n",
      "category = Dutch / line = Vliert\n",
      "category = Polish / line = Czajka\n",
      "category = Japanese / line = Yanagi\n"
     ]
    }
   ],
   "source": [
    "# 학습 data(이름, 언어)를 얻는 빠른 방법\n",
    "import random\n",
    "\n",
    "def randomChoice(l):\n",
    "    return l[random.randint(0, len(l) - 1)]\n",
    "\n",
    "def randomTrainingExample():\n",
    "    category = randomChoice(all_categories)\n",
    "    line = randomChoice(category_lines[category])\n",
    "    category_tensor = torch.tensor([all_categories.index(category)], dtype=torch.long)\n",
    "    line_tensor = lineToTensor(line)\n",
    "    return category, line, category_tensor, line_tensor\n",
    "\n",
    "for i in range(10):\n",
    "    category, line, category_tensor, line_tensor = randomTrainingExample()\n",
    "    print('category =', category, '/ line =', line)\n",
    "    # category가 언어, line이 이름"
   ]
  },
  {
   "cell_type": "code",
   "execution_count": 41,
   "metadata": {},
   "outputs": [],
   "source": [
    "criterion = nn.NLLLoss() # 손실함수\n",
    "learning_rate = 0.005 # 너무 높으면 발산, 너무 낮으면 학습X\n",
    "\n",
    "# 학습\n",
    "def train(category_tensor, line_tensor): # 입력과 목표 tensor 생성\n",
    "    hidden = rnn.initHidden()\n",
    "\n",
    "    rnn.zero_grad() # 0으로 초기화된 은닉 상태 생성\n",
    "\n",
    "    for i in range(line_tensor.size()[0]):\n",
    "        output, hidden = rnn(line_tensor[i], hidden)\n",
    "        # 각 문자 읽고 다음 문자 위한 은닉 상태 유지\n",
    "\n",
    "    loss = criterion(output, category_tensor) # 최종 output과 목표값 비교\n",
    "    loss.backward() # 역전파\n",
    "\n",
    "    # 매개변수의 경사도에 학습률을 곱해서 그 매개변수의 값에 더합니다.\n",
    "    for p in rnn.parameters():\n",
    "        p.data.add_(p.grad.data, alpha=-learning_rate)\n",
    "    \n",
    "    return output, loss.item() # 출력과 손실 반환"
   ]
  },
  {
   "cell_type": "code",
   "execution_count": 44,
   "metadata": {},
   "outputs": [
    {
     "name": "stdout",
     "output_type": "stream",
     "text": [
      "5000 5% (0m 30s) 4.3514 Santillian / Irish ✗ (Spanish)\n",
      "10000 10% (1m 0s) 1.0085 Atherley / English ✓\n",
      "15000 15% (1m 30s) 1.3317 Milligan / Irish ✓\n",
      "20000 20% (2m 0s) 0.5974 O'Reilly / Irish ✓\n",
      "25000 25% (2m 33s) 2.5474 Raske / Russian ✗ (Dutch)\n",
      "30000 30% (3m 5s) 1.7190 Shirane / French ✗ (Japanese)\n",
      "35000 35% (3m 37s) 0.0509 O'Ryan / Irish ✓\n",
      "40000 40% (4m 9s) 0.2157 Antar / Arabic ✓\n",
      "45000 45% (4m 42s) 1.0016 Rosa / Spanish ✓\n",
      "50000 50% (5m 13s) 0.3901 Huynh / Vietnamese ✓\n",
      "55000 55% (5m 46s) 0.0172 Chehlakovsky / Russian ✓\n",
      "60000 60% (6m 17s) 1.4487 Kim / Korean ✗ (Vietnamese)\n",
      "65000 65% (6m 49s) 0.8531 Mansour / Arabic ✓\n",
      "70000 70% (7m 22s) 0.2270 Letsos / Greek ✓\n",
      "75000 75% (7m 54s) 0.7774 Korycansky / Czech ✓\n",
      "80000 80% (8m 25s) 1.5003 Flynn / Scottish ✗ (Irish)\n",
      "85000 85% (8m 57s) 0.9593 Ha / Vietnamese ✗ (Korean)\n",
      "90000 90% (9m 30s) 1.4862 Weasley / French ✗ (English)\n",
      "95000 95% (10m 2s) 0.0421 Rudaski / Polish ✓\n",
      "100000 100% (10m 34s) 0.3557 Yue / Chinese ✓\n"
     ]
    }
   ],
   "source": [
    "import time\n",
    "import math\n",
    "\n",
    "n_iters = 100000\n",
    "print_every = 5000\n",
    "plot_every = 1000\n",
    "\n",
    "# 도식화를 위한 손실 추적\n",
    "current_loss = 0\n",
    "all_losses = []\n",
    "\n",
    "def timeSince(since):\n",
    "    now = time.time()\n",
    "    s = now - since\n",
    "    m = math.floor(s / 60)\n",
    "    s -= m * 60\n",
    "    return '%dm %ds' % (m, s)\n",
    "\n",
    "start = time.time()\n",
    "\n",
    "for iter in range(1, n_iters + 1):\n",
    "    category, line, category_tensor, line_tensor = randomTrainingExample()\n",
    "    output, loss = train(category_tensor, line_tensor)\n",
    "    current_loss += loss\n",
    "\n",
    "    # iter 숫자, 손실, 이름, 추측 화면 출력\n",
    "    if iter % print_every == 0:\n",
    "        guess, guess_i = categoryFromOutput(output)\n",
    "        correct = '✓' if guess == category else '✗ (%s)' % category\n",
    "        print('%d %d%% (%s) %.4f %s / %s %s' % (iter, iter / n_iters * 100, timeSince(start), loss, line, guess, correct))\n",
    "\n",
    "    # 현재 평균 손실을 전체 손실 리스트에 추가\n",
    "    if iter % plot_every == 0:\n",
    "        all_losses.append(current_loss / plot_every)\n",
    "        current_loss = 0"
   ]
  },
  {
   "cell_type": "code",
   "execution_count": 45,
   "metadata": {},
   "outputs": [
    {
     "data": {
      "text/plain": [
       "[<matplotlib.lines.Line2D at 0x1afaac1bba8>]"
      ]
     },
     "execution_count": 45,
     "metadata": {},
     "output_type": "execute_result"
    },
    {
     "data": {
      "image/png": "[encoded data removed]",
      "text/plain": [
       "<Figure size 432x288 with 1 Axes>"
      ]
     },
     "metadata": {
      "needs_background": "light"
     },
     "output_type": "display_data"
    }
   ],
   "source": [
    "# 결과 도식화\n",
    "import matplotlib.pyplot as plt\n",
    "import matplotlib.ticker as ticker\n",
    "\n",
    "plt.figure()\n",
    "plt.plot(all_losses)"
   ]
  },
  {
   "cell_type": "code",
   "execution_count": 46,
   "metadata": {},
   "outputs": [
    {
     "data": {
      "image/png": "[encoded data removed]",
      "text/plain": [
       "<Figure size 432x288 with 2 Axes>"
      ]
     },
     "metadata": {
      "needs_background": "light"
     },
     "output_type": "display_data"
    }
   ],
   "source": [
    "# 결과 평가\n",
    "# 다른 언어에 얼마나 잘 작동하는지 보기 위해 모든 언어가 어떤 언어로 추측되는지 표현하는 confusion matrix 생성\n",
    "confusion = torch.zeros(n_categories, n_categories)\n",
    "n_confusion = 10000\n",
    "\n",
    "# 주어진 라인의 출력 반환\n",
    "def evaluate(line_tensor):\n",
    "    hidden = rnn.initHidden()\n",
    "\n",
    "    for i in range(line_tensor.size()[0]):\n",
    "        output, hidden = rnn(line_tensor[i], hidden)\n",
    "\n",
    "    return output\n",
    "\n",
    "# 예시들 중에 어떤 것이 정확하게 예측되었는지 기록\n",
    "for i in range(n_confusion):\n",
    "    category, line, category_tensor, line_tensor = randomTrainingExample()\n",
    "    output = evaluate(line_tensor)\n",
    "    guess, guess_i = categoryFromOutput(output)\n",
    "    category_i = all_categories.index(category)\n",
    "    confusion[category_i][guess_i] += 1\n",
    "\n",
    "# 모든 행을 합계로 나누어 정규화\n",
    "for i in range(n_categories):\n",
    "    confusion[i] = confusion[i] / confusion[i].sum()\n",
    "\n",
    "# 도식 설정\n",
    "fig = plt.figure()\n",
    "ax = fig.add_subplot(111)\n",
    "cax = ax.matshow(confusion.numpy())\n",
    "fig.colorbar(cax)\n",
    "\n",
    "# 축 설정\n",
    "ax.set_xticklabels([''] + all_categories, rotation=90)\n",
    "ax.set_yticklabels([''] + all_categories)\n",
    "\n",
    "# 모든 tick에서 레이블 지정\n",
    "ax.xaxis.set_major_locator(ticker.MultipleLocator(1))\n",
    "ax.yaxis.set_major_locator(ticker.MultipleLocator(1))\n",
    "\n",
    "# sphinx_gallery_thumbnail_number = 2\n",
    "plt.show()"
   ]
  },
  {
   "cell_type": "code",
   "execution_count": null,
   "metadata": {},
   "outputs": [],
   "source": []
  }
 ],
 "metadata": {
  "kernelspec": {
   "display_name": "Python 3",
   "language": "python",
   "name": "python3"
  },
  "language_info": {
   "codemirror_mode": {
    "name": "ipython",
    "version": 3
   },
   "file_extension": ".py",
   "mimetype": "text/x-python",
   "name": "python",
   "nbconvert_exporter": "python",
   "pygments_lexer": "ipython3",
   "version": "3.7.3"
  }
 },
 "nbformat": 4,
 "nbformat_minor": 2
}

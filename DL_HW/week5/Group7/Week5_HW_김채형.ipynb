{
 "cells": [
  {
   "cell_type": "markdown",
   "metadata": {},
   "source": [
    "# 2020 SUMMER ESC :: Week 5 세션 과제"
   ]
  },
  {
   "cell_type": "markdown",
   "metadata": {},
   "source": [
    "2020.08.23 김채형"
   ]
  },
  {
   "cell_type": "markdown",
   "metadata": {},
   "source": [
    "## 과제 1\n",
    "\n",
    "모두의딥러닝 시즌2 강의의 longsequence 코드 lstm 모델 적용해보기."
   ]
  },
  {
   "cell_type": "code",
   "execution_count": 1,
   "metadata": {},
   "outputs": [],
   "source": [
    "import torch\n",
    "import torch.optim as optim\n",
    "import numpy as np\n",
    "import torch.nn as nn"
   ]
  },
  {
   "cell_type": "code",
   "execution_count": 2,
   "metadata": {},
   "outputs": [
    {
     "data": {
      "text/plain": [
       "<torch._C.Generator at 0x10fd230f0>"
      ]
     },
     "execution_count": 2,
     "metadata": {},
     "output_type": "execute_result"
    }
   ],
   "source": [
    "# Random seed to make results deterministic and reproducible\n",
    "torch.manual_seed(0)"
   ]
  },
  {
   "cell_type": "code",
   "execution_count": 3,
   "metadata": {},
   "outputs": [
    {
     "name": "stdout",
     "output_type": "stream",
     "text": [
      "if you want to build a ship, don't drum up people together to collect wood and don't assign them tasks and work, but rather teach them to long for the endless immensity of the sea.\n"
     ]
    }
   ],
   "source": [
    "sentence = (\"if you want to build a ship, don't drum up people together to \"\n",
    "            \"collect wood and don't assign them tasks and work, but rather \"\n",
    "            \"teach them to long for the endless immensity of the sea.\")\n",
    "print(sentence)"
   ]
  },
  {
   "cell_type": "code",
   "execution_count": 4,
   "metadata": {},
   "outputs": [
    {
     "name": "stdout",
     "output_type": "stream",
     "text": [
      "[\"'\", 'r', 'o', 'w', 'y', 'k', 'f', ' ', 't', 'e', 'u', 'c', 'd', 'a', 'b', 'h', 's', 'i', 'm', 'g', '.', 'l', ',', 'p', 'n']\n",
      "{\"'\": 0, 'r': 1, 'o': 2, 'w': 3, 'y': 4, 'k': 5, 'f': 6, ' ': 7, 't': 8, 'e': 9, 'u': 10, 'c': 11, 'd': 12, 'a': 13, 'b': 14, 'h': 15, 's': 16, 'i': 17, 'm': 18, 'g': 19, '.': 20, 'l': 21, ',': 22, 'p': 23, 'n': 24}\n"
     ]
    }
   ],
   "source": [
    "# make dictionary\n",
    "char_set = list(set(sentence)) # 중복 없는 character level 리스트 생성\n",
    "print(char_set)\n",
    "char_dic = {c: i for i, c in enumerate(char_set)} # key=character, value=index 인 딕셔너리 생성\n",
    "print(char_dic)"
   ]
  },
  {
   "cell_type": "code",
   "execution_count": 5,
   "metadata": {},
   "outputs": [],
   "source": [
    "# hyper parameters\n",
    "dic_size = len(char_dic)\n",
    "hidden_size = len(char_dic)\n",
    "sequence_length = 10  # Any arbitrary number (window)\n",
    "learning_rate = 0.1"
   ]
  },
  {
   "cell_type": "code",
   "execution_count": 6,
   "metadata": {},
   "outputs": [
    {
     "name": "stdout",
     "output_type": "stream",
     "text": [
      "0 if you wan -> f you want\n",
      "1 f you want ->  you want \n",
      "2  you want  -> you want t\n",
      "3 you want t -> ou want to\n",
      "4 ou want to -> u want to \n",
      "5 u want to  ->  want to b\n",
      "6  want to b -> want to bu\n",
      "7 want to bu -> ant to bui\n",
      "8 ant to bui -> nt to buil\n",
      "9 nt to buil -> t to build\n",
      "10 t to build ->  to build \n",
      "11  to build  -> to build a\n",
      "12 to build a -> o build a \n",
      "13 o build a  ->  build a s\n",
      "14  build a s -> build a sh\n",
      "15 build a sh -> uild a shi\n",
      "16 uild a shi -> ild a ship\n",
      "17 ild a ship -> ld a ship,\n",
      "18 ld a ship, -> d a ship, \n",
      "19 d a ship,  ->  a ship, d\n",
      "20  a ship, d -> a ship, do\n",
      "21 a ship, do ->  ship, don\n",
      "22  ship, don -> ship, don'\n",
      "23 ship, don' -> hip, don't\n",
      "24 hip, don't -> ip, don't \n",
      "25 ip, don't  -> p, don't d\n",
      "26 p, don't d -> , don't dr\n",
      "27 , don't dr ->  don't dru\n",
      "28  don't dru -> don't drum\n",
      "29 don't drum -> on't drum \n",
      "30 on't drum  -> n't drum u\n",
      "31 n't drum u -> 't drum up\n",
      "32 't drum up -> t drum up \n",
      "33 t drum up  ->  drum up p\n",
      "34  drum up p -> drum up pe\n",
      "35 drum up pe -> rum up peo\n",
      "36 rum up peo -> um up peop\n",
      "37 um up peop -> m up peopl\n",
      "38 m up peopl ->  up people\n",
      "39  up people -> up people \n",
      "40 up people  -> p people t\n",
      "41 p people t ->  people to\n",
      "42  people to -> people tog\n",
      "43 people tog -> eople toge\n",
      "44 eople toge -> ople toget\n",
      "45 ople toget -> ple togeth\n",
      "46 ple togeth -> le togethe\n",
      "47 le togethe -> e together\n",
      "48 e together ->  together \n",
      "49  together  -> together t\n",
      "50 together t -> ogether to\n",
      "51 ogether to -> gether to \n",
      "52 gether to  -> ether to c\n",
      "53 ether to c -> ther to co\n",
      "54 ther to co -> her to col\n",
      "55 her to col -> er to coll\n",
      "56 er to coll -> r to colle\n",
      "57 r to colle ->  to collec\n",
      "58  to collec -> to collect\n",
      "59 to collect -> o collect \n",
      "60 o collect  ->  collect w\n",
      "61  collect w -> collect wo\n",
      "62 collect wo -> ollect woo\n",
      "63 ollect woo -> llect wood\n",
      "64 llect wood -> lect wood \n",
      "65 lect wood  -> ect wood a\n",
      "66 ect wood a -> ct wood an\n",
      "67 ct wood an -> t wood and\n",
      "68 t wood and ->  wood and \n",
      "69  wood and  -> wood and d\n",
      "70 wood and d -> ood and do\n",
      "71 ood and do -> od and don\n",
      "72 od and don -> d and don'\n",
      "73 d and don' ->  and don't\n",
      "74  and don't -> and don't \n",
      "75 and don't  -> nd don't a\n",
      "76 nd don't a -> d don't as\n",
      "77 d don't as ->  don't ass\n",
      "78  don't ass -> don't assi\n",
      "79 don't assi -> on't assig\n",
      "80 on't assig -> n't assign\n",
      "81 n't assign -> 't assign \n",
      "82 't assign  -> t assign t\n",
      "83 t assign t ->  assign th\n",
      "84  assign th -> assign the\n",
      "85 assign the -> ssign them\n",
      "86 ssign them -> sign them \n",
      "87 sign them  -> ign them t\n",
      "88 ign them t -> gn them ta\n",
      "89 gn them ta -> n them tas\n",
      "90 n them tas ->  them task\n",
      "91  them task -> them tasks\n",
      "92 them tasks -> hem tasks \n",
      "93 hem tasks  -> em tasks a\n",
      "94 em tasks a -> m tasks an\n",
      "95 m tasks an ->  tasks and\n",
      "96  tasks and -> tasks and \n",
      "97 tasks and  -> asks and w\n",
      "98 asks and w -> sks and wo\n",
      "99 sks and wo -> ks and wor\n",
      "100 ks and wor -> s and work\n",
      "101 s and work ->  and work,\n",
      "102  and work, -> and work, \n",
      "103 and work,  -> nd work, b\n",
      "104 nd work, b -> d work, bu\n",
      "105 d work, bu ->  work, but\n",
      "106  work, but -> work, but \n",
      "107 work, but  -> ork, but r\n",
      "108 ork, but r -> rk, but ra\n",
      "109 rk, but ra -> k, but rat\n",
      "110 k, but rat -> , but rath\n",
      "111 , but rath ->  but rathe\n",
      "112  but rathe -> but rather\n",
      "113 but rather -> ut rather \n",
      "114 ut rather  -> t rather t\n",
      "115 t rather t ->  rather te\n",
      "116  rather te -> rather tea\n",
      "117 rather tea -> ather teac\n",
      "118 ather teac -> ther teach\n",
      "119 ther teach -> her teach \n",
      "120 her teach  -> er teach t\n",
      "121 er teach t -> r teach th\n",
      "122 r teach th ->  teach the\n",
      "123  teach the -> teach them\n",
      "124 teach them -> each them \n",
      "125 each them  -> ach them t\n",
      "126 ach them t -> ch them to\n",
      "127 ch them to -> h them to \n",
      "128 h them to  ->  them to l\n",
      "129  them to l -> them to lo\n",
      "130 them to lo -> hem to lon\n",
      "131 hem to lon -> em to long\n",
      "132 em to long -> m to long \n",
      "133 m to long  ->  to long f\n",
      "134  to long f -> to long fo\n",
      "135 to long fo -> o long for\n",
      "136 o long for ->  long for \n",
      "137  long for  -> long for t\n",
      "138 long for t -> ong for th\n",
      "139 ong for th -> ng for the\n",
      "140 ng for the -> g for the \n",
      "141 g for the  ->  for the e\n",
      "142  for the e -> for the en\n",
      "143 for the en -> or the end\n",
      "144 or the end -> r the endl\n",
      "145 r the endl ->  the endle\n",
      "146  the endle -> the endles\n",
      "147 the endles -> he endless\n",
      "148 he endless -> e endless \n",
      "149 e endless  ->  endless i\n",
      "150  endless i -> endless im\n",
      "151 endless im -> ndless imm\n",
      "152 ndless imm -> dless imme\n",
      "153 dless imme -> less immen\n",
      "154 less immen -> ess immens\n",
      "155 ess immens -> ss immensi\n",
      "156 ss immensi -> s immensit\n",
      "157 s immensit ->  immensity\n",
      "158  immensity -> immensity \n",
      "159 immensity  -> mmensity o\n",
      "160 mmensity o -> mensity of\n",
      "161 mensity of -> ensity of \n",
      "162 ensity of  -> nsity of t\n",
      "163 nsity of t -> sity of th\n",
      "164 sity of th -> ity of the\n",
      "165 ity of the -> ty of the \n",
      "166 ty of the  -> y of the s\n",
      "167 y of the s ->  of the se\n",
      "168  of the se -> of the sea\n",
      "169 of the sea -> f the sea.\n"
     ]
    }
   ],
   "source": [
    "# data setting\n",
    "x_data = []\n",
    "y_data = []\n",
    "\n",
    "for i in range(0, len(sentence)-sequence_length):\n",
    "    x_str = sentence[i:i+sequence_length]\n",
    "    y_str = sentence[i+1:i+1+sequence_length]\n",
    "    print(i, x_str, '->', y_str)\n",
    "\n",
    "    x_data.append([char_dic[c] for c in x_str])  # x str to index\n",
    "    y_data.append([char_dic[c] for c in y_str])  # y str to index\n",
    "\n",
    "x_one_hot = [np.eye(dic_size)[x] for x in x_data]"
   ]
  },
  {
   "cell_type": "code",
   "execution_count": 7,
   "metadata": {},
   "outputs": [],
   "source": [
    "# transform as torch tensor variable\n",
    "X = torch.FloatTensor(x_one_hot)\n",
    "Y = torch.LongTensor(y_data)"
   ]
  },
  {
   "cell_type": "code",
   "execution_count": 8,
   "metadata": {},
   "outputs": [],
   "source": [
    "# declare model\n",
    "class Net(torch.nn.Module):\n",
    "    def __init__(self, input_dim, hidden_dim, layers):\n",
    "        super(Net, self).__init__()\n",
    "        self.lstm = torch.nn.LSTM(input_dim, hidden_dim, num_layers=layers, batch_first=True)\n",
    "        self.fc = torch.nn.Linear(hidden_dim, hidden_dim, bias=True)\n",
    "\n",
    "    def forward(self, x):\n",
    "        x, _status = self.lstm(x)\n",
    "        x = self.fc(x)\n",
    "        return x"
   ]
  },
  {
   "cell_type": "code",
   "execution_count": 9,
   "metadata": {},
   "outputs": [],
   "source": [
    "net = Net(dic_size, hidden_size, 2)"
   ]
  },
  {
   "cell_type": "code",
   "execution_count": 10,
   "metadata": {},
   "outputs": [],
   "source": [
    "# loss & optimizer setting\n",
    "criterion = torch.nn.CrossEntropyLoss()\n",
    "optimizer = optim.Adam(net.parameters(), learning_rate)"
   ]
  },
  {
   "cell_type": "code",
   "execution_count": 11,
   "metadata": {},
   "outputs": [
    {
     "name": "stdout",
     "output_type": "stream",
     "text": [
      "[epoch 1] rrrrrrrrrrrrrrrrrrrrrrrrrrrrrrrrrrrrrrrrrrrrrrrrrrrrrrrrrrrrrrrrrrrrrrrrrrrrrrrrrrrrrrrrrrrrrrrrrrrrrrrrrrrrrrrrrrrrrrrrrrrrrrrrrrrrrrrrrrrrrrrrrrrrrrrrrrrrrrrrrrrrrrrrrrrrrrrrrrr \n",
      "\n",
      "[epoch 2]                                                                                                                                                                                     \n",
      "\n",
      "[epoch 3] nnirnnnnnnnnnnnnnnnnnnnnnnnnnnnnnnnnnnnnnnnnnnnnnnnnnnnnnnnnnnnnnnnnnnnnnnnnnnnnnnnnnnnnnnnnnnnnnnnnnnnnnnnnnnnnnnnnnnnnnnnnnnnnnnnnnnnnnnnnnnnnnnnnnnnnnnnnnnnnnnnnnnnnnnnnnnnnnnn \n",
      "\n",
      "[epoch 4] eeeeeeeeeeeeeeeeeeeeeeeeeeeeeeeeeeeeeeeeeeeeeeeeeeeeeeeeeeeeeeeeeeeeeeeeeeeeeeeeeeeeeeeeeeeeeeeeeeeeeeeeeeeeeeeeeeeeeeeeeeeeeeeeeeeeeeeeeeeeeeeeeeeeeeeeeeeeeeeeeeeeeeeeeeeeeeeeeee \n",
      "\n",
      "[epoch 5] eeoeeeeeeeeeeeeeeeeeeeeeeeeeeeeeeeeeeeeeeeeeeeeeeeeeeeeeeeeeeeeeeeeeeeeeeeeeeeeeeeeeeeeeeeeeeeeeeeeeeeeeeeeeeeeeeeeeeeeeeeeeeeeeeeeeeeeeeeeeeeeeeeeeeeeeeeeeeeeeeeeeeeeeeeeoeeeeeee \n",
      "\n",
      "[epoch 6]       t                                                   t                                    t                   t                                                                \n",
      "\n",
      "[epoch 7]                                                                                                                                                                                     \n",
      "\n",
      "[epoch 8]                                                                                                                                                                                     \n",
      "\n",
      "[epoch 9]                                                                                           t                                                                                t        \n",
      "\n",
      "[epoch 10]   t      t            t     t                    t e tt            t        t             t  e          t   e t te     t       t  te          t   t e t t          t       t e t    \n",
      "\n",
      "[epoch 11]   t      t  t       t t     t   t                t    t   t  t     t        t t  tt       tt     t      t t   t t      t   t  tt   e   t      t   t   t t          t  t    t   t    \n",
      "\n",
      "[epoch 12]   t e    t   e      t t     t   t                t e tt   t e  e   t   e  t t t   t       tt e          t d e t t     tt   t   t  te    e     t e t e t t          t  t    t e t    \n",
      "\n",
      "[epoch 13]   t e    t ooe    t t t e t t n t oe           e t e tt  tt e  e   t ooe  t t t n t o     tt e  t     s t s e t t     tt   t   t  t   t e     t e t e t t   s s s st  t n  t e t    \n",
      "\n",
      "[epoch 14]   toe  o toooooeo t t t e t t r toooo e  l     e toe tterttootoe   toooe  t t t n too s   ttoo  to ss s t s e t t    tttonttoo t nten toet  t ton toe t t n s s s nt ss n  toe t  s \n",
      "\n",
      "[epoch 15]  ston  o tohoetel t t t nnt t r tooor    r o   e toe tter toetoe   toooel t t d n too ss nttoen to ss s s sontt de  rtthen to st mter toetort tor toert t n s s s ms ns n  toert ss \n",
      "\n",
      "[epoch 16]  ston oo tohoetel t t toent tonttoaor em e o  oeltoelther toetoel mtoaoelot t tontt asss ntther tosss s d dontt del rtthen to st soer toetort tor toert d n sss mims mt n  toert ns \n",
      "\n",
      "[epoch 17]  ston oo tohh tel d d toint dontt dor e eo o  ol to lthem tontont mt donloa t dontt d simntthen tosss did don t detor them tosst doem tontor  dor toert d m simimims ms n  toert ss \n",
      "\n",
      "[epoch 18]  dton oontoah tol t asthent don t doo e eeoollollto lther to toroe t aoeloa d don t d simntther tosss d d dorlt dut r ther toast doer to tor  tor toer  d r sim m ms mt n  toer   m \n",
      "\n",
      "[epoch 19]  st n tont th t r d d th nt dontt dor e eeoe  le th rthem to to l mt dorl a d dontt d si ntther thsst d d dorlt dut r ther tosst toer th tont don thert d t s m m ms mt n  thert  s \n",
      "\n",
      "[epoch 20]  st n tont th tul d t th mt dontt doo e peoel le to  them to to l dt dorl asd dontt dssigntther thsss d d dortt dut r them toast them to tont fon thert d p s m m ms mt n  thert  s \n",
      "\n",
      "[epoch 21]   ton aont to tuo d asth mt dortt dooue reoeoeoe to lthem to torlrdt aorl ant dortt dssigntther aosss dsd dor t tut r ther toast them to tort for thepant p sim m ms mt r  thep a m \n",
      "\n",
      "[epoch 22]  st n tont to tut d tnth mt dontt dur euueoeorlo ton them tondo l kt dorl ans dontt dssigntthem thsss dnd dor t dut rtthem tonst them th tont won the t d p siimm ms nt rt themt ss \n",
      "\n",
      "[epoch 23]   ton tont to tul doasth mt tondt ao mer eoeopoorto tther to to lect aool ant tondt assign ther thsss dns doo t tut r ther toakt them to tond won thertnd o siclmemsigt rl therth s \n",
      "\n",
      "[epoch 24]   ton aont to tul doanthimt donct do meupepeppoe to tthem to tonlect wool and dondt dssign them tonss dnd doo t tut r them torct them to ton  wor toem ndlf siimmensigs rl toem a m \n",
      "\n",
      "[epoch 25]   ton aond th tul d anthimt donct dr m upepepple to tthem to to lect dool and dondt dssign them thsss dnd doo t dut r ther toact bhem th tond wor them ndlf siimmemsimy of them a c \n",
      "\n",
      "[epoch 26]   tor aont to lutld wnthimt don't dr m upepe ple to pthem to lo lect wool ans don't dssign them tosss dnd doo t but rtther toact bhem to lon  f r them ndlp s imm ns mt of the de c \n",
      "\n",
      "[epoch 27]   tor oont to butld anthimt don t drum up pepple to pther to lo lect aool and don t dssign ther tosss dnd doo t but rtther toaat bhem to lon  for therdndlpss immend gy of the de c \n",
      "\n",
      "[epoch 28]   t n oont to butld andhimt don t drum upppepple to rther to lollect aool and don t dssign them thsss dnd dor t but rtther toact bhem to lon  for them ndless immend ty of the aeac \n",
      "\n",
      "[epoch 29]   t r eont to butld anthimt don't arum up people to pther to lo lect wool and don't assign them thsks and tor't but rather toach bher to lon  for ther ndless immensity of the ee c \n",
      "\n",
      "[epoch 30]   tor aond to butld anthirt don't arum up people to pther to lo lect wool and ton't assign ther tosks and tooct but rather toach ther to bon' for therendless immensity of the eeac \n",
      "\n",
      "[epoch 31] g tor aond to butld anthipt don't arum up people to ether togbollect wood and don't assign the  tosks and wor't but rather toach ther to lon' for the endless immensity of the heas \n",
      "\n",
      "[epoch 32] g tor aand to bupld andhip, don't arum up people together togbollect wood and don't assign the  thsks and dor', but rather toach ther ta lon' for the endless immensity of the eeac \n",
      "\n",
      "[epoch 33] g tor wont to build andhip, don't drum up people to ether to bollect aood and don't assign the  thsks and dor', but rather toach ther to lon' for the endless immensity of the eeac \n",
      "\n",
      "[epoch 34] l tor wont to build asdhip, don't drum up people to ether to bollect wood and don't dssign the  tosks and dork, but rather toach them to lon' for the sndless immensity of the seac \n",
      "\n",
      "[epoch 35] l tor wont to build a thip, don't drum up people to ether to lollect wood and don't dssign them tosks and work, but rather toach them to lon  for the endless immensity of the eeac \n",
      "\n",
      "[epoch 36] g tor wont to build a ship, don't drum up people to ether to bollect wood and don't dssign them tosks and work, but rather toach them to bon  for the endless immensity of the seac \n",
      "\n",
      "[epoch 37] g tor wont to build a ship, don't drum up people together to collect wood and don't assign them tosks and work, but rather toach them to lon  for the sndless immensity of the seac \n",
      "\n",
      "[epoch 38] g tor want to build a ship, don't arum up people together te collect wood and don't assign them tasks and work, but rather teach them to lon  for the sndless immensity of the seac \n",
      "\n",
      "[epoch 39] g tor want to build a ship, don't arum up people together to collect wood and don't assign them tasks and work, but rather toach them to long for the endless immensity of the eeam \n",
      "\n",
      "[epoch 40] g tor want to build a ship, don't drum up people together te collect wood and don't assign them tasks and work, but rather teach them to long for the endless immensity of the eeam \n",
      "\n",
      "[epoch 41] g tor want to build a ship, don't drum up people together te collect wood and don't dssign them tasks and work, but rather teach them to long for the sndless immensity of the seam \n",
      "\n",
      "[epoch 42] g tor want to build a ship, don't drum up people together to collect wood and don't dssign them tosks and work, but rather toach them to long for the endless immensity of the eeam \n",
      "\n",
      "[epoch 43] g tor want to build a ship, don't drum up people together te collect wood and don't dssign them tasks and work, but rather teach them to long for the sndless immensity of the seam \n",
      "\n",
      "[epoch 44] l tou want to build a ship, don't drum up people together to collect wood and don't dssign them tasks and work, but rather toach them to long for the endless immensity of the seam \n",
      "\n",
      "[epoch 45] l you want to build a ship, don't drum up people together te collect wood and don't dssign them tasks and work, but rather teach them to long for the endless immensity of the seam \n",
      "\n"
     ]
    },
    {
     "name": "stdout",
     "output_type": "stream",
     "text": [
      "[epoch 46] l you want to build a ship, don't drum up people together te collect wood and don't dssign them tasks and work, but rather teach them to long for the endless immensity of the seam \n",
      "\n",
      "[epoch 47] l you want to build a ship, don't drum up people together to collect wood and don't dssign them tasks and work, but rather teach them to long for the endless immensity of the seac \n",
      "\n",
      "[epoch 48] l you want to build a ship, don't drum up people together to collect wood and don't assign them tasks and work, but rather teach them to long for the endless immensity of the seam \n",
      "\n",
      "[epoch 49] l you want to build a ship, don't drum up people together to collect wood and don't assign them tasks and work, but rather teach them to long for the endless immensity of the seam \n",
      "\n",
      "[epoch 50] l you want to build a ship, don't drum up people together to collect wood and don't assign them tasks and work, but rather teach them to long for the endless immensity of the seam \n",
      "\n",
      "[epoch 51] l you want to build a ship, don't drum up people together to collect wood and don't assign them tasks and work, but rather teach them to long for the endless immensity of the seam \n",
      "\n",
      "[epoch 52] l you want to build a ship, don't drum up people together to collect wood and don't assign them tasks and work, but rather teach them to long for the endless immensity of the sea. \n",
      "\n",
      "[epoch 53] l you want to build a ship, don't drum up people together to collect wood and don't assign them tasks and work, but rather teach them to long for the endless immensity of the sea. \n",
      "\n",
      "[epoch 54] l you want to build a ship, don't doap up people together to collect wood and don't dssign them tasks and work, but rather teach them to long for the endless immensity of the sea. \n",
      "\n",
      "[epoch 55] l you want to build a ship, don't drum up people together to collect wood and won't dssign them tasks and work, but rather teach them to long for the endless immensity of the sea. \n",
      "\n",
      "[epoch 56] l you want to build a ship, don't dr m up people together to collect wood and don't ansiim them tasks and tork, but rather teach them to long for the endless immensity of the sea. \n",
      "\n",
      "[epoch 57] l you want to build a ship, don't drum up people together to collect wood and don't dssign them tasks and work, but rather teach them to long for the endless immensity of the sea. \n",
      "\n",
      "[epoch 58] l you want to build a ship, don't drum up people together to collect wood and don't dssegn them tasks and work, but rather teach them to long for the endless immensity of the sea. \n",
      "\n",
      "[epoch 59] l you want to build a ship, don't drum up people together to collect wood and don't dssign them tasks and work, but rather teach them to long for the endless immensity of the sea. \n",
      "\n",
      "[epoch 60] l you want to build a ship, don't drum up people together to collect wood and don't assign them tasks and work, but rather teach them ta long for the endless immensity of the sea. \n",
      "\n",
      "[epoch 61] l you want to build a ship, don't arum up people together to collect wood and don't assign them tasks and work, but rather teach them to long for the endless immensity of the sea. \n",
      "\n",
      "[epoch 62] l you want to build a ship, don't arum up people together to collect wood and don't assign them tosks and work, but rather teach them to bong for the endless immensity of the sea. \n",
      "\n",
      "[epoch 63] l you want to build a ship, don't arum up people together to collect wood and don't assign them tosss and work, but rather teach them to long for the endless immensity of the eaa. \n",
      "\n",
      "[epoch 64] l you want to build a ship, don't arum up people together te collect wood and don't assign them tasks and work, but rather teach them ta long for the endless immensity of the sea. \n",
      "\n",
      "[epoch 65] p you want to build a ship, don't arum up people together to collect wood and don't assign them tasks and work, but rather teach them ta long for the endless immensity of the sea. \n",
      "\n",
      "[epoch 66] p you want to build a ship, don't drum up people together to collect wood and don't assign them tasks and work, but rather teach them to long for the endless immensity of the sea. \n",
      "\n",
      "[epoch 67] p you want to build a ship, don't drum up people together to collect wood and don't assign them tasks and work, but rather teach them to long for the endless immensity of the sea. \n",
      "\n",
      "[epoch 68] p you want to build a ship, don't drum up people together to collect wood and don't assign them tasks and work, but rather teach them to long for the endless immensity of the sea. \n",
      "\n",
      "[epoch 69] p you want to build a ship, don't drum up people together to collect wood and don't assign them tasks and work, but rather teach them to long for the endless immensity of the sea. \n",
      "\n",
      "[epoch 70] t you want to build a ship, don't arum up people together to collect wood and don't assign them tasks and work, but rather teach them to long for the endless immensity of the sea. \n",
      "\n",
      "[epoch 71] t you want to build a ship, don't arum up people together to collect wood and don't assign them tasks and work, but rather teach them to long for the endless immensity of the sea. \n",
      "\n",
      "[epoch 72] t you want to build a ship, don't drum up people together to collect wood and don't assign them tasks and work, but rather teach them to long for the endless immensity of the sea. \n",
      "\n",
      "[epoch 73] t you want to build a ship, don't drum up people together to collect wood and don't assign them tasks and work, but rather teach them to long for the endless immensity of the sea. \n",
      "\n",
      "[epoch 74] t you want to build a ship, don't drum up people together to collect wood and don't assign them tasks and work, but rather teach them to long for the endless immensity of the sea. \n",
      "\n",
      "[epoch 75] t you want to build a ship, don't drum up people together to collect wood and don't assign them tasks and work, but rather teach them to long for the endless immensity of the sea. \n",
      "\n",
      "[epoch 76] l you want to build a ship, don't drum up people together to collect wood and don't assign them tasks and work, but rather teach them to long for the endless immensity of the sea. \n",
      "\n",
      "[epoch 77] l you want to build a ship, don't drum up people together to collect wood and don't assign them tasks and work, but rather teach them to long for the endless immensity of the sea. \n",
      "\n",
      "[epoch 78] l you want to build a ship, don't drum up people together to collect wood and don't assign them tasks and work, but rather teach them to long for the endless immensity of the sea. \n",
      "\n",
      "[epoch 79] m you want to build a ship, don't drum up people together to collect wood and don't assign them tasks and work, but rather teach them to long for the endless immensity of the sea. \n",
      "\n",
      "[epoch 80] m you want to build a ship, don't drum up people together to collect wood and don't assign them tasks and work, but rather teach them to long for the endless immensity of the sea. \n",
      "\n",
      "[epoch 81] m you want to build a ship, don't drum up people together to collect wood and don't assign them tasks and work, but rather teach them to long for the endless immensity of the sea. \n",
      "\n",
      "[epoch 82] l you want to build a ship, don't drum up people together to collect wood and don't assign them tasks and work, but rather teach them to long for the endless immensity of the sea. \n",
      "\n",
      "[epoch 83] l you want to build a ship, don't drum up people together to collect wood and don't assign them tasks and work, but rather teach them to long for the endless immensity of the sea. \n",
      "\n",
      "[epoch 84] l you want to build a ship, don't drum up people together to collect wood and don't assign them tasks and work, but rather teach them to long for the endless immensity of the sea. \n",
      "\n",
      "[epoch 85] m you want to build a ship, don't drum up people together to collect wood and don't assign them tasks and work, but rather teach them to long for the endless immensity of the sea. \n",
      "\n",
      "[epoch 86] g you want to build a ship, don't drum up people together to collect wood and don't assign them tasks and work, but rather teach them to long for the endless immensity of the sea. \n",
      "\n",
      "[epoch 87] g you want to build a ship, don't drum up people together to collect wood and don't assign them tasks and work, but rather teach them to long for the endless immensity of the sea. \n",
      "\n",
      "[epoch 88] g you want to build a ship, don't drum up people together to collect wood and don't assign them tasks and work, but rather teach them to long for the endless immensity of the sea. \n",
      "\n",
      "[epoch 89] g you want to build a ship, don't drum up people together to collect wood and don't assign them tasks and work, but rather teach them to long for the endless immensity of the sea. \n",
      "\n",
      "[epoch 90] g you want to build a ship, don't drum up people together to collect wood and don't assign them tasks and work, but rather teach them to long for the endless immensity of the sea. \n",
      "\n",
      "[epoch 91] g you want to build a ship, don't drum up people together to collect wood and don't assign them tasks and work, but rather teach them to long for the endless immensity of the sea. \n",
      "\n",
      "[epoch 92] g you want to build a ship, don't drum up people together to collect wood and don't assign them tasks and work, but rather teach them to long for the endless immensity of the sea. \n",
      "\n",
      "[epoch 93] g you want to build a ship, don't drum up people together to collect wood and don't assign them tasks and work, but rather teach them to long for the endless immensity of the sea. \n",
      "\n"
     ]
    },
    {
     "name": "stdout",
     "output_type": "stream",
     "text": [
      "[epoch 94] g you want to build a ship, don't drum up people together to collect wood and don't assign them tasks and work, but rather teach them to long for the endless immensity of the sea. \n",
      "\n",
      "[epoch 95] g you want to build a ship, don't drum up people together to collect wood and don't assign them tasks and work, but rather teach them to long for the endless immensity of the sea. \n",
      "\n",
      "[epoch 96] p you want to build a ship, don't drum up people together to collect wood and don't assign them tasks and work, but rather teach them to long for the endless immensity of the sea. \n",
      "\n",
      "[epoch 97] g you want to build a ship, don't drum up people together to collect wood and don't assign them tasks and work, but rather teach them to long for the endless immensity of the sea. \n",
      "\n",
      "[epoch 98] g you want to build a ship, don't drum up people together to collect wood and don't assign them tasks and work, but rather teach them to long for the endless immensity of the sea. \n",
      "\n",
      "[epoch 99] g you want to build a ship, don't drum up people together to collect wood and don't assign them tasks and work, but rather teach them to long for the endless immensity of the sea. \n",
      "\n",
      "[epoch 100] g you want to build a ship, don't drum up people together to collect wood and don't assign them tasks and work, but rather teach them to long for the endless immensity of the sea. \n",
      "\n"
     ]
    }
   ],
   "source": [
    "# start training\n",
    "for i in range(100):\n",
    "    optimizer.zero_grad()\n",
    "    outputs = net(X)\n",
    "    loss = criterion(outputs.view(-1, dic_size), Y.view(-1))\n",
    "    loss.backward()\n",
    "    optimizer.step()\n",
    "\n",
    "    results = outputs.argmax(dim=2)\n",
    "    predict_str = \"\"\n",
    "    for j, result in enumerate(results):\n",
    "        #print(i, j, ''.join([char_set[t] for t in result]), loss.item())\n",
    "        if j == 0:\n",
    "            predict_str += ''.join([char_set[t] for t in result])\n",
    "        else:\n",
    "            predict_str += char_set[result[-1]]\n",
    "\n",
    "    print('[epoch %d]' % (i+1), predict_str, '\\n')"
   ]
  },
  {
   "cell_type": "markdown",
   "metadata": {},
   "source": [
    "## 과제 2\n",
    "\n",
    "<https://tutorials.pytorch.kr/intermediate/char_rnn_classification_tutorial.html>  \n",
    "위 링크 따라해보기!"
   ]
  },
  {
   "cell_type": "markdown",
   "metadata": {},
   "source": [
    "### 데이터 불러오기"
   ]
  },
  {
   "cell_type": "code",
   "execution_count": 12,
   "metadata": {},
   "outputs": [],
   "source": [
    "from __future__ import unicode_literals, print_function, division\n",
    "from io import open\n",
    "import glob\n",
    "import os"
   ]
  },
  {
   "cell_type": "code",
   "execution_count": 13,
   "metadata": {},
   "outputs": [],
   "source": [
    "import string\n",
    "import unicodedata"
   ]
  },
  {
   "cell_type": "code",
   "execution_count": 14,
   "metadata": {},
   "outputs": [
    {
     "name": "stdout",
     "output_type": "stream",
     "text": [
      "abcdefghijklmnopqrstuvwxyzABCDEFGHIJKLMNOPQRSTUVWXYZ .,;'\n",
      "57\n"
     ]
    }
   ],
   "source": [
    "all_letters = string.ascii_letters + \" .,;'\" # ASCII 기준 모든 문자\n",
    "print(all_letters)\n",
    "n_letters = len(all_letters) # 모든 문자 개수\n",
    "print(n_letters)"
   ]
  },
  {
   "cell_type": "code",
   "execution_count": 15,
   "metadata": {},
   "outputs": [],
   "source": [
    "# 유니코드 문자열을 ASCII로 변환하는 함수\n",
    "def unicodeToAscii(s):\n",
    "    return ''.join(\n",
    "        c for c in unicodedata.normalize('NFD', s) # 유니코드 문자열인 s에 대하여 정규화 형식 NFD를 적용하여 반환\n",
    "        if unicodedata.category(c) != 'Mn'\n",
    "        and c in all_letters\n",
    "    )"
   ]
  },
  {
   "cell_type": "code",
   "execution_count": 16,
   "metadata": {},
   "outputs": [
    {
     "name": "stdout",
     "output_type": "stream",
     "text": [
      "Slusarski\n"
     ]
    }
   ],
   "source": [
    "print(unicodeToAscii('Ślusàrski'))"
   ]
  },
  {
   "cell_type": "code",
   "execution_count": 17,
   "metadata": {},
   "outputs": [],
   "source": [
    "# 해당 경로에 있는 파일을 읽어오는 함수\n",
    "def findFiles(path): \n",
    "    return glob.glob(path) "
   ]
  },
  {
   "cell_type": "code",
   "execution_count": 18,
   "metadata": {},
   "outputs": [
    {
     "name": "stdout",
     "output_type": "stream",
     "text": [
      "['data/names/Czech.txt', 'data/names/German.txt', 'data/names/Arabic.txt', 'data/names/Japanese.txt', 'data/names/Chinese.txt', 'data/names/Vietnamese.txt', 'data/names/Russian.txt', 'data/names/French.txt', 'data/names/Irish.txt', 'data/names/English.txt', 'data/names/Spanish.txt', 'data/names/Greek.txt', 'data/names/Italian.txt', 'data/names/Portuguese.txt', 'data/names/Scottish.txt', 'data/names/Dutch.txt', 'data/names/Korean.txt', 'data/names/Polish.txt']\n"
     ]
    }
   ],
   "source": [
    "# 확인\n",
    "print(findFiles('data/names/*.txt')) # data/names/ 경로에 있는 txt파일명을 모두 읽어옴!"
   ]
  },
  {
   "cell_type": "code",
   "execution_count": 19,
   "metadata": {},
   "outputs": [],
   "source": [
    "def readLines(filename):\n",
    "    \"\"\"\n",
    "    open(filename, encoding='utf-8').read() => 파일 읽기\n",
    "    open(filename, encoding='utf-8').read().strip() => 양 옆 공백 제거\n",
    "    open(filename, encoding='utf-8').read().strip().split('\\n') => 줄바꿈을 기준으로 문자열 분리하여 리스트 반환\n",
    "    unicodeToAscii(line) for line in lines => 모든 리스트 원소에 대하여 유니코드 문자열을 ASCII로 변환\n",
    "    \"\"\"\n",
    "    lines = open(filename, encoding='utf-8').read().strip().split('\\n')\n",
    "    return [unicodeToAscii(line) for line in lines] # 리스트 반환"
   ]
  },
  {
   "cell_type": "code",
   "execution_count": 20,
   "metadata": {},
   "outputs": [],
   "source": [
    "category_lines = {} # category=언어, lines=이름으로 구성된 리스트 가 매핑될 딕셔너리\n",
    "all_categories = [] # 모든 category(언어)를 담을 리스트\n",
    "\n",
    "for filename in findFiles('data/names/*.txt'): # 모든 파일에 대하여 반복\n",
    "    \"\"\"\n",
    "    os.path.basename(filename) => Czech.txt\n",
    "    os.path.splitext(os.path.basename(filename)) => ('Czech', '.txt')\n",
    "    os.path.splitext(os.path.basename(filename))[0] => Czech => category\n",
    "    \"\"\"\n",
    "    category = os.path.splitext(os.path.basename(filename))[0]\n",
    "    all_categories.append(category)\n",
    "    lines = readLines(filename) \n",
    "    category_lines[category] = lines"
   ]
  },
  {
   "cell_type": "code",
   "execution_count": 21,
   "metadata": {},
   "outputs": [
    {
     "name": "stdout",
     "output_type": "stream",
     "text": [
      "['Abl', 'Adsit', 'Ajdrna', 'Alt', 'Antonowitsch', 'Antonowitz', 'Bacon', 'Ballalatak', 'Ballaltick', 'Bartonova', 'Bastl', 'Baroch', 'Benesch', 'Betlach', 'Biganska', 'Bilek', 'Blahut', 'Blazek', 'Blazek', 'Blazejovsky', 'Blecha', 'Bleskan', 'Blober', 'Bock', 'Bohac', 'Bohunovsky', 'Bolcar', 'Borovka', 'Borovski', 'Borowski', 'Borovsky', 'Brabbery', 'Brezovjak', 'Brousil', 'Bruckner', 'Buchta', 'Cablikova', 'Camfrlova', 'Cap', 'Cerda', 'Cermak', 'Chermak', 'Cermak', 'Cernochova', 'Cernohous', 'Cerny', 'Cerney', 'Cerny', 'Cerv', 'Cervenka', 'Chalupka', 'Charlott', 'Chemlik', 'Chicken', 'Chilar', 'Chromy', 'Cihak', 'Clineburg', 'Klineberg', 'Cober', 'Colling', 'Cvacek', 'Czabal', 'Damell', 'Demall', 'Dehmel', 'Dana', 'Dejmal', 'Dempko', 'Demko', 'Dinko', 'Divoky', 'Dolejsi', 'Dolezal', 'Doljs', 'Dopita', 'Drassal', 'Driml', 'Duyava', 'Dvorak', 'Dziadik', 'Egr', 'Entler', 'Faltysek', 'Faltejsek', 'Fencl', 'Fenyo', 'Fillipova', 'Finfera', 'Finferovy', 'Finke', 'Fojtikova', 'Fremut', 'Friedrich', 'Frierdich', 'Fritsch', 'Furtsch', 'Gabrisova', 'Gavalok', 'Geier', 'Georgijev', 'Geryk', 'Giersig', 'Glatter', 'Glockl', 'Grabski', 'Grozmanova', 'Grulich', 'Grygarova', 'Hadash', 'Hafernik', 'Hajek', 'Hajicek', 'Hajkova', 'Hana', 'Hanek', 'Hanek', 'Hanika', 'Hanusch', 'Hanzlick', 'Handzlik', 'Hanzlik', 'Harger', 'Hartl', 'Havlatova', 'Havlice', 'Hawlata', 'Heidl', 'Herback', 'Herodes', 'Hiorvst', 'Hladky', 'Hlavsa', 'Hnizdil', 'Hodowal', 'Hodoval', 'Holan', 'Holub', 'Homulka', 'Hora', 'Hovanec', 'Hrabak', 'Hradek', 'Hrdy', 'Hrula', 'Hruska', 'Hruskova', 'Hudecek', 'Husk', 'Hynna', 'Jaluvka', 'Janca', 'Janicek', 'Jenicek', 'Janacek', 'Janick', 'Janoch', 'Janosik', 'Janutka', 'Jares', 'Jarzembowski', 'Jedlicka', 'Jelinek', 'Jindra', 'Jirava', 'Jirik', 'Jirku', 'Jirovy', 'Jobst', 'Jonas', 'Kacirek', 'Kafka', 'Kafka', 'Kaiser', 'Kanak', 'Kaplanek', 'Kara', 'Karlovsky', 'Kasa', 'Kasimor', 'Kazimor', 'Kazmier', 'Katschker', 'Kauphsman', 'Kenzel', 'Kerner', 'Kesl', 'Kessel', 'Kessler', 'Khork', 'Kirchma', 'Klein', 'Klemper', 'Klimes', 'Kober', 'Koberna', 'Koci', 'Kocian', 'Kocian', 'Kofron', 'Kolacny', 'Koliha', 'Kolman', 'Koma', 'Komo', 'Coma', 'Konarik', 'Kopp', 'Kopecky', 'Korandak', 'Korycan', 'Korycansky', 'Kosko', 'Kouba', 'Kouba', 'Koukal', 'Koza', 'Kozumplikova', 'Kratschmar', 'Krawiec', 'Kreisinger', 'Kremlacek', 'Kremlicka', 'Kreutschmer', 'Krhovsky', 'Krivan', 'Krivolavy', 'Kriz', 'Kruessel', 'Krupala', 'Krytinar', 'Kubin', 'Kucera', 'Kucharova', 'Kudrna', 'Kuffel', 'Kupfel', 'Kofel', 'Kulhanek', 'Kunik', 'Kurtz', 'Kusak', 'Kvasnicka', 'Lawa', 'Linart', 'Lind', 'Lokay', 'Loskot', 'Ludwig', 'Lynsmeier', 'Macha', 'Machacek', 'Macikova', 'Malafa', 'Malec', 'Malecha', 'Maly', 'Marek', 'Marik', 'Marik', 'Markytan', 'Matejka', 'Matjeka', 'Matocha', 'MaxaB', 'Mayer', 'Meier', 'Merta', 'Meszes', 'Metjeka', 'Michalovic', 'Michalovicova', 'Miksatkova', 'Mojzis', 'Mojjis', 'Mozzis', 'Molcan', 'Monfort', 'MonkoAustria', 'Morava', 'Morek', 'Muchalon', 'Mudra', 'Muhlbauer', 'Nadvornizch', 'Nadwornik', 'Navara', 'Navratil', 'Navratil', 'Navrkal', 'Nekuza', 'Nemec', 'Nemecek', 'Nestrojil', 'Netsch', 'Neusser', 'Neisser', 'Naizer', 'Novak', 'Nowak', 'Novotny', 'Novy Novy', 'Oborny', 'Ocasek', 'Ocaskova', 'Oesterreicher', 'Okenfuss', 'Olbrich', 'Ondrisek', 'Opizka', 'Opova', 'Opp', 'Osladil', 'Ozimuk', 'Pachr', 'Palzewicz', 'Panek', 'Patril', 'Pavlik', 'Pavlicka', 'Pavlu', 'Pawlak', 'Pear', 'Peary', 'Pech', 'Peisar', 'Paisar', 'Paiser', 'Perevuznik', 'Perina', 'Persein', 'Petrezelka', 'Petru', 'Pesek', 'Petersen', 'Pfeifer', 'Picha', 'Pillar', 'Pellar', 'Piller', 'Pinter', 'Pitterman', 'Planick', 'Piskach', 'Plisek', 'Plisko', 'Pokorny', 'Ponec', 'Ponec', 'Prachar', 'Praseta', 'Prchal', 'Prehatney', 'Pretsch', 'Prill', 'Psik', 'Pudel', 'Purdes', 'Quasninsky', 'Raffel', 'Rafaj', 'Ransom', 'Rezac', 'Riedel', 'Riha', 'Riha', 'Ritchie', 'Rozinek', 'Ruba', 'Ruda', 'Rumisek', 'Ruzicka', 'Rypka', 'Rebka', 'Rzehak', 'Sabol', 'Safko', 'Samz', 'Sankovsky', 'Sappe', 'Sappe', 'Sarna', 'Satorie', 'Savchak', 'Svotak', 'Swatchak', 'Svocak', 'Svotchak', 'Schallom', 'Schenk', 'Schlantz', 'Schmeiser', 'Schneider', 'Schmied', 'Schubert', 'Schwarz', 'Schwartz', 'Sedmik', 'Sedmikova', 'Seger', 'Sekovora', 'Semick', 'Serak', 'Sherak', 'Shima', 'Shula', 'Siegl', 'Silhan', 'Simecek', 'Simodines', 'Simonek', 'Sip', 'Sitta', 'Skala', 'Skeril', 'Skokan', 'Skomicka', 'Skwor', 'Slapnickova', 'Slejtr', 'Slepicka', 'Slepica', 'Slezak', 'Slivka', 'Smith', 'Snelker', 'Sokolik', 'Soucek', 'Soukup', 'Soukup', 'Spicka', 'Spoerl', 'Sponer', 'Srda', 'Srpcikova', 'Stangl', 'Stanzel', 'Stary', 'Staska', 'Stedronsky', 'Stegon', 'Sztegon', 'Steinborn', 'Stepan', 'Stites', 'Stluka', 'Stotzky', 'StrakaO', 'Stramba', 'Stupka', 'Subertova', 'Suchanka', 'Sula', 'Svejda', 'Svejkovsky', 'Svoboda', 'Tejc', 'Tikal', 'Tykal', 'Till', 'Timpe', 'Timpy', 'Toman', 'Tomanek', 'Tomasek', 'Tomes', 'Trampotova', 'Trampota', 'Treblik', 'Trnkova', 'Uerling', 'Uhlik', 'Urbanek', 'Urbanek', 'Urbanovska', 'Urista', 'Ustohal', 'Vaca', 'Vaculova', 'Vavra', 'Vejvoda', 'Veverka', 'Victor', 'Vlach', 'Vlach', 'Vlasak', 'Vlasek', 'Volcik', 'Voneve', 'Votke', 'Vozab', 'Vrazel', 'Vykruta', 'Wykruta', 'Waclauska', 'Weichert', 'Weineltk', 'Weisener', 'Wiesner', 'Wizner', 'Weiss', 'Werlla', 'Whitmire', 'Widerlechner', 'Wilchek', 'Wondracek', 'Wood', 'Zajicek', 'Zak', 'Zajicek', 'Zaruba', 'Zaruba', 'Zelinka', 'Zeman', 'Zimola', 'Zipperer', 'Zitka', 'Zoucha', 'Zwolenksy']\n"
     ]
    }
   ],
   "source": [
    "# 확인\n",
    "print(category_lines['Czech'])"
   ]
  },
  {
   "cell_type": "code",
   "execution_count": 22,
   "metadata": {},
   "outputs": [],
   "source": [
    "# target class 개수 설정\n",
    "n_categories = len(all_categories)"
   ]
  },
  {
   "cell_type": "markdown",
   "metadata": {},
   "source": [
    "### 데이터 전처리\n",
    "\n",
    "이름을 Tensor로 변경"
   ]
  },
  {
   "cell_type": "code",
   "execution_count": 23,
   "metadata": {},
   "outputs": [],
   "source": [
    "import torch"
   ]
  },
  {
   "cell_type": "code",
   "execution_count": 24,
   "metadata": {},
   "outputs": [],
   "source": [
    "# 문자에 대하여 인덱스를 반환하는 함수\n",
    "def letterToIndex(letter):\n",
    "    return all_letters.find(letter) # letter의 인덱스 반환"
   ]
  },
  {
   "cell_type": "code",
   "execution_count": 25,
   "metadata": {},
   "outputs": [],
   "source": [
    "# 문자에 대하여 one-hot encoding 하는 함수\n",
    "# tensor : <1 x 전체 문자 개수>\n",
    "def letterToTensor(letter):\n",
    "    tensor = torch.zeros(1, n_letters) # 모두 0을 값으로 갖는 tensor 생성\n",
    "    tensor[0][letterToIndex(letter)] = 1 # letter의 인덱스에 1을 할당\n",
    "    return tensor # one-hot vector 반환"
   ]
  },
  {
   "cell_type": "code",
   "execution_count": 26,
   "metadata": {},
   "outputs": [
    {
     "name": "stdout",
     "output_type": "stream",
     "text": [
      "tensor([[0., 0., 0., 0., 0., 0., 0., 0., 0., 0., 0., 0., 0., 0., 0., 0., 0., 0.,\n",
      "         0., 0., 0., 0., 0., 0., 0., 0., 0., 0., 0., 0., 0., 0., 0., 0., 0., 1.,\n",
      "         0., 0., 0., 0., 0., 0., 0., 0., 0., 0., 0., 0., 0., 0., 0., 0., 0., 0.,\n",
      "         0., 0., 0.]])\n"
     ]
    }
   ],
   "source": [
    "print(letterToTensor('J'))"
   ]
  },
  {
   "cell_type": "code",
   "execution_count": 27,
   "metadata": {},
   "outputs": [],
   "source": [
    "# 문자열(이름)에 대하여 one-hot encoding 하는 함수\n",
    "# tensor : <문자열(이름)의 문자 개수 x 1 x 전체 문자 개수>\n",
    "def lineToTensor(line):\n",
    "    tensor = torch.zeros(len(line), 1, n_letters)\n",
    "    for li, letter in enumerate(line):\n",
    "        tensor[li][0][letterToIndex(letter)] = 1\n",
    "    return tensor"
   ]
  },
  {
   "cell_type": "code",
   "execution_count": 28,
   "metadata": {},
   "outputs": [
    {
     "name": "stdout",
     "output_type": "stream",
     "text": [
      "tensor([[[0., 0., 0., 0., 0., 0., 0., 0., 0., 0., 0., 0., 0., 0., 0., 0., 0.,\n",
      "          0., 0., 0., 0., 0., 0., 0., 0., 0., 0., 0., 0., 0., 0., 0., 0., 0.,\n",
      "          0., 1., 0., 0., 0., 0., 0., 0., 0., 0., 0., 0., 0., 0., 0., 0., 0.,\n",
      "          0., 0., 0., 0., 0., 0.]],\n",
      "\n",
      "        [[0., 0., 0., 0., 0., 0., 0., 0., 0., 0., 0., 0., 0., 0., 1., 0., 0.,\n",
      "          0., 0., 0., 0., 0., 0., 0., 0., 0., 0., 0., 0., 0., 0., 0., 0., 0.,\n",
      "          0., 0., 0., 0., 0., 0., 0., 0., 0., 0., 0., 0., 0., 0., 0., 0., 0.,\n",
      "          0., 0., 0., 0., 0., 0.]],\n",
      "\n",
      "        [[0., 0., 0., 0., 0., 0., 0., 0., 0., 0., 0., 0., 0., 1., 0., 0., 0.,\n",
      "          0., 0., 0., 0., 0., 0., 0., 0., 0., 0., 0., 0., 0., 0., 0., 0., 0.,\n",
      "          0., 0., 0., 0., 0., 0., 0., 0., 0., 0., 0., 0., 0., 0., 0., 0., 0.,\n",
      "          0., 0., 0., 0., 0., 0.]],\n",
      "\n",
      "        [[0., 0., 0., 0., 1., 0., 0., 0., 0., 0., 0., 0., 0., 0., 0., 0., 0.,\n",
      "          0., 0., 0., 0., 0., 0., 0., 0., 0., 0., 0., 0., 0., 0., 0., 0., 0.,\n",
      "          0., 0., 0., 0., 0., 0., 0., 0., 0., 0., 0., 0., 0., 0., 0., 0., 0.,\n",
      "          0., 0., 0., 0., 0., 0.]],\n",
      "\n",
      "        [[0., 0., 0., 0., 0., 0., 0., 0., 0., 0., 0., 0., 0., 0., 0., 0., 0.,\n",
      "          0., 1., 0., 0., 0., 0., 0., 0., 0., 0., 0., 0., 0., 0., 0., 0., 0.,\n",
      "          0., 0., 0., 0., 0., 0., 0., 0., 0., 0., 0., 0., 0., 0., 0., 0., 0.,\n",
      "          0., 0., 0., 0., 0., 0.]]])\n"
     ]
    }
   ],
   "source": [
    "print(lineToTensor('Jones'))"
   ]
  },
  {
   "cell_type": "code",
   "execution_count": 29,
   "metadata": {},
   "outputs": [
    {
     "name": "stdout",
     "output_type": "stream",
     "text": [
      "torch.Size([5, 1, 57])\n"
     ]
    }
   ],
   "source": [
    "print(lineToTensor('Jones').size())"
   ]
  },
  {
   "cell_type": "markdown",
   "metadata": {},
   "source": [
    "### 모델링"
   ]
  },
  {
   "cell_type": "code",
   "execution_count": 30,
   "metadata": {},
   "outputs": [],
   "source": [
    "import torch.nn as nn\n",
    "\n",
    "class RNN(nn.Module):\n",
    "    def __init__(self, input_size, hidden_size, output_size):\n",
    "        super(RNN, self).__init__()\n",
    "\n",
    "        self.hidden_size = hidden_size\n",
    "\n",
    "        self.i2h = nn.Linear(input_size + hidden_size, hidden_size)\n",
    "        self.i2o = nn.Linear(input_size + hidden_size, output_size)\n",
    "        self.softmax = nn.LogSoftmax(dim=1)\n",
    "\n",
    "    def forward(self, input, hidden):\n",
    "        combined = torch.cat((input, hidden), 1)\n",
    "        hidden = self.i2h(combined)\n",
    "        output = self.i2o(combined)\n",
    "        output = self.softmax(output)\n",
    "        return output, hidden\n",
    "\n",
    "    def initHidden(self):\n",
    "        return torch.zeros(1, self.hidden_size)"
   ]
  },
  {
   "cell_type": "code",
   "execution_count": 31,
   "metadata": {},
   "outputs": [],
   "source": [
    "n_hidden = 128\n",
    "rnn = RNN(n_letters, n_hidden, n_categories)"
   ]
  },
  {
   "cell_type": "code",
   "execution_count": 32,
   "metadata": {},
   "outputs": [
    {
     "name": "stdout",
     "output_type": "stream",
     "text": [
      "tensor([[-2.9077, -2.8067, -2.9400, -2.8250, -2.9669, -2.8933, -2.8971, -2.8561,\n",
      "         -2.9290, -2.8793, -2.9426, -2.8676, -2.9117, -2.8428, -2.9483, -2.9142,\n",
      "         -2.8049, -2.9139]], grad_fn=<LogSoftmaxBackward>)\n"
     ]
    }
   ],
   "source": [
    "input = letterToTensor('A')\n",
    "hidden = torch.zeros(1, n_hidden)\n",
    "\n",
    "output, next_hidden = rnn(input, hidden)\n",
    "print(output)"
   ]
  },
  {
   "cell_type": "code",
   "execution_count": 33,
   "metadata": {},
   "outputs": [
    {
     "name": "stdout",
     "output_type": "stream",
     "text": [
      "tensor([[-2.9077, -2.8067, -2.9400, -2.8250, -2.9669, -2.8933, -2.8971, -2.8561,\n",
      "         -2.9290, -2.8793, -2.9426, -2.8676, -2.9117, -2.8428, -2.9483, -2.9142,\n",
      "         -2.8049, -2.9139]], grad_fn=<LogSoftmaxBackward>)\n"
     ]
    }
   ],
   "source": [
    "input = lineToTensor('Albert')\n",
    "hidden = torch.zeros(1, n_hidden)\n",
    "\n",
    "output, next_hidden = rnn(input[0], hidden)\n",
    "print(output) # tensor :  <1 x n_categories>"
   ]
  },
  {
   "cell_type": "markdown",
   "metadata": {},
   "source": [
    "### 학습"
   ]
  },
  {
   "cell_type": "code",
   "execution_count": 34,
   "metadata": {},
   "outputs": [],
   "source": [
    "# category(언어), line(이름) 가져오는 함수\n",
    "import random\n",
    "\n",
    "def randomChoice(l):\n",
    "    return l[random.randint(0, len(l) - 1)]\n",
    "\n",
    "def randomTrainingExample():\n",
    "    category = randomChoice(all_categories)\n",
    "    line = randomChoice(category_lines[category])\n",
    "    category_tensor = torch.tensor([all_categories.index(category)], dtype=torch.long)\n",
    "    line_tensor = lineToTensor(line)\n",
    "    return category, line, category_tensor, line_tensor"
   ]
  },
  {
   "cell_type": "code",
   "execution_count": 35,
   "metadata": {},
   "outputs": [
    {
     "name": "stdout",
     "output_type": "stream",
     "text": [
      "category = Dutch / line = Bueren\n",
      "category = Greek / line = Papadelias\n",
      "category = Chinese / line = Kwong\n",
      "category = Korean / line = Youn\n",
      "category = Chinese / line = Kang\n",
      "category = Chinese / line = Zhao\n",
      "category = Polish / line = Mozdzierz\n",
      "category = Spanish / line = Tomas\n",
      "category = Vietnamese / line = Doan\n",
      "category = Polish / line = Zdunowski\n"
     ]
    }
   ],
   "source": [
    "# 확인\n",
    "for i in range(10):\n",
    "    category, line, category_tensor, line_tensor = randomTrainingExample()\n",
    "    print('category =', category, '/ line =', line)"
   ]
  },
  {
   "cell_type": "code",
   "execution_count": 36,
   "metadata": {},
   "outputs": [],
   "source": [
    "# 해당 category(언어) 와 인덱스 반환하는 함수\n",
    "def categoryFromOutput(output):\n",
    "    top_n, top_i = output.topk(1) # output에서 가장 큰 값 => top_n, 가장 큰 값의 인덱스 => top_i\n",
    "    category_i = top_i[0].item() # top_i 즉 인덱스의 자료형을 텐서에서 정수로 변환 \n",
    "    return all_categories[category_i], category_i # 해당 category(언어)와 인덱스 반환"
   ]
  },
  {
   "cell_type": "code",
   "execution_count": 37,
   "metadata": {},
   "outputs": [
    {
     "name": "stdout",
     "output_type": "stream",
     "text": [
      "('Korean', 16)\n"
     ]
    }
   ],
   "source": [
    "# 확인\n",
    "print(categoryFromOutput(output))"
   ]
  },
  {
   "cell_type": "code",
   "execution_count": 38,
   "metadata": {},
   "outputs": [],
   "source": [
    "# training 함수\n",
    "def train(category_tensor, line_tensor):\n",
    "    \n",
    "    hidden = rnn.initHidden()\n",
    "\n",
    "    rnn.zero_grad()\n",
    "\n",
    "    for i in range(line_tensor.size()[0]):\n",
    "        output, hidden = rnn(line_tensor[i], hidden)\n",
    "\n",
    "    loss = criterion(output, category_tensor)\n",
    "    loss.backward()\n",
    "\n",
    "    # 매개변수의 경사도에 학습률을 곱해서 그 매개변수의 값에 더합니다.\n",
    "    for p in rnn.parameters():\n",
    "        p.data.add_(p.grad.data, alpha=-learning_rate)\n",
    "\n",
    "    return output, loss.item()"
   ]
  },
  {
   "cell_type": "code",
   "execution_count": 39,
   "metadata": {},
   "outputs": [],
   "source": [
    "# 소요 시간 추적하는 함수\n",
    "import time\n",
    "import math\n",
    "\n",
    "def timeSince(since):\n",
    "    now = time.time()\n",
    "    s = now - since\n",
    "    m = math.floor(s / 60)\n",
    "    s -= m * 60\n",
    "    return '%dm %ds' % (m, s)"
   ]
  },
  {
   "cell_type": "code",
   "execution_count": 40,
   "metadata": {},
   "outputs": [],
   "source": [
    "# loss 설정\n",
    "criterion = nn.NLLLoss()"
   ]
  },
  {
   "cell_type": "code",
   "execution_count": 41,
   "metadata": {},
   "outputs": [
    {
     "name": "stdout",
     "output_type": "stream",
     "text": [
      "5000 5% (0m 11s) 1.8221 Porohovschikov / Greek ✗ (Russian)\n",
      "10000 10% (0m 22s) 1.1656 Mar / Chinese ✓\n",
      "15000 15% (0m 32s) 2.3465 Clegg / Dutch ✗ (English)\n",
      "20000 20% (0m 44s) 2.4208 Kuntz / Spanish ✗ (German)\n",
      "25000 25% (0m 55s) 2.0529 Nigro / Portuguese ✗ (Italian)\n",
      "30000 30% (1m 8s) 2.8465 Summers / Dutch ✗ (English)\n",
      "35000 35% (1m 20s) 0.9179 An / Vietnamese ✓\n",
      "40000 40% (1m 32s) 0.6931 Si / Korean ✓\n",
      "45000 45% (1m 42s) 3.4038 Adam / Arabic ✗ (French)\n",
      "50000 50% (1m 52s) 0.0756 Brisimitzakis / Greek ✓\n",
      "55000 55% (2m 2s) 1.5499 Jegulin / Russian ✓\n",
      "60000 60% (2m 13s) 1.0473 Torres / Portuguese ✓\n",
      "65000 65% (2m 25s) 0.7496 Mo / Korean ✓\n",
      "70000 70% (2m 36s) 1.4060 Balawin / French ✗ (Russian)\n",
      "75000 75% (2m 48s) 0.7343 Dunajski / Polish ✓\n",
      "80000 80% (3m 0s) 0.0020 Paraskevopoulos / Greek ✓\n",
      "85000 85% (3m 10s) 2.1255 Kenzel / Polish ✗ (Czech)\n",
      "90000 90% (3m 21s) 0.0674 Takasu / Japanese ✓\n",
      "95000 95% (3m 30s) 0.6871 Ryu / Korean ✓\n",
      "100000 100% (3m 39s) 0.8780 Kim / Korean ✓\n"
     ]
    }
   ],
   "source": [
    "# training\n",
    "\n",
    "learning_rate = 0.005\n",
    "\n",
    "n_iters = 100000 # iteration 횟수 설정\n",
    "print_every = 5000 # 화면에 출력할 단위\n",
    "plot_every = 1000 # 그래프에 출력할 단위\n",
    "\n",
    "# 그래프를 그리기 위한 loss 추적\n",
    "all_losses = [] # 모든 loss를 담을 리스트 생성\n",
    "current_loss = 0 # 현재 loss 초기화\n",
    "\n",
    "start = time.time()\n",
    "\n",
    "for iter in range(1, n_iters + 1):\n",
    "    category, line, category_tensor, line_tensor = randomTrainingExample() # 데이터 가져오기\n",
    "    output, loss = train(category_tensor, line_tensor) # training\n",
    "    current_loss += loss # loss 업데이트\n",
    "\n",
    "    # iteration 횟수, 퍼센트, 시간, loss, 이름, 예측값, 실제값 출력\n",
    "    if iter % print_every == 0: \n",
    "        guess, guess_i = categoryFromOutput(output)\n",
    "        correct = '✓' if guess == category else '✗ (%s)' % category\n",
    "        print('%d %d%% (%s) %.4f %s / %s %s' % (iter, iter/n_iters*100, timeSince(start), loss, line, guess, correct))\n",
    "\n",
    "    # 현재 loss를 리스트에 추가\n",
    "    if iter % plot_every == 0:\n",
    "        all_losses.append(current_loss / plot_every)\n",
    "        current_loss = 0"
   ]
  },
  {
   "cell_type": "code",
   "execution_count": 42,
   "metadata": {},
   "outputs": [
    {
     "data": {
      "text/plain": [
       "[<matplotlib.lines.Line2D at 0x12670d6a0>]"
      ]
     },
     "execution_count": 42,
     "metadata": {},
     "output_type": "execute_result"
    },
    {
     "data": {
      "image/png": "[encoded data removed]",
      "text/plain": [
       "<Figure size 432x288 with 1 Axes>"
      ]
     },
     "metadata": {
      "needs_background": "light"
     },
     "output_type": "display_data"
    }
   ],
   "source": [
    "# loss 그래프\n",
    "import matplotlib.pyplot as plt\n",
    "import matplotlib.ticker as ticker\n",
    "\n",
    "plt.figure()\n",
    "plt.plot(all_losses)"
   ]
  },
  {
   "cell_type": "markdown",
   "metadata": {},
   "source": [
    "### 모델 평가"
   ]
  },
  {
   "cell_type": "code",
   "execution_count": 43,
   "metadata": {},
   "outputs": [],
   "source": [
    "# 해당 line(이름)에서 output 반환하는 함수\n",
    "def evaluate(line_tensor):\n",
    "    hidden = rnn.initHidden()\n",
    "    for i in range(line_tensor.size()[0]):\n",
    "        output, hidden = rnn(line_tensor[i], hidden)\n",
    "    return output"
   ]
  },
  {
   "cell_type": "code",
   "execution_count": 44,
   "metadata": {},
   "outputs": [],
   "source": [
    "# 정확하게 예측한 것 추적\n",
    "confusion = torch.zeros(n_categories, n_categories) # 0으로 초기화\n",
    "\n",
    "n_confusion = 10000\n",
    "for i in range(n_confusion):\n",
    "    category, line, category_tensor, line_tensor = randomTrainingExample() # 데이터 가져오기\n",
    "    output = evaluate(line_tensor) # 예측값 가져오기\n",
    "    guess, guess_i = categoryFromOutput(output) # 예측값 (category와 인덱스) 가져오기\n",
    "    category_i = all_categories.index(category) # 실제값 가져오기\n",
    "    confusion[category_i][guess_i] += 1 # 업데이트\n",
    "\n",
    "for i in range(n_categories):\n",
    "    confusion[i] = confusion[i] / confusion[i].sum() # 모든 행을 합계로 나누어 정규화"
   ]
  },
  {
   "cell_type": "code",
   "execution_count": 45,
   "metadata": {},
   "outputs": [
    {
     "name": "stdout",
     "output_type": "stream",
     "text": [
      "tensor([[0.3706, 0.0524, 0.0297, 0.0664, 0.0140, 0.0210, 0.0192, 0.0507, 0.0105,\n",
      "         0.0542, 0.0315, 0.0157, 0.0175, 0.0297, 0.0192, 0.0367, 0.0140, 0.1469],\n",
      "        [0.0685, 0.3405, 0.0396, 0.0234, 0.0198, 0.0198, 0.0018, 0.0559, 0.0126,\n",
      "         0.0883, 0.0306, 0.0072, 0.0072, 0.0144, 0.0757, 0.1297, 0.0252, 0.0396],\n",
      "        [0.0224, 0.0224, 0.7071, 0.0616, 0.0354, 0.0243, 0.0000, 0.0019, 0.0000,\n",
      "         0.0075, 0.0019, 0.0037, 0.0149, 0.0131, 0.0112, 0.0131, 0.0280, 0.0317],\n",
      "        [0.0018, 0.0000, 0.0395, 0.7540, 0.0090, 0.0054, 0.0072, 0.0036, 0.0036,\n",
      "         0.0036, 0.0126, 0.0018, 0.0431, 0.0180, 0.0072, 0.0090, 0.0162, 0.0646],\n",
      "        [0.0000, 0.0000, 0.0000, 0.0071, 0.6943, 0.1272, 0.0000, 0.0000, 0.0000,\n",
      "         0.0000, 0.0000, 0.0000, 0.0000, 0.0035, 0.0018, 0.0106, 0.1537, 0.0018],\n",
      "        [0.0000, 0.0000, 0.0000, 0.0000, 0.1356, 0.8029, 0.0000, 0.0000, 0.0000,\n",
      "         0.0000, 0.0000, 0.0000, 0.0000, 0.0000, 0.0000, 0.0000, 0.0615, 0.0000],\n",
      "        [0.0380, 0.0076, 0.0247, 0.0209, 0.0038, 0.0038, 0.6331, 0.0228, 0.0494,\n",
      "         0.0209, 0.0133, 0.0114, 0.0190, 0.0114, 0.0266, 0.0076, 0.0114, 0.0741],\n",
      "        [0.0143, 0.0179, 0.0625, 0.0054, 0.0125, 0.0161, 0.0071, 0.5054, 0.0286,\n",
      "         0.1018, 0.0107, 0.0375, 0.0464, 0.0357, 0.0214, 0.0232, 0.0268, 0.0268],\n",
      "        [0.0188, 0.0150, 0.0338, 0.0056, 0.0188, 0.0094, 0.0000, 0.0526, 0.6090,\n",
      "         0.0602, 0.0056, 0.0000, 0.0301, 0.0263, 0.0658, 0.0357, 0.0075, 0.0056],\n",
      "        [0.0352, 0.0634, 0.0511, 0.0123, 0.0158, 0.0176, 0.0088, 0.0968, 0.0880,\n",
      "         0.2394, 0.0141, 0.0194, 0.0194, 0.0246, 0.1250, 0.0863, 0.0229, 0.0599],\n",
      "        [0.0175, 0.0070, 0.0333, 0.0193, 0.0105, 0.0123, 0.0000, 0.0595, 0.0175,\n",
      "         0.0245, 0.4203, 0.0368, 0.1856, 0.1121, 0.0035, 0.0105, 0.0053, 0.0245],\n",
      "        [0.0144, 0.0000, 0.0108, 0.0108, 0.0000, 0.0000, 0.0000, 0.0306, 0.0054,\n",
      "         0.0036, 0.0360, 0.7932, 0.0234, 0.0414, 0.0054, 0.0000, 0.0000, 0.0252],\n",
      "        [0.0179, 0.0000, 0.0089, 0.0304, 0.0125, 0.0143, 0.0000, 0.0500, 0.0071,\n",
      "         0.0125, 0.1036, 0.0018, 0.6768, 0.0464, 0.0018, 0.0018, 0.0071, 0.0071],\n",
      "        [0.0321, 0.0000, 0.0517, 0.0160, 0.0000, 0.0000, 0.0000, 0.0000, 0.0000,\n",
      "         0.0000, 0.2424, 0.0321, 0.0410, 0.5561, 0.0000, 0.0053, 0.0000, 0.0232],\n",
      "        [0.0244, 0.0523, 0.0314, 0.0000, 0.0244, 0.0261, 0.0000, 0.0261, 0.0436,\n",
      "         0.0836, 0.0000, 0.0157, 0.0174, 0.0000, 0.6167, 0.0122, 0.0000, 0.0261],\n",
      "        [0.0421, 0.0575, 0.0307, 0.0134, 0.0134, 0.0460, 0.0000, 0.0766, 0.0115,\n",
      "         0.0594, 0.0345, 0.0096, 0.0192, 0.0383, 0.0345, 0.4483, 0.0268, 0.0383],\n",
      "        [0.0131, 0.0000, 0.0000, 0.0000, 0.1997, 0.0900, 0.0000, 0.0000, 0.0000,\n",
      "         0.0000, 0.0000, 0.0000, 0.0000, 0.0000, 0.0000, 0.0000, 0.6972, 0.0000],\n",
      "        [0.0750, 0.0135, 0.0135, 0.0058, 0.0250, 0.0000, 0.0000, 0.0212, 0.0019,\n",
      "         0.0481, 0.0115, 0.0000, 0.0077, 0.0000, 0.0000, 0.0000, 0.0058, 0.7712]])\n"
     ]
    }
   ],
   "source": [
    "# 확인\n",
    "print(confusion)"
   ]
  },
  {
   "cell_type": "code",
   "execution_count": 46,
   "metadata": {},
   "outputs": [
    {
     "data": {
      "image/png": "[encoded data removed]",
      "text/plain": [
       "<Figure size 720x576 with 2 Axes>"
      ]
     },
     "metadata": {
      "needs_background": "light"
     },
     "output_type": "display_data"
    }
   ],
   "source": [
    "# 그래프 설정\n",
    "fig, ax = plt.subplots(figsize=(10,8))\n",
    "cax = ax.matshow(confusion.numpy())\n",
    "fig.colorbar(cax)\n",
    "\n",
    "# 축 설정\n",
    "ax.set_xticklabels([''] + all_categories, rotation=90)\n",
    "ax.set_yticklabels([''] + all_categories)\n",
    "\n",
    "# 모든 tick에서 레이블 지정\n",
    "ax.xaxis.set_major_locator(ticker.MultipleLocator(1))\n",
    "ax.yaxis.set_major_locator(ticker.MultipleLocator(1))\n",
    "\n",
    "# 그래프 출력\n",
    "plt.show()"
   ]
  },
  {
   "cell_type": "code",
   "execution_count": 47,
   "metadata": {},
   "outputs": [],
   "source": [
    "# 사용자 입력으로 prediction 하는 함수\n",
    "def predict(input_line, n_predictions=3):\n",
    "    print('\\n> %s' % input_line) # '\\n' : 줄바꿈, %s : input_line 삽입\n",
    "    with torch.no_grad():\n",
    "        output = evaluate(lineToTensor(input_line))\n",
    "\n",
    "        # Get top N categories\n",
    "        topv, topi = output.topk(n_predictions, 1, True)\n",
    "        predictions = []\n",
    "\n",
    "        for i in range(n_predictions):\n",
    "            value = topv[0][i].item()\n",
    "            category_index = topi[0][i].item()\n",
    "            print('(%.2f) %s' % (value, all_categories[category_index]))\n",
    "            predictions.append([value, all_categories[category_index]])"
   ]
  },
  {
   "cell_type": "code",
   "execution_count": 48,
   "metadata": {},
   "outputs": [
    {
     "name": "stdout",
     "output_type": "stream",
     "text": [
      "\n",
      "> Dovesky\n",
      "(-1.05) Russian\n",
      "(-1.08) Czech\n",
      "(-1.41) Polish\n",
      "\n",
      "> Jackson\n",
      "(-0.73) Scottish\n",
      "(-1.39) English\n",
      "(-2.14) Russian\n",
      "\n",
      "> Satoshi\n",
      "(-0.99) Polish\n",
      "(-1.97) Portuguese\n",
      "(-2.15) Italian\n"
     ]
    }
   ],
   "source": [
    "predict('Dovesky')\n",
    "predict('Jackson')\n",
    "predict('Satoshi')"
   ]
  }
 ],
 "metadata": {
  "kernelspec": {
   "display_name": "Python 3",
   "language": "python",
   "name": "python3"
  },
  "language_info": {
   "codemirror_mode": {
    "name": "ipython",
    "version": 3
   },
   "file_extension": ".py",
   "mimetype": "text/x-python",
   "name": "python",
   "nbconvert_exporter": "python",
   "pygments_lexer": "ipython3",
   "version": "3.7.2"
  }
 },
 "nbformat": 4,
 "nbformat_minor": 4
}

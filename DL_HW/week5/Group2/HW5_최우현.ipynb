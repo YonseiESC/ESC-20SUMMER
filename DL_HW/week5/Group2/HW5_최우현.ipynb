{
  "nbformat": 4,
  "nbformat_minor": 0,
  "metadata": {
    "colab": {
      "name": "ESC20SUMMER_HW5_최우현.ipynb",
      "provenance": [],
      "toc_visible": true
    },
    "kernelspec": {
      "name": "python3",
      "display_name": "Python 3"
    }
  },
  "cells": [
    {
      "cell_type": "markdown",
      "metadata": {
        "id": "RdIMwfpiNOuT",
        "colab_type": "text"
      },
      "source": [
        "###1. longsequence 코드 lstm 모델 적용해보기"
      ]
    },
    {
      "cell_type": "code",
      "metadata": {
        "id": "ErYGoGzWM11v",
        "colab_type": "code",
        "colab": {}
      },
      "source": [
        "import numpy as np\n",
        "import torch\n",
        "import torch.nn as nn\n",
        "import torch.optim as optim"
      ],
      "execution_count": 8,
      "outputs": []
    },
    {
      "cell_type": "code",
      "metadata": {
        "id": "SWtPlsAuNcZ2",
        "colab_type": "code",
        "colab": {
          "base_uri": "https://localhost:8080/",
          "height": 35
        },
        "outputId": "cff8c820-8bc9-4bdf-e4ed-19b2cc15f631"
      },
      "source": [
        "torch.manual_seed(0)"
      ],
      "execution_count": 2,
      "outputs": [
        {
          "output_type": "execute_result",
          "data": {
            "text/plain": [
              "<torch._C.Generator at 0x7f12a08900d8>"
            ]
          },
          "metadata": {
            "tags": []
          },
          "execution_count": 2
        }
      ]
    },
    {
      "cell_type": "code",
      "metadata": {
        "id": "4luNWSfgNdMn",
        "colab_type": "code",
        "colab": {}
      },
      "source": [
        "sentences = [\"i like dog\", \"i love coffee\", \"i hate milk\", \"you like cat\", \"you love milk\", \"you hate coffee\"]\n",
        "dtype = torch.float"
      ],
      "execution_count": 9,
      "outputs": []
    },
    {
      "cell_type": "code",
      "metadata": {
        "id": "vwPqWmDhOL2_",
        "colab_type": "code",
        "colab": {}
      },
      "source": [
        "word_list = list(set(\" \".join(sentences).split()))\n",
        "word_dict = {w: i for i, w in enumerate(word_list)}\n",
        "number_dict = {i: w for i, w in enumerate(word_list)}\n",
        "n_class = len(word_dict)"
      ],
      "execution_count": 12,
      "outputs": []
    },
    {
      "cell_type": "code",
      "metadata": {
        "id": "tDIsrzYnNdXZ",
        "colab_type": "code",
        "colab": {}
      },
      "source": [
        "batch_size = len(sentences)\n",
        "n_step = 2  # 학습 하려고 하는 문장의 길이 - 1\n",
        "n_hidden = 5  # 은닉층 사이즈"
      ],
      "execution_count": 10,
      "outputs": []
    },
    {
      "cell_type": "code",
      "metadata": {
        "id": "BZhCwIE2NdWO",
        "colab_type": "code",
        "colab": {}
      },
      "source": [
        "def make_batch(sentences):\n",
        "    input_batch = []\n",
        "    target_batch = []\n",
        "    \n",
        "    for sen in sentences:\n",
        "        word = sen.split()\n",
        "        input = [word_dict[n] for n in word[:-1]]\n",
        "        target = word_dict[word[-1]]\n",
        "        \n",
        "        input_batch.append(np.eye(n_class)[input])  # One-Hot Encoding\n",
        "        target_batch.append(target)\n",
        "    \n",
        "    return input_batch, target_batch\n",
        "\n",
        "input_batch, target_batch = make_batch(sentences)\n",
        "input_batch = torch.tensor(input_batch, dtype=torch.float32, requires_grad=True)\n",
        "target_batch = torch.tensor(target_batch, dtype=torch.int64)"
      ],
      "execution_count": 13,
      "outputs": []
    },
    {
      "cell_type": "code",
      "metadata": {
        "id": "tJJGyM3BOFY-",
        "colab_type": "code",
        "colab": {}
      },
      "source": [
        "\n",
        "class TextLSTM(nn.Module):\n",
        "    def __init__(self):\n",
        "        super(TextLSTM, self).__init__()\n",
        "        \n",
        "        self.lstm = nn.LSTM(input_size=n_class, hidden_size=n_hidden, dropout=0.3)\n",
        "        self.W = nn.Parameter(torch.randn([n_hidden, n_class]).type(dtype))\n",
        "        self.b = nn.Parameter(torch.randn([n_class]).type(dtype))\n",
        "        self.Softmax = nn.Softmax(dim=1)\n",
        "        \n",
        "    def forward(self, hidden_and_cell, X):\n",
        "        X = X.transpose(0, 1)\n",
        "        outputs, hidden = self.lstm(X, hidden_and_cell)\n",
        "        outputs = outputs[-1]  # 최종 예측 Hidden Layer\n",
        "        model = torch.mm(outputs, self.W) + self.b  # 최종 예측 최종 출력 층\n",
        "        \n",
        "        return model"
      ],
      "execution_count": 14,
      "outputs": []
    },
    {
      "cell_type": "code",
      "metadata": {
        "id": "wSTIzMM8NdUw",
        "colab_type": "code",
        "colab": {
          "base_uri": "https://localhost:8080/",
          "height": 73
        },
        "outputId": "ef28b21c-8120-4032-ed01-20b47c4966a5"
      },
      "source": [
        "model = TextLSTM()"
      ],
      "execution_count": 15,
      "outputs": [
        {
          "output_type": "stream",
          "text": [
            "/usr/local/lib/python3.6/dist-packages/torch/nn/modules/rnn.py:60: UserWarning: dropout option adds dropout after all but last recurrent layer, so non-zero dropout expects num_layers greater than 1, but got dropout=0.3 and num_layers=1\n",
            "  \"num_layers={}\".format(dropout, num_layers))\n"
          ],
          "name": "stderr"
        }
      ]
    },
    {
      "cell_type": "code",
      "metadata": {
        "id": "GpJn1GGfNdQ0",
        "colab_type": "code",
        "colab": {}
      },
      "source": [
        "# Loss & Optimizer\n",
        "criterion = nn.CrossEntropyLoss()\n",
        "optimizer = optim.Adam(model.parameters(), lr=0.01)"
      ],
      "execution_count": 17,
      "outputs": []
    },
    {
      "cell_type": "code",
      "metadata": {
        "id": "U-vhLLV5N3K8",
        "colab_type": "code",
        "colab": {
          "base_uri": "https://localhost:8080/",
          "height": 145
        },
        "outputId": "ec7520a3-f8de-45aa-dc19-c97ede5ceed2"
      },
      "source": [
        "# Training\n",
        "for epoch in range(500):\n",
        "    hidden = torch.zeros(1, batch_size, n_hidden, requires_grad=True)\n",
        "    cell = torch.zeros(1, batch_size, n_hidden, requires_grad=True)\n",
        "    output = model((hidden, cell), input_batch)\n",
        "    loss = criterion(output, target_batch)\n",
        "    \n",
        "    if (epoch + 1) % 100 == 0:\n",
        "        print('Epoch:', '%04d' % (epoch + 1), 'cost =', '{:.6f}'.format(loss))\n",
        "        \n",
        "    optimizer.zero_grad()\n",
        "    loss.backward()\n",
        "    optimizer.step()\n",
        "\n",
        "input = [sen.split()[:2] for sen in sentences]\n",
        "\n",
        "hidden = torch.zeros(1, batch_size, n_hidden, requires_grad=True)\n",
        "cell = torch.zeros(1, batch_size, n_hidden, requires_grad=True)\n",
        "predict = model((hidden, cell), input_batch).data.max(1, keepdim=True)[1]\n",
        "print([sen.split()[:2] for sen in sentences], '->', [number_dict[n.item()] for n in predict.squeeze()])"
      ],
      "execution_count": 18,
      "outputs": [
        {
          "output_type": "stream",
          "text": [
            "Epoch: 0100 cost = 0.514085\n",
            "Epoch: 0200 cost = 0.059239\n",
            "Epoch: 0300 cost = 0.018966\n",
            "Epoch: 0400 cost = 0.009885\n",
            "Epoch: 0500 cost = 0.006248\n",
            "[['i', 'like'], ['i', 'love'], ['i', 'hate'], ['you', 'like'], ['you', 'love'], ['you', 'hate']] -> ['dog', 'coffee', 'milk', 'cat', 'milk', 'coffee']\n"
          ],
          "name": "stdout"
        }
      ]
    },
    {
      "cell_type": "markdown",
      "metadata": {
        "id": "06HffzTzNyVe",
        "colab_type": "text"
      },
      "source": [
        "###2. https://tutorials.pytorch.kr/intermediate/char_rnn_classification_tutorial.html 위 링크 따라해보기!"
      ]
    },
    {
      "cell_type": "code",
      "metadata": {
        "id": "28cOb7HBRTm7",
        "colab_type": "code",
        "colab": {
          "base_uri": "https://localhost:8080/",
          "height": 127
        },
        "outputId": "78e93216-3e61-4859-a03b-ea599a31f916"
      },
      "source": [
        "from google.colab import drive\n",
        "drive.mount('/content/drive')"
      ],
      "execution_count": 26,
      "outputs": [
        {
          "output_type": "stream",
          "text": [
            "Go to this URL in a browser: https://accounts.google.com/o/oauth2/auth?client_id=947318989803-6bn6qk8qdgf4n4g3pfee6491hc0brc4i.apps.googleusercontent.com&redirect_uri=urn%3aietf%3awg%3aoauth%3a2.0%3aoob&scope=email%20https%3a%2f%2fwww.googleapis.com%2fauth%2fdocs.test%20https%3a%2f%2fwww.googleapis.com%2fauth%2fdrive%20https%3a%2f%2fwww.googleapis.com%2fauth%2fdrive.photos.readonly%20https%3a%2f%2fwww.googleapis.com%2fauth%2fpeopleapi.readonly&response_type=code\n",
            "\n",
            "Enter your authorization code:\n",
            "··········\n",
            "Mounted at /content/drive\n"
          ],
          "name": "stdout"
        }
      ]
    },
    {
      "cell_type": "code",
      "metadata": {
        "id": "IAdEq2QnNdLk",
        "colab_type": "code",
        "colab": {
          "base_uri": "https://localhost:8080/",
          "height": 73
        },
        "outputId": "fd05cc21-5218-4ac0-94c1-42ac38163f20"
      },
      "source": [
        "from __future__ import unicode_literals, print_function, division\n",
        "from io import open\n",
        "import glob\n",
        "import os\n",
        "\n",
        "def findFiles(path): return glob.glob(path)\n",
        "\n",
        "print(findFiles('/content/drive/My Drive/data/data/names/*.txt'))\n",
        "\n",
        "import unicodedata\n",
        "import string\n",
        "\n",
        "all_letters = string.ascii_letters + \" .,;'\"\n",
        "n_letters = len(all_letters)\n",
        "\n",
        "# 유니코드 문자열을 ASCII로 변환, https://stackoverflow.com/a/518232/2809427\n",
        "def unicodeToAscii(s):\n",
        "    return ''.join(\n",
        "        c for c in unicodedata.normalize('NFD', s)\n",
        "        if unicodedata.category(c) != 'Mn'\n",
        "        and c in all_letters\n",
        "    )\n",
        "\n",
        "print(unicodeToAscii('Ślusàrski'))\n",
        "\n",
        "# 각 언어의 이름 목록인 category_lines 사전 생성\n",
        "category_lines = {}\n",
        "all_categories = []\n",
        "\n",
        "# 파일을 읽고 줄 단위로 분리\n",
        "def readLines(filename):\n",
        "    lines = open(filename, encoding='utf-8').read().strip().split('\\n')\n",
        "    return [unicodeToAscii(line) for line in lines]\n",
        "\n",
        "for filename in findFiles('/content/drive/My Drive/data/data/names/*.txt'):\n",
        "    category = os.path.splitext(os.path.basename(filename))[0]\n",
        "    all_categories.append(category)\n",
        "    lines = readLines(filename)\n",
        "    category_lines[category] = lines\n",
        "\n",
        "n_categories = len(all_categories)"
      ],
      "execution_count": 30,
      "outputs": [
        {
          "output_type": "stream",
          "text": [
            "['/content/drive/My Drive/data/data/names/French.txt', '/content/drive/My Drive/data/data/names/Korean.txt', '/content/drive/My Drive/data/data/names/English.txt', '/content/drive/My Drive/data/data/names/Italian.txt', '/content/drive/My Drive/data/data/names/Polish.txt', '/content/drive/My Drive/data/data/names/Dutch.txt', '/content/drive/My Drive/data/data/names/Spanish.txt', '/content/drive/My Drive/data/data/names/Irish.txt', '/content/drive/My Drive/data/data/names/Chinese.txt', '/content/drive/My Drive/data/data/names/German.txt', '/content/drive/My Drive/data/data/names/Vietnamese.txt', '/content/drive/My Drive/data/data/names/Scottish.txt', '/content/drive/My Drive/data/data/names/Russian.txt', '/content/drive/My Drive/data/data/names/Greek.txt', '/content/drive/My Drive/data/data/names/Japanese.txt', '/content/drive/My Drive/data/data/names/Portuguese.txt', '/content/drive/My Drive/data/data/names/Czech.txt', '/content/drive/My Drive/data/data/names/Arabic.txt']\n",
            "Slusarski\n"
          ],
          "name": "stdout"
        }
      ]
    },
    {
      "cell_type": "code",
      "metadata": {
        "id": "qasW858TRxQz",
        "colab_type": "code",
        "colab": {
          "base_uri": "https://localhost:8080/",
          "height": 35
        },
        "outputId": "1883f7fd-0f8c-4a3b-bbde-db2ed95740a9"
      },
      "source": [
        "print(category_lines['Italian'][:5])"
      ],
      "execution_count": 31,
      "outputs": [
        {
          "output_type": "stream",
          "text": [
            "['Abandonato', 'Abatangelo', 'Abatantuono', 'Abate', 'Abategiovanni']\n"
          ],
          "name": "stdout"
        }
      ]
    },
    {
      "cell_type": "code",
      "metadata": {
        "id": "7aJAx6e8R3Ig",
        "colab_type": "code",
        "colab": {
          "base_uri": "https://localhost:8080/",
          "height": 107
        },
        "outputId": "1fcbaa31-a4bd-4fd3-fa10-5bcbd6f91964"
      },
      "source": [
        "import torch\n",
        "\n",
        "# all_letters 로 문자의 주소 찾기, 예시 \"a\" = 0\n",
        "def letterToIndex(letter):\n",
        "    return all_letters.find(letter)\n",
        "\n",
        "# 검증을 위해서 한개의 문자를 <1 x n_letters> Tensor로 변환\n",
        "def letterToTensor(letter):\n",
        "    tensor = torch.zeros(1, n_letters)\n",
        "    tensor[0][letterToIndex(letter)] = 1\n",
        "    return tensor\n",
        "\n",
        "# 한 줄(이름)을  <line_length x 1 x n_letters>,\n",
        "# 또는 One-Hot 문자 벡터의 Array로 변경\n",
        "def lineToTensor(line):\n",
        "    tensor = torch.zeros(len(line), 1, n_letters)\n",
        "    for li, letter in enumerate(line):\n",
        "        tensor[li][0][letterToIndex(letter)] = 1\n",
        "    return tensor\n",
        "\n",
        "print(letterToTensor('J'))\n",
        "\n",
        "print(lineToTensor('Jones').size())"
      ],
      "execution_count": 32,
      "outputs": [
        {
          "output_type": "stream",
          "text": [
            "tensor([[0., 0., 0., 0., 0., 0., 0., 0., 0., 0., 0., 0., 0., 0., 0., 0., 0., 0.,\n",
            "         0., 0., 0., 0., 0., 0., 0., 0., 0., 0., 0., 0., 0., 0., 0., 0., 0., 1.,\n",
            "         0., 0., 0., 0., 0., 0., 0., 0., 0., 0., 0., 0., 0., 0., 0., 0., 0., 0.,\n",
            "         0., 0., 0.]])\n",
            "torch.Size([5, 1, 57])\n"
          ],
          "name": "stdout"
        }
      ]
    },
    {
      "cell_type": "code",
      "metadata": {
        "id": "AP0-yuA7R6eY",
        "colab_type": "code",
        "colab": {}
      },
      "source": [
        "import torch.nn as nn\n",
        "\n",
        "class RNN(nn.Module):\n",
        "    def __init__(self, input_size, hidden_size, output_size):\n",
        "        super(RNN, self).__init__()\n",
        "\n",
        "        self.hidden_size = hidden_size\n",
        "\n",
        "        self.i2h = nn.Linear(input_size + hidden_size, hidden_size)\n",
        "        self.i2o = nn.Linear(input_size + hidden_size, output_size)\n",
        "        self.softmax = nn.LogSoftmax(dim=1)\n",
        "\n",
        "    def forward(self, input, hidden):\n",
        "        combined = torch.cat((input, hidden), 1)\n",
        "        hidden = self.i2h(combined)\n",
        "        output = self.i2o(combined)\n",
        "        output = self.softmax(output)\n",
        "        return output, hidden\n",
        "\n",
        "    def initHidden(self):\n",
        "        return torch.zeros(1, self.hidden_size)\n",
        "\n",
        "n_hidden = 128\n",
        "rnn = RNN(n_letters, n_hidden, n_categories)"
      ],
      "execution_count": 33,
      "outputs": []
    },
    {
      "cell_type": "code",
      "metadata": {
        "id": "X5iSM2czR-yz",
        "colab_type": "code",
        "colab": {}
      },
      "source": [
        "input = letterToTensor('A')\n",
        "hidden =torch.zeros(1, n_hidden)\n",
        "\n",
        "output, next_hidden = rnn(input, hidden)"
      ],
      "execution_count": 34,
      "outputs": []
    },
    {
      "cell_type": "code",
      "metadata": {
        "id": "GKz2ro9SSBGj",
        "colab_type": "code",
        "colab": {
          "base_uri": "https://localhost:8080/",
          "height": 71
        },
        "outputId": "0b51efaf-6ba0-4cbc-931c-e6c3ba1b29f8"
      },
      "source": [
        "input = lineToTensor('Albert')\n",
        "hidden = torch.zeros(1, n_hidden)\n",
        "\n",
        "output, next_hidden = rnn(input[0], hidden)\n",
        "print(output)"
      ],
      "execution_count": 35,
      "outputs": [
        {
          "output_type": "stream",
          "text": [
            "tensor([[-2.9693, -2.8916, -2.8988, -2.8888, -2.8009, -2.9657, -2.8570, -2.9057,\n",
            "         -3.0117, -2.7597, -2.8181, -2.9435, -2.8908, -2.9296, -2.8671, -2.8663,\n",
            "         -2.9414, -2.8548]], grad_fn=<LogSoftmaxBackward>)\n"
          ],
          "name": "stdout"
        }
      ]
    },
    {
      "cell_type": "code",
      "metadata": {
        "id": "EpNDk_5eSE_R",
        "colab_type": "code",
        "colab": {
          "base_uri": "https://localhost:8080/",
          "height": 35
        },
        "outputId": "0f2965c9-37cc-4fff-ec5d-63692023fcd2"
      },
      "source": [
        "def categoryFromOutput(output):\n",
        "    top_n, top_i = output.topk(1) # 텐서의 가장 큰 값 및 주소\n",
        "    category_i = top_i[0].item()     # 텐서에서 정수 값으로 변경\n",
        "    return all_categories[category_i], category_i\n",
        "\n",
        "print(categoryFromOutput(output))"
      ],
      "execution_count": 39,
      "outputs": [
        {
          "output_type": "stream",
          "text": [
            "('German', 9)\n"
          ],
          "name": "stdout"
        }
      ]
    },
    {
      "cell_type": "code",
      "metadata": {
        "id": "yzXnk3jpSNeH",
        "colab_type": "code",
        "colab": {
          "base_uri": "https://localhost:8080/",
          "height": 197
        },
        "outputId": "ac40a67e-8b29-48cd-dde9-9841dafce021"
      },
      "source": [
        "import random\n",
        "\n",
        "def randomChoice(l):\n",
        "    return l[random.randint(0, len(l) - 1)]\n",
        "\n",
        "def randomTrainingExample():\n",
        "    category = randomChoice(all_categories)\n",
        "    line = randomChoice(category_lines[category])\n",
        "    category_tensor = torch.tensor([all_categories.index(category)], dtype=torch.long)\n",
        "    line_tensor = lineToTensor(line)\n",
        "    return category, line, category_tensor, line_tensor\n",
        "\n",
        "for i in range(10):\n",
        "    category, line, category_tensor, line_tensor = randomTrainingExample()\n",
        "    print('category =', category, '/ line =', line)"
      ],
      "execution_count": 40,
      "outputs": [
        {
          "output_type": "stream",
          "text": [
            "category = Spanish / line = Hierro\n",
            "category = Spanish / line = Dominguez\n",
            "category = Korean / line = Jang\n",
            "category = Scottish / line = Mclaughlin\n",
            "category = Korean / line = Yoon\n",
            "category = Arabic / line = Ganem\n",
            "category = Japanese / line = Matsumara\n",
            "category = Greek / line = Sakelaris\n",
            "category = Spanish / line = Bonaventura\n",
            "category = Portuguese / line = Abreu\n"
          ],
          "name": "stdout"
        }
      ]
    },
    {
      "cell_type": "code",
      "metadata": {
        "id": "uWhYlwSQSUX2",
        "colab_type": "code",
        "colab": {}
      },
      "source": [
        "criterion = nn.NLLLoss()"
      ],
      "execution_count": 42,
      "outputs": []
    },
    {
      "cell_type": "code",
      "metadata": {
        "id": "LQLD5iwvSXtU",
        "colab_type": "code",
        "colab": {}
      },
      "source": [
        "learning_rate = 0.005 # 이것을 너무 높게 설정하면 발산할 수 있고, 너무 낮으면 학습이 되지 않을 수 있습니다.\n",
        "\n",
        "def train(category_tensor, line_tensor):\n",
        "    hidden = rnn.initHidden()\n",
        "\n",
        "    rnn.zero_grad()\n",
        "\n",
        "    for i in range(line_tensor.size()[0]):\n",
        "        output, hidden = rnn(line_tensor[i], hidden)\n",
        "\n",
        "    loss = criterion(output, category_tensor)\n",
        "    loss.backward()\n",
        "\n",
        "    # 매개변수의 경사도에 학습률을 곱해서 그 매개변수의 값에 더합니다.\n",
        "    for p in rnn.parameters():\n",
        "        p.data.add_(p.grad.data, alpha=-learning_rate)\n",
        "\n",
        "    return output, loss.item()"
      ],
      "execution_count": 43,
      "outputs": []
    },
    {
      "cell_type": "code",
      "metadata": {
        "id": "VsQopEFASg_1",
        "colab_type": "code",
        "colab": {
          "base_uri": "https://localhost:8080/",
          "height": 377
        },
        "outputId": "19a21667-bff5-4e77-e9fc-fed699aed22a"
      },
      "source": [
        "import math\n",
        "import time\n",
        "\n",
        "n_iters = 100000\n",
        "print_every = 5000\n",
        "plot_every = 1000\n",
        "\n",
        "\n",
        "\n",
        "# 도식화를 위한 손실 추적\n",
        "current_loss = 0\n",
        "all_losses = []\n",
        "\n",
        "def timeSince(since):\n",
        "    now = time.time()\n",
        "    s = now - since\n",
        "    m = math.floor(s / 60)\n",
        "    s -= m * 60\n",
        "    return '%dm %ds' % (m, s)\n",
        "\n",
        "start = time.time()\n",
        "\n",
        "for iter in range(1, n_iters + 1):\n",
        "    category, line, category_tensor, line_tensor = randomTrainingExample()\n",
        "    output, loss = train(category_tensor, line_tensor)\n",
        "    current_loss += loss\n",
        "\n",
        "    # iter 숫자, 손실, 이름, 추측 화면 출력\n",
        "    if iter % print_every == 0:\n",
        "        guess, guess_i = categoryFromOutput(output)\n",
        "        correct = '✓' if guess == category else '✗ (%s)' % category\n",
        "        print('%d %d%% (%s) %.4f %s / %s %s' % (iter, iter / n_iters * 100, timeSince(start), loss, line, guess, correct))\n",
        "\n",
        "    # 현재 평균 손실을 전체 손실 리스트에 추가\n",
        "    if iter % plot_every == 0:\n",
        "        all_losses.append(current_loss / plot_every)\n",
        "        current_loss = 0"
      ],
      "execution_count": 49,
      "outputs": [
        {
          "output_type": "stream",
          "text": [
            "5000 5% (0m 6s) 2.5697 Tsukehara / Spanish ✗ (Japanese)\n",
            "10000 10% (0m 12s) 1.4436 Jevaikin / Russian ✓\n",
            "15000 15% (0m 18s) 1.4813 O'Halloran / Irish ✓\n",
            "20000 20% (0m 25s) 0.8985 Pefanis / Greek ✓\n",
            "25000 25% (0m 31s) 2.6166 White / Japanese ✗ (Scottish)\n",
            "30000 30% (0m 37s) 0.9028 Kuijpers / Dutch ✓\n",
            "35000 35% (0m 44s) 0.5959 Dzhanaev / Russian ✓\n",
            "40000 40% (0m 50s) 3.9827 Wei / Chinese ✗ (German)\n",
            "45000 45% (0m 56s) 1.0122 Cabello / Portuguese ✗ (Spanish)\n",
            "50000 50% (1m 2s) 1.0586 Donoghue / Irish ✓\n",
            "55000 55% (1m 9s) 1.1457 Stluka / Polish ✗ (Czech)\n",
            "60000 60% (1m 15s) 1.2742 Trang / Vietnamese ✓\n",
            "65000 65% (1m 21s) 1.8124 Kennedy / English ✗ (Scottish)\n",
            "70000 70% (1m 28s) 0.6140 Dickson / Scottish ✓\n",
            "75000 75% (1m 34s) 0.6379 Dubicki / Polish ✓\n",
            "80000 80% (1m 41s) 0.4459 Makricosta / Greek ✓\n",
            "85000 85% (1m 47s) 1.1217 Oomen / Dutch ✓\n",
            "90000 90% (1m 53s) 1.9503 Wood / Korean ✗ (Scottish)\n",
            "95000 95% (1m 59s) 1.0129 Ha / Vietnamese ✗ (Korean)\n",
            "100000 100% (2m 6s) 2.7694 Cruz / Spanish ✗ (Portuguese)\n"
          ],
          "name": "stdout"
        }
      ]
    },
    {
      "cell_type": "code",
      "metadata": {
        "id": "50W5btu6S1Eg",
        "colab_type": "code",
        "colab": {
          "base_uri": "https://localhost:8080/",
          "height": 283
        },
        "outputId": "3f11b1ed-54ff-474d-90f3-4670922d94a2"
      },
      "source": [
        "import matplotlib.pyplot as plt\n",
        "import matplotlib.ticker as ticker\n",
        "\n",
        "plt.figure()\n",
        "plt.plot(all_losses)"
      ],
      "execution_count": 50,
      "outputs": [
        {
          "output_type": "execute_result",
          "data": {
            "text/plain": [
              "[<matplotlib.lines.Line2D at 0x7f12547d1198>]"
            ]
          },
          "metadata": {
            "tags": []
          },
          "execution_count": 50
        },
        {
          "output_type": "display_data",
          "data": {
            "image/png": "[encoded data removed]",
            "text/plain": [
              "<Figure size 432x288 with 1 Axes>"
            ]
          },
          "metadata": {
            "tags": [],
            "needs_background": "light"
          }
        }
      ]
    },
    {
      "cell_type": "code",
      "metadata": {
        "id": "dZSxh5DuS1nI",
        "colab_type": "code",
        "colab": {
          "base_uri": "https://localhost:8080/",
          "height": 320
        },
        "outputId": "8501bc04-7df7-4768-f446-8e980615a2f4"
      },
      "source": [
        "# 혼란 행렬에서 정확한 추측을 추적\n",
        "confusion = torch.zeros(n_categories, n_categories)\n",
        "n_confusion = 10000\n",
        "\n",
        "# 주어진 라인의 출력 반환\n",
        "def evaluate(line_tensor):\n",
        "    hidden = rnn.initHidden()\n",
        "\n",
        "    for i in range(line_tensor.size()[0]):\n",
        "        output, hidden = rnn(line_tensor[i], hidden)\n",
        "\n",
        "    return output\n",
        "\n",
        "# 예시들 중에 어떤 것이 정확하게 예측되었는지 기록\n",
        "for i in range(n_confusion):\n",
        "    category, line, category_tensor, line_tensor = randomTrainingExample()\n",
        "    output = evaluate(line_tensor)\n",
        "    guess, guess_i = categoryFromOutput(output)\n",
        "    category_i = all_categories.index(category)\n",
        "    confusion[category_i][guess_i] += 1\n",
        "\n",
        "# 모든 행을 합계로 나누어 정규화\n",
        "for i in range(n_categories):\n",
        "    confusion[i] = confusion[i] / confusion[i].sum()\n",
        "\n",
        "# 도식 설정\n",
        "fig = plt.figure()\n",
        "ax = fig.add_subplot(111)\n",
        "cax = ax.matshow(confusion.numpy())\n",
        "fig.colorbar(cax)\n",
        "\n",
        "# 축 설정\n",
        "ax.set_xticklabels([''] + all_categories, rotation=90)\n",
        "ax.set_yticklabels([''] + all_categories)\n",
        "\n",
        "# 모든 tick에서 레이블 지정\n",
        "ax.xaxis.set_major_locator(ticker.MultipleLocator(1))\n",
        "ax.yaxis.set_major_locator(ticker.MultipleLocator(1))\n",
        "\n",
        "# sphinx_gallery_thumbnail_number = 2\n",
        "plt.show()"
      ],
      "execution_count": 51,
      "outputs": [
        {
          "output_type": "display_data",
          "data": {
            "image/png": "[encoded data removed]",
            "text/plain": [
              "<Figure size 432x288 with 2 Axes>"
            ]
          },
          "metadata": {
            "tags": [],
            "needs_background": "light"
          }
        }
      ]
    },
    {
      "cell_type": "code",
      "metadata": {
        "id": "JZlBGS68S7Tc",
        "colab_type": "code",
        "colab": {
          "base_uri": "https://localhost:8080/",
          "height": 287
        },
        "outputId": "cfbf5874-d23e-4d40-8eae-372c2e34a035"
      },
      "source": [
        "def predict(input_line, n_predictions=3):\n",
        "    print('\\n> %s' % input_line)\n",
        "    with torch.no_grad():\n",
        "        output = evaluate(lineToTensor(input_line))\n",
        "\n",
        "        # Get top N categories\n",
        "        topv, topi = output.topk(n_predictions, 1, True)\n",
        "        predictions = []\n",
        "\n",
        "        for i in range(n_predictions):\n",
        "            value = topv[0][i].item()\n",
        "            category_index = topi[0][i].item()\n",
        "            print('(%.2f) %s' % (value, all_categories[category_index]))\n",
        "            predictions.append([value, all_categories[category_index]])\n",
        "\n",
        "predict('Dovesky')\n",
        "predict('Jackson')\n",
        "predict('Satoshi')"
      ],
      "execution_count": 52,
      "outputs": [
        {
          "output_type": "stream",
          "text": [
            "\n",
            "> Dovesky\n",
            "(-1.26) English\n",
            "(-1.48) Russian\n",
            "(-1.53) Czech\n",
            "\n",
            "> Jackson\n",
            "(-0.09) Scottish\n",
            "(-2.72) English\n",
            "(-4.51) Russian\n",
            "\n",
            "> Satoshi\n",
            "(-1.02) Japanese\n",
            "(-1.51) Arabic\n",
            "(-2.28) Polish\n"
          ],
          "name": "stdout"
        }
      ]
    }
  ]
}

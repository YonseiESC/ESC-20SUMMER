{
 "cells": [
  {
   "cell_type": "markdown",
   "metadata": {},
   "source": [
    "# Week5 세션 과제_ 오다건"
   ]
  },
  {
   "cell_type": "markdown",
   "metadata": {},
   "source": [
    "### RNN\n",
    "\n",
    "1. 순환구조 이루는 인공신경망의 한 종류.\n",
    "2. 자료의 순서 고려 가능 => 시퀀스 데이터 처리에 적합\n",
    "3. 은닉충을 한 번만 지나가는 것이 아니라, 다시 같은 은닉충으로 들어가도록. \n",
    "4. 모든 셀이 파라미터 공유. \n",
    "5. hidden state는 직전시점의 hidden state 받아서 갱신 -> 데이터 순서 이해 가능. \n",
    "6. gradient descent 이용해 학습, 하지만 순환구조 (아까 폴드된 구조) 가지고 있어서 Back-propagation Through Time 이라 부름.  => 이전 시간의 단계도 고려해야함.\n",
    "\n",
    "7. 그런데, 데이터의 시쿼스가 짧다면 RNN은 과거의 정보 잘 이용하여 학습 가능. 그런데 시퀀스 길면 시점끼리의 차이가 크니까 성능 떨어질 수도 있음. => RNN의 장기의존성 문제. => Gradient Vanishing.\n",
    "\n",
    "### LSTM\n",
    "\n",
    "1. 표준 RNN 과 LSTM은 반복되는 모듈이 가지고 있는 신경망 레이어의 개수의 차이가 존재. (1 vs 4)\n",
    "2. cell state: 선형 상호작용, 전체 체인 따라 직진. 정보 변하지 않음. \n",
    "3. LSTM - cell state 에 정보 추가하거나 제거할 수 있는 능력 => 그 구조가 Gate\n",
    "4. Gating = 선택적으로 정보 통과시키는 방법 = sigmoid 신경망 레이어 vs pointwise multiplication operation. \n",
    "\n",
    "4-2. 시그모이드 레이어:  0은 \"아무것도 통과시키지 말 것\"를 의미하고, 1은 \"모든 것을 통과시킬 것\"을 의미\n",
    "4-3. LSTM은 cell state 보호하고 통제하기 위한 게이트를 3개 가지고 있음. \n",
    "\n",
    "#### LSTM의 구조 \n",
    "\n",
    "1. forget gate layer : cell state에 어떠한 정보 제거할 것인지. by 시그모이드 레이어. \n",
    "2. Input gate : cell state에 어떠한 새로운 정보 추가할 것인지 결정하는 단계.\n",
    "\n",
    "2-1. input gate layer : 시그모이드가 어떠한 값 업데이트 할 것인지.\n",
    "2-2. update gate layer :\n",
    "2-3. 두가지 결합. \n",
    "\n",
    "3. Cell state: 새롭게 업데이트 \n",
    "4. Output Gate : cell state 기반으로 필터링한 버전.\n",
    "\n"
   ]
  },
  {
   "cell_type": "markdown",
   "metadata": {},
   "source": [
    "## 과제 1번)"
   ]
  },
  {
   "cell_type": "code",
   "execution_count": 1,
   "metadata": {},
   "outputs": [],
   "source": [
    "import torch\n",
    "import torch.optim as optim\n",
    "import numpy as np\n"
   ]
  },
  {
   "cell_type": "code",
   "execution_count": 2,
   "metadata": {},
   "outputs": [
    {
     "data": {
      "text/plain": [
       "<torch._C.Generator at 0x7f8757756150>"
      ]
     },
     "execution_count": 2,
     "metadata": {},
     "output_type": "execute_result"
    }
   ],
   "source": [
    "# Random seed to make results deterministic and reproducible\n",
    "torch.manual_seed(0)"
   ]
  },
  {
   "cell_type": "code",
   "execution_count": 3,
   "metadata": {},
   "outputs": [],
   "source": [
    "sentence = (\"if you want to build a ship, don't drum up people together to \"\n",
    "            \"collect wood and don't assign them tasks and work, but rather \"\n",
    "            \"teach them to long for the endless immensity of the sea.\")"
   ]
  },
  {
   "cell_type": "code",
   "execution_count": 4,
   "metadata": {},
   "outputs": [],
   "source": [
    "# make dictionary\n",
    "char_set = list(set(sentence))\n",
    "char_dic = {c: i for i, c in enumerate(char_set)}"
   ]
  },
  {
   "cell_type": "code",
   "execution_count": 5,
   "metadata": {},
   "outputs": [],
   "source": [
    "# hyper parameters\n",
    "dic_size = len(char_dic)\n",
    "hidden_size = len(char_dic)\n",
    "sequence_length = 10  # Any arbitrary number\n",
    "learning_rate = 0.1"
   ]
  },
  {
   "cell_type": "code",
   "execution_count": 6,
   "metadata": {},
   "outputs": [
    {
     "name": "stdout",
     "output_type": "stream",
     "text": [
      "0 if you wan -> f you want\n",
      "1 f you want ->  you want \n",
      "2  you want  -> you want t\n",
      "3 you want t -> ou want to\n",
      "4 ou want to -> u want to \n",
      "5 u want to  ->  want to b\n",
      "6  want to b -> want to bu\n",
      "7 want to bu -> ant to bui\n",
      "8 ant to bui -> nt to buil\n",
      "9 nt to buil -> t to build\n",
      "10 t to build ->  to build \n",
      "11  to build  -> to build a\n",
      "12 to build a -> o build a \n",
      "13 o build a  ->  build a s\n",
      "14  build a s -> build a sh\n",
      "15 build a sh -> uild a shi\n",
      "16 uild a shi -> ild a ship\n",
      "17 ild a ship -> ld a ship,\n",
      "18 ld a ship, -> d a ship, \n",
      "19 d a ship,  ->  a ship, d\n",
      "20  a ship, d -> a ship, do\n",
      "21 a ship, do ->  ship, don\n",
      "22  ship, don -> ship, don'\n",
      "23 ship, don' -> hip, don't\n",
      "24 hip, don't -> ip, don't \n",
      "25 ip, don't  -> p, don't d\n",
      "26 p, don't d -> , don't dr\n",
      "27 , don't dr ->  don't dru\n",
      "28  don't dru -> don't drum\n",
      "29 don't drum -> on't drum \n",
      "30 on't drum  -> n't drum u\n",
      "31 n't drum u -> 't drum up\n",
      "32 't drum up -> t drum up \n",
      "33 t drum up  ->  drum up p\n",
      "34  drum up p -> drum up pe\n",
      "35 drum up pe -> rum up peo\n",
      "36 rum up peo -> um up peop\n",
      "37 um up peop -> m up peopl\n",
      "38 m up peopl ->  up people\n",
      "39  up people -> up people \n",
      "40 up people  -> p people t\n",
      "41 p people t ->  people to\n",
      "42  people to -> people tog\n",
      "43 people tog -> eople toge\n",
      "44 eople toge -> ople toget\n",
      "45 ople toget -> ple togeth\n",
      "46 ple togeth -> le togethe\n",
      "47 le togethe -> e together\n",
      "48 e together ->  together \n",
      "49  together  -> together t\n",
      "50 together t -> ogether to\n",
      "51 ogether to -> gether to \n",
      "52 gether to  -> ether to c\n",
      "53 ether to c -> ther to co\n",
      "54 ther to co -> her to col\n",
      "55 her to col -> er to coll\n",
      "56 er to coll -> r to colle\n",
      "57 r to colle ->  to collec\n",
      "58  to collec -> to collect\n",
      "59 to collect -> o collect \n",
      "60 o collect  ->  collect w\n",
      "61  collect w -> collect wo\n",
      "62 collect wo -> ollect woo\n",
      "63 ollect woo -> llect wood\n",
      "64 llect wood -> lect wood \n",
      "65 lect wood  -> ect wood a\n",
      "66 ect wood a -> ct wood an\n",
      "67 ct wood an -> t wood and\n",
      "68 t wood and ->  wood and \n",
      "69  wood and  -> wood and d\n",
      "70 wood and d -> ood and do\n",
      "71 ood and do -> od and don\n",
      "72 od and don -> d and don'\n",
      "73 d and don' ->  and don't\n",
      "74  and don't -> and don't \n",
      "75 and don't  -> nd don't a\n",
      "76 nd don't a -> d don't as\n",
      "77 d don't as ->  don't ass\n",
      "78  don't ass -> don't assi\n",
      "79 don't assi -> on't assig\n",
      "80 on't assig -> n't assign\n",
      "81 n't assign -> 't assign \n",
      "82 't assign  -> t assign t\n",
      "83 t assign t ->  assign th\n",
      "84  assign th -> assign the\n",
      "85 assign the -> ssign them\n",
      "86 ssign them -> sign them \n",
      "87 sign them  -> ign them t\n",
      "88 ign them t -> gn them ta\n",
      "89 gn them ta -> n them tas\n",
      "90 n them tas ->  them task\n",
      "91  them task -> them tasks\n",
      "92 them tasks -> hem tasks \n",
      "93 hem tasks  -> em tasks a\n",
      "94 em tasks a -> m tasks an\n",
      "95 m tasks an ->  tasks and\n",
      "96  tasks and -> tasks and \n",
      "97 tasks and  -> asks and w\n",
      "98 asks and w -> sks and wo\n",
      "99 sks and wo -> ks and wor\n",
      "100 ks and wor -> s and work\n",
      "101 s and work ->  and work,\n",
      "102  and work, -> and work, \n",
      "103 and work,  -> nd work, b\n",
      "104 nd work, b -> d work, bu\n",
      "105 d work, bu ->  work, but\n",
      "106  work, but -> work, but \n",
      "107 work, but  -> ork, but r\n",
      "108 ork, but r -> rk, but ra\n",
      "109 rk, but ra -> k, but rat\n",
      "110 k, but rat -> , but rath\n",
      "111 , but rath ->  but rathe\n",
      "112  but rathe -> but rather\n",
      "113 but rather -> ut rather \n",
      "114 ut rather  -> t rather t\n",
      "115 t rather t ->  rather te\n",
      "116  rather te -> rather tea\n",
      "117 rather tea -> ather teac\n",
      "118 ather teac -> ther teach\n",
      "119 ther teach -> her teach \n",
      "120 her teach  -> er teach t\n",
      "121 er teach t -> r teach th\n",
      "122 r teach th ->  teach the\n",
      "123  teach the -> teach them\n",
      "124 teach them -> each them \n",
      "125 each them  -> ach them t\n",
      "126 ach them t -> ch them to\n",
      "127 ch them to -> h them to \n",
      "128 h them to  ->  them to l\n",
      "129  them to l -> them to lo\n",
      "130 them to lo -> hem to lon\n",
      "131 hem to lon -> em to long\n",
      "132 em to long -> m to long \n",
      "133 m to long  ->  to long f\n",
      "134  to long f -> to long fo\n",
      "135 to long fo -> o long for\n",
      "136 o long for ->  long for \n",
      "137  long for  -> long for t\n",
      "138 long for t -> ong for th\n",
      "139 ong for th -> ng for the\n",
      "140 ng for the -> g for the \n",
      "141 g for the  ->  for the e\n",
      "142  for the e -> for the en\n",
      "143 for the en -> or the end\n",
      "144 or the end -> r the endl\n",
      "145 r the endl ->  the endle\n",
      "146  the endle -> the endles\n",
      "147 the endles -> he endless\n",
      "148 he endless -> e endless \n",
      "149 e endless  ->  endless i\n",
      "150  endless i -> endless im\n",
      "151 endless im -> ndless imm\n",
      "152 ndless imm -> dless imme\n",
      "153 dless imme -> less immen\n",
      "154 less immen -> ess immens\n",
      "155 ess immens -> ss immensi\n",
      "156 ss immensi -> s immensit\n",
      "157 s immensit ->  immensity\n",
      "158  immensity -> immensity \n",
      "159 immensity  -> mmensity o\n",
      "160 mmensity o -> mensity of\n",
      "161 mensity of -> ensity of \n",
      "162 ensity of  -> nsity of t\n",
      "163 nsity of t -> sity of th\n",
      "164 sity of th -> ity of the\n",
      "165 ity of the -> ty of the \n",
      "166 ty of the  -> y of the s\n",
      "167 y of the s ->  of the se\n",
      "168  of the se -> of the sea\n",
      "169 of the sea -> f the sea.\n"
     ]
    }
   ],
   "source": [
    "# data setting\n",
    "x_data = []\n",
    "y_data = []\n",
    "\n",
    "for i in range(0, len(sentence) - sequence_length):\n",
    "    x_str = sentence[i:i + sequence_length]\n",
    "    y_str = sentence[i + 1: i + sequence_length + 1]\n",
    "    print(i, x_str, '->', y_str)\n",
    "\n",
    "    x_data.append([char_dic[c] for c in x_str])  # x str to index\n",
    "    y_data.append([char_dic[c] for c in y_str])  # y str to index\n",
    "\n",
    "x_one_hot = [np.eye(dic_size)[x] for x in x_data]"
   ]
  },
  {
   "cell_type": "code",
   "execution_count": 7,
   "metadata": {},
   "outputs": [],
   "source": [
    "# transform as torch tensor variable\n",
    "X = torch.FloatTensor(x_one_hot)\n",
    "Y = torch.LongTensor(y_data)"
   ]
  },
  {
   "cell_type": "code",
   "execution_count": 8,
   "metadata": {},
   "outputs": [],
   "source": [
    "# declare RNN + FC\n",
    "class Net(torch.nn.Module):\n",
    "    def __init__(self, input_dim, hidden_dim, layers):\n",
    "        super(Net, self).__init__()\n",
    "        self.lstm = torch.nn.LSTM(input_dim, hidden_dim, num_layers=layers, batch_first=True)\n",
    "        self.fc = torch.nn.Linear(hidden_dim, hidden_dim, bias=True)\n",
    "\n",
    "    def forward(self, x):\n",
    "        x, _status = self.lstm(x)\n",
    "        x = self.fc(x)\n",
    "        return x\n",
    "\n",
    "\n",
    "net = Net(dic_size, hidden_size, 2)"
   ]
  },
  {
   "cell_type": "code",
   "execution_count": 9,
   "metadata": {},
   "outputs": [],
   "source": [
    "# loss & optimizer setting\n",
    "criterion = torch.nn.CrossEntropyLoss()\n",
    "optimizer = optim.Adam(net.parameters(), learning_rate)"
   ]
  },
  {
   "cell_type": "code",
   "execution_count": 10,
   "metadata": {},
   "outputs": [
    {
     "name": "stdout",
     "output_type": "stream",
     "text": [
      "fffffffffffffffffffffffffffffffffffffffffffffffffffffffffffffffffffffffffffffffffffffffffffffffffffffffffffffffffffffffffffffffffffffffffffffffffffffffffffffffffffffffffffffffffff\n",
      "e                                                                                                                                                                                  \n",
      "      tt   t tttt   tttt    tttt   ttt  t        ttt     tttttt      ttt  t   ttt     ttt       tt tttt   tt    ttt       ttt    tt   ttttt   ttt t   ttttt  tt     tt   t t   ttt \n",
      "                             o     o                                          oo                          o                o                                        o          oo  \n",
      "                                                                                                                                                                                   \n",
      "  tnnnnnnnndnnnnndnndndnndnndndnnnnnnnnnnnnnnnnnnnnnnnnnnnnnnnnnnnnnnnnnnndnnnddddnndnnndnndnnnnnnnnnndnnndndnnndnnndnnnnnnnnnnnnnnnnnnnnnnnnndnnndnnnnnnnnnnnddnnnnndnnnnndnnnnnnn\n",
      "      tttt t ttttt  tttt t  tttt  ttt  t         t           t        tttttttttttt  ttttt tt       tttttttttttt ttt t                    t tt t   t   t    ttttt    tt  tt t   tttt\n",
      "                                                                                                                                                                                   \n",
      "                    t                                                     t   t         t             t   t                                                   t                    \n",
      "  t   t t  t  t     t tt t  t     t    t  t      t        t  t       t    t   t  t  t ttt  t    t  t ttt  ttt   tt  t      t     t    t  t    t   t   t      ttt     t  t  t   tt  \n",
      "t t   tttt t  tt t  tttt t  t tt  t    t  t  t   t        t  t       tttt ttt tttt  ttttt  t  t t ttttttt ttt t tt  t t  t t  t  t  t t  t tt t   t  tt   t tttt  tttt  tt t  ttt t\n",
      "t t   tttt t  tt  t tttt t  tttt  tt   t  t  t  tt      t t  t       tttt ttt tttt  ttttt  t  t t ttttttt ttt t tt  t t  t t  t  t  t t  tttt t   t  tttt  ttttt  tttt  tt t  ttttt\n",
      "t t   tttt t  tt    tttt t  t  t  t    t  t  t   t        t  t       tttt ttt t  t  ttttt  t    t  tt ttt ttt t tt  t t    t  t  t    t  t  t t   t   t t   tttt  tt t  tt t   tt t\n",
      "t t   tttt t  tt  e tttt    t  t  t    t  t      t        t  t       t tt ttt t  t  ttttt  t    t  tt ttt ttt   tt  t t    t  t  t    t  t  t t   t   t t e tttt     t  tt t   tttt\n",
      "t t   tttt t  tti e tttt to t tt  t t  t  t      t        t  t       t tt ttt t tt  ttttt  t    t ttt ttt totti tti t t    t  t  t    t  t tt t   t   ttt   ttttt tttto tt t   tttt\n",
      "t t   ttti t  tti e tnttito t ttt t t  t  t  t  tt   t    t  t    t  t tt tti t tit tttiii t    t tti tti totti tti t t    t  t  t    t  t tt t   t   t t  tttti  tttto tt t   tttt\n",
      "t t   ttti t  tti l toto th t ti  t to t  t  t  tt   t    t  t  e t  t ti tni t ti  tttiio t  t t tti tni t tti tti t t    t  t  t    t  t tt t   t   tht  ttiti  tttth to t   tott\n",
      "t thtnttii th tti l thtoith tetii tetn to thtnh ttht t    t  toteeth toti tni tetii ttnii' th   t tni tni totii tti ttt    t tto t    t  toti t t th  tht etniiio tt th tn th  tntn\n",
      "tothtittii th tsi l tntnith teti  totn tt thtn e tht t e  te to leth todi tni teti  ttniin the  thtni tni toiin tsi ttt    te th the  th toti te  the tss etniin  tt th tn the tntn\n",
      "tothtnttsi th tsi l totnnth todi  totn tt thtn e th etee  th to leth todn tni totii ttniin the  thtnn tni todin tsi ttthe  th th the  th toti th  the tos etnnin ets th tn the totn\n",
      "tothnittsi th tsi t tntnnth tonii totn tt thtn e to  the  to to lett todn tni tonii ttnnin th   totnn tns tomim tsi ttthe  totth toe  to toni thm toe tos etnninm tsith tn toe totn\n",
      "toton ttti to tti t totoith tomnt totm tt to l e to ethe  to to lett tomm tot tomnt ttnsim toee totnn tnt tom o ttt tothee to to toee to tomi to  toeetos etsnimmetsith to toeetots\n",
      "toton ttss to tti t totoith tomnt totm tt toot e tometoee to to lett tomm tni tonit ttsiim toee totni tss tomnm ttt tothee totth toee to tomi tom toeetos ensnimmecsith tn toeetots\n",
      "tothn ttss to tui t tnto t, tonit tasi tp tootle tom them to to lett tomm tsi tonst tssiim thee totni tss toomm tui ttthee totth toee to toni tom toeetos ensiimmecsiim tt toeetoss\n",
      "tothn ttss to tui t toto p, ton't tosm tp thosle to lthem to to lett toom tni ton't tssiim toem totni tns toon, tut tathem totth toem to tong to  toemaoslensiimmecsit, tp toemaoss\n",
      "dht n toss th tuilt tnso p, ton't tasm tp tho le to ethee th to lett toon tns ton't tssimm thee ths,, tns toon, tut tathee th ch thee th tong tom theeasslensmimmensii, tn theeaoss\n",
      "dhthu tand to tuilt tnsn l, ton't tosm tp thosle to ether th to lett toon tss ton't tssiim ther ths,s tns toonn tut tasher thtch ther th tong to  therandleusiimmensit, tu theraoss\n",
      "dhths tand to tuilt tndnil, ton't tosm tp thesle to ether th to lett toon and ton't tssiin ther ths,' tnd toon, tut tosher th ch ther th tong tor therandeessiimmensit, tn theraoss\n",
      "dhahs tand to tuils tndoit, aon't toum tp teepee th ether th toleett toon tnd ton't tssiin ther ths,s tnd toon, aut tather th ch ther th ton' tor therandeessiimmersit, an therandn\n",
      "dhahs tand to duils andoip, aon't toum ap teeple to ether th tollett toon and aon't tssiin ther ths,s and aoon, aut tather th ch ther th dong aor therendlessiimmensit, au toerendn\n",
      "t lhs tant to tuils a doip, don't toum tp pemple to ether th tollett tood and aon't tssiin them thsks and aoon, aut tather thtch ther th tong aor therendlessiimmensit, au toereosn\n",
      "t lon tant to tuils andoip, don't toum cp pemple to ethem th tollett tood and aon't tssiin them thsks and aoon, aut tathem th ch them th tong aor themendlessmimmensity od themeodn\n",
      "t aos tant to tuils a dhil, don't aoum up people to ethem th tollett tood and aon't ansign them thsks and aoo , aut tather thach them th tong ao  themendlessmimmensity ad themeosn\n",
      "thaon want to tuilt a dhil, don't aoum up people to ether th tollett tood and aon't assign ther thsks end aork, aut tather thach them th tong aor themendlesssimmensit, of phereoan\n",
      "thaon wont to duilt a dhip, don't toum up people to ether to tollett tord and aon't tssign ther tosks and aork, aut tather toach them to tong aor themendlesssimmensith of thereoan\n",
      "thaou want to auild a dhip, don't aoum up people to ether to tollect tord and aon't assign them tosks and aork, aut tather toach them to dong aor themendlessiimmensity of themeoan\n",
      "t louiwant to duild a dhip, don't aoum up plople together to dollect tord and aon't assign them tosks and aork, aut tasher toach them to dong aor themendlessiimmensity of themeean\n",
      "t louiwant to duild andhip, don't arum up people together to tollect tord and aon't wssign ther tosks and dork, aut tather toach them to cong aor themendlesskimmensity of themeean\n",
      "t douiwant to duild a ship, don't arum up people together to collect tord and aon't assign ther tosks and aork, aut tather toach them to cong aor themendlessiimmensity of themeean\n",
      "m dou want to build a ship, don't arum up people together to collect word and aon't assign them tosks and aork, but tather toach them to long aor themendless immensity of themeean\n",
      "m lou want to wuild a ship, don't arum up people together to collect tord and won't assign them tosks and work, but tather toach them to long aor themendless immensity of themeeau\n",
      "m lou want to build a ship, don't arum up people together to collect word and don't assign them tosks and dork, but tather toach them to long aor themendless immensity of themeeau\n",
      "g lou want to build a ship, don't brum up people together to collect aord and don't assign them tosks and dork, but tather toach them to long dor themendless immensity of the seap\n",
      "g lou want to build a ship, don't arum up people together to collect tood and don't assign the  tosks and dork, but tather teach them to long dor the endless immensity of the eeap\n",
      "golou want to build a ship, don't brum up people together togcollect tood and don't bssign them tosks and dork, but tather teach them to long dor the endless immensity of the seap\n",
      "p fou want to build a ship, don't brum up people together togcollect wood and don't bssign them tosks and dork, but rather teach them to long dor themendless immensity of the sean\n",
      "p lou want to build a ship, don't arum up people together to collect tood and don't assign them tosks and dork, but rather toach them to long dor themendless immensity of the sean\n",
      "p fou want to build a ship, don't arum up people together to collect wood and don't assign them tosks and dork, but rather teach them to long dor the endless immensity of the seae\n",
      "p dou want to build a ship, don't arum up people together togcollect wood and don't assign them tosks and dork, but rather teach them to long for the endless immensity of the seae\n",
      "g aou want to build a ship, don't arum up people together te collect wood and don't assign them tosks and dork, but rather teach them to long for the endless immensity of the seau\n",
      "g aou want to build a ship, don't drum up people together to collect wood and don't dssign them tosks and dork, but rather toach them to long for themendless immensity of the seau\n",
      "m aou want to build a ship, don't drum up people together to collect wood and don't dssign them tosks and dork, but rather teach them to long for the endless immensity of the seau\n",
      "m aou want to build a ship, don't drum up people together to collect wood and don't dssign them tasks and work, but rather teach them to long for the endless immensity of the seau\n",
      "g you want to build a ship, don't drum up people together to collect wood and won't dssign them tasks and work, but rather teach them to long for the endless immensity of the sea.\n",
      "p you want to build a ship, don't drum up people together to collect wood and don't assign them tasks and work, but rather teach them to long for the endless immensity of the sea.\n",
      "p you want to build a ship, don't drum up people together to collect wood and don't assign them tasks and work, but rather teach them to long for the endless immensity of the sea.\n",
      "p you want to build a ship, don't drum up people together to collect wood and don't assign them tasks and work, but rather teach them to long for the endless immensity of the sea.\n",
      "g you want to build a ship, don't drum up people together to collect wood and don't assign them tosks and work, but rather teach them to long for the endless immensity of the sea.\n",
      "g you want to build a ship, don't drum up people together to collect wood and don't assign them tasks and work, but rather teach them to long for the endless immensity of the sea.\n",
      "m you want to build a ship, don't drum up people together to collect wood and don't assign them tasks and work, but rather teach them to long for the endless immensity of the sea.\n",
      "p you want to build a ship, don't drum up people together to collect wood and don't assign them tasks and work, but rather teach them to long for the endless immensity of the sea.\n",
      "g you want to build a ship, don't drum up people together to collect wood and don't assign them tasks and work, but rather teach them to long for the endless immensity of the sea.\n",
      "g you want to build a ship, don't drum up people together to collect wood and don't assign them tasks and work, but rather teach them to long for the endless immensity of the sea.\n",
      "g you want to build a ship, don't drum up people together to collect wood and don't assign them tasks and work, but rather teach them to long for the endless immensity of the sea.\n",
      "g you want to build a ship, don't drum up people together to collect wood and don't assign them tasks and work, but rather teach them to long for the endless immensity of the sea.\n",
      "g you want to build a ship, don't drum up people together to collect wood and don't assign them tasks and work, but rather teach them to long for the endless immensity of the sea.\n",
      "g you want to build a ship, don't drum up people together to collect wood and don't assign them tasks and work, but rather teach them to long for the endless immensity of the sea.\n",
      "p you want to build a ship, don't drum up people together to collect wood and don't assign them tasks and work, but rather teach them to long for the endless immensity of the sea.\n",
      "p you want to build a ship, don't drum up people together to collect wood and don't assign them tasks and work, but rather teach them to long for the endless immensity of the sea.\n",
      "p you want to build a ship, don't drum up people together to collect wood and don't assign them tasks and work, but rather teach them to long for the endless immensity of the sea.\n",
      "p you want to build a ship, don't drum up people together to collect wood and don't assign them tasks and work, but rather teach them to long for the endless immensity of the sea.\n",
      "g you want to build a ship, don't drum up people together to collect wood and don't assign them tasks and work, but rather teach them to long for the endless immensity of the sea.\n",
      "g you want to build a ship, don't drum up people together to collect wood and don't assign them tasks and work, but rather teach them to long for the endless immensity of the sea.\n",
      "g you want to build a ship, don't drum up people together to collect wood and don't assign them tasks and work, but rather teach them to long for the endless immensity of the sea.\n",
      "g you want to build a ship, don't drum up people together to collect wood and don't assign them tasks and work, but rather teach them to long for the endless immensity of the sea.\n",
      "g you want to build a ship, don't drum up people together to collect wood and don't assign them tasks and work, but rather teach them to long for the endless immensity of the sea.\n",
      "t you want to build a ship, don't drum up people together to collect wood and don't assign them tasks and work, but rather teach them to long for the endless immensity of the sea.\n",
      "l you want to build a ship, don't drum up people together to collect wood and don't assign them tasks and work, but rather teach them to long for the endless immensity of the sea.\n",
      "l you want to build a ship, don't drum up people together to collect wood and don't assign them tasks and work, but rather teach them to long for the endless immensity of the sea.\n",
      "g you want to build a ship, don't drum up people together to collect wood and don't assign them tasks and work, but rather teach them to long for the endless immensity of the sea.\n",
      "g you want to build a ship, don't drum up people together to collect wood and don't assign them tasks and work, but rather teach them to long for the endless immensity of the sea.\n",
      "g you want to build a ship, don't drum up people together to collect wood and don't assign them tasks and work, but rather teach them to long for the endless immensity of the sea.\n",
      "p you want to build a ship, don't drum up people together to collect wood and don't assign them tasks and work, but rather teach them to long for the endless immensity of the sea.\n",
      "g you want to build a ship, don't drum up people together to collect wood and don't assign them tasks and work, but rather teach them to long for the endless immensity of the sea.\n",
      "p you want to build a ship, don't drum up people together to collect wood and don't assign them tasks and work, but rather teach them to long for the endless immensity of the sea.\n",
      "p you want to build a ship, don't drum up people together to collect wood and don't assign them tasks and work, but rather teach them to long for the endless immensity of the sea.\n",
      "p you want to build a ship, don't drum up people together to collect wood and don't assign them tasks and work, but rather teach them to long for the endless immensity of the sea.\n",
      "p you want to build a ship, don't drum up people together to collect wood and don't assign them tasks and work, but rather teach them to long for the endless immensity of the sea.\n",
      "p you want to build a ship, don't drum up people together to collect wood and don't assign them tasks and work, but rather teach them to long for the endless immensity of the sea.\n",
      "g you want to build a ship, don't drum up people together to collect wood and don't assign them tasks and work, but rather teach them to long for the endless immensity of the sea.\n",
      "g you want to build a ship, don't drum up people together to collect wood and don't assign them tasks and work, but rather teach them to long for the endless immensity of the sea.\n",
      "p you want to build a ship, don't drum up people together to collect wood and don't assign them tasks and work, but rather teach them to long for the endless immensity of the sea.\n",
      "p you want to build a ship, don't drum up people together to collect wood and don't assign them tasks and work, but rather teach them to long for the endless immensity of the sea.\n",
      "p you want to build a ship, don't drum up people together to collect wood and don't assign them tasks and work, but rather teach them to long for the endless immensity of the sea.\n",
      "g you want to build a ship, don't drum up people together to collect wood and don't assign them tasks and work, but rather teach them to long for the endless immensity of the sea.\n",
      "t you want to build a ship, don't drum up people together to collect wood and don't assign them tasks and work, but rather teach them to long for the endless immensity of the sea.\n",
      "g you want to build a ship, don't drum up people together to collect wood and don't assign them tasks and work, but rather teach them to long for the endless immensity of the sea.\n",
      "g you want to build a ship, don't drum up people together to collect wood and don't assign them tasks and work, but rather teach them to long for the endless immensity of the sea.\n",
      "m you want to build a ship, don't drum up people together to collect wood and don't assign them tasks and work, but rather teach them to long for the endless immensity of the sea.\n",
      "p you want to build a ship, don't drum up people together to collect wood and don't assign them tasks and work, but rather teach them to long for the endless immensity of the sea.\n"
     ]
    }
   ],
   "source": [
    "# start training\n",
    "for i in range(100):\n",
    "    optimizer.zero_grad()\n",
    "    outputs = net(X)\n",
    "    loss = criterion(outputs.view(-1, dic_size), Y.view(-1))\n",
    "    loss.backward()\n",
    "    optimizer.step()\n",
    "\n",
    "    results = outputs.argmax(dim=2)\n",
    "    predict_str = \"\"\n",
    "    for j, result in enumerate(results):\n",
    "        # print(i, j, ''.join([char_set[t] for t in result]), loss.item())\n",
    "        if j == 0:\n",
    "            predict_str += ''.join([char_set[t] for t in result])\n",
    "        else:\n",
    "            predict_str += char_set[result[-1]]\n",
    "\n",
    "    print(predict_str)"
   ]
  },
  {
   "cell_type": "markdown",
   "metadata": {},
   "source": [
    "## 과제 2번"
   ]
  },
  {
   "cell_type": "code",
   "execution_count": 33,
   "metadata": {},
   "outputs": [],
   "source": [
    "from __future__ import unicode_literals, print_function, division\n",
    "from io import open\n",
    "import glob\n",
    "import os\n",
    "\n",
    "def findFiles(path): return glob.glob(path)\n"
   ]
  },
  {
   "cell_type": "code",
   "execution_count": 34,
   "metadata": {},
   "outputs": [
    {
     "name": "stdout",
     "output_type": "stream",
     "text": [
      "['name_data/names/Czech.txt', 'name_data/names/German.txt', 'name_data/names/Arabic.txt', 'name_data/names/Japanese.txt', 'name_data/names/Chinese.txt', 'name_data/names/Vietnamese.txt', 'name_data/names/Russian.txt', 'name_data/names/French.txt', 'name_data/names/Irish.txt', 'name_data/names/English.txt', 'name_data/names/Spanish.txt', 'name_data/names/Greek.txt', 'name_data/names/Italian.txt', 'name_data/names/Portuguese.txt', 'name_data/names/Scottish.txt', 'name_data/names/Dutch.txt', 'name_data/names/Korean.txt', 'name_data/names/Polish.txt']\n"
     ]
    }
   ],
   "source": [
    "print(findFiles('name_data/names/*.txt'))"
   ]
  },
  {
   "cell_type": "code",
   "execution_count": 36,
   "metadata": {},
   "outputs": [],
   "source": [
    "import unicodedata\n",
    "import string\n",
    "\n",
    "all_letters = string.ascii_letters + \" .,;' \"\n",
    "n_letters = len(all_letters)"
   ]
  },
  {
   "cell_type": "code",
   "execution_count": 37,
   "metadata": {},
   "outputs": [],
   "source": [
    "def unicodeToAscii(s):\n",
    "    return ''.join(\n",
    "        c for c in unicodedata.normalize('NFD', s)\n",
    "        if unicodedata.category(c) != 'Mn'\n",
    "        and c in all_letters\n",
    "    )\n",
    "\n"
   ]
  },
  {
   "cell_type": "code",
   "execution_count": 38,
   "metadata": {},
   "outputs": [
    {
     "name": "stdout",
     "output_type": "stream",
     "text": [
      "Slusarski\n"
     ]
    }
   ],
   "source": [
    "print(unicodeToAscii('Ślusàrski'))"
   ]
  },
  {
   "cell_type": "code",
   "execution_count": 42,
   "metadata": {},
   "outputs": [],
   "source": [
    "# 각 언어의 이름 목록인 category_lines 사전 생성\n",
    "category_lines = {}\n",
    "all_categories = []\n",
    "\n",
    "# 파일을 읽고 줄 단위로 분리\n",
    "def readLines(filename):\n",
    "    lines = open(filename, encoding='utf-8').read().strip().split('\\n')\n",
    "    return [unicodeToAscii(line) for line in lines]\n",
    "\n",
    "for filename in findFiles('name_data/names/*.txt'):\n",
    "    category = os.path.splitext(os.path.basename(filename))[0]\n",
    "    all_categories.append(category)\n",
    "    lines = readLines(filename)\n",
    "    category_lines[category] = lines\n",
    "\n",
    "n_categories = len(all_categories)\n",
    "\n",
    "#이제 각 category (언어)를 line (이름)에 매핑하는 사전인 category_lines 를 만들었습니다. \n",
    "#나중에 참조 할 수 있도록 all_categories (언어 목록)와 n_categories 도 추적합니다.\n",
    "\n"
   ]
  },
  {
   "cell_type": "code",
   "execution_count": 45,
   "metadata": {},
   "outputs": [
    {
     "name": "stdout",
     "output_type": "stream",
     "text": [
      "['Abandonato', 'Abatangelo', 'Abatantuono', 'Abate', 'Abategiovanni']\n"
     ]
    }
   ],
   "source": [
    "print(category_lines['Italian'][:5])\n"
   ]
  },
  {
   "cell_type": "code",
   "execution_count": 46,
   "metadata": {},
   "outputs": [
    {
     "name": "stdout",
     "output_type": "stream",
     "text": [
      "tensor([[0., 0., 0., 0., 0., 0., 0., 0., 0., 0., 0., 0., 0., 0., 0., 0., 0., 0.,\n",
      "         0., 0., 0., 0., 0., 0., 0., 0., 0., 0., 0., 0., 0., 0., 0., 0., 0., 1.,\n",
      "         0., 0., 0., 0., 0., 0., 0., 0., 0., 0., 0., 0., 0., 0., 0., 0., 0., 0.,\n",
      "         0., 0., 0., 0.]])\n",
      "torch.Size([5, 1, 58])\n"
     ]
    }
   ],
   "source": [
    "#모든 이름을 체계화 했으니, Tensor로 전환하여 활용하자. 원 핫 벡터 사용!\n",
    "#단어 만들기 위해 원 핫 벡터들을 2차원 행렬에 결합시킵니다.\n",
    "\n",
    "import torch\n",
    "\n",
    "# all_letters 로 문자의 주소 찾기, 예시 \"a\" = 0\n",
    "def letterToIndex(letter):\n",
    "    return all_letters.find(letter)\n",
    "\n",
    "# 검증을 위해서 한개의 문자를 <1 x n_letters> Tensor로 변환\n",
    "def letterToTensor(letter):\n",
    "    tensor = torch.zeros(1, n_letters)\n",
    "    tensor[0][letterToIndex(letter)] = 1\n",
    "    return tensor\n",
    "\n",
    "# 한 줄(이름)을  <line_length x 1 x n_letters>,\n",
    "# 또는 One-Hot 문자 벡터의 Array로 변경\n",
    "def lineToTensor(line):\n",
    "    tensor = torch.zeros(len(line), 1, n_letters)\n",
    "    for li, letter in enumerate(line):\n",
    "        tensor[li][0][letterToIndex(letter)] = 1\n",
    "    return tensor\n",
    "\n",
    "print(letterToTensor('J'))\n",
    "\n",
    "print(lineToTensor('Jones').size())"
   ]
  },
  {
   "cell_type": "code",
   "execution_count": 47,
   "metadata": {},
   "outputs": [],
   "source": [
    "# 네트워크 생성\n",
    "\n",
    "import torch.nn as nn\n",
    "\n",
    "class RNN(nn.Module):\n",
    "    def __init__(self, input_size, hidden_size, output_size):\n",
    "        super(RNN, self).__init__()\n",
    "\n",
    "        self.hidden_size = hidden_size\n",
    "\n",
    "        self.i2h = nn.Linear(input_size + hidden_size, hidden_size)\n",
    "        self.i2o = nn.Linear(input_size + hidden_size, output_size)\n",
    "        self.softmax = nn.LogSoftmax(dim=1)\n",
    "\n",
    "    def forward(self, input, hidden):\n",
    "        combined = torch.cat((input, hidden), 1)\n",
    "        hidden = self.i2h(combined)\n",
    "        output = self.i2o(combined)\n",
    "        output = self.softmax(output)\n",
    "        return output, hidden\n",
    "\n",
    "    def initHidden(self):\n",
    "        return torch.zeros(1, self.hidden_size)\n",
    "\n",
    "n_hidden = 128\n",
    "rnn = RNN(n_letters, n_hidden, n_categories)"
   ]
  },
  {
   "cell_type": "code",
   "execution_count": 48,
   "metadata": {},
   "outputs": [],
   "source": [
    "# 한 단계 실행하려면 현재 문자 tesnor - 입력과 이전의 은닉상태 전달해야함. 그다음 폴드 형태니까\n",
    "#출력과 다음 은닉상태를 돌려받음. \n",
    "\n",
    "input = letterToTensor('A')\n",
    "hidden =torch.zeros(1, n_hidden)\n",
    "\n",
    "output, next_hidden = rnn(input, hidden)"
   ]
  },
  {
   "cell_type": "code",
   "execution_count": 49,
   "metadata": {},
   "outputs": [
    {
     "name": "stdout",
     "output_type": "stream",
     "text": [
      "tensor([[-2.8297, -2.9376, -2.8851, -2.9093, -2.9364, -2.9763, -2.8471, -2.8367,\n",
      "         -2.9292, -2.8780, -2.8967, -2.8499, -2.7856, -2.8677, -3.0035, -2.8569,\n",
      "         -2.8324, -3.0008]], grad_fn=<LogSoftmaxBackward>)\n"
     ]
    }
   ],
   "source": [
    "input = lineToTensor('Albert')\n",
    "hidden = torch.zeros(1, n_hidden)\n",
    "\n",
    "output, next_hidden = rnn(input[0], hidden)\n",
    "print(output)"
   ]
  },
  {
   "cell_type": "code",
   "execution_count": 50,
   "metadata": {},
   "outputs": [
    {
     "name": "stdout",
     "output_type": "stream",
     "text": [
      "('Italian', 12)\n"
     ]
    }
   ],
   "source": [
    "#가장 확률이 높은 카테고리 (언어) 반환\n",
    "\n",
    "def categoryFromOutput(output):\n",
    "    top_n, top_i = output.topk(1) # 텐서의 가장 큰 값 및 주소\n",
    "    category_i = top_i[0].item()     # 텐서에서 정수 값으로 변경\n",
    "    return all_categories[category_i], category_i\n",
    "\n",
    "print(categoryFromOutput(output))"
   ]
  },
  {
   "cell_type": "code",
   "execution_count": 51,
   "metadata": {},
   "outputs": [
    {
     "name": "stdout",
     "output_type": "stream",
     "text": [
      "category = French / line = Richelieu\n",
      "category = English / line = Tempest\n",
      "category = German / line = Schwarzenegger\n",
      "category = Vietnamese / line = Vuong\n",
      "category = Portuguese / line = Gomes\n",
      "category = Greek / line = Dritsas\n",
      "category = Japanese / line = Murase\n",
      "category = Spanish / line = Alamilla\n",
      "category = Italian / line = Lombardi\n",
      "category = Italian / line = Viola\n"
     ]
    }
   ],
   "source": [
    "import random\n",
    "\n",
    "def randomChoice(l):\n",
    "    return l[random.randint(0, len(l) - 1)]\n",
    "\n",
    "def randomTrainingExample():\n",
    "    category = randomChoice(all_categories)\n",
    "    line = randomChoice(category_lines[category])\n",
    "    category_tensor = torch.tensor([all_categories.index(category)], dtype=torch.long)\n",
    "    line_tensor = lineToTensor(line)\n",
    "    return category, line, category_tensor, line_tensor\n",
    "\n",
    "for i in range(10):\n",
    "    category, line, category_tensor, line_tensor = randomTrainingExample()\n",
    "    print('category =', category, '/ line =', line)"
   ]
  },
  {
   "cell_type": "markdown",
   "metadata": {},
   "source": [
    "#### 네트워크 학습\n",
    "\n",
    "입력과 목표 Tensor 생성\n",
    "\n",
    "0 로 초기화된 은닉 상태 생성\n",
    "\n",
    "각 문자를 읽기\n",
    "\n",
    "다음 문자를 위한 은닉 상태 유지\n",
    "\n",
    "목표와 최종 출력 비교\n",
    "\n",
    "역전파\n",
    "\n",
    "출력과 손실 반환\n"
   ]
  },
  {
   "cell_type": "code",
   "execution_count": 52,
   "metadata": {},
   "outputs": [],
   "source": [
    "criterion = nn.NLLLoss()\n"
   ]
  },
  {
   "cell_type": "code",
   "execution_count": 53,
   "metadata": {},
   "outputs": [],
   "source": [
    "learning_rate = 0.005 # 이것을 너무 높게 설정하면 발산할 수 있고, 너무 낮으면 학습이 되지 않을 수 있습니다.\n",
    "\n",
    "def train(category_tensor, line_tensor):\n",
    "    hidden = rnn.initHidden()\n",
    "\n",
    "    rnn.zero_grad()\n",
    "\n",
    "    for i in range(line_tensor.size()[0]):\n",
    "        output, hidden = rnn(line_tensor[i], hidden)\n",
    "\n",
    "    loss = criterion(output, category_tensor)\n",
    "    loss.backward()\n",
    "\n",
    "    # 매개변수의 경사도에 학습률을 곱해서 그 매개변수의 값에 더합니다.\n",
    "    for p in rnn.parameters():\n",
    "        p.data.add_(p.grad.data, alpha=-learning_rate)\n",
    "\n",
    "    return output, loss.item()"
   ]
  },
  {
   "cell_type": "code",
   "execution_count": 54,
   "metadata": {},
   "outputs": [
    {
     "name": "stdout",
     "output_type": "stream",
     "text": [
      "5000 5% (0m 7s) 2.8110 Mackay / English ✗ (Scottish)\n",
      "10000 10% (0m 14s) 1.6078 Bukoski / Polish ✓\n",
      "15000 15% (0m 22s) 1.8890 Espina / Italian ✗ (Spanish)\n",
      "20000 20% (0m 30s) 0.7674 Schneiders / Dutch ✓\n",
      "25000 25% (0m 38s) 0.8296 Pan / Chinese ✓\n",
      "30000 30% (0m 46s) 0.6132 Bobienski / Polish ✓\n",
      "35000 35% (0m 55s) 1.0629 Tselobenok / Greek ✗ (Russian)\n",
      "40000 40% (1m 4s) 0.7318 Paulissen / Dutch ✓\n",
      "45000 45% (1m 13s) 4.8307 Lis / Chinese ✗ (Polish)\n",
      "50000 50% (1m 22s) 0.4672 O'Donoghue / Irish ✓\n",
      "55000 55% (1m 29s) 2.1711 Batt / German ✗ (English)\n",
      "60000 60% (1m 37s) 0.7862 Romano / Italian ✓\n",
      "65000 65% (1m 44s) 1.9972 Connor / Portuguese ✗ (English)\n",
      "70000 70% (1m 52s) 2.8432 Cerny / English ✗ (Czech)\n",
      "75000 75% (1m 59s) 0.5604 Khouri / Arabic ✓\n",
      "80000 80% (2m 7s) 0.1426 Lillis / Greek ✓\n",
      "85000 85% (2m 14s) 3.9473 Vipper / French ✗ (Russian)\n",
      "90000 90% (2m 22s) 0.5060 Ritchie / Scottish ✓\n",
      "95000 95% (2m 29s) 0.7799 Schreck / German ✓\n",
      "100000 100% (2m 37s) 0.4089 Zharkikh / Russian ✓\n"
     ]
    }
   ],
   "source": [
    "import time\n",
    "import math\n",
    "\n",
    "n_iters = 100000\n",
    "print_every = 5000\n",
    "plot_every = 1000\n",
    "\n",
    "\n",
    "\n",
    "# 도식화를 위한 손실 추적\n",
    "current_loss = 0\n",
    "all_losses = []\n",
    "\n",
    "def timeSince(since):\n",
    "    now = time.time()\n",
    "    s = now - since\n",
    "    m = math.floor(s / 60)\n",
    "    s -= m * 60\n",
    "    return '%dm %ds' % (m, s)\n",
    "\n",
    "start = time.time()\n",
    "\n",
    "for iter in range(1, n_iters + 1):\n",
    "    category, line, category_tensor, line_tensor = randomTrainingExample()\n",
    "    output, loss = train(category_tensor, line_tensor)\n",
    "    current_loss += loss\n",
    "\n",
    "    # iter 숫자, 손실, 이름, 추측 화면 출력\n",
    "    if iter % print_every == 0:\n",
    "        guess, guess_i = categoryFromOutput(output)\n",
    "        correct = '✓' if guess == category else '✗ (%s)' % category\n",
    "        print('%d %d%% (%s) %.4f %s / %s %s' % (iter, iter / n_iters * 100, timeSince(start), loss, line, guess, correct))\n",
    "\n",
    "    # 현재 평균 손실을 전체 손실 리스트에 추가\n",
    "    if iter % plot_every == 0:\n",
    "        all_losses.append(current_loss / plot_every)\n",
    "        current_loss = 0"
   ]
  },
  {
   "cell_type": "code",
   "execution_count": 55,
   "metadata": {},
   "outputs": [
    {
     "data": {
      "text/plain": [
       "[<matplotlib.lines.Line2D at 0x7f875ae72220>]"
      ]
     },
     "execution_count": 55,
     "metadata": {},
     "output_type": "execute_result"
    },
    {
     "data": {
      "image/png": "[encoded data removed]",
      "text/plain": [
       "<Figure size 432x288 with 1 Axes>"
      ]
     },
     "metadata": {
      "needs_background": "light"
     },
     "output_type": "display_data"
    }
   ],
   "source": [
    "import matplotlib.pyplot as plt\n",
    "import matplotlib.ticker as ticker\n",
    "\n",
    "plt.figure()\n",
    "plt.plot(all_losses)"
   ]
  },
  {
   "cell_type": "code",
   "execution_count": 56,
   "metadata": {},
   "outputs": [
    {
     "data": {
      "image/png": "[encoded data removed]",
      "text/plain": [
       "<Figure size 432x288 with 2 Axes>"
      ]
     },
     "metadata": {
      "needs_background": "light"
     },
     "output_type": "display_data"
    }
   ],
   "source": [
    "# 혼란 행렬에서 정확한 추측을 추적\n",
    "confusion = torch.zeros(n_categories, n_categories)\n",
    "n_confusion = 10000\n",
    "\n",
    "# 주어진 라인의 출력 반환\n",
    "def evaluate(line_tensor):\n",
    "    hidden = rnn.initHidden()\n",
    "\n",
    "    for i in range(line_tensor.size()[0]):\n",
    "        output, hidden = rnn(line_tensor[i], hidden)\n",
    "\n",
    "    return output\n",
    "\n",
    "# 예시들 중에 어떤 것이 정확하게 예측되었는지 기록\n",
    "for i in range(n_confusion):\n",
    "    category, line, category_tensor, line_tensor = randomTrainingExample()\n",
    "    output = evaluate(line_tensor)\n",
    "    guess, guess_i = categoryFromOutput(output)\n",
    "    category_i = all_categories.index(category)\n",
    "    confusion[category_i][guess_i] += 1\n",
    "\n",
    "# 모든 행을 합계로 나누어 정규화\n",
    "for i in range(n_categories):\n",
    "    confusion[i] = confusion[i] / confusion[i].sum()\n",
    "\n",
    "# 도식 설정\n",
    "fig = plt.figure()\n",
    "ax = fig.add_subplot(111)\n",
    "cax = ax.matshow(confusion.numpy())\n",
    "fig.colorbar(cax)\n",
    "\n",
    "# 축 설정\n",
    "ax.set_xticklabels([''] + all_categories, rotation=90)\n",
    "ax.set_yticklabels([''] + all_categories)\n",
    "\n",
    "# 모든 tick에서 레이블 지정\n",
    "ax.xaxis.set_major_locator(ticker.MultipleLocator(1))\n",
    "ax.yaxis.set_major_locator(ticker.MultipleLocator(1))\n",
    "\n",
    "# sphinx_gallery_thumbnail_number = 2\n",
    "plt.show()"
   ]
  },
  {
   "cell_type": "code",
   "execution_count": 57,
   "metadata": {},
   "outputs": [
    {
     "name": "stdout",
     "output_type": "stream",
     "text": [
      "\n",
      "> Dovesky\n",
      "(-0.75) Czech\n",
      "(-0.89) Russian\n",
      "(-2.99) Polish\n",
      "\n",
      "> Jackson\n",
      "(-0.76) Scottish\n",
      "(-1.43) English\n",
      "(-1.70) Russian\n",
      "\n",
      "> Satoshi\n",
      "(-0.70) Japanese\n",
      "(-1.44) Italian\n",
      "(-2.44) Arabic\n"
     ]
    }
   ],
   "source": [
    "#주축에서 벗어난 친구들 중 (한국어를 중국어로 인식했다던가) 표시해보기\n",
    "\n",
    "def predict(input_line, n_predictions=3):\n",
    "    print('\\n> %s' % input_line)\n",
    "    with torch.no_grad():\n",
    "        output = evaluate(lineToTensor(input_line))\n",
    "\n",
    "        # Get top N categories\n",
    "        topv, topi = output.topk(n_predictions, 1, True)\n",
    "        predictions = []\n",
    "\n",
    "        for i in range(n_predictions):\n",
    "            value = topv[0][i].item()\n",
    "            category_index = topi[0][i].item()\n",
    "            print('(%.2f) %s' % (value, all_categories[category_index]))\n",
    "            predictions.append([value, all_categories[category_index]])\n",
    "\n",
    "predict('Dovesky')\n",
    "predict('Jackson')\n",
    "predict('Satoshi')"
   ]
  },
  {
   "cell_type": "code",
   "execution_count": null,
   "metadata": {},
   "outputs": [],
   "source": []
  }
 ],
 "metadata": {
  "kernelspec": {
   "display_name": "Python 3",
   "language": "python",
   "name": "python3"
  },
  "language_info": {
   "codemirror_mode": {
    "name": "ipython",
    "version": 3
   },
   "file_extension": ".py",
   "mimetype": "text/x-python",
   "name": "python",
   "nbconvert_exporter": "python",
   "pygments_lexer": "ipython3",
   "version": "3.8.3"
  }
 },
 "nbformat": 4,
 "nbformat_minor": 4
}

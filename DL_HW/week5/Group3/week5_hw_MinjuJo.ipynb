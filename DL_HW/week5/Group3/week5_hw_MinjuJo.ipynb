{
 "cells": [
  {
   "cell_type": "markdown",
   "metadata": {},
   "source": [
    "# WEEK5 HW"
   ]
  },
  {
   "cell_type": "markdown",
   "metadata": {},
   "source": [
    "## HW1\n",
    "### 모두의딥러닝 시즌2 강의의 longsequence 코드 lstm 모델 적용해보기"
   ]
  },
  {
   "cell_type": "code",
   "execution_count": 1,
   "metadata": {},
   "outputs": [],
   "source": [
    "import torch\n",
    "import torch.optim as optim\n",
    "import numpy as np"
   ]
  },
  {
   "cell_type": "code",
   "execution_count": 2,
   "metadata": {},
   "outputs": [
    {
     "data": {
      "text/plain": [
       "<torch._C.Generator at 0x7f91a911bd90>"
      ]
     },
     "execution_count": 2,
     "metadata": {},
     "output_type": "execute_result"
    }
   ],
   "source": [
    "torch.manual_seed(0)"
   ]
  },
  {
   "cell_type": "code",
   "execution_count": 3,
   "metadata": {},
   "outputs": [],
   "source": [
    "sentence = (\"the most beautiful things in the world cannot be seen or\"\n",
    "            \"touched, they are felt with the heart.\")"
   ]
  },
  {
   "cell_type": "code",
   "execution_count": 4,
   "metadata": {},
   "outputs": [],
   "source": [
    "# make dictionary\n",
    "char_set = list(set(sentence))\n",
    "char_dic = {c : i for i, c in enumerate(char_set)}"
   ]
  },
  {
   "cell_type": "code",
   "execution_count": 5,
   "metadata": {},
   "outputs": [
    {
     "data": {
      "text/plain": [
       "{'e': 0,\n",
       " 'n': 1,\n",
       " 'r': 2,\n",
       " 'o': 3,\n",
       " ' ': 4,\n",
       " 'u': 5,\n",
       " 'i': 6,\n",
       " 'g': 7,\n",
       " 'd': 8,\n",
       " 'b': 9,\n",
       " 'h': 10,\n",
       " 't': 11,\n",
       " 'y': 12,\n",
       " 'l': 13,\n",
       " '.': 14,\n",
       " 'f': 15,\n",
       " 'a': 16,\n",
       " 'c': 17,\n",
       " ',': 18,\n",
       " 'w': 19,\n",
       " 's': 20,\n",
       " 'm': 21}"
      ]
     },
     "execution_count": 5,
     "metadata": {},
     "output_type": "execute_result"
    }
   ],
   "source": [
    "char_dic"
   ]
  },
  {
   "cell_type": "code",
   "execution_count": 6,
   "metadata": {},
   "outputs": [],
   "source": [
    "# hyper parameters\n",
    "dic_size = len(char_dic)\n",
    "hidden_size = len(char_dic)\n",
    "sequence_length = 10\n",
    "learning_rate = 0.1"
   ]
  },
  {
   "cell_type": "code",
   "execution_count": 7,
   "metadata": {},
   "outputs": [
    {
     "name": "stdout",
     "output_type": "stream",
     "text": [
      "0 the most b -> he most be\n",
      "1 he most be -> e most bea\n",
      "2 e most bea ->  most beau\n",
      "3  most beau -> most beaut\n",
      "4 most beaut -> ost beauti\n",
      "5 ost beauti -> st beautif\n",
      "6 st beautif -> t beautifu\n",
      "7 t beautifu ->  beautiful\n",
      "8  beautiful -> beautiful \n",
      "9 beautiful  -> eautiful t\n",
      "10 eautiful t -> autiful th\n",
      "11 autiful th -> utiful thi\n",
      "12 utiful thi -> tiful thin\n",
      "13 tiful thin -> iful thing\n",
      "14 iful thing -> ful things\n",
      "15 ful things -> ul things \n",
      "16 ul things  -> l things i\n",
      "17 l things i ->  things in\n",
      "18  things in -> things in \n",
      "19 things in  -> hings in t\n",
      "20 hings in t -> ings in th\n",
      "21 ings in th -> ngs in the\n",
      "22 ngs in the -> gs in the \n",
      "23 gs in the  -> s in the w\n",
      "24 s in the w ->  in the wo\n",
      "25  in the wo -> in the wor\n",
      "26 in the wor -> n the worl\n",
      "27 n the worl ->  the world\n",
      "28  the world -> the world \n",
      "29 the world  -> he world c\n",
      "30 he world c -> e world ca\n",
      "31 e world ca ->  world can\n",
      "32  world can -> world cann\n",
      "33 world cann -> orld canno\n",
      "34 orld canno -> rld cannot\n",
      "35 rld cannot -> ld cannot \n",
      "36 ld cannot  -> d cannot b\n",
      "37 d cannot b ->  cannot be\n",
      "38  cannot be -> cannot be \n",
      "39 cannot be  -> annot be s\n",
      "40 annot be s -> nnot be se\n",
      "41 nnot be se -> not be see\n",
      "42 not be see -> ot be seen\n",
      "43 ot be seen -> t be seen \n",
      "44 t be seen  ->  be seen o\n",
      "45  be seen o -> be seen or\n",
      "46 be seen or -> e seen ort\n",
      "47 e seen ort ->  seen orto\n",
      "48  seen orto -> seen ortou\n",
      "49 seen ortou -> een ortouc\n",
      "50 een ortouc -> en ortouch\n",
      "51 en ortouch -> n ortouche\n",
      "52 n ortouche ->  ortouched\n",
      "53  ortouched -> ortouched,\n",
      "54 ortouched, -> rtouched, \n",
      "55 rtouched,  -> touched, t\n",
      "56 touched, t -> ouched, th\n",
      "57 ouched, th -> uched, the\n",
      "58 uched, the -> ched, they\n",
      "59 ched, they -> hed, they \n",
      "60 hed, they  -> ed, they a\n",
      "61 ed, they a -> d, they ar\n",
      "62 d, they ar -> , they are\n",
      "63 , they are ->  they are \n",
      "64  they are  -> they are f\n",
      "65 they are f -> hey are fe\n",
      "66 hey are fe -> ey are fel\n",
      "67 ey are fel -> y are felt\n",
      "68 y are felt ->  are felt \n",
      "69  are felt  -> are felt w\n",
      "70 are felt w -> re felt wi\n",
      "71 re felt wi -> e felt wit\n",
      "72 e felt wit ->  felt with\n",
      "73  felt with -> felt with \n",
      "74 felt with  -> elt with t\n",
      "75 elt with t -> lt with th\n",
      "76 lt with th -> t with the\n",
      "77 t with the ->  with the \n",
      "78  with the  -> with the h\n",
      "79 with the h -> ith the he\n",
      "80 ith the he -> th the hea\n",
      "81 th the hea -> h the hear\n",
      "82 h the hear ->  the heart\n",
      "83  the heart -> the heart.\n"
     ]
    }
   ],
   "source": [
    "# data setting\n",
    "x_data = []\n",
    "y_data = []\n",
    "\n",
    "for i in range(0, len(sentence) - sequence_length):\n",
    "    x_str = sentence[i: i + sequence_length]\n",
    "    y_str = sentence[i + 1 : i + sequence_length + 1]\n",
    "    print(i, x_str, '->', y_str)\n",
    "    \n",
    "    x_data.append([char_dic[c] for c in x_str]) # x str to index\n",
    "    y_data.append([char_dic[c] for c in y_str]) # y str to index\n",
    "    \n",
    "x_one_hot = [np.eye(dic_size)[x] for x in x_data]"
   ]
  },
  {
   "cell_type": "code",
   "execution_count": 8,
   "metadata": {
    "scrolled": true
   },
   "outputs": [
    {
     "data": {
      "text/plain": [
       "(10, 22)"
      ]
     },
     "execution_count": 8,
     "metadata": {},
     "output_type": "execute_result"
    }
   ],
   "source": [
    "x_one_hot[0].shape #(sequence_length, char_dic_len)"
   ]
  },
  {
   "cell_type": "code",
   "execution_count": 9,
   "metadata": {},
   "outputs": [
    {
     "data": {
      "text/plain": [
       "84"
      ]
     },
     "execution_count": 9,
     "metadata": {},
     "output_type": "execute_result"
    }
   ],
   "source": [
    "len(x_one_hot) #len(sentence) - len(sequence)"
   ]
  },
  {
   "cell_type": "code",
   "execution_count": 10,
   "metadata": {},
   "outputs": [],
   "source": [
    "# transform as torch tensor variable\n",
    "X = torch.FloatTensor(x_one_hot)\n",
    "y = torch.LongTensor(y_data)"
   ]
  },
  {
   "cell_type": "code",
   "execution_count": 11,
   "metadata": {},
   "outputs": [],
   "source": [
    "# LSTM + FC\n",
    "\n",
    "class Net(torch.nn.Module):\n",
    "    def __init__(self, input_dim, hidden_dim, layers):\n",
    "        super(Net, self).__init__()\n",
    "        self.lstm = torch.nn.LSTM(input_dim, hidden_dim, num_layers = layers,\n",
    "                                 batch_first = True)\n",
    "        self.fc = torch.nn.Linear(hidden_dim, hidden_dim, bias = True)\n",
    "        \n",
    "    def forward(self, x):\n",
    "        x, _status = self.lstm(x)\n",
    "        x = self.fc(x)\n",
    "        return x"
   ]
  },
  {
   "cell_type": "code",
   "execution_count": 12,
   "metadata": {},
   "outputs": [],
   "source": [
    "net = Net(dic_size, hidden_size, 2)"
   ]
  },
  {
   "cell_type": "code",
   "execution_count": 13,
   "metadata": {},
   "outputs": [],
   "source": [
    "# loss & optimizer setting\n",
    "criterion = torch.nn.CrossEntropyLoss()\n",
    "optimizer = optim.Adam(net.parameters(), learning_rate)"
   ]
  },
  {
   "cell_type": "code",
   "execution_count": 14,
   "metadata": {},
   "outputs": [
    {
     "name": "stdout",
     "output_type": "stream",
     "text": [
      "0  :  nnnnnnnnnnnnnnnnnnnnnnnnnnnnnnnnnnnnnnnnnnnnnnnnnnnnnnnnnnnnnnnnnnnnnnnnnnnnnnnnnnnnnnnnnnnnn\n",
      "1  :  nnhhhhhhhhhhhhhhhhhhhhhhhhhhhhhhhhhhhhhhhhhhhhhhhhhhhhhhhhhhhhhhhhhhhhhhhhhhhhhhhhhhhhhhhhhhh\n",
      "2  :  eeeeeeeeeeeeeeeeeeeeeeeeeeeeeeeeeeeeeeeeeeeeeeeeeeeeeeeeeeeeeeeeeeeeeeeeeeeeeeeeeeeeeeeeeeeee\n",
      "3  :                                                                                               \n",
      "4  :                                                                                               \n",
      "5  :                                                                                               \n",
      "6  :          e                ee           e      e                                e    e         \n",
      "7  :     e    e                ee     e     e      e           e            e       e    e   e     \n",
      "8  :          h   h            eh     h     h      e           e    n               eh   e         \n",
      "9  :    nnt   n   n       hnn   nh    nn    n  nh               n   n   hh           nh   h        \n",
      "10  :    nnnt  ne  nhn t   hnnt  nnth  nntt  t hnnthte e   nttt  n  hn    n th       tnih ehehne    \n",
      "11  :   e ttt  te  nht t   enh  tn t   tit   t enh  te t    tt  tn   n   e   t  t    nnt  tee t  t  \n",
      "12  :  ee tis  te  nittt t en   tietee eie   teei t teeeeee ttt tn e t tee   te te   niteeeeeeee eee\n",
      "13  :  eettcll ct  tittl t tnot tntt   tttll ct cct tt t  tttll tct tt t no ttt ttt  tntt tiett  tt \n",
      "14  :  ee tot  ne tnittt thenot tn the tit   t hnntete te  ott  tnhe t the  tne te   nithethe te t  \n",
      "15  :  ee tir ene tnhtet teenot ti the tir   t hnntete teen tt  tnhe t ahe  ate te   tithethe te t  \n",
      "16  :  ee tor ebe tthtet thenot ti the tirl  tahnorhte tee  trt tnhe t ahe  ate te   tirhethe te tee\n",
      "17  :  he torthbe tthtut thenos bo the torld tannorhte tee  trt tthe t the  ate te   borh the te teh\n",
      "18  :  he torthbe tthtuldthin s bo the torld tannor be teen trt tthe t the  tte tet  borh the te teh\n",
      "19  :  he torl beatthtul thinos bn the torld tannot be teenotrt tthe t the  treatett both the weateh\n",
      "20  :  he worl beatthoul thinos bn the world tannot be teen trto the   then are tett both the weatah\n",
      "21  :  he wort be tthful thin s un the world canngt be teen trtotthe c the  are telt bith the we tah\n",
      "22  :  he fort beattiful thin s un the forld canngt beateen trtouche c the  are relt bith the feaua \n",
      "23  :  he fort beattitul thin s un the forld canngt beateen crtouche c they are felt bith the feate \n",
      "24  :  heyfort beautitul things un the world canngt beateen trtouche , they are welt bith the feare \n",
      "25  :  heywort beautiful things in the world canngt be teen trtouche , they are welt bith the feare \n",
      "26  :  heywort be utiwul things in the world cannot be seen trtouche , they are welt bith the feare \n",
      "27  :  heywort beautiwul things in the world cannot be seen trtouche , the  are felt bith the feare \n",
      "28  :  heywort beautiful things in the world cannot beaseen trtouche , they are felt bith the feareh\n",
      "29  :  heywort beautiful things in the world cannot be seen trtouched, they are felt bith the fearth\n",
      "30  :  he wort beautiful things in the world cannot be seen trtouched, the  are felt bith the fearth\n",
      "31  :  heywort beautiful things in the world cannot be seen ortouched, they are felt with the fearth\n",
      "32  :   eywort beautiful things in the world cannot be seen ortouched, they are felt with the fearth\n",
      "33  :   e wost beautiful things in the world cannot be seen trtouched, they are felt with the fearth\n",
      "34  :  he wost beautiful things in the world cannot be seen trtouched, they are felt with the hearth\n",
      "35  :  he host beautiful things in the world cannot be seen ortouched, they are felt with the hearth\n",
      "36  :  he host beautiful things in the world cannot be seen ortouched, they are felt with the hearth\n",
      "37  :  he wost beautiful things in the world cannot be seen ortouched, they are felt with the hearth\n",
      "38  :  he wost beautiful things in the world cannot be seen ortouched, they are felt with the hearth\n",
      "39  :  he wost beautiful things in the world cannot be seen ortouched, they are felt with the hearth\n",
      "40  :  he wost beautiful things in the world cannot be seen ortouched, they are felt with the hearth\n",
      "41  :  he wost beautiful things in the world cannot be seen ortouched, they are felt with the hearth\n",
      "42  :  he wost beautiful things in the world cannot be seen ortouched, they are felt with the hearth\n",
      "43  :   e wost beautiful things in the world cannot be seen ortouched, they are felt with the hearth\n",
      "44  :  he wost beautiful things in the world cannot be seen ortouched, they are felt with the heart.\n",
      "45  :  he wost beautiful things in the world cannot be seen ortouched, they are felt with the heart.\n",
      "46  :  he wost beautiful things in the world cannot be seen ortouched, they are felt with the heart.\n",
      "47  :  heywost beautiful things in the world cannot be seen ortouched, they are felt with the heart.\n",
      "48  :  he wost beautiful things in the world cannot be seen ortouched, they are felt with the heart.\n",
      "49  :  he wost beautiful things in the world cannot be seen ortouched, they are felt with the heart.\n",
      "50  :  he wost beautiful things in the world cannot be seen ortouched, they are felt with the heart.\n",
      "51  :  he wost beautiful things in the world cannot be seen ortouched, they are felt with the heart.\n",
      "52  :  he wost beautiful things in the world cannot be seen ortouched, they are felt with the heart.\n",
      "53  :  he wost beautiful things in the world cannot be seen ortouched, they are felt with the heart.\n",
      "54  :  he wost beautiful things in the world cannot be seen ortouched, they are felt with the heart.\n",
      "55  :  heywost beautiful things in the world cannot be seen ortouched, they are felt with the heart.\n",
      "56  :  he wost beautiful things in the world cannot be seen ortouched, they are felt with the heart.\n",
      "57  :  he wost beautiful things in the world cannot be seen ortouched, they are felt with the heart.\n",
      "58  :  he wost beautiful things in the world cannot be seen ortouched, they are felt with the heart.\n",
      "59  :  he wost beautiful things in the world cannot be seen ortouched, they are felt with the heart.\n",
      "60  :  he wost beautiful things in the world cannot be seen ortouched, they are felt with the heart.\n",
      "61  :  he wost beautiful things in the world cannot be seen ortouched, they are felt with the heart.\n",
      "62  :  he wost beautiful things in the world cannot be seen ortouched, they are felt with the heart.\n",
      "63  :  he wost beautiful things in the world cannot be seen ortouched, they are felt with the heart.\n",
      "64  :  he wost beautiful things in the world cannot be seen ortouched, they are felt with the heart.\n",
      "65  :  he wost beautiful things in the world cannot be seen ortouched, they are felt with the heart.\n",
      "66  :  he wost beautiful things in the world cannot be seen ortouched, they are felt with the heart.\n",
      "67  :  he wost beautiful things in the world cannot be seen ortouched, they are felt with the heart.\n",
      "68  :  he wost beautiful things in the world cannot be seen ortouched, they are felt with the heart.\n",
      "69  :  he wost beautiful things in the world cannot be seen ortouched, they are felt with the heart.\n",
      "70  :  he wost beautiful things in the world cannot be seen ortouched, they are felt with the heart.\n",
      "71  :  he most beautiful things in the world cannot be seen ortouched, they are felt with the heart.\n",
      "72  :  he wost beautiful things in the world cannot be seen ortouched, they are felt with the heart.\n",
      "73  :  he wost beautiful things in the world cannot be seen ortouched, they are felt with the heart.\n",
      "74  :  he wost beautiful things in the world cannot be seen ortouched, they are felt with the heart.\n",
      "75  :  he wost beautiful things in the world cannot be seen ortouched, they are felt with the heart.\n",
      "76  :  he wost beautiful things in the world cannot be seen ortouched, they are felt with the heart.\n",
      "77  :  he wost beautiful things in the world cannot be seen ortouched, they are felt with the heart.\n",
      "78  :  he most beautiful things in the world cannot be seen ortouched, they are felt with the heart.\n",
      "79  :  he most beautiful things in the world cannot be seen ortouched, they are felt with the heart.\n",
      "80  :  he wost beautiful things in the world cannot be seen ortouched, they are felt with the heart.\n",
      "81  :  he most beautiful things in the world cannot be seen ortouched, they are felt with the heart.\n",
      "82  :  he wost beautiful things in the world cannot be seen ortouched, they are felt with the heart.\n",
      "83  :  he wost beautiful things in the world cannot be seen ortouched, they are felt with the heart.\n",
      "84  :  he most beautiful things in the world cannot be seen ortouched, they are felt with the heart.\n",
      "85  :  he most beautiful things in the world cannot be seen ortouched, they are felt with the heart.\n",
      "86  :  he wost beautiful things in the world cannot be seen ortouched, they are felt with the heart.\n"
     ]
    },
    {
     "name": "stdout",
     "output_type": "stream",
     "text": [
      "87  :  he most beautiful things in the world cannot be seen ortouched, they are felt with the heart.\n",
      "88  :  he wost beautiful things in the world cannot be seen ortouched, they are felt with the heart.\n",
      "89  :  he wost beautiful things in the world cannot be seen ortouched, they are felt with the heart.\n",
      "90  :  he wost beautiful things in the world cannot be seen ortouched, they are felt with the heart.\n",
      "91  :  he most beautiful things in the world cannot be seen ortouched, they are felt with the heart.\n",
      "92  :  he wost beautiful things in the world cannot be seen ortouched, they are felt with the heart.\n",
      "93  :  he wost beautiful things in the world cannot be seen ortouched, they are felt with the heart.\n",
      "94  :  he most beautiful things in the world cannot be seen ortouched, they are felt with the heart.\n",
      "95  :  he wost beautiful things in the world cannot be seen ortouched, they are felt with the heart.\n",
      "96  :  he most beautiful things in the world cannot be seen ortouched, they are felt with the heart.\n",
      "97  :  he most beautiful things in the world cannot be seen ortouched, they are felt with the heart.\n",
      "98  :  he wost beautiful things in the world cannot be seen ortouched, they are felt with the heart.\n",
      "99  :  he most beautiful things in the world cannot be seen ortouched, they are felt with the heart.\n"
     ]
    }
   ],
   "source": [
    "# start training\n",
    "\n",
    "for i in range(100):\n",
    "    optimizer.zero_grad()\n",
    "    outputs = net(X)\n",
    "    loss = criterion(outputs.view(-1, dic_size), y.view(-1))\n",
    "    loss.backward()\n",
    "    optimizer.step()\n",
    "    \n",
    "    results = outputs.argmax(dim = 2)\n",
    "    predict_str = \"\"\n",
    "    \n",
    "    for j, result in enumerate(results):\n",
    "        if j == 0:\n",
    "            predict_str = ''.join([char_set[t] for t in result])\n",
    "        else:\n",
    "            predict_str += char_set[result[-1]]\n",
    "            \n",
    "    print(i, \" : \", predict_str)"
   ]
  },
  {
   "cell_type": "code",
   "execution_count": 15,
   "metadata": {},
   "outputs": [
    {
     "name": "stdout",
     "output_type": "stream",
     "text": [
      "he most beautiful things in the world cannot be seen ortouched, they are felt with the heart.\n"
     ]
    }
   ],
   "source": [
    "print(predict_str)"
   ]
  },
  {
   "cell_type": "markdown",
   "metadata": {},
   "source": [
    "## HW2"
   ]
  },
  {
   "cell_type": "markdown",
   "metadata": {},
   "source": [
    "https://tutorials.pytorch.kr/intermediate/char_rnn_classification_tutorial.html\n",
    "위 링크 따라해보기!"
   ]
  },
  {
   "cell_type": "code",
   "execution_count": 16,
   "metadata": {},
   "outputs": [
    {
     "name": "stdout",
     "output_type": "stream",
     "text": [
      "['data/names/Czech.txt', 'data/names/German.txt', 'data/names/Arabic.txt', 'data/names/Japanese.txt', 'data/names/Chinese.txt', 'data/names/Vietnamese.txt', 'data/names/Russian.txt', 'data/names/French.txt', 'data/names/Irish.txt', 'data/names/English.txt', 'data/names/Spanish.txt', 'data/names/Greek.txt', 'data/names/Italian.txt', 'data/names/Portuguese.txt', 'data/names/Scottish.txt', 'data/names/Dutch.txt', 'data/names/Korean.txt', 'data/names/Polish.txt']\n"
     ]
    }
   ],
   "source": [
    "from __future__ import unicode_literals, print_function, division\n",
    "from io import open\n",
    "import glob\n",
    "import os\n",
    "\n",
    "def findFiles(path): return glob.glob(path)\n",
    "\n",
    "print(findFiles('data/names/*.txt'))\n",
    "\n",
    "import unicodedata \n",
    "import string\n",
    "\n",
    "all_letters = string.ascii_letters + \" .:;'\"\n",
    "n_letters = len(all_letters)"
   ]
  },
  {
   "cell_type": "code",
   "execution_count": 17,
   "metadata": {},
   "outputs": [
    {
     "name": "stdout",
     "output_type": "stream",
     "text": [
      "Slusarski\n"
     ]
    }
   ],
   "source": [
    "def unicodeToAscii(s):\n",
    "    return ''.join(\n",
    "    c for c in unicodedata.normalize('NFD', s)\n",
    "    if unicodedata.category(c) != 'Mn'\n",
    "    and c in all_letters)\n",
    "\n",
    "print(unicodeToAscii('Ślusàrski'))"
   ]
  },
  {
   "cell_type": "code",
   "execution_count": 18,
   "metadata": {},
   "outputs": [],
   "source": [
    "# 각 언어의 이름 목록인 category_lines 사전 생성\n",
    "category_lines = {}\n",
    "all_categories = []\n",
    "\n",
    "# 파일을 읽고 줄 단위로 분리\n",
    "def readLines(filename):\n",
    "    lines = open(filename, encoding='utf-8').read().strip().split('\\n')\n",
    "    return [unicodeToAscii(line) for line in lines]\n",
    "\n",
    "for filename in findFiles('data/names/*.txt'):\n",
    "    category = os.path.splitext(os.path.basename(filename))[0]\n",
    "    all_categories.append(category)\n",
    "    lines = readLines(filename)\n",
    "    category_lines[category] = lines\n",
    "\n",
    "n_categories = len(all_categories)"
   ]
  },
  {
   "cell_type": "code",
   "execution_count": 19,
   "metadata": {},
   "outputs": [
    {
     "name": "stdout",
     "output_type": "stream",
     "text": [
      "['Abandonato', 'Abatangelo', 'Abatantuono', 'Abate', 'Abategiovanni']\n"
     ]
    }
   ],
   "source": [
    "print(category_lines['Italian'][:5])"
   ]
  },
  {
   "cell_type": "code",
   "execution_count": 20,
   "metadata": {},
   "outputs": [
    {
     "name": "stdout",
     "output_type": "stream",
     "text": [
      "tensor([[0., 0., 0., 0., 0., 0., 0., 0., 0., 0., 0., 0., 0., 0., 0., 0., 0., 0.,\n",
      "         0., 0., 0., 0., 0., 0., 0., 0., 0., 0., 0., 0., 0., 0., 0., 0., 0., 1.,\n",
      "         0., 0., 0., 0., 0., 0., 0., 0., 0., 0., 0., 0., 0., 0., 0., 0., 0., 0.,\n",
      "         0., 0., 0.]])\n",
      "torch.Size([5, 1, 57])\n"
     ]
    }
   ],
   "source": [
    "import torch\n",
    "\n",
    "# all_letters 로 문자의 주소 찾기, 예시 \"a\" = 0\n",
    "def letterToIndex(letter):\n",
    "    return all_letters.find(letter)\n",
    "\n",
    "# 검증을 위해서 한개의 문자를 <1 x n_letters> Tensor로 변환\n",
    "def letterToTensor(letter):\n",
    "    tensor = torch.zeros(1, n_letters)\n",
    "    tensor[0][letterToIndex(letter)] = 1\n",
    "    return tensor\n",
    "\n",
    "# 한 줄(이름)을  <line_length x 1 x n_letters>,\n",
    "# 또는 One-Hot 문자 벡터의 Array로 변경\n",
    "def lineToTensor(line):\n",
    "    tensor = torch.zeros(len(line), 1, n_letters)\n",
    "    for li, letter in enumerate(line):\n",
    "        tensor[li][0][letterToIndex(letter)] = 1\n",
    "    return tensor\n",
    "\n",
    "print(letterToTensor('J'))\n",
    "\n",
    "print(lineToTensor('Jones').size())"
   ]
  },
  {
   "cell_type": "code",
   "execution_count": 21,
   "metadata": {},
   "outputs": [],
   "source": [
    "import torch.nn as nn\n",
    "\n",
    "class RNN(nn.Module):\n",
    "    def __init__(self, input_size, hidden_size, output_size):\n",
    "        super(RNN, self).__init__()\n",
    "\n",
    "        self.hidden_size = hidden_size\n",
    "\n",
    "        self.i2h = nn.Linear(input_size + hidden_size, hidden_size)\n",
    "        self.i2o = nn.Linear(input_size + hidden_size, output_size)\n",
    "        self.softmax = nn.LogSoftmax(dim=1)\n",
    "\n",
    "    def forward(self, input, hidden):\n",
    "        combined = torch.cat((input, hidden), 1)\n",
    "        hidden = self.i2h(combined)\n",
    "        output = self.i2o(combined)\n",
    "        output = self.softmax(output)\n",
    "        return output, hidden\n",
    "\n",
    "    def initHidden(self):\n",
    "        return torch.zeros(1, self.hidden_size)\n",
    "\n",
    "n_hidden = 128\n",
    "rnn = RNN(n_letters, n_hidden, n_categories)"
   ]
  },
  {
   "cell_type": "code",
   "execution_count": 22,
   "metadata": {},
   "outputs": [],
   "source": [
    "input = letterToTensor('A')\n",
    "hidden =torch.zeros(1, n_hidden)\n",
    "\n",
    "output, next_hidden = rnn(input, hidden)"
   ]
  },
  {
   "cell_type": "code",
   "execution_count": 23,
   "metadata": {},
   "outputs": [
    {
     "name": "stdout",
     "output_type": "stream",
     "text": [
      "tensor([[-2.9439, -2.9178, -2.9292, -2.8260, -2.8556, -2.8115, -3.0105, -2.8162,\n",
      "         -2.9158, -2.8100, -2.8975, -2.9062, -3.0179, -2.8529, -2.8911, -2.8768,\n",
      "         -2.8388, -2.9421]], grad_fn=<LogSoftmaxBackward>)\n"
     ]
    }
   ],
   "source": [
    "input = lineToTensor('Albert')\n",
    "hidden = torch.zeros(1, n_hidden)\n",
    "\n",
    "output, next_hidden = rnn(input[0], hidden)\n",
    "print(output)"
   ]
  },
  {
   "cell_type": "code",
   "execution_count": 24,
   "metadata": {},
   "outputs": [
    {
     "name": "stdout",
     "output_type": "stream",
     "text": [
      "('English', 9)\n"
     ]
    }
   ],
   "source": [
    "def categoryFromOutput(output):\n",
    "    top_n, top_i = output.topk(1) # 텐서의 가장 큰 값 및 주소\n",
    "    category_i = top_i[0].item()     # 텐서에서 정수 값으로 변경\n",
    "    return all_categories[category_i], category_i\n",
    "\n",
    "print(categoryFromOutput(output))"
   ]
  },
  {
   "cell_type": "code",
   "execution_count": 25,
   "metadata": {},
   "outputs": [
    {
     "name": "stdout",
     "output_type": "stream",
     "text": [
      "category = Greek / line = Frangopoulos\n",
      "category = Czech / line = Tomes\n",
      "category = French / line = St pierre\n",
      "category = Dutch / line = Rademakers\n",
      "category = Greek / line = Patrianakos\n",
      "category = French / line = Renaud\n",
      "category = Japanese / line = Isozaki\n",
      "category = Italian / line = Naggia\n",
      "category = Italian / line = Cantu\n",
      "category = German / line = Bauers\n"
     ]
    }
   ],
   "source": [
    "import random\n",
    "\n",
    "def randomChoice(l):\n",
    "    return l[random.randint(0, len(l) - 1)]\n",
    "\n",
    "def randomTrainingExample():\n",
    "    category = randomChoice(all_categories)\n",
    "    line = randomChoice(category_lines[category])\n",
    "    category_tensor = torch.tensor([all_categories.index(category)], dtype=torch.long)\n",
    "    line_tensor = lineToTensor(line)\n",
    "    return category, line, category_tensor, line_tensor\n",
    "\n",
    "for i in range(10):\n",
    "    category, line, category_tensor, line_tensor = randomTrainingExample()\n",
    "    print('category =', category, '/ line =', line)"
   ]
  },
  {
   "cell_type": "code",
   "execution_count": 26,
   "metadata": {},
   "outputs": [],
   "source": [
    "criterion = nn.NLLLoss()"
   ]
  },
  {
   "cell_type": "code",
   "execution_count": 27,
   "metadata": {},
   "outputs": [],
   "source": [
    "learning_rate = 0.005\n",
    "\n",
    "def train(category_tensor, line_tensor):\n",
    "    hidden = rnn.initHidden()\n",
    "\n",
    "    rnn.zero_grad()\n",
    "\n",
    "    for i in range(line_tensor.size()[0]):\n",
    "        output, hidden = rnn(line_tensor[i], hidden)\n",
    "\n",
    "    loss = criterion(output, category_tensor)\n",
    "    loss.backward()\n",
    "\n",
    "    for p in rnn.parameters():\n",
    "        p.data.add_(p.grad.data, alpha=-learning_rate)\n",
    "\n",
    "    return output, loss.item()"
   ]
  },
  {
   "cell_type": "code",
   "execution_count": 28,
   "metadata": {},
   "outputs": [
    {
     "name": "stdout",
     "output_type": "stream",
     "text": [
      "5000 5% (0m 6s) 3.1010 Mccallum / Russian ✗ (Scottish)\n",
      "10000 10% (0m 13s) 0.9468 Thuy / Vietnamese ✓\n",
      "15000 15% (0m 20s) 1.0385 Bei / Chinese ✓\n",
      "20000 20% (0m 27s) 2.7959 Marchand / Scottish ✗ (French)\n",
      "25000 25% (0m 34s) 0.8223 Prosdocimi / Italian ✓\n",
      "30000 30% (0m 41s) 1.7020 Guirguis / Portuguese ✗ (Arabic)\n",
      "35000 35% (0m 49s) 1.8190 Glen / Dutch ✗ (English)\n",
      "40000 40% (0m 56s) 1.7199 Andreu / Portuguese ✗ (Spanish)\n",
      "45000 45% (1m 3s) 4.2563 Manus / Arabic ✗ (Irish)\n",
      "50000 50% (1m 10s) 0.3793 Tchekhluev / Russian ✓\n",
      "55000 55% (1m 17s) 0.2750 Ekimov / Russian ✓\n",
      "60000 60% (1m 24s) 0.7087 Si / Korean ✓\n",
      "65000 65% (1m 31s) 2.3635 Kenmotsu / German ✗ (Japanese)\n",
      "70000 70% (1m 38s) 5.6896 Boulos / Greek ✗ (Arabic)\n",
      "75000 75% (1m 45s) 0.7177 Fujiwara / Japanese ✓\n",
      "80000 80% (1m 52s) 1.4487 Reiher / Dutch ✗ (German)\n",
      "85000 85% (1m 59s) 0.8335 Juzeev / Russian ✓\n",
      "90000 90% (2m 6s) 0.4116 Dao / Vietnamese ✓\n",
      "95000 95% (2m 14s) 1.5495 Bell / German ✗ (Scottish)\n",
      "100000 100% (2m 21s) 3.4216 Giolla / Spanish ✗ (Irish)\n"
     ]
    }
   ],
   "source": [
    "import time\n",
    "import math\n",
    "\n",
    "n_iters = 100000\n",
    "print_every = 5000\n",
    "plot_every = 1000\n",
    "\n",
    "\n",
    "\n",
    "# 도식화를 위한 손실 추적\n",
    "current_loss = 0\n",
    "all_losses = []\n",
    "\n",
    "def timeSince(since):\n",
    "    now = time.time()\n",
    "    s = now - since\n",
    "    m = math.floor(s / 60)\n",
    "    s -= m * 60\n",
    "    return '%dm %ds' % (m, s)\n",
    "\n",
    "start = time.time()\n",
    "\n",
    "for iter in range(1, n_iters + 1):\n",
    "    category, line, category_tensor, line_tensor = randomTrainingExample()\n",
    "    output, loss = train(category_tensor, line_tensor)\n",
    "    current_loss += loss\n",
    "\n",
    "    if iter % print_every == 0:\n",
    "        guess, guess_i = categoryFromOutput(output)\n",
    "        correct = '✓' if guess == category else '✗ (%s)' % category\n",
    "        print('%d %d%% (%s) %.4f %s / %s %s' % (iter, iter / n_iters * 100, timeSince(start), loss, line, guess, correct))\n",
    "\n",
    "    if iter % plot_every == 0:\n",
    "        all_losses.append(current_loss / plot_every)\n",
    "        current_loss = 0"
   ]
  },
  {
   "cell_type": "code",
   "execution_count": 29,
   "metadata": {},
   "outputs": [
    {
     "data": {
      "text/plain": [
       "[<matplotlib.lines.Line2D at 0x7f91af1d77d0>]"
      ]
     },
     "execution_count": 29,
     "metadata": {},
     "output_type": "execute_result"
    },
    {
     "data": {
      "image/png": "[encoded data removed]",
      "text/plain": [
       "<Figure size 432x288 with 1 Axes>"
      ]
     },
     "metadata": {
      "needs_background": "light"
     },
     "output_type": "display_data"
    }
   ],
   "source": [
    "import matplotlib.pyplot as plt\n",
    "import matplotlib.ticker as ticker\n",
    "\n",
    "plt.figure()\n",
    "plt.plot(all_losses)"
   ]
  },
  {
   "cell_type": "code",
   "execution_count": 30,
   "metadata": {},
   "outputs": [
    {
     "data": {
      "image/png": "[encoded data removed]",
      "text/plain": [
       "<Figure size 432x288 with 2 Axes>"
      ]
     },
     "metadata": {
      "needs_background": "light"
     },
     "output_type": "display_data"
    }
   ],
   "source": [
    "# 혼란 행렬에서 정확한 추측을 추적\n",
    "confusion = torch.zeros(n_categories, n_categories)\n",
    "n_confusion = 10000\n",
    "\n",
    "# 주어진 라인의 출력 반환\n",
    "def evaluate(line_tensor):\n",
    "    hidden = rnn.initHidden()\n",
    "\n",
    "    for i in range(line_tensor.size()[0]):\n",
    "        output, hidden = rnn(line_tensor[i], hidden)\n",
    "\n",
    "    return output\n",
    "\n",
    "# 예시들 중에 어떤 것이 정확하게 예측되었는지 기록\n",
    "for i in range(n_confusion):\n",
    "    category, line, category_tensor, line_tensor = randomTrainingExample()\n",
    "    output = evaluate(line_tensor)\n",
    "    guess, guess_i = categoryFromOutput(output)\n",
    "    category_i = all_categories.index(category)\n",
    "    confusion[category_i][guess_i] += 1\n",
    "\n",
    "# 모든 행을 합계로 나누어 정규화\n",
    "for i in range(n_categories):\n",
    "    confusion[i] = confusion[i] / confusion[i].sum()\n",
    "\n",
    "# 도식 설정\n",
    "fig = plt.figure()\n",
    "ax = fig.add_subplot(111)\n",
    "cax = ax.matshow(confusion.numpy())\n",
    "fig.colorbar(cax)\n",
    "\n",
    "# 축 설정\n",
    "ax.set_xticklabels([''] + all_categories, rotation=90)\n",
    "ax.set_yticklabels([''] + all_categories)\n",
    "\n",
    "# 모든 tick에서 레이블 지정\n",
    "ax.xaxis.set_major_locator(ticker.MultipleLocator(1))\n",
    "ax.yaxis.set_major_locator(ticker.MultipleLocator(1))\n",
    "\n",
    "# sphinx_gallery_thumbnail_number = 2\n",
    "plt.show()"
   ]
  },
  {
   "cell_type": "code",
   "execution_count": 31,
   "metadata": {},
   "outputs": [
    {
     "name": "stdout",
     "output_type": "stream",
     "text": [
      "\n",
      "> Dovesky\n",
      "(-0.61) Russian\n",
      "(-1.05) Czech\n",
      "(-3.11) Polish\n",
      "\n",
      "> Jackson\n",
      "(-0.22) Scottish\n",
      "(-2.63) English\n",
      "(-3.02) Russian\n",
      "\n",
      "> Satoshi\n",
      "(-0.94) Japanese\n",
      "(-1.76) Arabic\n",
      "(-1.97) Italian\n"
     ]
    }
   ],
   "source": [
    "def predict(input_line, n_predictions=3):\n",
    "    print('\\n> %s' % input_line)\n",
    "    with torch.no_grad():\n",
    "        output = evaluate(lineToTensor(input_line))\n",
    "\n",
    "        # Get top N categories\n",
    "        topv, topi = output.topk(n_predictions, 1, True)\n",
    "        predictions = []\n",
    "\n",
    "        for i in range(n_predictions):\n",
    "            value = topv[0][i].item()\n",
    "            category_index = topi[0][i].item()\n",
    "            print('(%.2f) %s' % (value, all_categories[category_index]))\n",
    "            predictions.append([value, all_categories[category_index]])\n",
    "\n",
    "predict('Dovesky')\n",
    "predict('Jackson')\n",
    "predict('Satoshi')"
   ]
  }
 ],
 "metadata": {
  "kernelspec": {
   "display_name": "Python 3",
   "language": "python",
   "name": "python3"
  },
  "language_info": {
   "codemirror_mode": {
    "name": "ipython",
    "version": 3
   },
   "file_extension": ".py",
   "mimetype": "text/x-python",
   "name": "python",
   "nbconvert_exporter": "python",
   "pygments_lexer": "ipython3",
   "version": "3.7.6"
  }
 },
 "nbformat": 4,
 "nbformat_minor": 4
}

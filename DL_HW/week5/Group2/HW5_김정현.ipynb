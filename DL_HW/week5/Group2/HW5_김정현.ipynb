{
 "cells": [
  {
   "cell_type": "markdown",
   "metadata": {},
   "source": [
    "# 과제1)"
   ]
  },
  {
   "cell_type": "code",
   "execution_count": 1,
   "metadata": {},
   "outputs": [],
   "source": [
    "import torch\n",
    "import torch.optim as optim\n",
    "import numpy as np"
   ]
  },
  {
   "cell_type": "code",
   "execution_count": 2,
   "metadata": {},
   "outputs": [
    {
     "data": {
      "text/plain": [
       "<torch._C.Generator at 0x1b8283a1d70>"
      ]
     },
     "execution_count": 2,
     "metadata": {},
     "output_type": "execute_result"
    }
   ],
   "source": [
    "# Random seed to make results deterministic and reproducible\n",
    "torch.manual_seed(0)"
   ]
  },
  {
   "cell_type": "code",
   "execution_count": 4,
   "metadata": {},
   "outputs": [],
   "source": [
    "sentence = (\"if you want to build a ship, don't drum up people together to \"\n",
    "            \"collect wood and don't assign them tasks and work, but rather \"\n",
    "            \"teach them to long for the endless immensity of the sea.\")"
   ]
  },
  {
   "cell_type": "code",
   "execution_count": 5,
   "metadata": {},
   "outputs": [],
   "source": [
    "# make dictionary\n",
    "char_set = list(set(sentence))\n",
    "char_dic = {c: i for i, c in enumerate(char_set)}"
   ]
  },
  {
   "cell_type": "code",
   "execution_count": 6,
   "metadata": {},
   "outputs": [],
   "source": [
    "# hyper parameters\n",
    "dic_size = len(char_dic)\n",
    "hidden_size = len(char_dic)\n",
    "sequence_length = 10  # Any arbitrary number\n",
    "learning_rate = 0.1"
   ]
  },
  {
   "cell_type": "code",
   "execution_count": 7,
   "metadata": {},
   "outputs": [
    {
     "name": "stdout",
     "output_type": "stream",
     "text": [
      "0 if you wan -> f you want\n",
      "1 f you want ->  you want \n",
      "2  you want  -> you want t\n",
      "3 you want t -> ou want to\n",
      "4 ou want to -> u want to \n",
      "5 u want to  ->  want to b\n",
      "6  want to b -> want to bu\n",
      "7 want to bu -> ant to bui\n",
      "8 ant to bui -> nt to buil\n",
      "9 nt to buil -> t to build\n",
      "10 t to build ->  to build \n",
      "11  to build  -> to build a\n",
      "12 to build a -> o build a \n",
      "13 o build a  ->  build a s\n",
      "14  build a s -> build a sh\n",
      "15 build a sh -> uild a shi\n",
      "16 uild a shi -> ild a ship\n",
      "17 ild a ship -> ld a ship,\n",
      "18 ld a ship, -> d a ship, \n",
      "19 d a ship,  ->  a ship, d\n",
      "20  a ship, d -> a ship, do\n",
      "21 a ship, do ->  ship, don\n",
      "22  ship, don -> ship, don'\n",
      "23 ship, don' -> hip, don't\n",
      "24 hip, don't -> ip, don't \n",
      "25 ip, don't  -> p, don't d\n",
      "26 p, don't d -> , don't dr\n",
      "27 , don't dr ->  don't dru\n",
      "28  don't dru -> don't drum\n",
      "29 don't drum -> on't drum \n",
      "30 on't drum  -> n't drum u\n",
      "31 n't drum u -> 't drum up\n",
      "32 't drum up -> t drum up \n",
      "33 t drum up  ->  drum up p\n",
      "34  drum up p -> drum up pe\n",
      "35 drum up pe -> rum up peo\n",
      "36 rum up peo -> um up peop\n",
      "37 um up peop -> m up peopl\n",
      "38 m up peopl ->  up people\n",
      "39  up people -> up people \n",
      "40 up people  -> p people t\n",
      "41 p people t ->  people to\n",
      "42  people to -> people tog\n",
      "43 people tog -> eople toge\n",
      "44 eople toge -> ople toget\n",
      "45 ople toget -> ple togeth\n",
      "46 ple togeth -> le togethe\n",
      "47 le togethe -> e together\n",
      "48 e together ->  together \n",
      "49  together  -> together t\n",
      "50 together t -> ogether to\n",
      "51 ogether to -> gether to \n",
      "52 gether to  -> ether to c\n",
      "53 ether to c -> ther to co\n",
      "54 ther to co -> her to col\n",
      "55 her to col -> er to coll\n",
      "56 er to coll -> r to colle\n",
      "57 r to colle ->  to collec\n",
      "58  to collec -> to collect\n",
      "59 to collect -> o collect \n",
      "60 o collect  ->  collect w\n",
      "61  collect w -> collect wo\n",
      "62 collect wo -> ollect woo\n",
      "63 ollect woo -> llect wood\n",
      "64 llect wood -> lect wood \n",
      "65 lect wood  -> ect wood a\n",
      "66 ect wood a -> ct wood an\n",
      "67 ct wood an -> t wood and\n",
      "68 t wood and ->  wood and \n",
      "69  wood and  -> wood and d\n",
      "70 wood and d -> ood and do\n",
      "71 ood and do -> od and don\n",
      "72 od and don -> d and don'\n",
      "73 d and don' ->  and don't\n",
      "74  and don't -> and don't \n",
      "75 and don't  -> nd don't a\n",
      "76 nd don't a -> d don't as\n",
      "77 d don't as ->  don't ass\n",
      "78  don't ass -> don't assi\n",
      "79 don't assi -> on't assig\n",
      "80 on't assig -> n't assign\n",
      "81 n't assign -> 't assign \n",
      "82 't assign  -> t assign t\n",
      "83 t assign t ->  assign th\n",
      "84  assign th -> assign the\n",
      "85 assign the -> ssign them\n",
      "86 ssign them -> sign them \n",
      "87 sign them  -> ign them t\n",
      "88 ign them t -> gn them ta\n",
      "89 gn them ta -> n them tas\n",
      "90 n them tas ->  them task\n",
      "91  them task -> them tasks\n",
      "92 them tasks -> hem tasks \n",
      "93 hem tasks  -> em tasks a\n",
      "94 em tasks a -> m tasks an\n",
      "95 m tasks an ->  tasks and\n",
      "96  tasks and -> tasks and \n",
      "97 tasks and  -> asks and w\n",
      "98 asks and w -> sks and wo\n",
      "99 sks and wo -> ks and wor\n",
      "100 ks and wor -> s and work\n",
      "101 s and work ->  and work,\n",
      "102  and work, -> and work, \n",
      "103 and work,  -> nd work, b\n",
      "104 nd work, b -> d work, bu\n",
      "105 d work, bu ->  work, but\n",
      "106  work, but -> work, but \n",
      "107 work, but  -> ork, but r\n",
      "108 ork, but r -> rk, but ra\n",
      "109 rk, but ra -> k, but rat\n",
      "110 k, but rat -> , but rath\n",
      "111 , but rath ->  but rathe\n",
      "112  but rathe -> but rather\n",
      "113 but rather -> ut rather \n",
      "114 ut rather  -> t rather t\n",
      "115 t rather t ->  rather te\n",
      "116  rather te -> rather tea\n",
      "117 rather tea -> ather teac\n",
      "118 ather teac -> ther teach\n",
      "119 ther teach -> her teach \n",
      "120 her teach  -> er teach t\n",
      "121 er teach t -> r teach th\n",
      "122 r teach th ->  teach the\n",
      "123  teach the -> teach them\n",
      "124 teach them -> each them \n",
      "125 each them  -> ach them t\n",
      "126 ach them t -> ch them to\n",
      "127 ch them to -> h them to \n",
      "128 h them to  ->  them to l\n",
      "129  them to l -> them to lo\n",
      "130 them to lo -> hem to lon\n",
      "131 hem to lon -> em to long\n",
      "132 em to long -> m to long \n",
      "133 m to long  ->  to long f\n",
      "134  to long f -> to long fo\n",
      "135 to long fo -> o long for\n",
      "136 o long for ->  long for \n",
      "137  long for  -> long for t\n",
      "138 long for t -> ong for th\n",
      "139 ong for th -> ng for the\n",
      "140 ng for the -> g for the \n",
      "141 g for the  ->  for the e\n",
      "142  for the e -> for the en\n",
      "143 for the en -> or the end\n",
      "144 or the end -> r the endl\n",
      "145 r the endl ->  the endle\n",
      "146  the endle -> the endles\n",
      "147 the endles -> he endless\n",
      "148 he endless -> e endless \n",
      "149 e endless  ->  endless i\n",
      "150  endless i -> endless im\n",
      "151 endless im -> ndless imm\n",
      "152 ndless imm -> dless imme\n",
      "153 dless imme -> less immen\n",
      "154 less immen -> ess immens\n",
      "155 ess immens -> ss immensi\n",
      "156 ss immensi -> s immensit\n",
      "157 s immensit ->  immensity\n",
      "158  immensity -> immensity \n",
      "159 immensity  -> mmensity o\n",
      "160 mmensity o -> mensity of\n",
      "161 mensity of -> ensity of \n",
      "162 ensity of  -> nsity of t\n",
      "163 nsity of t -> sity of th\n",
      "164 sity of th -> ity of the\n",
      "165 ity of the -> ty of the \n",
      "166 ty of the  -> y of the s\n",
      "167 y of the s ->  of the se\n",
      "168  of the se -> of the sea\n",
      "169 of the sea -> f the sea.\n"
     ]
    }
   ],
   "source": [
    "# data setting\n",
    "x_data = []\n",
    "y_data = []\n",
    "\n",
    "for i in range(0, len(sentence) - sequence_length):\n",
    "    x_str = sentence[i:i + sequence_length]\n",
    "    y_str = sentence[i + 1: i + sequence_length + 1]\n",
    "    print(i, x_str, '->', y_str)\n",
    "\n",
    "    x_data.append([char_dic[c] for c in x_str])  # x str to index\n",
    "    y_data.append([char_dic[c] for c in y_str])  # y str to index\n",
    "\n",
    "x_one_hot = [np.eye(dic_size)[x] for x in x_data]"
   ]
  },
  {
   "cell_type": "code",
   "execution_count": 8,
   "metadata": {},
   "outputs": [],
   "source": [
    "# transform as torch tensor variable\n",
    "X = torch.FloatTensor(x_one_hot)\n",
    "Y = torch.LongTensor(y_data)"
   ]
  },
  {
   "cell_type": "code",
   "execution_count": 10,
   "metadata": {},
   "outputs": [],
   "source": [
    "torch.nn.LSTM?"
   ]
  },
  {
   "cell_type": "code",
   "execution_count": 15,
   "metadata": {},
   "outputs": [],
   "source": [
    "# declare LSTM + FC\n",
    "class Net(torch.nn.Module):\n",
    "    def __init__(self, input_dim, hidden_dim, layers):\n",
    "        super(Net, self).__init__()\n",
    "        self.lstm = torch.nn.LSTM(input_size=input_dim, hidden_size=hidden_dim, num_layers=layers, batch_first=True)\n",
    "        self.fc = torch.nn.Linear(hidden_dim, hidden_dim, bias=True)\n",
    "\n",
    "    def forward(self, x):\n",
    "        x, _status = self.lstm(x)\n",
    "        x = self.fc(x)\n",
    "        return x\n",
    "\n",
    "\n",
    "net = Net(dic_size, hidden_size, 2)"
   ]
  },
  {
   "cell_type": "code",
   "execution_count": 16,
   "metadata": {},
   "outputs": [],
   "source": [
    "# loss & optimizer setting\n",
    "criterion = torch.nn.CrossEntropyLoss()\n",
    "optimizer = optim.Adam(net.parameters(), learning_rate)"
   ]
  },
  {
   "cell_type": "code",
   "execution_count": 17,
   "metadata": {},
   "outputs": [
    {
     "name": "stdout",
     "output_type": "stream",
     "text": [
      "uuuuuuuuuuuuuuuuuuuuuuuuuuuuuuuuuuuuuuuuuuuuuuuuuuuuuuuuuuuuuuuuuuuuuuuuuuuuuuuuuuuuuuuuuuuuuuuuuuuuuuuuuuuuuuuuuuuuuuuuuuuuuuuuuuuuuuuuuuuuuuuuuuuuuuuuuuuuuuuuuuuuuuuuuuuuuuuuuuu\n",
      "otttttttttttttttttttttttttttttttttttttttttttttttttttttttttttttttttttttttttttttttttttttttttttttttttttttttttttttttttttttttttttttttttttttttttttttttttttttttttttttttttttttttttttttttttt\n",
      "                                                                                                                                                                                   \n",
      "                                                                                                                                                                                   \n",
      "                                                                                                                                                                                   \n",
      "                                                                                                                                                                                   \n",
      "                                                                                                                                                                                   \n",
      "                                                                                                                                                                                   \n",
      "                                                                                                                                                                                   \n",
      "                                                                                                                                                                                   \n",
      "                                                                                                                                                                                   \n",
      "                                                                                                                                                                                   \n",
      "                                                                                                                                                                                   \n",
      "  t    t t t        ttt           t    t  t      tt   t   t      t    t   ttt    t  tt    tt    tt    ttt  t  t     t  t   t   t      tt  t   t   t   t t     t    t           t   \n",
      "       t             tt           t               t   t   t      t    t    t        t           tt         t           t   tt  t      tt  t        t               t               \n",
      "  t   tttt th o   t thh     o  o tt    t  t    t th  tt   th  t  t   th   thh    o tth    tht   tht t thh  t  o     t tt   th  t tt   th  t   tt  th  ttt  t  t   tt       tt  tt o\n",
      "  t   ttttttt tt  t ttttt   ot tttt    tt tt   tttt  ttt  tt tt  ttt tt   ttt tt tttttt   tttt  ttttt ttt tt  o et  ttttt  tt tt ttt  tt tttt tt  ttt ttt  tt t   ttt t  t ttt tt t\n",
      "  t    ttt tt     t  tt           t        t   t tt  tt   tt  t  ttt  t   ttt       ttt   ttt   ttt t  tt  t        t tt   tt  t  t   tt  t    t  tt   tt  t      tt        t   t  \n",
      "  t    ttt et     e  tt           t              tt   t   tt  t  t o  t   ett       tto   eto   tto e  tt  t        t tt   tt  t  t   tt  t    o  tt   tt  t  e    t        t   t  \n",
      "  t   etttott e   e ttto    e  eo t    e  eo   t tt  tto  tt et  t t tt   ttt    eo tto   ttoo  tttot ttt  t  e     t tto  tt tt tto  tt et   to  tto ttt  to t   tt  e e  tto tt t\n",
      "  t   etoooto t   e tttoo   to to t    e  to   toto  tto  tt tt  tot tt   ttt e  to tto   ttoo  tttot ttt et  t e   totoo  ttoto tto  tt tt e to  tto tto  to t   tt  e to tto tt t\n",
      "  t   etoo to e   e ttto    to to t    e  to   t to  tto  tt et  too et   tto e  to tto   ttoo  ttooo eto et  t e   totoo  tt to too  tt et   to  tto tto  to t   tt  e e  tto tt t\n",
      "  t   et e to e   e ttoo  l t  eo t       ee   toto  too  to et  too et   tto    eo tto   tto   too t eto et  t     totoo  to  t too  to et p to  too tto  to e   tt    t  tto to  \n",
      "  to  ptet to plllp ttso lp to eo t    tu tee  teto  too  to pe  teo tt   tto t  eo tto   ttoe  tooee tto tt  t tl  tttoe  tooto toe  to pt p to  too tto  to tl  to    t  too te t\n",
      "l to pptes to tuppp ttsh pp toeeo t t  tp tee  teto  too  to te pteh ts   tto toeeo tto p ttoe  tooeh tto ts  t tul tttoe  tooeh toe  to tt p to  toe tes tto tl  tse p tn too te t\n",
      "l to eptee to tuulp tthh pp toeeo t tu tp tee  tnto  toe  to te tteh to   tth toieo tth p thoe  tooeh tth to  t tu  tetoe  tooeh toe  to te p to  toe teh tth tp  to pp tn toe te t\n",
      "l to  pene to pu  p tthh pp toipo t  u pu tee  t to  toe  to pe ttoh to   tth t upo tth e thoe  tooee tth to  e tu  totoe  tonto toe  to pe p to  toe toh tth tp  to pe ti toe te t\n",
      "p to  ptnt to pp  t tthh pp toupo t  u pu pee  t to  toe  to pe ttnh to e tth t upo tth u ttoe  tooee tth tor p tu  t toe  tonto toe  to pe p to  toe toh tto tp  to ue tn toe to t\n",
      "p tom utnt to bpelt tthheip toido t  u uu let  t tor toe  torbo ltnh tore tth toudo tthip thoe  tooeh tth tor p tu  t toe  tooth toe  torborp tom toe toh tthitn  toipe tn toe to t\n",
      "p tom utnt to tpelt tntsepp toido t    up ueei t to  toe  to to lo t to e tts toudo tosip thoem totes tns tor u tpe totoem toeth toe  to borp tor toe tos ttsitn  thipd tn toe to t\n",
      "p tom utnt to tpelt tntsipp toipo t    up ue     to  toe  to bo lo t to e tts toupo tosip etoe  toees tns to  u bp  t toe  to th toe  to borg to  toe tos tts tn  th uo tn toe to t\n",
      "p toi utnt to bppld tntsepp toedt t e  up ue     tor toe  torbh lons tord tns toe,t tnsip etoe  toses tns torep bpp totoe  toets toe  torbdip tor toe tns ttsibpl ts pd tn toe ts t\n",
      "p toe lons to wpild tntsegp toe't t e  up ueem e to  the  to bh eets th d tns toe't tnsig etoe  tosss tns th ep bpi totoe  toess toe  to borg tor toe tns tts tpm ts pd tn toe ts t\n",
      "p toi utnd to wuild tntsig, ton't tre  uu ue m e to  ther to bh eent th d tns toe't tnsig utoe  toees tnt th ep upi tntoem toets toe  to borg tor toe tns tts wnm ts df tn toe ts w\n",
      "p ton ltnd to build tnnsig, don't truu uu uo r e to  ther to bo lent thod tnd ton't tnsig utoer tosss tnd toru, but unnoer toens toer to bong tor toertnt ttsibplnthigd tn toemtord\n",
      "g toe etnt to tutld tosseg, toe't trem eu ueer e to  toe  to th eeet thod tns toe't tosig etoe  toess tos thol, uut totoe  toesh toe  to to g tor toe tos eth dmm th dt tn toe th t\n",
      "g tou lond to butld tossig, don't treu uu lo n e to  toer to bo lent tood tnd ton't tndig ntoe  tosks dod toog, but botoe  toenh woe  to bong dor toe tnd ethibpmatsigd tf toe to d\n",
      "g tru ltnd to butld dnasig, don't tr u uu l' n e to  the  to bo l nt tond tnd ton't tndig ntoe  toskt dnd torg, but boaoe  tornh woe  to bong dor toe tnd etsibmmatsidy df toe tomd\n",
      "p tou etnd th butld tnssep, don't trem uu ue n e th  ther th lollett tood tns ton't tnsig eshe  thsss dod torm, dut tashe  thash dhe  th bong tor the tnd etsibmmessity tf the ts d\n",
      "p tou etnd th build tnssep, don't trem uu ueom e th  ther te ltllest tood tss ton't tnsig ethe  thsss dnd tonm, bui tashe  teash dhe  th bong for thertnd ets dmmessity tf therts d\n",
      "p tou etnd th build dnship, don't dr m uu ueomle th  ther te lollent tood tnd ton't dnsignethem thsks dnd tonk, bui toshem teash whe  th bong for thertnd ets bmmessity df the tk d\n",
      "pmtou ltnd to butld dncsip, don't trum uu ueople to etoer to bollent word tnd don't tnsipn toem tosks tnd dorp, but dosoem toash woer to bong ror toertnd ets bmmessity df toemtkrd\n",
      "pmtou ltnd to butld dnship, don't trum up ueople to ether to bollent wood tnd ton't tnsign them thsks tnd wonk, but fothem toanh wher to bong for thertnd ets bmmessity df toertkld\n",
      "p ton lont th butld dnship, don't trum up ueople th ether te bollent wood tnd ton't tssign ther thsks tnd took, but rather teonh wher th bong for thertnd tts bmmessity tf thertk d\n",
      "p ton lont th butld anship, don't trum up ueople th ether te lollent wood tnd ton't tssign ther thsks dnd tork, but rather teash wher th borg for thertns tas immetsity tf thertk d\n",
      "p ton lond th build dnship, don't trum up ueople to ether te lollent wood tnd don't tssign them thsks dnd dork, but rather teash whem th borg for thertnd eas immessity tf themtkrd\n",
      "p ton wond th build dnship, don't drum up ueoule to ether te lollent wood tnd don't dssign toem tosks dnd dork, but rathem teach whem to borg for themtndleas immendity tf themtkrd\n",
      "p ton wont to build anship, don't arum up ueople to ether to lolleat wood and won't assign toem tosks dnd work, but rathem toach whem to borg for toemtndleas immendity tf themtkrd\n",
      "p ton wont to build anship, don't arum up ueople to ether to lollent wood and won't assign toe  tosks and work, but rathe  toash whem to lorg for toe tndless immensity tf the thad\n"
     ]
    },
    {
     "name": "stdout",
     "output_type": "stream",
     "text": [
      "p ton lont th build asship, don't drum up ueople to ether to lollent wood and don't assign toe  tosks and dork, but rathe  toach whe  to lorg for toe tndless immensity tf the thad\n",
      "p tru lont th build anship, don't drum up ueople to ether to lollent wood and don't dssign the  tosks and dork, but rather toach them to lorg for the tndless immendity tf the thad\n",
      "p tru lont to build anship, don't drum up ueople together to lollect wood and don't assign toem tosks and dork, but rather toach them to long for toemtndless immensity tf themtkad\n",
      "p tou wont to build anship, don't arum up ueople together to lollect wood and don't assign them tosks and aork, but rather toach them to long for toemtndless immensity tf themteod\n",
      "prtou wont to build anship, don't arum up ueople together to lollect wood and aon't assign them tosks and aork, but rather toach them to long for themtndless immensity af therteog\n",
      "lrtou wont to build anship, don't drum up ueople together te lollect wood and aon't dssign them tosks and dork, but rather teach them to long for the tndless immensity df the tkan\n",
      "lrtou wont to build anship, don't drum up people together te lollect wood and aon't dssign them tosks and dork, but rather teach them to long for the tndless immensity df the eeag\n",
      "lrtou wont to build anship, don't drum up people together to lollect wood and aon't dssign them tosks and work, but rather toach them to long for themtndless immensity df the teac\n",
      "lrrou wont to build a ship, don't drum up people together to lollect wood and aon't dssign them tosks and dork, but rather toach them to long for themtndless immensity df themteac\n",
      "l rou wont to build a ship, don't drum up people together to lollect wood and aon't dssign them tosks and aork, but rather toach them to long for themtndless immensity df themtead\n",
      "l rou wont to build a ship, don't drum up people together te lollect wood and aon't assign them tosks and wook, but rather teach them to long for themendless immensity df the eead\n",
      "l rou want to build a ship, don't drum up people together to lollect wood and don't dssign the  tosks and dork, but rather toach them to long for the endless immensity df the eeag\n",
      "l tou want to build a ship, don't drum up people together te collect wood and don't dssign the  tasks and dork, but rather teach them ta pong for the endless immensity df the eeac\n",
      "l tou want to build a ship, don't drum up people together to lollect wood and don't dssign them tosks and dork, but rather toach them to long for themendless immensity tf toemeeac\n",
      "l fon want to build a ship, don't arum up people together te collect wood and don't assign the  tosks and dork, but rather teach them to long for the endless immensity df the eead\n",
      "l fou want to build a ship, don't drum up people together te collect wood and don't dssign them tosks and dork, but rather teach them to long for themendless immensity af the eead\n",
      "l fou want to build a ship, don't drum up people together to collect wood and don't dssign them tosks and dork, but rather toach them to long for the endless immensity af the eean\n",
      "l fou want to build a ship, don't drum up people together te collect wood and don't dssign them tosks and wook, but rather teach them to long for the endless immensity af the eean\n",
      "p tou want to build a ship, don't arum up people together te collect wood and don't dssign them tasks and work, but rather teach them ta long for the endless immensity af the eean\n",
      "p fou want to build a ship, don't drum up people together to collect wood and don't dssign them tosks and dork, but rather teach them to long for themendless immensity af the eeag\n",
      "p fou want to build a ship, don't drum up people together te collect wood and don't dssign the  tosks and work, but rather teach them to long for the endless immensity of the eeag\n",
      "p fou want to build a ship, don't drum up people together to collect wood and don't dssign them tosks and work, but rather toach them to long for the endless immensity of the eeag\n",
      "p fou want to build a ship, don't drum up people together to collect wood and don't assign them tosks and work, but rather toach them to long for the endless immensity of the eean\n",
      "p fou want to build a ship, don't arum up people together te collect wood and don't assign them tasks and work, but rather teach them ta long for the endless immensity of the eean\n",
      "p fou want to build a ship, don't drum up people together te collect wood and don't dssign them tasks and work, but rather teach them ta long for the endless immensity of the eean\n",
      "p fou want to build a ship, don't drum up people together to collect wood and don't dssign them tasks and work, but rather teach them ta long for the endless immensity of the eean\n",
      "p fou want to build a ship, don't drum up people together to collect wood and don't dssign them tasks and work, but rather toach them ta long for the endless immensity of the eea.\n",
      "g fou want to build a ship, don't drum up people together te collect wood and don't assign them tasks and wook, but rather teach them to long for the endless immensity of the eea.\n",
      "g fou want to build a ship, don't drum up people together to collect wood and don't dssign them tasks and work, but rather toach them ta long for the endless immensity of the eea.\n",
      "f tou want to build a ship, don't drum up people together te collect wood and don't assign them tasks and work, but rather teach them ta long for the endless immensity of the eea.\n",
      "f fou want to build a ship, don't drum up people together to collect wood and don't assign them tosks and work, but rather teach them to long for the endless immensity of the eea.\n",
      "l fou want to build a ship, don't drum up people together to collect wood and don't dssign them tosks and work, but rather toach them to long for the endless immensity of the eea.\n",
      "l fou want to build a ship, don't drum up people together te collect wood and don't assign them tasks and work, but rather teach them ta long for the endless immensity of the eea.\n",
      "l fou want to build a ship, don't drum up people together te collect wood and don't assign them tasks and work, but rather teach them ta long for the endless immensity of the eea.\n",
      "f fou want to build a ship, don't drum up people together to collect wood and don't assign them tasks and work, but rather toach them ta long for the endless immensity of the eea.\n",
      "f tou want to build a ship, don't drum up people together to collect wood and don't assign them tasks and work, but rather teach them ta long for the endless immensity of the eea.\n",
      "f fou want to build a ship, don't drum up people together te collect wood and don't assign them tosks and work, but rather teach them to long for the endless immensity of the eea.\n",
      "p fou want to build a ship, don't drum up people together to collect wood and don't assign them tasks and work, but rather toach them ta long for the endless immensity of the eea.\n",
      "p tou want to build a ship, don't drum up people together to collect wood and don't assign them tasks and work, but rather toach them ta long for the endless immensity of the eea.\n",
      "l fou want to build a ship, don't drum up people together te collect wood and don't assign them tasks and work, but rather teach them ta long for the endless immensity of the eea.\n",
      "l fou want to build a ship, don't drum up people together te collect wood and don't assign them tasks and work, but rather teach them ta long for the endless immensity of the sea.\n",
      "f fou want to build a ship, don't drum up people together to collect wood and don't assign them tasks and work, but rather toach them ta long for the endless immensity of the sea.\n",
      "f fou want to build a ship, don't drum up people together to collect wood and don't assign them tasks and work, but rather toach them ta long for the endless immensity of the eea.\n",
      "l fou want to build a ship, don't drum up people together te collect wood and don't assign them tasks and work, but rather teach them ta long for the endless immensity of the sea.\n",
      "g fou want to build a ship, don't drum up people together to collect wood and don't assign them tasks and work, but rather teach them ta long for the endless immensity of the sea.\n",
      "p you want to build a ship, don't drum up people together to collect wood and don't dssign them tosks and work, but rather teach them to long for the endless immensity of the sea.\n",
      "p you want to build a ship, don't drum up people together to collect wood and don't assign them tosks and work, but rather teach them to long for the endless immensity of the sea.\n"
     ]
    },
    {
     "name": "stdout",
     "output_type": "stream",
     "text": [
      "p you want to build a ship, don't arum up people together to collect wood and don't assign them tasks and work, but rather teach them to long for the endless immensity of the sea.\n",
      "p you want to build a ship, don't drum up people together to collect wood and don't assign them tasks and work, but rather teach them to long for the endless immensity of the sea.\n",
      "g you want to build a ship, don't drum up people together to collect wood and don't assign them tasks and work, but rather teach them to long for the endless immensity of the sea.\n",
      "l you want to build a ship, don't drum up people together to collect wood and don't assign them tosks and work, but rather teach them to long for the endless immensity of the sea.\n"
     ]
    }
   ],
   "source": [
    "# start training\n",
    "for i in range(100):\n",
    "    optimizer.zero_grad()\n",
    "    outputs = net(X)\n",
    "    loss = criterion(outputs.view(-1, dic_size), Y.view(-1))\n",
    "    loss.backward()\n",
    "    optimizer.step()\n",
    "\n",
    "    results = outputs.argmax(dim=2)\n",
    "    predict_str = \"\"\n",
    "    for j, result in enumerate(results):\n",
    "        # print(i, j, ''.join([char_set[t] for t in result]), loss.item())\n",
    "        if j == 0:\n",
    "            predict_str += ''.join([char_set[t] for t in result])\n",
    "        else:\n",
    "            predict_str += char_set[result[-1]]\n",
    "\n",
    "    print(predict_str)"
   ]
  },
  {
   "cell_type": "markdown",
   "metadata": {},
   "source": [
    "# 과제2)"
   ]
  },
  {
   "cell_type": "markdown",
   "metadata": {},
   "source": [
    "## 데이터 준비"
   ]
  },
  {
   "cell_type": "code",
   "execution_count": 23,
   "metadata": {},
   "outputs": [
    {
     "name": "stdout",
     "output_type": "stream",
     "text": [
      "[]\n",
      "Slusarski\n"
     ]
    }
   ],
   "source": [
    "from __future__ import unicode_literals, print_function, division\n",
    "from io import open\n",
    "import glob\n",
    "import os\n",
    "\n",
    "def findFiles(path): return glob.glob(path)\n",
    "\n",
    "print(findFiles('C:/Users/Desktop/PyTorch_data/data2/names/*.txt'))\n",
    "\n",
    "import unicodedata\n",
    "import string\n",
    "\n",
    "all_letters = string.ascii_letters + \" .,;'\"\n",
    "n_letters = len(all_letters)\n",
    "\n",
    "# 유니코드 문자열을 ASCII로 변환, https://stackoverflow.com/a/518232/2809427\n",
    "def unicodeToAscii(s):\n",
    "    return ''.join(\n",
    "        c for c in unicodedata.normalize('NFD', s)\n",
    "        if unicodedata.category(c) != 'Mn'\n",
    "        and c in all_letters\n",
    "    )\n",
    "\n",
    "print(unicodeToAscii('Ślusàrski'))\n",
    "\n",
    "# 각 언어의 이름 목록인 category_lines 사전 생성\n",
    "category_lines = {}\n",
    "all_categories = []\n",
    "\n",
    "# 파일을 읽고 줄 단위로 분리\n",
    "def readLines(filename):\n",
    "    lines = open(filename, encoding='utf-8').read().strip().split('\\n')\n",
    "    return [unicodeToAscii(line) for line in lines]\n",
    "\n",
    "for filename in findFiles('C:/Users/Coby/Desktop/PyTorch_data/data2/names/*.txt'):\n",
    "    category = os.path.splitext(os.path.basename(filename))[0]\n",
    "    all_categories.append(category)\n",
    "    lines = readLines(filename)\n",
    "    category_lines[category] = lines\n",
    "\n",
    "n_categories = len(all_categories)"
   ]
  },
  {
   "cell_type": "code",
   "execution_count": 24,
   "metadata": {
    "scrolled": true
   },
   "outputs": [
    {
     "name": "stdout",
     "output_type": "stream",
     "text": [
      "['Abandonato', 'Abatangelo', 'Abatantuono', 'Abate', 'Abategiovanni']\n"
     ]
    }
   ],
   "source": [
    "print(category_lines['Italian'][:5])\n"
   ]
  },
  {
   "cell_type": "markdown",
   "metadata": {},
   "source": [
    "## 이름을 Tensor로 변경"
   ]
  },
  {
   "cell_type": "code",
   "execution_count": 25,
   "metadata": {
    "scrolled": true
   },
   "outputs": [
    {
     "name": "stdout",
     "output_type": "stream",
     "text": [
      "tensor([[0., 0., 0., 0., 0., 0., 0., 0., 0., 0., 0., 0., 0., 0., 0., 0., 0., 0.,\n",
      "         0., 0., 0., 0., 0., 0., 0., 0., 0., 0., 0., 0., 0., 0., 0., 0., 0., 1.,\n",
      "         0., 0., 0., 0., 0., 0., 0., 0., 0., 0., 0., 0., 0., 0., 0., 0., 0., 0.,\n",
      "         0., 0., 0.]])\n",
      "torch.Size([5, 1, 57])\n"
     ]
    }
   ],
   "source": [
    "'''\n",
    ".. NOTE::\n",
    "역자 주:  One-Hot 벡터는 언어를 다룰 때 자주 이용되며,\n",
    "단어,글자 등을 벡터로 표현 할 때 단어,글자 사이의 상관 관계를 미리 알 수 없을 경우,\n",
    "One-Hot으로 표현하여 서로 직교한다고 가정하고 학습을 시작합니다.\n",
    "동일하게 상관 관계를 알 수 없는 다른 데이터의 경우에도 One-Hot 벡터를 활용 할 수 있습니다.\n",
    "'''\n",
    "\n",
    "import torch\n",
    "\n",
    "# all_letters 로 문자의 주소 찾기, 예시 \"a\" = 0\n",
    "def letterToIndex(letter):\n",
    "    return all_letters.find(letter)\n",
    "\n",
    "# 검증을 위해서 한개의 문자를 <1 x n_letters> Tensor로 변환\n",
    "def letterToTensor(letter):\n",
    "    tensor = torch.zeros(1, n_letters)\n",
    "    tensor[0][letterToIndex(letter)] = 1\n",
    "    return tensor\n",
    "\n",
    "# 한 줄(이름)을  <line_length x 1 x n_letters>,\n",
    "# 또는 One-Hot 문자 벡터의 Array로 변경\n",
    "def lineToTensor(line):\n",
    "    tensor = torch.zeros(len(line), 1, n_letters)\n",
    "    for li, letter in enumerate(line):\n",
    "        tensor[li][0][letterToIndex(letter)] = 1\n",
    "    return tensor\n",
    "\n",
    "print(letterToTensor('J'))\n",
    "\n",
    "print(lineToTensor('Jones').size())"
   ]
  },
  {
   "cell_type": "markdown",
   "metadata": {},
   "source": [
    "## 네트워크 생성"
   ]
  },
  {
   "cell_type": "code",
   "execution_count": 26,
   "metadata": {},
   "outputs": [],
   "source": [
    "import torch.nn as nn\n",
    "\n",
    "class RNN(nn.Module):\n",
    "    def __init__(self, input_size, hidden_size, output_size):\n",
    "        super(RNN, self).__init__()\n",
    "\n",
    "        self.hidden_size = hidden_size\n",
    "\n",
    "        self.i2h = nn.Linear(input_size + hidden_size, hidden_size)\n",
    "        self.i2o = nn.Linear(input_size + hidden_size, output_size)\n",
    "        self.softmax = nn.LogSoftmax(dim=1)\n",
    "\n",
    "    def forward(self, input, hidden):\n",
    "        combined = torch.cat((input, hidden), 1)\n",
    "        hidden = self.i2h(combined)\n",
    "        output = self.i2o(combined)\n",
    "        output = self.softmax(output)\n",
    "        return output, hidden\n",
    "\n",
    "    def initHidden(self):\n",
    "        return torch.zeros(1, self.hidden_size)\n",
    "\n",
    "n_hidden = 128\n",
    "rnn = RNN(n_letters, n_hidden, n_categories)"
   ]
  },
  {
   "cell_type": "code",
   "execution_count": 27,
   "metadata": {},
   "outputs": [],
   "source": [
    "input = letterToTensor('A')\n",
    "hidden =torch.zeros(1, n_hidden)\n",
    "\n",
    "output, next_hidden = rnn(input, hidden)"
   ]
  },
  {
   "cell_type": "code",
   "execution_count": 28,
   "metadata": {},
   "outputs": [
    {
     "name": "stdout",
     "output_type": "stream",
     "text": [
      "tensor([[-2.8490, -2.8846, -2.9156, -2.9127, -2.8958, -2.9607, -2.9387, -2.7376,\n",
      "         -2.9144, -2.9384, -2.8861, -2.8521, -2.8332, -2.8412, -2.9966, -2.8993,\n",
      "         -2.8769, -2.9223]], grad_fn=<LogSoftmaxBackward>)\n"
     ]
    }
   ],
   "source": [
    "input = lineToTensor('Albert')\n",
    "hidden = torch.zeros(1, n_hidden)\n",
    "\n",
    "output, next_hidden = rnn(input[0], hidden)\n",
    "print(output)"
   ]
  },
  {
   "cell_type": "markdown",
   "metadata": {},
   "source": [
    "## 학습"
   ]
  },
  {
   "cell_type": "markdown",
   "metadata": {},
   "source": [
    "### 학습 준비"
   ]
  },
  {
   "cell_type": "code",
   "execution_count": 29,
   "metadata": {},
   "outputs": [
    {
     "name": "stdout",
     "output_type": "stream",
     "text": [
      "('Greek', 7)\n"
     ]
    }
   ],
   "source": [
    "def categoryFromOutput(output):\n",
    "    top_n, top_i = output.topk(1) # 텐서의 가장 큰 값 및 주소\n",
    "    category_i = top_i[0].item()     # 텐서에서 정수 값으로 변경\n",
    "    return all_categories[category_i], category_i\n",
    "\n",
    "print(categoryFromOutput(output))"
   ]
  },
  {
   "cell_type": "code",
   "execution_count": 30,
   "metadata": {},
   "outputs": [
    {
     "name": "stdout",
     "output_type": "stream",
     "text": [
      "category = Irish / line = Caomh\n",
      "category = Vietnamese / line = Nghiem\n",
      "category = Arabic / line = Hajjar\n",
      "category = Scottish / line = Shaw\n",
      "category = Irish / line = O'Mooney\n",
      "category = Italian / line = Arrighi\n",
      "category = Czech / line = Borovka\n",
      "category = Dutch / line = Ryskamp\n",
      "category = Polish / line = Wawrzaszek\n",
      "category = Arabic / line = Shammas\n"
     ]
    }
   ],
   "source": [
    "import random\n",
    "\n",
    "def randomChoice(l):\n",
    "    return l[random.randint(0, len(l) - 1)]\n",
    "\n",
    "def randomTrainingExample():\n",
    "    category = randomChoice(all_categories)\n",
    "    line = randomChoice(category_lines[category])\n",
    "    category_tensor = torch.tensor([all_categories.index(category)], dtype=torch.long)\n",
    "    line_tensor = lineToTensor(line)\n",
    "    return category, line, category_tensor, line_tensor\n",
    "\n",
    "for i in range(10):\n",
    "    category, line, category_tensor, line_tensor = randomTrainingExample()\n",
    "    print('category =', category, '/ line =', line)"
   ]
  },
  {
   "cell_type": "markdown",
   "metadata": {},
   "source": [
    "### 네트워크 학습"
   ]
  },
  {
   "cell_type": "code",
   "execution_count": 31,
   "metadata": {},
   "outputs": [],
   "source": [
    "criterion = nn.NLLLoss()\n"
   ]
  },
  {
   "cell_type": "code",
   "execution_count": 32,
   "metadata": {},
   "outputs": [],
   "source": [
    "learning_rate = 0.005 # 이것을 너무 높게 설정하면 발산할 수 있고, 너무 낮으면 학습이 되지 않을 수 있습니다.\n",
    "\n",
    "def train(category_tensor, line_tensor):\n",
    "    hidden = rnn.initHidden()\n",
    "\n",
    "    rnn.zero_grad()\n",
    "\n",
    "    for i in range(line_tensor.size()[0]):\n",
    "        output, hidden = rnn(line_tensor[i], hidden)\n",
    "\n",
    "    loss = criterion(output, category_tensor)\n",
    "    loss.backward()\n",
    "\n",
    "    # 매개변수의 경사도에 학습률을 곱해서 그 매개변수의 값에 더합니다.\n",
    "    for p in rnn.parameters():\n",
    "        p.data.add_(p.grad.data, alpha=-learning_rate)\n",
    "\n",
    "    return output, loss.item()"
   ]
  },
  {
   "cell_type": "code",
   "execution_count": 33,
   "metadata": {
    "scrolled": true
   },
   "outputs": [
    {
     "name": "stdout",
     "output_type": "stream",
     "text": [
      "5000 5% (0m 22s) 2.3314 Mateus / Portuguese ✓\n",
      "10000 10% (0m 45s) 2.6880 Tompkin / Russian ✗ (English)\n",
      "15000 15% (1m 8s) 2.0677 Perreault / Spanish ✗ (French)\n",
      "20000 20% (1m 31s) 0.2191 Rudawski / Polish ✓\n",
      "25000 25% (1m 52s) 1.8825 Abana / Japanese ✗ (Spanish)\n",
      "30000 30% (2m 12s) 0.2436 Shon / Korean ✓\n",
      "35000 35% (2m 33s) 1.4418 Doyle / Irish ✓\n",
      "40000 40% (2m 53s) 2.8858 Habicht / Japanese ✗ (German)\n",
      "45000 45% (3m 19s) 2.2068 Isa / Japanese ✗ (Arabic)\n",
      "50000 50% (3m 42s) 2.7203 Pledger / German ✗ (English)\n",
      "55000 55% (4m 9s) 0.2454 Abbatantuono / Italian ✓\n",
      "60000 60% (4m 36s) 1.4981 Huie / Korean ✗ (Chinese)\n",
      "65000 65% (5m 1s) 1.2580 Mendes / Portuguese ✓\n",
      "70000 70% (5m 26s) 0.4627 Shamon / Arabic ✓\n",
      "75000 75% (5m 52s) 3.3676 Salazar / Arabic ✗ (Portuguese)\n",
      "80000 80% (6m 17s) 2.5813 Plummer / German ✗ (English)\n",
      "85000 85% (6m 42s) 1.2796 Janutka / Polish ✗ (Czech)\n",
      "90000 90% (7m 11s) 0.8255 Shimada / Japanese ✓\n",
      "95000 95% (7m 36s) 0.3172 Terzi / Italian ✓\n",
      "100000 100% (8m 0s) 0.9544 Petit / French ✓\n"
     ]
    }
   ],
   "source": [
    "import time\n",
    "import math\n",
    "\n",
    "n_iters = 100000\n",
    "print_every = 5000\n",
    "plot_every = 1000\n",
    "\n",
    "\n",
    "\n",
    "# 도식화를 위한 손실 추적\n",
    "current_loss = 0\n",
    "all_losses = []\n",
    "\n",
    "def timeSince(since):\n",
    "    now = time.time()\n",
    "    s = now - since\n",
    "    m = math.floor(s / 60)\n",
    "    s -= m * 60\n",
    "    return '%dm %ds' % (m, s)\n",
    "\n",
    "start = time.time()\n",
    "\n",
    "for iter in range(1, n_iters + 1):\n",
    "    category, line, category_tensor, line_tensor = randomTrainingExample()\n",
    "    output, loss = train(category_tensor, line_tensor)\n",
    "    current_loss += loss\n",
    "\n",
    "    # iter 숫자, 손실, 이름, 추측 화면 출력\n",
    "    if iter % print_every == 0:\n",
    "        guess, guess_i = categoryFromOutput(output)\n",
    "        correct = '✓' if guess == category else '✗ (%s)' % category\n",
    "        print('%d %d%% (%s) %.4f %s / %s %s' % (iter, iter / n_iters * 100, timeSince(start), loss, line, guess, correct))\n",
    "\n",
    "    # 현재 평균 손실을 전체 손실 리스트에 추가\n",
    "    if iter % plot_every == 0:\n",
    "        all_losses.append(current_loss / plot_every)\n",
    "        current_loss = 0"
   ]
  },
  {
   "cell_type": "markdown",
   "metadata": {},
   "source": [
    "## 결과 도식화"
   ]
  },
  {
   "cell_type": "code",
   "execution_count": 34,
   "metadata": {},
   "outputs": [
    {
     "data": {
      "text/plain": [
       "[<matplotlib.lines.Line2D at 0x1b82ddc1b88>]"
      ]
     },
     "execution_count": 34,
     "metadata": {},
     "output_type": "execute_result"
    },
    {
     "data": {
      "image/png": "[encoded data removed]",
      "text/plain": [
       "<Figure size 432x288 with 1 Axes>"
      ]
     },
     "metadata": {
      "needs_background": "light"
     },
     "output_type": "display_data"
    }
   ],
   "source": [
    "import matplotlib.pyplot as plt\n",
    "import matplotlib.ticker as ticker\n",
    "\n",
    "plt.figure()\n",
    "plt.plot(all_losses)"
   ]
  },
  {
   "cell_type": "markdown",
   "metadata": {},
   "source": [
    "## 결과 평가"
   ]
  },
  {
   "cell_type": "code",
   "execution_count": 35,
   "metadata": {},
   "outputs": [
    {
     "data": {
      "image/png": "[encoded data removed]",
      "text/plain": [
       "<Figure size 432x288 with 2 Axes>"
      ]
     },
     "metadata": {
      "needs_background": "light"
     },
     "output_type": "display_data"
    }
   ],
   "source": [
    "# 혼란 행렬에서 정확한 추측을 추적\n",
    "confusion = torch.zeros(n_categories, n_categories)\n",
    "n_confusion = 10000\n",
    "\n",
    "# 주어진 라인의 출력 반환\n",
    "def evaluate(line_tensor):\n",
    "    hidden = rnn.initHidden()\n",
    "\n",
    "    for i in range(line_tensor.size()[0]):\n",
    "        output, hidden = rnn(line_tensor[i], hidden)\n",
    "\n",
    "    return output\n",
    "\n",
    "# 예시들 중에 어떤 것이 정확하게 예측되었는지 기록\n",
    "for i in range(n_confusion):\n",
    "    category, line, category_tensor, line_tensor = randomTrainingExample()\n",
    "    output = evaluate(line_tensor)\n",
    "    guess, guess_i = categoryFromOutput(output)\n",
    "    category_i = all_categories.index(category)\n",
    "    confusion[category_i][guess_i] += 1\n",
    "\n",
    "# 모든 행을 합계로 나누어 정규화\n",
    "for i in range(n_categories):\n",
    "    confusion[i] = confusion[i] / confusion[i].sum()\n",
    "\n",
    "# 도식 설정\n",
    "fig = plt.figure()\n",
    "ax = fig.add_subplot(111)\n",
    "cax = ax.matshow(confusion.numpy())\n",
    "fig.colorbar(cax)\n",
    "\n",
    "# 축 설정\n",
    "ax.set_xticklabels([''] + all_categories, rotation=90)\n",
    "ax.set_yticklabels([''] + all_categories)\n",
    "\n",
    "# 모든 tick에서 레이블 지정\n",
    "ax.xaxis.set_major_locator(ticker.MultipleLocator(1))\n",
    "ax.yaxis.set_major_locator(ticker.MultipleLocator(1))\n",
    "\n",
    "# sphinx_gallery_thumbnail_number = 2\n",
    "plt.show()"
   ]
  },
  {
   "cell_type": "markdown",
   "metadata": {},
   "source": [
    "## 사용자 입력으로 실행"
   ]
  },
  {
   "cell_type": "code",
   "execution_count": 36,
   "metadata": {},
   "outputs": [
    {
     "name": "stdout",
     "output_type": "stream",
     "text": [
      "\n",
      "> Dovesky\n",
      "(-0.72) Russian\n",
      "(-0.98) Czech\n",
      "(-2.92) English\n",
      "\n",
      "> Jackson\n",
      "(-0.28) Scottish\n",
      "(-2.41) English\n",
      "(-3.11) Dutch\n",
      "\n",
      "> Satoshi\n",
      "(-1.48) Japanese\n",
      "(-1.58) Italian\n",
      "(-1.64) Polish\n"
     ]
    }
   ],
   "source": [
    "def predict(input_line, n_predictions=3):\n",
    "    print('\\n> %s' % input_line)\n",
    "    with torch.no_grad():\n",
    "        output = evaluate(lineToTensor(input_line))\n",
    "\n",
    "        # Get top N categories\n",
    "        topv, topi = output.topk(n_predictions, 1, True)\n",
    "        predictions = []\n",
    "\n",
    "        for i in range(n_predictions):\n",
    "            value = topv[0][i].item()\n",
    "            category_index = topi[0][i].item()\n",
    "            print('(%.2f) %s' % (value, all_categories[category_index]))\n",
    "            predictions.append([value, all_categories[category_index]])\n",
    "\n",
    "predict('Dovesky')\n",
    "predict('Jackson')\n",
    "predict('Satoshi')"
   ]
  },
  {
   "cell_type": "code",
   "execution_count": 38,
   "metadata": {},
   "outputs": [
    {
     "name": "stdout",
     "output_type": "stream",
     "text": [
      "\n",
      "> Lee\n",
      "(-0.78) Chinese\n",
      "(-1.32) Vietnamese\n",
      "(-2.45) Dutch\n"
     ]
    }
   ],
   "source": [
    "predict('Lee')"
   ]
  },
  {
   "cell_type": "code",
   "execution_count": 39,
   "metadata": {
    "scrolled": true
   },
   "outputs": [
    {
     "name": "stdout",
     "output_type": "stream",
     "text": [
      "\n",
      "> Kim\n",
      "(-0.63) Korean\n",
      "(-2.03) Chinese\n",
      "(-2.10) Vietnamese\n"
     ]
    }
   ],
   "source": [
    "predict(\"Kim\")"
   ]
  },
  {
   "cell_type": "code",
   "execution_count": 42,
   "metadata": {},
   "outputs": [
    {
     "name": "stdout",
     "output_type": "stream",
     "text": [
      "\n",
      "> Kim Kardashian\n",
      "(-1.42) Russian\n",
      "(-1.57) Japanese\n",
      "(-1.90) Irish\n"
     ]
    }
   ],
   "source": [
    "predict(\"Kim Kardashian\")"
   ]
  },
  {
   "cell_type": "code",
   "execution_count": 43,
   "metadata": {
    "scrolled": true
   },
   "outputs": [
    {
     "name": "stdout",
     "output_type": "stream",
     "text": [
      "\n",
      "> Li\n",
      "(-0.51) Vietnamese\n",
      "(-1.56) Korean\n",
      "(-2.74) Italian\n"
     ]
    }
   ],
   "source": [
    "predict(\"Li\")"
   ]
  },
  {
   "cell_type": "code",
   "execution_count": 44,
   "metadata": {
    "scrolled": true
   },
   "outputs": [
    {
     "name": "stdout",
     "output_type": "stream",
     "text": [
      "\n",
      "> Son\n",
      "(-0.09) Korean\n",
      "(-2.97) Chinese\n",
      "(-4.89) English\n"
     ]
    }
   ],
   "source": [
    "predict(\"Son\")"
   ]
  }
 ],
 "metadata": {
  "kernelspec": {
   "display_name": "Python 3",
   "language": "python",
   "name": "python3"
  },
  "language_info": {
   "codemirror_mode": {
    "name": "ipython",
    "version": 3
   },
   "file_extension": ".py",
   "mimetype": "text/x-python",
   "name": "python",
   "nbconvert_exporter": "python",
   "pygments_lexer": "ipython3",
   "version": "3.7.6"
  }
 },
 "nbformat": 4,
 "nbformat_minor": 4
}

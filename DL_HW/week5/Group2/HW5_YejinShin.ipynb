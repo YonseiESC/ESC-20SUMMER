{
 "cells": [
  {
   "cell_type": "markdown",
   "metadata": {},
   "source": [
    "### HW5_YejinShin"
   ]
  },
  {
   "cell_type": "markdown",
   "metadata": {},
   "source": [
    "#### 과제1) 모두의딥러닝 시즌2 강의의 longsequence 코드 lstm 모델 적용해보기"
   ]
  },
  {
   "cell_type": "code",
   "execution_count": 11,
   "metadata": {},
   "outputs": [],
   "source": [
    "import torch\n",
    "import torch.optim as optim\n",
    "import numpy as np"
   ]
  },
  {
   "cell_type": "code",
   "execution_count": 12,
   "metadata": {},
   "outputs": [
    {
     "data": {
      "text/plain": [
       "<torch._C.Generator at 0x1f5eeff95d0>"
      ]
     },
     "execution_count": 12,
     "metadata": {},
     "output_type": "execute_result"
    }
   ],
   "source": [
    "# Random seed to make results deterministic and reproducible\n",
    "torch.manual_seed(0)"
   ]
  },
  {
   "cell_type": "code",
   "execution_count": 13,
   "metadata": {},
   "outputs": [],
   "source": [
    "sentence = (\"if you want to build a ship, don't drum up people together to \"\n",
    "            \"collect wood and don't assign them tasks and work, but rather \"\n",
    "            \"teach them to long for the endless immensity of the sea.\")\n",
    "# 아주 긴 문장을 input으로 사용하기 곤란\n",
    "# 따라서 특정 사이즈로 잘라서 사용하자!"
   ]
  },
  {
   "cell_type": "code",
   "execution_count": 14,
   "metadata": {},
   "outputs": [
    {
     "data": {
      "text/plain": [
       "{'c': 0,\n",
       " ',': 1,\n",
       " 'y': 2,\n",
       " 'g': 3,\n",
       " '.': 4,\n",
       " 'n': 5,\n",
       " 'd': 6,\n",
       " 'a': 7,\n",
       " 'o': 8,\n",
       " 'b': 9,\n",
       " 'e': 10,\n",
       " 'k': 11,\n",
       " 'p': 12,\n",
       " 'h': 13,\n",
       " 'f': 14,\n",
       " 'w': 15,\n",
       " ' ': 16,\n",
       " 'm': 17,\n",
       " 'r': 18,\n",
       " 'l': 19,\n",
       " 'i': 20,\n",
       " 's': 21,\n",
       " \"'\": 22,\n",
       " 'u': 23,\n",
       " 't': 24}"
      ]
     },
     "execution_count": 14,
     "metadata": {},
     "output_type": "execute_result"
    }
   ],
   "source": [
    "# make dictionary\n",
    "\n",
    "# sentence를 이루는 알파벳으로 리스트를 생성\n",
    "char_set = list(set(sentence))\n",
    "# index를 key로 알파벳을 valueㄹ 갖는 딕셔너리 생성\n",
    "char_dic = {c: i for i, c in enumerate(char_set)}\n",
    "char_dic"
   ]
  },
  {
   "cell_type": "code",
   "execution_count": 15,
   "metadata": {},
   "outputs": [],
   "source": [
    "# hyper parameters\n",
    "dic_size = len(char_dic)\n",
    "hidden_size = len(char_dic) # 은닉층 사이즈\n",
    "sequence_length = 10  # window size\n",
    "learning_rate = 0.1"
   ]
  },
  {
   "cell_type": "code",
   "execution_count": 16,
   "metadata": {},
   "outputs": [
    {
     "name": "stdout",
     "output_type": "stream",
     "text": [
      "0 if you wan -> f you want\n",
      "1 f you want ->  you want \n",
      "2  you want  -> you want t\n",
      "3 you want t -> ou want to\n",
      "4 ou want to -> u want to \n",
      "5 u want to  ->  want to b\n",
      "6  want to b -> want to bu\n",
      "7 want to bu -> ant to bui\n",
      "8 ant to bui -> nt to buil\n",
      "9 nt to buil -> t to build\n",
      "10 t to build ->  to build \n",
      "11  to build  -> to build a\n",
      "12 to build a -> o build a \n",
      "13 o build a  ->  build a s\n",
      "14  build a s -> build a sh\n",
      "15 build a sh -> uild a shi\n",
      "16 uild a shi -> ild a ship\n",
      "17 ild a ship -> ld a ship,\n",
      "18 ld a ship, -> d a ship, \n",
      "19 d a ship,  ->  a ship, d\n",
      "20  a ship, d -> a ship, do\n",
      "21 a ship, do ->  ship, don\n",
      "22  ship, don -> ship, don'\n",
      "23 ship, don' -> hip, don't\n",
      "24 hip, don't -> ip, don't \n",
      "25 ip, don't  -> p, don't d\n",
      "26 p, don't d -> , don't dr\n",
      "27 , don't dr ->  don't dru\n",
      "28  don't dru -> don't drum\n",
      "29 don't drum -> on't drum \n",
      "30 on't drum  -> n't drum u\n",
      "31 n't drum u -> 't drum up\n",
      "32 't drum up -> t drum up \n",
      "33 t drum up  ->  drum up p\n",
      "34  drum up p -> drum up pe\n",
      "35 drum up pe -> rum up peo\n",
      "36 rum up peo -> um up peop\n",
      "37 um up peop -> m up peopl\n",
      "38 m up peopl ->  up people\n",
      "39  up people -> up people \n",
      "40 up people  -> p people t\n",
      "41 p people t ->  people to\n",
      "42  people to -> people tog\n",
      "43 people tog -> eople toge\n",
      "44 eople toge -> ople toget\n",
      "45 ople toget -> ple togeth\n",
      "46 ple togeth -> le togethe\n",
      "47 le togethe -> e together\n",
      "48 e together ->  together \n",
      "49  together  -> together t\n",
      "50 together t -> ogether to\n",
      "51 ogether to -> gether to \n",
      "52 gether to  -> ether to c\n",
      "53 ether to c -> ther to co\n",
      "54 ther to co -> her to col\n",
      "55 her to col -> er to coll\n",
      "56 er to coll -> r to colle\n",
      "57 r to colle ->  to collec\n",
      "58  to collec -> to collect\n",
      "59 to collect -> o collect \n",
      "60 o collect  ->  collect w\n",
      "61  collect w -> collect wo\n",
      "62 collect wo -> ollect woo\n",
      "63 ollect woo -> llect wood\n",
      "64 llect wood -> lect wood \n",
      "65 lect wood  -> ect wood a\n",
      "66 ect wood a -> ct wood an\n",
      "67 ct wood an -> t wood and\n",
      "68 t wood and ->  wood and \n",
      "69  wood and  -> wood and d\n",
      "70 wood and d -> ood and do\n",
      "71 ood and do -> od and don\n",
      "72 od and don -> d and don'\n",
      "73 d and don' ->  and don't\n",
      "74  and don't -> and don't \n",
      "75 and don't  -> nd don't a\n",
      "76 nd don't a -> d don't as\n",
      "77 d don't as ->  don't ass\n",
      "78  don't ass -> don't assi\n",
      "79 don't assi -> on't assig\n",
      "80 on't assig -> n't assign\n",
      "81 n't assign -> 't assign \n",
      "82 't assign  -> t assign t\n",
      "83 t assign t ->  assign th\n",
      "84  assign th -> assign the\n",
      "85 assign the -> ssign them\n",
      "86 ssign them -> sign them \n",
      "87 sign them  -> ign them t\n",
      "88 ign them t -> gn them ta\n",
      "89 gn them ta -> n them tas\n",
      "90 n them tas ->  them task\n",
      "91  them task -> them tasks\n",
      "92 them tasks -> hem tasks \n",
      "93 hem tasks  -> em tasks a\n",
      "94 em tasks a -> m tasks an\n",
      "95 m tasks an ->  tasks and\n",
      "96  tasks and -> tasks and \n",
      "97 tasks and  -> asks and w\n",
      "98 asks and w -> sks and wo\n",
      "99 sks and wo -> ks and wor\n",
      "100 ks and wor -> s and work\n",
      "101 s and work ->  and work,\n",
      "102  and work, -> and work, \n",
      "103 and work,  -> nd work, b\n",
      "104 nd work, b -> d work, bu\n",
      "105 d work, bu ->  work, but\n",
      "106  work, but -> work, but \n",
      "107 work, but  -> ork, but r\n",
      "108 ork, but r -> rk, but ra\n",
      "109 rk, but ra -> k, but rat\n",
      "110 k, but rat -> , but rath\n",
      "111 , but rath ->  but rathe\n",
      "112  but rathe -> but rather\n",
      "113 but rather -> ut rather \n",
      "114 ut rather  -> t rather t\n",
      "115 t rather t ->  rather te\n",
      "116  rather te -> rather tea\n",
      "117 rather tea -> ather teac\n",
      "118 ather teac -> ther teach\n",
      "119 ther teach -> her teach \n",
      "120 her teach  -> er teach t\n",
      "121 er teach t -> r teach th\n",
      "122 r teach th ->  teach the\n",
      "123  teach the -> teach them\n",
      "124 teach them -> each them \n",
      "125 each them  -> ach them t\n",
      "126 ach them t -> ch them to\n",
      "127 ch them to -> h them to \n",
      "128 h them to  ->  them to l\n",
      "129  them to l -> them to lo\n",
      "130 them to lo -> hem to lon\n",
      "131 hem to lon -> em to long\n",
      "132 em to long -> m to long \n",
      "133 m to long  ->  to long f\n",
      "134  to long f -> to long fo\n",
      "135 to long fo -> o long for\n",
      "136 o long for ->  long for \n",
      "137  long for  -> long for t\n",
      "138 long for t -> ong for th\n",
      "139 ong for th -> ng for the\n",
      "140 ng for the -> g for the \n",
      "141 g for the  ->  for the e\n",
      "142  for the e -> for the en\n",
      "143 for the en -> or the end\n",
      "144 or the end -> r the endl\n",
      "145 r the endl ->  the endle\n",
      "146  the endle -> the endles\n",
      "147 the endles -> he endless\n",
      "148 he endless -> e endless \n",
      "149 e endless  ->  endless i\n",
      "150  endless i -> endless im\n",
      "151 endless im -> ndless imm\n",
      "152 ndless imm -> dless imme\n",
      "153 dless imme -> less immen\n",
      "154 less immen -> ess immens\n",
      "155 ess immens -> ss immensi\n",
      "156 ss immensi -> s immensit\n",
      "157 s immensit ->  immensity\n",
      "158  immensity -> immensity \n",
      "159 immensity  -> mmensity o\n",
      "160 mmensity o -> mensity of\n",
      "161 mensity of -> ensity of \n",
      "162 ensity of  -> nsity of t\n",
      "163 nsity of t -> sity of th\n",
      "164 sity of th -> ity of the\n",
      "165 ity of the -> ty of the \n",
      "166 ty of the  -> y of the s\n",
      "167 y of the s ->  of the se\n",
      "168  of the se -> of the sea\n",
      "169 of the sea -> f the sea.\n"
     ]
    }
   ],
   "source": [
    "# data setting\n",
    "# 우리가 원하는 size의 모든 chunk들이 index로 반환된 list 만들기\n",
    "x_data = []\n",
    "y_data = []\n",
    "\n",
    "for i in range(0, len(sentence) - sequence_length): # 가져올 수 있는 chunk의 개수\n",
    "    x_str = sentence[i:i + sequence_length]\n",
    "    y_str = sentence[i + 1: i + sequence_length + 1] # +1\n",
    "    print(i, x_str, '->', y_str)\n",
    "\n",
    "    x_data.append([char_dic[c] for c in x_str]) # string을 index로 만들어 넣어준다\n",
    "    y_data.append([char_dic[c] for c in y_str])\n",
    "\n",
    "x_one_hot = [np.eye(dic_size)[x] for x in x_data] # 원핫벡터로 만들기"
   ]
  },
  {
   "cell_type": "code",
   "execution_count": 17,
   "metadata": {},
   "outputs": [],
   "source": [
    "# list와 numpy array로 구성된 list를 pytorch tensor type으로 변환\n",
    "X = torch.FloatTensor(x_one_hot)\n",
    "Y = torch.LongTensor(y_data)"
   ]
  },
  {
   "cell_type": "code",
   "execution_count": 26,
   "metadata": {},
   "outputs": [],
   "source": [
    "# declare LSTM + FC\n",
    "class Net(torch.nn.Module):\n",
    "    def __init__(self, input_dim, hidden_dim, layers):\n",
    "        # net이라는 상위모듈이 rnn과 linear 모델을 하위모델로 이용\n",
    "        super(Net, self).__init__()\n",
    "        self.rnn = torch.nn.LSTM(input_dim, hidden_dim, num_layers=layers, batch_first=True)\n",
    "        self.fc = torch.nn.Linear(hidden_dim, hidden_dim, bias=True)\n",
    "\n",
    "    def forward(self, x):\n",
    "        # 계산방법 정의\n",
    "        # rnn 2개 지나고 fc layer 지난다\n",
    "        x, _status = self.rnn(x)\n",
    "        x = self.fc(x)\n",
    "        return x\n",
    "\n",
    "\n",
    "net = Net(dic_size, hidden_size, 2)"
   ]
  },
  {
   "cell_type": "code",
   "execution_count": 27,
   "metadata": {},
   "outputs": [],
   "source": [
    "# loss & optimizer setting\n",
    "criterion = torch.nn.CrossEntropyLoss()\n",
    "optimizer = optim.Adam(net.parameters(), learning_rate)"
   ]
  },
  {
   "cell_type": "code",
   "execution_count": 28,
   "metadata": {},
   "outputs": [
    {
     "name": "stdout",
     "output_type": "stream",
     "text": [
      "nnnnnnnnnnnnnnnnnnnnnnnnnnnnnnnnnnnnnnnnnnnnnnnnnnnnnnnnnnnnnnnnnnnnnnnnnnnnnnnnnnnnnnnnnnnnnnnnnnnnnnnnnnnnnnnnnnnnnnnnnnnnnnnnnnnnnnnnnnnnnnnnnnnnnnnnnnnnnnnnnnnnnnnnnnnnnnnnnnn\n",
      "nnneeesssssssssssssssssssssssssssssssssssssssssssssssssssssssssssssssssssssssssssssssssssssssssssssssssssssssssssssssssssssssssssssssssssssssssssssssssssssssssssssssssssssssssssss\n",
      "teeeeeeeeeeeeeeeeeeeeeeeeeeeeeeeeeeeeeeeeeeeeeeeeeeeeeeeeeeeeeeeeeeeeeeeeeeeeeeeeeeeeeeeeeeeeeeeeeeeeeeeeeeeeeeeeeeeeeeeeeeeeeeeeeeeeeeeeeeeeeeeeeeeeeeeeeeeeeeeeeeeeeeeeeeeeeeeeee\n",
      "                                                                                                                                                                                   \n",
      "                                                                                                                                                                                   \n",
      "                                                                                                                                                                                   \n",
      "                                                                                                                                                                                   \n",
      "                                                                                                                                                                                   \n",
      "                                                                                                                                                                                   \n",
      "                                                                                                                                                                                   \n",
      "                                                                                                                                                                                   \n",
      "                                                                                                                                                                                   \n",
      "                                                                                                                                                                                   \n",
      "                                                                                                                                                                                   \n",
      "                                                                                                                                                                                   \n",
      "                                                                                                                                                                                   \n",
      "                                                                                                                                                                                   \n",
      "                                                                                                                                                                                   \n",
      "                                                                                                                                                                                   \n",
      "                                                                                                                                                                                   \n",
      "                                                                                                                                                                                   \n",
      "                                                                                                                                                                                   \n",
      "                                                                                                                                                                                   \n",
      "         t t          t           t                       t          t              t                               t      t     t                t   t                        t   \n",
      "  t   t  t t  tt    t t  t  t  t  t    t  t      t        t  t       t    t t t  t  t   t tt    t     t t t     tt  t      t     t    t  t  t t   t   t t     t    t    t  t   t   \n",
      "  t   t  t t  tt t  t t  t  t  t  t  t t  t      t        t  t       t    t t t  t  t   t tt    t     t t t   t tt  t      t     t    t  t  t t   t   t t     tt   t t  t  t   t   \n",
      "  t  tt  t t  tu t  t t  t  t  t  t  t t  t      t        t  t       t    t t t  t  t   t tt    t     t t t   t tu  t      t     t    t  t  t t   t   t t     tt   t t  t  t   t   \n",
      "t t  tt  t t  tutt  t t  t  t  tt t  t t  t      t        t  t       t  t t t t  tt t   t tu    t     t t t   t tu  t      t     t    t  t  t t   t   t t     tu   t t  t  t   t   \n",
      "t t  tt  t t  tuttt t t  t  t  tt t  t t  t      t        t  t  t    t  t t t t  tt t   t tu    t     t t to  t tut t      t     t    t  to t t   t   t t     tu   t t  t  t   t   \n",
      "t t  tto t t  tuttt t t  t  t  tt t  t tt t      t        t  to t    to t t t t  tt t   t tu    t     t t to  t tut t      t     t    t  to t t   t   t t     tu   t t  t  t   t   \n",
      "u t  tto t to tuttt tntn tt t  tt t  t tt t  t   to       t  totto t to t tnt t  tt tnnnt tu    t  nn tnt to tt tut t t    t  t  t    t  to t t   t   tnt t   tu  ttnto tt to  tntn\n",
      "t t  tto t t  tutt  tntn t  t  tt t  t tt t      t        t  to t    to t tnt t  tt tnnnt tt    t  nn tnt to  t tut t t    t  to t    t  to t t   t   t t     tu   tnto tn t   th n\n",
      "t to tto t to tuttt tntn tt t  tt t  t tt t  t   to       t  to to t to t tnt t  tt tnnnt tt    to nn tnt to  t tut tot    t  to to   to to t t   t   tnt   nntti  tnto ts to  tntn\n",
      "t totttontoto tuitt tntnttt t ttt to t tt t  t   to  to   to thtto t to t tnt t ttt tnnntntto   to nn tntoto tt tui toso   to tn to   to tont t   to  tnt tnnntui ttntn ti to  tntn\n",
      "u to ttont to tuitt tntn t  t  tt t  t tt t  t   to  t    to th t  t to t tnt t  tt tnnnthtt    to sn tnt to  t tui t s    to to to   to to t t   t   tnt   nntui  tnth ti to  thtn\n",
      "u to ttont to tuilt tntn t  t  tt t  t tt t  t   to  t    to to a  t to t tnt t  tt tsnnthtto   to sn tnt to  t tui   so   to to to   to to t t   to  tnt   nntui  tnth ti to  thts\n",
      "mitosttost to tuill tntndui tostt to t tt t  t   to  to   to tosa  a to t tnt tostt tsnstntto   tosss tnt to  s tui toso   to so to   to tont to  to  tnt  nnstmi  tnth tt to  tnss\n",
      "thtosttost to tuild tndhtt, tostt to t tt t  t   to  to   to to a  a to t tnd tostt tnnst tto   tosss tnd to  s tut   so   to so to   to tont to  to  tnd   nndm   tnth tt to  thts\n",
      "t tos tost to tutld tndhtt, tostt t  t tt to t   to  to   to to a  a to t tnd tostt tnnst tth   tosns tnd to  s tut   to   to so to   to tont to  to  tnd   sndmm  tnth tt to  toss\n",
      "t dosldost to tutld tndndu, tostt to t tt to t   to  toe  to tosa  d to t tnd tostt tssst  toe  tosns tnd to  s tut   toe  to so toe  to tost to  toe tnd  nsndum stnth tt toe toss\n",
      "p do  tost to tuild tndhdp, tontt t    tt tee  e th  toe  th to  e teto t tnd tontt tsnsg  the  thsns tnd to  s tut   the  th toethe  th to t to  the tnd e sndmm stigh tt the toss\n",
      "p don tost to tuild tndhdp, tontt to t tt te t e to  toe  th tosd nt to t tnd tontt tnssg  the  thsns tnd to  s tui tashe  th so the  th tont to  the tnd  nnsdpm stigh tt toe thss\n",
      "p ton tont to tuild dndhdp, tontt t  m tp te s e to  toe  th to oe t to t dnd tontt tnssgk the  tosns tnd to  , tui  ashe  th so the  to tont to  the tod ens dmm ntigh ts toe toss\n",
      "p ton tost to tuild tndhdp, tontt t  m tt te t e to  toe  th to oe t to t and aontt tnsigk the  thsis tnd ao  , tut  athe  th so the  th tont to  the tnd ens dmm ntit, tt toe thss\n",
      "p ton tont to tuild andhdm, tontt ao m tt te tle to  aoe  th to oert to t and aontt asiign the  tosis tnd ao  , tut  athe  th so toe  to tont ao  toe tnd ensismm ntith af toe thds\n"
     ]
    },
    {
     "name": "stdout",
     "output_type": "stream",
     "text": [
      "p to  tons to tuild andhip, tontt a  m tm te tle to  aoe  th to oert to t and aontt ansign the  thsis tnd ao  , tut  athe  th so the  th tont ao  the tnd ensismm nsity as the thds\n",
      "p ae  lons to tuild andh p, aonst a  m tp te tle to  the  th to oert to t and aonst ansign the  thsis tnd ao  , tut  athe  th ch the  th tont ao  the tnd ensismm nsity as the thts\n",
      "p aor lons ao tuild andhip, aonst aorp ap tentle ao  the  to corlent aoot and aonst ansign the  tonis tnd aoo , aui  ather to ch toe  to tons aor toercnd  nsismm nsity af toe chds\n",
      "p te mlont to tuild andhip, aon't a  m tp tertle to  the  th co lest aoot and aontt assign the  thsis tnd aoo , tut  athe  th ch the  th tont aor the tnd ens smmensity af the thti\n",
      "p aor lont to cuild andhip, aon't a  m tp tertle to  the  th co eert aoot and aontt assign the  tosks dnd aoo , aut  athe  th ch toe  to cont aor toe cnd ens smmensity af the chts\n",
      "p dor lont do cuild andhip, aonst aoum tp teotle to  the  th co lest aoot and aonst assign the  thsks dnd aoo , aut uathe  th ch the  to cons aor the cnd ess dmmensity af the thdi\n",
      "p dor lont do cuild andhip, aon't aoum tp teotle to  ther to co lent aood and aon't assign the  tosks dnd aoo , tut uather to ch toer to cont aor toe cnd ess immensity af toerchds\n",
      "f lor lont to cuild anship, aon't aoum tp teotle to  the  th co lent doow and don't assign the  thsks dnd doo , tut uather th ch the  th cong  or the endless immensity af the ehts\n",
      "f lor lont do cuild anship, don't aoum ap teowle to  the  th co lent doow and don't assign the  tosks dnd doo , aut uathe  th ch the  to cong aor the end ess immensity df the ehds\n",
      "f lor lont do cuild anship, don't aoum ap teotle to  the  th collent dood and don't assign the  tosks and dor , aut uathe  th ch the  to cong aor the endless immensity df the ehtg\n",
      "g lor lont do luild anship, don't doum tp teotle to  the  to lollent dood andldon't dssign the  tosks and dor , dut uathe  th ch ther to long aor the endless immensity af the ehtg\n",
      "g lor lont do luild anship, don't drum tp leotle to  the  th lollent dood and don't dssign the  tosks and dor , aut uathe  th ch the  to long aor the endless immensity af the ehdg\n",
      "g lor lont uo cuild anship, don't drum tp teotle to  the  th collent dood and don't dssign the  tosks and aor , tut rathe  th ch the  to cong aor the endless immensity af the ehdg\n",
      "p lor lont do cuild anship, don't drrm tp teotle to  the  th collent dood and don't dssign the  tosks and dor , aut rathe  th ch the  to cong aor the endless immensity af the ehdg\n",
      "p lor lont do luild anship, don't drrm ap teople to ethem th bollent dood dnd don't dssign the  tosks and dor , aut rathe  th ch the  to long aor the endless immensity af the eodg\n",
      "p lor lont do luild anship, don't drum ap teop,e to ethem to lollent dood and don't dssign the  tosks and dor , aut rathe  toach them to long aor the endless immensity af the eodg\n",
      "p lor wont do luild anship, don't drum up people to ether to bollent dood and don't dssign the  tosks and aor , aut rathe  thach them to long aor the endless immensity af the eeds\n",
      "p lo  wont do build anship, don't arum tp people to ether te bollent dood and don't assign the  tosks and aor , but rathe  teach the  to long aor the endless immensity af the eedg\n",
      "p lo  wont do build anship, don't arum up people to ether te bollent dood and don't assign the  tosks and dor , aut rathem teach them to long aor the endless immensity af the eeas\n",
      "l wor wont do build anship, don't arum up people together to bollent dood and don't assign them tosks and dork, aut rathem teach them to long aor themendless immensity af themeea.\n",
      "p wor wont do build anship, don't arum up people together to bollent dood and don't assign them tosks and dork, aut rathem toach them to long tor themendless immensity af themsea.\n",
      "p bor wont do build anship, don't arum up people together to bollect dood and don't assign them tosks and dork, aut rather toach ther to long tor themendless immensity af themsea.\n",
      "p lor wont do build anship, don't arum up people together to bollent dood and won't assign them tasks and dork, aut rather toach ther ta long tor themendless immensity af themsea.\n",
      "p lou wont do build anship, don't arum up people together to bollent dood and won't assign them tasks and work, aut rather toach ther ta long tor themendless immensity af themeea.\n",
      "t wou wont do build anship, don't arum up people together to collect dood and won't assign them tasks and work, but rather toach ther ta long tor themendless immensity af themsea.\n",
      "t wou wont do build anship, don't drum up people together to collect dood and won't dssign them tosks and work, but rather toach them to long tor themendless immensity af themsea.\n",
      "m wou wont do build anship, don't arum up people together to collect dood and won't assign them tosks and work, but uather toach them to long tor themendless immensity af themsea.\n",
      "m wou wont do build anship, don't arum up people together to collect dood and won't assign them tasks and work, but uather toach them ta long tor themendless immensity af themsea.\n",
      "l wou wont do build anship, don't arum up people together to collect wood and won't assign them tosks and work, but rather toach them to long tor themendless immensity af themsea.\n",
      "l wou want do build anship, don't arum up people together to collect wood and don't assign them tasks and work, but rather toach them ta long tor themendless immensity af themsea.\n",
      "l wou want do build anship, don't drum up people together to collect wood and don't dssign them tasks and work, but rather toach them ta long tor themendless immensity af themeea.\n",
      "f wou want do build anship, don't drum up people together to collect wood and don't dssign them tosks and work, but rather toach them to long tor themendless immensity af themeea.\n",
      "f wou want do build anship, don't drum up people together to collect wood and don't dssign them tosks and work, but rather teach them to long for themendless immensity af themeea.\n",
      "t wou want do build anship, don't drum up people together te collect wood and don't dssign them tosks and work, but rather teach them to long for themendless immensity af themeea.\n",
      "t pou want do build a ship, don't drum up people together te collect wood and don't assign them tasks and work, but rather teach them ta long for themendless immensity af themeea.\n",
      "t pou want to build a ship, don't arum up people together to collect wood and don't assign them tasks and work, but rather toach them ta long for themendless immensity af themeea.\n",
      "p pou want ao build a ship, don't arum up people together to collect wood and don't assign them tasks and work, but rather toach them ta long for themendless immensity af themsea.\n",
      "p pou want do build a ship, don't drum up people together to collect wood and don't assign them tasks and work, but rather toach them to long for themendless immensity af themeea.\n",
      "p pou want to build a ship, don't arum up people together te collect wood and don't assign them tasks and work, but rather teach them ta long for themendless immensity uf themsea.\n",
      "l pou want to build a ship, don't arum up people together te collect wood and don't assign them tasks and work, but rather teach them ta long for themendless immensity bf themsea.\n",
      "l wou want to build a ship, don't drum up people together to collect wood and don't dssign them tosks and work, but rather toach them to long for themendless immensity of themsea.\n",
      "m wou want to build a ship, don't drum up people together te collect wood and don't dssign them tasks and work, but rather teach them ta long for themendless immensity of themsea.\n",
      "m wou want to build a ship, don't drum up people together te collect wood and don't assign them tasks and work, but rather teach them ta long for themendless immensity of themsea.\n",
      "m bou want to build a ship, don't arum up people together to collect wood and don't assign them tasks and work, but rather toach them to long for themendless immensity of themsea.\n",
      "m pou want to build a ship, don't drum up people together to collect wood and don't dssign them tasks and work, but rather toach them ta long for themendless immensity of themsea.\n"
     ]
    },
    {
     "name": "stdout",
     "output_type": "stream",
     "text": [
      "l pou want to build a ship, don't arum up people together te collect wood and don't assign them tasks and work, but rather teach them ta long for themendless immensity of themsea.\n",
      "l pou want to build a ship, don't drum up people together to collect wood and don't dssign them tasks and work, but rather teach them to long for themendless immensity of themsea.\n",
      "g pou want to build a ship, don't drum up people together to collect wood and don't dssign them tosks and work, but rather teach them to long for themendless immensity of themsea.\n",
      "g pou want to build a ship, don't drum up people together te collect wood and don't dssign them tasks and work, but rather teach them ta long for themendless immensity of themsea.\n",
      "f pou want to build a ship, don't drum up people together to collect wood and don't assign them tasks and work, but rather teach them to long for the endless immensity of themsea.\n",
      "t pou want to build a ship, don't drum up people together to collect wood and don't assign them tasks and work, but rather teach them to long for the endless immensity of themsea.\n",
      "t you want to build a ship, don't drum up people together to collect wood and don't assign them tasks and work, but rather teach them to long for the endless immensity of themsea.\n",
      "t you want to build a ship, don't drum up people together to collect wood and don't assign them tasks and work, but rather teach them to long for the endless immensity of themsea.\n",
      "f pou want to build a ship, don't drum up people together te collect wood and don't assign them tasks and work, but rather teach them ta long for the endless immensity of themsea.\n",
      "l you want to build a ship, don't drum up people together to collect wood and don't assign them tosks and work, but rather teach them to long for the endless immensity of themsea.\n"
     ]
    }
   ],
   "source": [
    "# start training\n",
    "for i in range(100): # train loop 100번\n",
    "    optimizer.zero_grad() # gradient 매 loop마다 리셋\n",
    "    outputs = net(X)\n",
    "    loss = criterion(outputs.view(-1, dic_size), Y.view(-1)) # output과 true label\n",
    "    loss.backward() # gradient 계산\n",
    "    optimizer.step() # parameter 업데이트\n",
    "\n",
    "    # 모델이 예측한 결과물 해석\n",
    "    results = outputs.argmax(dim=2)\n",
    "    predict_str = \"\"\n",
    "    for j, result in enumerate(results):\n",
    "        # print(i, j, ''.join([char_set[t] for t in result]), loss.item())\n",
    "        if j == 0: # sequence len 길이의 character 만들기\n",
    "            predict_str += ''.join([char_set[t] for t in result])\n",
    "        else: # result의 맨 마지막 값만 가져와 기존의 prediction string에 붙여주기\n",
    "            predict_str += char_set[result[-1]]\n",
    "\n",
    "    print(predict_str)"
   ]
  },
  {
   "cell_type": "markdown",
   "metadata": {},
   "source": [
    "#### 과제2)  \n",
    "https://tutorials.pytorch.kr/intermediate/char_rnn_classification_tutorial.html\n",
    "위 링크 따라해보기!"
   ]
  },
  {
   "cell_type": "markdown",
   "metadata": {},
   "source": [
    "구체적으로, 18개 언어로 된 수천 개의 성(姓)을 훈련시키고, 철자에 따라 이름이 어떤 언어인지 예측"
   ]
  },
  {
   "cell_type": "code",
   "execution_count": 31,
   "metadata": {},
   "outputs": [],
   "source": [
    "from __future__ import unicode_literals, print_function, division\n",
    "from io import open\n",
    "import glob\n",
    "import os"
   ]
  },
  {
   "cell_type": "code",
   "execution_count": 33,
   "metadata": {},
   "outputs": [],
   "source": [
    "def findFiles(path): return glob.glob(path)"
   ]
  },
  {
   "cell_type": "code",
   "execution_count": 35,
   "metadata": {},
   "outputs": [
    {
     "name": "stdout",
     "output_type": "stream",
     "text": [
      "['data/names\\\\Arabic.txt', 'data/names\\\\Chinese.txt', 'data/names\\\\Czech.txt', 'data/names\\\\Dutch.txt', 'data/names\\\\English.txt', 'data/names\\\\French.txt', 'data/names\\\\German.txt', 'data/names\\\\Greek.txt', 'data/names\\\\Irish.txt', 'data/names\\\\Italian.txt', 'data/names\\\\Japanese.txt', 'data/names\\\\Korean.txt', 'data/names\\\\Polish.txt', 'data/names\\\\Portuguese.txt', 'data/names\\\\Russian.txt', 'data/names\\\\Scottish.txt', 'data/names\\\\Spanish.txt', 'data/names\\\\Vietnamese.txt']\n"
     ]
    }
   ],
   "source": [
    "print(findFiles('data/names/*.txt'))"
   ]
  },
  {
   "cell_type": "code",
   "execution_count": 36,
   "metadata": {},
   "outputs": [
    {
     "name": "stdout",
     "output_type": "stream",
     "text": [
      "Slusarski\n"
     ]
    }
   ],
   "source": [
    "import unicodedata\n",
    "import string\n",
    "\n",
    "all_letters = string.ascii_letters + \" .,;'\"\n",
    "n_letters = len(all_letters)\n",
    "\n",
    "# 유니코드 문자열을 ASCII로 변환\n",
    "def unicodeToAscii(s):\n",
    "    return ''.join(\n",
    "        c for c in unicodedata.normalize('NFD', s)\n",
    "        if unicodedata.category(c) != 'Mn'\n",
    "        and c in all_letters\n",
    "    )\n",
    "\n",
    "print(unicodeToAscii('Ślusàrski'))"
   ]
  },
  {
   "cell_type": "code",
   "execution_count": 40,
   "metadata": {},
   "outputs": [
    {
     "data": {
      "text/plain": [
       "\"abcdefghijklmnopqrstuvwxyzABCDEFGHIJKLMNOPQRSTUVWXYZ .,;'\""
      ]
     },
     "execution_count": 40,
     "metadata": {},
     "output_type": "execute_result"
    }
   ],
   "source": [
    "all_letters"
   ]
  },
  {
   "cell_type": "code",
   "execution_count": 37,
   "metadata": {},
   "outputs": [],
   "source": [
    "# 각 언어별 이름 목록 사전 category_lines 생성: {language: [names...]}\n",
    "category_lines = {}\n",
    "all_categories = []"
   ]
  },
  {
   "cell_type": "code",
   "execution_count": 38,
   "metadata": {},
   "outputs": [],
   "source": [
    "# 파일을 읽고 줄 단위로 분리\n",
    "def readLines(filename):\n",
    "    lines = open(filename, encoding='utf-8').read().strip().split('\\n')\n",
    "    return [unicodeToAscii(line) for line in lines]\n",
    "\n",
    "for filename in findFiles('data/names/*.txt'):\n",
    "    category = os.path.splitext(os.path.basename(filename))[0]\n",
    "    all_categories.append(category)\n",
    "    lines = readLines(filename)\n",
    "    category_lines[category] = lines\n",
    "\n",
    "n_categories = len(all_categories)"
   ]
  },
  {
   "cell_type": "code",
   "execution_count": 39,
   "metadata": {},
   "outputs": [
    {
     "name": "stdout",
     "output_type": "stream",
     "text": [
      "['Abandonato', 'Abatangelo', 'Abatantuono', 'Abate', 'Abategiovanni']\n"
     ]
    }
   ],
   "source": [
    "print(category_lines['Italian'][:5])"
   ]
  },
  {
   "cell_type": "code",
   "execution_count": 41,
   "metadata": {},
   "outputs": [
    {
     "name": "stdout",
     "output_type": "stream",
     "text": [
      "tensor([[0., 0., 0., 0., 0., 0., 0., 0., 0., 0., 0., 0., 0., 0., 0., 0., 0., 0.,\n",
      "         0., 0., 0., 0., 0., 0., 0., 0., 0., 0., 0., 0., 0., 0., 0., 0., 0., 1.,\n",
      "         0., 0., 0., 0., 0., 0., 0., 0., 0., 0., 0., 0., 0., 0., 0., 0., 0., 0.,\n",
      "         0., 0., 0.]])\n",
      "torch.Size([5, 1, 57])\n"
     ]
    }
   ],
   "source": [
    "import torch\n",
    "\n",
    "# all_letters 로 문자의 주소 찾기, 예시 \"a\" = 0, \"b\" = 1, ...\n",
    "def letterToIndex(letter):\n",
    "    return all_letters.find(letter)\n",
    "\n",
    "# 하나의 문자를 크기가 <1 x n_letters>인 원핫벡터로 표현\n",
    "def letterToTensor(letter):\n",
    "    tensor = torch.zeros(1, n_letters)\n",
    "    tensor[0][letterToIndex(letter)] = 1\n",
    "    return tensor\n",
    "\n",
    "# 단어를 만들기 위해 이름을 torch.Size([이름길이, 1, n_letters]) array로 변경\n",
    "def lineToTensor(line):\n",
    "    tensor = torch.zeros(len(line), 1, n_letters)\n",
    "    for li, letter in enumerate(line):\n",
    "        tensor[li][0][letterToIndex(letter)] = 1\n",
    "    return tensor\n",
    "\n",
    "print(letterToTensor('J'))\n",
    "print(lineToTensor('Jones').size())"
   ]
  },
  {
   "cell_type": "code",
   "execution_count": 42,
   "metadata": {},
   "outputs": [],
   "source": [
    "import torch.nn as nn\n",
    "\n",
    "class RNN(nn.Module):\n",
    "    def __init__(self, input_size, hidden_size, output_size):\n",
    "        super(RNN, self).__init__()\n",
    "\n",
    "        self.hidden_size = hidden_size\n",
    "\n",
    "        self.i2h = nn.Linear(input_size + hidden_size, hidden_size)\n",
    "        self.i2o = nn.Linear(input_size + hidden_size, output_size)\n",
    "        self.softmax = nn.LogSoftmax(dim=1)\n",
    "        # 두 개의 선형 계층rhk logsoftmax 계층\n",
    "        \n",
    "    def forward(self, input, hidden):\n",
    "        combined = torch.cat((input, hidden), 1)\n",
    "        hidden = self.i2h(combined)\n",
    "        output = self.i2o(combined)\n",
    "        output = self.softmax(output)\n",
    "        return output, hidden\n",
    "    \n",
    "    def initHidden(self):\n",
    "        return torch.zeros(1, self.hidden_size)\n",
    "    \n",
    "n_hidden = 128\n",
    "rnn = RNN(n_letters, n_hidden, n_categories)"
   ]
  },
  {
   "cell_type": "code",
   "execution_count": 43,
   "metadata": {},
   "outputs": [],
   "source": [
    "input = letterToTensor('A')\n",
    "hidden =torch.zeros(1, n_hidden)\n",
    "\n",
    "output, next_hidden = rnn(input, hidden)\n",
    "# 입력과 이전 은닉상태를 출력과 다음 은닉상태로 전달"
   ]
  },
  {
   "cell_type": "code",
   "execution_count": 44,
   "metadata": {},
   "outputs": [
    {
     "name": "stdout",
     "output_type": "stream",
     "text": [
      "tensor([[-2.9189, -2.9280, -2.8729, -2.7870, -2.8203, -2.9697, -2.9994, -2.9015,\n",
      "         -2.8089, -2.9107, -3.0466, -2.8798, -2.8032, -2.9345, -2.8470, -2.9458,\n",
      "         -2.8161, -2.8802]], grad_fn=<LogSoftmaxBackward>)\n"
     ]
    }
   ],
   "source": [
    "input = lineToTensor('Albert')\n",
    "# lineToTensor 함수를 이용해 문자 길이 입력\n",
    "hidden = torch.zeros(1, n_hidden)\n",
    "\n",
    "output, next_hidden = rnn(input[0], hidden)\n",
    "print(output)\n",
    "# 출력은 해당 카테고리의 likelihood"
   ]
  },
  {
   "cell_type": "code",
   "execution_count": 45,
   "metadata": {},
   "outputs": [
    {
     "name": "stdout",
     "output_type": "stream",
     "text": [
      "('Dutch', 3)\n"
     ]
    }
   ],
   "source": [
    "# likelihood가 가장 큰 언어와 번호 반환\n",
    "def categoryFromOutput(output):\n",
    "    top_n, top_i = output.topk(1) # 텐서의 가장 큰 값 및 주소\n",
    "    category_i = top_i[0].item()     # 텐서에서 정수 값으로 변경\n",
    "    return all_categories[category_i], category_i\n",
    "\n",
    "print(categoryFromOutput(output))"
   ]
  },
  {
   "cell_type": "code",
   "execution_count": 46,
   "metadata": {},
   "outputs": [
    {
     "name": "stdout",
     "output_type": "stream",
     "text": [
      "category = Scottish / line = Gray\n",
      "category = Japanese / line = Maita\n",
      "category = Czech / line = Hanzlick\n",
      "category = Italian / line = Aleppo\n",
      "category = German / line = Schumacher\n",
      "category = Russian / line = Filippenkov\n",
      "category = Greek / line = Avgerinos\n",
      "category = Greek / line = Georgeakopoulos\n",
      "category = Vietnamese / line = Quang\n",
      "category = Polish / line = Sienkiewicz\n"
     ]
    }
   ],
   "source": [
    "# 학습 data(이름, 언어)를 얻는 빠른 방법\n",
    "import random\n",
    "\n",
    "def randomChoice(l):\n",
    "    return l[random.randint(0, len(l) - 1)]\n",
    "\n",
    "def randomTrainingExample():\n",
    "    category = randomChoice(all_categories)\n",
    "    line = randomChoice(category_lines[category])\n",
    "    category_tensor = torch.tensor([all_categories.index(category)], dtype=torch.long)\n",
    "    line_tensor = lineToTensor(line)\n",
    "    return category, line, category_tensor, line_tensor\n",
    "\n",
    "for i in range(10):\n",
    "    category, line, category_tensor, line_tensor = randomTrainingExample()\n",
    "    print('category =', category, '/ line =', line)\n",
    "    # category가 언어, line이 이름"
   ]
  },
  {
   "cell_type": "code",
   "execution_count": 48,
   "metadata": {},
   "outputs": [],
   "source": [
    "criterion = nn.NLLLoss() # 손실함수\n",
    "learning_rate = 0.005 # 너무 높으면 발산, 너무 낮으면 학습X\n",
    "\n",
    "# 학습\n",
    "def train(category_tensor, line_tensor): # 입력과 목표 tensor 생성\n",
    "    hidden = rnn.initHidden()\n",
    "\n",
    "    rnn.zero_grad() # 0으로 초기화된 은닉 상태 생성\n",
    "\n",
    "    for i in range(line_tensor.size()[0]):\n",
    "        output, hidden = rnn(line_tensor[i], hidden)\n",
    "        # 각 문자 읽고 다음 문자 위한 은닉 상태 유지\n",
    "\n",
    "    loss = criterion(output, category_tensor) # 최종 output과 목표값 비교\n",
    "    loss.backward() # 역전파\n",
    "\n",
    "    # 매개변수의 경사도에 학습률을 곱해서 그 매개변수의 값에 더합니다.\n",
    "    for p in rnn.parameters():\n",
    "        p.data.add_(p.grad.data, alpha=-learning_rate)\n",
    "    \n",
    "    return output, loss.item() # 출력과 손실 반환"
   ]
  },
  {
   "cell_type": "code",
   "execution_count": 49,
   "metadata": {},
   "outputs": [
    {
     "name": "stdout",
     "output_type": "stream",
     "text": [
      "5000 5% (0m 13s) 2.3370 Pavlicka / Czech ✓\n",
      "10000 10% (0m 26s) 1.4378 Rooiakkers / Greek ✗ (Dutch)\n",
      "15000 15% (0m 40s) 2.4670 Janvier / German ✗ (French)\n",
      "20000 20% (0m 52s) 1.3090 Nevelsky / Polish ✗ (Russian)\n",
      "25000 25% (1m 6s) 2.0595 Ganem / German ✗ (Arabic)\n",
      "30000 30% (1m 18s) 2.9350 Mackenzie / Polish ✗ (Scottish)\n",
      "35000 35% (1m 32s) 0.8972 Maclean / Scottish ✓\n",
      "40000 40% (1m 45s) 1.4442 Novak / Polish ✗ (Czech)\n",
      "45000 45% (1m 58s) 1.9539 Sneijer / German ✗ (Dutch)\n",
      "50000 50% (2m 12s) 1.2260 Nadvornizch / Czech ✓\n",
      "55000 55% (2m 25s) 0.9188 Favre / French ✓\n",
      "60000 60% (2m 39s) 1.2833 Guerin / French ✓\n",
      "65000 65% (2m 54s) 4.5047 Macdermott / Dutch ✗ (Irish)\n",
      "70000 70% (3m 8s) 1.1209 De la fontaine / French ✓\n",
      "75000 75% (3m 23s) 1.2876 Doan / Vietnamese ✓\n",
      "80000 80% (3m 35s) 0.5367 Poggio / Italian ✓\n",
      "85000 85% (3m 49s) 0.3041 Meng / Chinese ✓\n",
      "90000 90% (4m 4s) 3.2551 Raskop / Russian ✗ (German)\n",
      "95000 95% (4m 17s) 1.1256 Rosario / Greek ✗ (Portuguese)\n",
      "100000 100% (4m 30s) 0.3474 Mach / Vietnamese ✓\n"
     ]
    }
   ],
   "source": [
    "import time\n",
    "import math\n",
    "\n",
    "n_iters = 100000\n",
    "print_every = 5000\n",
    "plot_every = 1000\n",
    "\n",
    "# 도식화를 위한 손실 추적\n",
    "current_loss = 0\n",
    "all_losses = []\n",
    "\n",
    "def timeSince(since):\n",
    "    now = time.time()\n",
    "    s = now - since\n",
    "    m = math.floor(s / 60)\n",
    "    s -= m * 60\n",
    "    return '%dm %ds' % (m, s)\n",
    "\n",
    "start = time.time()\n",
    "\n",
    "for iter in range(1, n_iters + 1):\n",
    "    category, line, category_tensor, line_tensor = randomTrainingExample()\n",
    "    output, loss = train(category_tensor, line_tensor)\n",
    "    current_loss += loss\n",
    "\n",
    "    # iter 숫자, 손실, 이름, 추측 화면 출력\n",
    "    if iter % print_every == 0:\n",
    "        guess, guess_i = categoryFromOutput(output)\n",
    "        correct = '✓' if guess == category else '✗ (%s)' % category\n",
    "        print('%d %d%% (%s) %.4f %s / %s %s' % (iter, iter / n_iters * 100, timeSince(start), loss, line, guess, correct))\n",
    "\n",
    "    # 현재 평균 손실을 전체 손실 리스트에 추가\n",
    "    if iter % plot_every == 0:\n",
    "        all_losses.append(current_loss / plot_every)\n",
    "        current_loss = 0"
   ]
  },
  {
   "cell_type": "code",
   "execution_count": 51,
   "metadata": {},
   "outputs": [
    {
     "data": {
      "text/plain": [
       "[<matplotlib.lines.Line2D at 0x1f5f413a608>]"
      ]
     },
     "execution_count": 51,
     "metadata": {},
     "output_type": "execute_result"
    },
    {
     "data": {
      "image/png": "[encoded data removed]",
      "text/plain": [
       "<Figure size 432x288 with 1 Axes>"
      ]
     },
     "metadata": {
      "needs_background": "light"
     },
     "output_type": "display_data"
    }
   ],
   "source": [
    "# 결과 도식화\n",
    "import matplotlib.pyplot as plt\n",
    "import matplotlib.ticker as ticker\n",
    "\n",
    "plt.figure()\n",
    "plt.plot(all_losses)"
   ]
  },
  {
   "cell_type": "code",
   "execution_count": 54,
   "metadata": {},
   "outputs": [
    {
     "data": {
      "image/png": "[encoded data removed]",
      "text/plain": [
       "<Figure size 432x288 with 2 Axes>"
      ]
     },
     "metadata": {
      "needs_background": "light"
     },
     "output_type": "display_data"
    },
    {
     "data": {
      "text/plain": [
       "<Figure size 576x576 with 0 Axes>"
      ]
     },
     "metadata": {},
     "output_type": "display_data"
    }
   ],
   "source": [
    "# 결과 평가\n",
    "# 다른 언어에 얼마나 잘 작동하는지 보기 위해 모든 언어가 어떤 언어로 추측되는지 표현하는 confusion matrix 생성\n",
    "confusion = torch.zeros(n_categories, n_categories)\n",
    "n_confusion = 10000\n",
    "\n",
    "# 주어진 라인의 출력 반환\n",
    "def evaluate(line_tensor):\n",
    "    hidden = rnn.initHidden()\n",
    "\n",
    "    for i in range(line_tensor.size()[0]):\n",
    "        output, hidden = rnn(line_tensor[i], hidden)\n",
    "\n",
    "    return output\n",
    "\n",
    "# 예시들 중에 어떤 것이 정확하게 예측되었는지 기록\n",
    "for i in range(n_confusion):\n",
    "    category, line, category_tensor, line_tensor = randomTrainingExample()\n",
    "    output = evaluate(line_tensor)\n",
    "    guess, guess_i = categoryFromOutput(output)\n",
    "    category_i = all_categories.index(category)\n",
    "    confusion[category_i][guess_i] += 1\n",
    "\n",
    "# 모든 행을 합계로 나누어 정규화\n",
    "for i in range(n_categories):\n",
    "    confusion[i] = confusion[i] / confusion[i].sum()\n",
    "\n",
    "# 도식 설정\n",
    "fig = plt.figure()\n",
    "ax = fig.add_subplot(111)\n",
    "cax = ax.matshow(confusion.numpy())\n",
    "fig.colorbar(cax)\n",
    "\n",
    "# 축 설정\n",
    "ax.set_xticklabels([''] + all_categories, rotation=90)\n",
    "ax.set_yticklabels([''] + all_categories)\n",
    "\n",
    "# 모든 tick에서 레이블 지정\n",
    "ax.xaxis.set_major_locator(ticker.MultipleLocator(1))\n",
    "ax.yaxis.set_major_locator(ticker.MultipleLocator(1))\n",
    "\n",
    "# sphinx_gallery_thumbnail_number = 2\n",
    "plt.show()"
   ]
  }
 ],
 "metadata": {
  "kernelspec": {
   "display_name": "Python 3",
   "language": "python",
   "name": "python3"
  },
  "language_info": {
   "codemirror_mode": {
    "name": "ipython",
    "version": 3
   },
   "file_extension": ".py",
   "mimetype": "text/x-python",
   "name": "python",
   "nbconvert_exporter": "python",
   "pygments_lexer": "ipython3",
   "version": "3.7.4"
  }
 },
 "nbformat": 4,
 "nbformat_minor": 2
}

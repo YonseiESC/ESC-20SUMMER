{
 "cells": [
  {
   "cell_type": "markdown",
   "metadata": {},
   "source": [
    "## 1번 문제\n",
    "모두의딥러닝 시즌2 강의의 longsequence 코드 lstm 모델 적용해보기.\n",
    "https://github.com/deeplearningzerotoall/PyTorch/blob/master/RNN/4-longseq.ipynb"
   ]
  },
  {
   "cell_type": "code",
   "execution_count": 1,
   "metadata": {},
   "outputs": [],
   "source": [
    "import torch\n",
    "import torch.optim as optim\n",
    "import numpy as np"
   ]
  },
  {
   "cell_type": "code",
   "execution_count": 2,
   "metadata": {},
   "outputs": [
    {
     "data": {
      "text/plain": [
       "<torch._C.Generator at 0x1a03a39ed10>"
      ]
     },
     "execution_count": 2,
     "metadata": {},
     "output_type": "execute_result"
    }
   ],
   "source": [
    "# Random seed to make results deterministic and reproducible\n",
    "torch.manual_seed(0)"
   ]
  },
  {
   "cell_type": "code",
   "execution_count": 3,
   "metadata": {},
   "outputs": [],
   "source": [
    "sentence = (\"if you want to build a ship, don't drum up people together to \"\n",
    "            \"collect wood and don't assign them tasks and work, but rather \"\n",
    "            \"teach them to long for the endless immensity of the sea.\")"
   ]
  },
  {
   "cell_type": "code",
   "execution_count": 4,
   "metadata": {},
   "outputs": [],
   "source": [
    "# make dictionary\n",
    "char_set = list(set(sentence))\n",
    "char_dic = {c: i for i, c in enumerate(char_set)}"
   ]
  },
  {
   "cell_type": "code",
   "execution_count": 40,
   "metadata": {},
   "outputs": [
    {
     "data": {
      "text/plain": [
       "{'y': 0,\n",
       " 'i': 1,\n",
       " 'o': 2,\n",
       " 'b': 3,\n",
       " ',': 4,\n",
       " 'w': 5,\n",
       " '.': 6,\n",
       " 'h': 7,\n",
       " 'u': 8,\n",
       " 'd': 9,\n",
       " 'k': 10,\n",
       " 't': 11,\n",
       " 'c': 12,\n",
       " 'f': 13,\n",
       " 'n': 14,\n",
       " ' ': 15,\n",
       " 's': 16,\n",
       " \"'\": 17,\n",
       " 'l': 18,\n",
       " 'a': 19,\n",
       " 'm': 20,\n",
       " 'e': 21,\n",
       " 'g': 22,\n",
       " 'p': 23,\n",
       " 'r': 24}"
      ]
     },
     "execution_count": 40,
     "metadata": {},
     "output_type": "execute_result"
    }
   ],
   "source": [
    "char_dic"
   ]
  },
  {
   "cell_type": "code",
   "execution_count": 5,
   "metadata": {},
   "outputs": [],
   "source": [
    "# hyper parameters\n",
    "dic_size = len(char_dic)\n",
    "hidden_size = len(char_dic)\n",
    "sequence_length = 10  # Any arbitrary number\n",
    "learning_rate = 0.1"
   ]
  },
  {
   "cell_type": "code",
   "execution_count": 6,
   "metadata": {},
   "outputs": [
    {
     "name": "stdout",
     "output_type": "stream",
     "text": [
      "0 if you wan -> f you want\n",
      "1 f you want ->  you want \n",
      "2  you want  -> you want t\n",
      "3 you want t -> ou want to\n",
      "4 ou want to -> u want to \n",
      "5 u want to  ->  want to b\n",
      "6  want to b -> want to bu\n",
      "7 want to bu -> ant to bui\n",
      "8 ant to bui -> nt to buil\n",
      "9 nt to buil -> t to build\n",
      "10 t to build ->  to build \n",
      "11  to build  -> to build a\n",
      "12 to build a -> o build a \n",
      "13 o build a  ->  build a s\n",
      "14  build a s -> build a sh\n",
      "15 build a sh -> uild a shi\n",
      "16 uild a shi -> ild a ship\n",
      "17 ild a ship -> ld a ship,\n",
      "18 ld a ship, -> d a ship, \n",
      "19 d a ship,  ->  a ship, d\n",
      "20  a ship, d -> a ship, do\n",
      "21 a ship, do ->  ship, don\n",
      "22  ship, don -> ship, don'\n",
      "23 ship, don' -> hip, don't\n",
      "24 hip, don't -> ip, don't \n",
      "25 ip, don't  -> p, don't d\n",
      "26 p, don't d -> , don't dr\n",
      "27 , don't dr ->  don't dru\n",
      "28  don't dru -> don't drum\n",
      "29 don't drum -> on't drum \n",
      "30 on't drum  -> n't drum u\n",
      "31 n't drum u -> 't drum up\n",
      "32 't drum up -> t drum up \n",
      "33 t drum up  ->  drum up p\n",
      "34  drum up p -> drum up pe\n",
      "35 drum up pe -> rum up peo\n",
      "36 rum up peo -> um up peop\n",
      "37 um up peop -> m up peopl\n",
      "38 m up peopl ->  up people\n",
      "39  up people -> up people \n",
      "40 up people  -> p people t\n",
      "41 p people t ->  people to\n",
      "42  people to -> people tog\n",
      "43 people tog -> eople toge\n",
      "44 eople toge -> ople toget\n",
      "45 ople toget -> ple togeth\n",
      "46 ple togeth -> le togethe\n",
      "47 le togethe -> e together\n",
      "48 e together ->  together \n",
      "49  together  -> together t\n",
      "50 together t -> ogether to\n",
      "51 ogether to -> gether to \n",
      "52 gether to  -> ether to c\n",
      "53 ether to c -> ther to co\n",
      "54 ther to co -> her to col\n",
      "55 her to col -> er to coll\n",
      "56 er to coll -> r to colle\n",
      "57 r to colle ->  to collec\n",
      "58  to collec -> to collect\n",
      "59 to collect -> o collect \n",
      "60 o collect  ->  collect w\n",
      "61  collect w -> collect wo\n",
      "62 collect wo -> ollect woo\n",
      "63 ollect woo -> llect wood\n",
      "64 llect wood -> lect wood \n",
      "65 lect wood  -> ect wood a\n",
      "66 ect wood a -> ct wood an\n",
      "67 ct wood an -> t wood and\n",
      "68 t wood and ->  wood and \n",
      "69  wood and  -> wood and d\n",
      "70 wood and d -> ood and do\n",
      "71 ood and do -> od and don\n",
      "72 od and don -> d and don'\n",
      "73 d and don' ->  and don't\n",
      "74  and don't -> and don't \n",
      "75 and don't  -> nd don't a\n",
      "76 nd don't a -> d don't as\n",
      "77 d don't as ->  don't ass\n",
      "78  don't ass -> don't assi\n",
      "79 don't assi -> on't assig\n",
      "80 on't assig -> n't assign\n",
      "81 n't assign -> 't assign \n",
      "82 't assign  -> t assign t\n",
      "83 t assign t ->  assign th\n",
      "84  assign th -> assign the\n",
      "85 assign the -> ssign them\n",
      "86 ssign them -> sign them \n",
      "87 sign them  -> ign them t\n",
      "88 ign them t -> gn them ta\n",
      "89 gn them ta -> n them tas\n",
      "90 n them tas ->  them task\n",
      "91  them task -> them tasks\n",
      "92 them tasks -> hem tasks \n",
      "93 hem tasks  -> em tasks a\n",
      "94 em tasks a -> m tasks an\n",
      "95 m tasks an ->  tasks and\n",
      "96  tasks and -> tasks and \n",
      "97 tasks and  -> asks and w\n",
      "98 asks and w -> sks and wo\n",
      "99 sks and wo -> ks and wor\n",
      "100 ks and wor -> s and work\n",
      "101 s and work ->  and work,\n",
      "102  and work, -> and work, \n",
      "103 and work,  -> nd work, b\n",
      "104 nd work, b -> d work, bu\n",
      "105 d work, bu ->  work, but\n",
      "106  work, but -> work, but \n",
      "107 work, but  -> ork, but r\n",
      "108 ork, but r -> rk, but ra\n",
      "109 rk, but ra -> k, but rat\n",
      "110 k, but rat -> , but rath\n",
      "111 , but rath ->  but rathe\n",
      "112  but rathe -> but rather\n",
      "113 but rather -> ut rather \n",
      "114 ut rather  -> t rather t\n",
      "115 t rather t ->  rather te\n",
      "116  rather te -> rather tea\n",
      "117 rather tea -> ather teac\n",
      "118 ather teac -> ther teach\n",
      "119 ther teach -> her teach \n",
      "120 her teach  -> er teach t\n",
      "121 er teach t -> r teach th\n",
      "122 r teach th ->  teach the\n",
      "123  teach the -> teach them\n",
      "124 teach them -> each them \n",
      "125 each them  -> ach them t\n",
      "126 ach them t -> ch them to\n",
      "127 ch them to -> h them to \n",
      "128 h them to  ->  them to l\n",
      "129  them to l -> them to lo\n",
      "130 them to lo -> hem to lon\n",
      "131 hem to lon -> em to long\n",
      "132 em to long -> m to long \n",
      "133 m to long  ->  to long f\n",
      "134  to long f -> to long fo\n",
      "135 to long fo -> o long for\n",
      "136 o long for ->  long for \n",
      "137  long for  -> long for t\n",
      "138 long for t -> ong for th\n",
      "139 ong for th -> ng for the\n",
      "140 ng for the -> g for the \n",
      "141 g for the  ->  for the e\n",
      "142  for the e -> for the en\n",
      "143 for the en -> or the end\n",
      "144 or the end -> r the endl\n",
      "145 r the endl ->  the endle\n",
      "146  the endle -> the endles\n",
      "147 the endles -> he endless\n",
      "148 he endless -> e endless \n",
      "149 e endless  ->  endless i\n",
      "150  endless i -> endless im\n",
      "151 endless im -> ndless imm\n",
      "152 ndless imm -> dless imme\n",
      "153 dless imme -> less immen\n",
      "154 less immen -> ess immens\n",
      "155 ess immens -> ss immensi\n",
      "156 ss immensi -> s immensit\n",
      "157 s immensit ->  immensity\n",
      "158  immensity -> immensity \n",
      "159 immensity  -> mmensity o\n",
      "160 mmensity o -> mensity of\n",
      "161 mensity of -> ensity of \n",
      "162 ensity of  -> nsity of t\n",
      "163 nsity of t -> sity of th\n",
      "164 sity of th -> ity of the\n",
      "165 ity of the -> ty of the \n",
      "166 ty of the  -> y of the s\n",
      "167 y of the s ->  of the se\n",
      "168  of the se -> of the sea\n",
      "169 of the sea -> f the sea.\n"
     ]
    }
   ],
   "source": [
    "# data setting\n",
    "x_data = []\n",
    "y_data = []\n",
    "\n",
    "for i in range(0, len(sentence) - sequence_length): \n",
    "    #길이가 10이 되게 자른 chunk를 len(sentence)-sequence_length만큼 문자를 한칸씩 넘어가면서 만들어줄것\n",
    "    x_str = sentence[i:i + sequence_length]\n",
    "    y_str = sentence[i + 1: i + sequence_length + 1]\n",
    "    print(i, x_str, '->', y_str)\n",
    "\n",
    "    x_data.append([char_dic[c] for c in x_str])  # x str to index 문자열을 index형태로 바꾸어줌\n",
    "    y_data.append([char_dic[c] for c in y_str])  # y str to index\n",
    "\n",
    "x_one_hot = [np.eye(dic_size)[x] for x in x_data] #np.eye 사용, one-hot vector로 만들어줌"
   ]
  },
  {
   "cell_type": "code",
   "execution_count": 7,
   "metadata": {},
   "outputs": [],
   "source": [
    "# transform as torch tensor variable; 만든 데이터를 파이토치 텐서 타입으로 바꾸기\n",
    "X = torch.FloatTensor(x_one_hot)\n",
    "Y = torch.LongTensor(y_data)"
   ]
  },
  {
   "cell_type": "code",
   "execution_count": 8,
   "metadata": {},
   "outputs": [],
   "source": [
    "# declare RNN + FC\n",
    "class Net(torch.nn.Module):#모듈이 내부적으로 어떤 하위모듈을 쓰는지 정의\n",
    "    def __init__(self, input_dim, hidden_dim, layers):\n",
    "        super(Net, self).__init__()\n",
    "        self.rnn = torch.nn.RNN(input_dim, hidden_dim, num_layers=layers, batch_first=True)\n",
    "        self.fc = torch.nn.Linear(hidden_dim, hidden_dim, bias=True)\n",
    "\n",
    "    def forward(self, x): # x라는 input을 넣고 네트워크를 계산할 때 어떻게 계산할지 정의\n",
    "        x, _status = self.rnn(x)\n",
    "        x = self.fc(x)\n",
    "        return x #두 layer의 RNN지나고나서, FC(linear 모듈을 지나고 output이 나오게 되는 구조!"
   ]
  },
  {
   "cell_type": "code",
   "execution_count": 9,
   "metadata": {},
   "outputs": [],
   "source": [
    "# declare RNN + FC\n",
    "class Net(torch.nn.Module):\n",
    "    def __init__(self, input_dim, hidden_dim, layers):\n",
    "        super(Net, self).__init__()\n",
    "        self.rnn = torch.nn.RNN(input_dim, hidden_dim, num_layers=layers, batch_first=True)\n",
    "        self.fc = torch.nn.Linear(hidden_dim, hidden_dim, bias=True)\n",
    "\n",
    "    def forward(self, x):\n",
    "        x, _status = self.rnn(x)\n",
    "        x = self.fc(x)\n",
    "        return x\n",
    "\n",
    "\n",
    "net = Net(dic_size, hidden_size, 2)"
   ]
  },
  {
   "cell_type": "code",
   "execution_count": 10,
   "metadata": {},
   "outputs": [],
   "source": [
    "# loss & optimizer setting\n",
    "criterion = torch.nn.CrossEntropyLoss()\n",
    "optimizer = optim.Adam(net.parameters(), learning_rate)"
   ]
  },
  {
   "cell_type": "code",
   "execution_count": 11,
   "metadata": {},
   "outputs": [
    {
     "name": "stdout",
     "output_type": "stream",
     "text": [
      "cfhfhfccbffchhchfcfhclhchclhfchfchchhfhcffcffchhcchhhcfcchhfcchhhhchfcbbblclfcchhfchclhchhfcfcchcffcfcclfccbbbfffhffchlfcchbfchhfchcchcfcchhfhcfhhbfccccfhfccccchccfccfhchfchcccccl\n",
      "                                                                                                                                                                                   \n",
      " eee eee eee e ee e e e e e e e e eeee e e e e ee eeeeeee e e e eeee ee ee  e e eee ee eeeee  eeeee e  e e ee e eee e e eeee e e eeee  e  e  e e  e eeee eee  eee e eee e e e e e e\n",
      " oth  tht hu   uo n o  on n       n no    ho n    h     o oh          u h u   h        o        on  h h       ho   un n non o   oo     o  h o  o  ho   h   o  h,   h    n n n n  o \n",
      " ttt t t t t  t t t t t   t   t t  t t t tt t tt tt t t t t  ttt tt t t  tt t t   tt   ttt t    t ttttttt t  tt t t t   tt t t t t    t tt t ttt ttt t t t ttttt  t t t t   t  tt t\n",
      "lalt a a a t  l tlt b t'twl t alt wl a t tl a t bta a a a t  l  aalla . l a t t t t.t  a t i il a t  aat ba t t.i  lt t  . t  l  t  m a tl a a . aaa a i t i ali    alt'a alt a a t\n",
      " a a a a a n    a i a i n   n n n  m a t n  n a   a a n a i n    nl a     a n a n   n  a a i a  a n  a n  a     a n n n  a i n a a n  a n  n n       a a n    a   n a n a n     a n\n",
      " n   o n n    t o n n n     o n    n n n              o   t      n     n                   t n  o         n     o n n    o t     o    o    n n           n    n n   o              \n",
      " o o o o do o d der d d  eo o   dodo o do e e  eo   o o   do e  e eo e  e d   d  edo     d to p do o  o d d  et d      o d do  o eo o do e  e e    o o  eto  o o  o oeo eoee  o o  \n",
      " d d d d toto t det d t det d tet t  e to do eedooo o e t toteo e eo eo e d t t det t  eto to e to e  e t d tet d tet th eetot d do e to eo e eo eto t teto  etoo t ted to eo e e  \n",
      " tet t ret th t tet t t tmt t tet t  m to th e tothtt eet th thet ne th t t t t tet t t th them th t  tot t t t t t toth t tht t to t to th e to ethem teth   toh t teh toethem    \n",
      " he  tt  t to t tet t t tmt t ret t  t th thnp tht tmthet th th t rt th t t t t t t t  eth the  to t  t t tot t t t toth t th  t th t to th t to  them re t t tor   tth t  them    \n",
      " he  tth t to t ret t t ttt t r't t  t th torp t t ttth n to to t rp to t t t t tet t   th to p to p  t t tot t t t toto r to nh to m to to t to tt en reth   tor n tth t  toep  n \n",
      " aeo p a t to t ret t to mt ton't t  m th t np t toet o a to to p np to t t t t n't t   taetoea to a  toa to  t t t toto n to mo to p to to t ton toepsae h   tm  n  et to toep  nm\n",
      " aeonmto t to t re, todosmt ton't t  m to toopsasto sto s to to tonp to d tst d n't is  to'to m to es tmt to  t t i toto s to mo to s to to ' don to mti' hss tmo n' lt to toemsosm\n",
      " aeonmtand to d r , dodhemt ton't do m tosdenp e do  sh m toedore nm to l dsd ton't dsseta toem to d stsd don't t d teto s tonmo doem to dor' dor toemsr' ess tma n' do do doemsoss\n",
      " aehndtand to t r , dodhndt ton't d  m tespenlteidon soen toedone nm tonl and ton't ds  taetoem ton   tst don't t d tethen tongh does to don'udor then i' ess tma n' g, eo doems ns\n",
      "taeondthnd to t r , tothipt ton't e  m test n te to  to m toedo e ne gonl and ton't ts  sh them tos s tst don't t t tethen toesh doem to ton  gor themtn'ue   ttm n' g, e  toemt ns\n",
      "poaonpthnp to t n , tnthtpt ton't to m tesden th toneto m to done re tond tnd ton't tssesh them tos s tmt ton't b d ththem toech doem to ton' tor thempnd e s tmm ckito en toemsers\n",
      "poaescthnd to t a , tntotpt ton't to m re d n te tonetoem toeco e re tond tnt tor't ts eso toem to  s tst ton't b t t ther toech toem to lt ' tor themsn' e s tmm c ito e  thems rs\n",
      "porenctond to d al, tothrpt ton't ao m rpstoncteetonetoem to conk ra tond and aor't assoso them tosss tst ton't b t tsther toeco toem to donk dor thempnd ess tmm rlity rr themporc\n",
      "porontsand to t nly tothip, ton't ao m lp dencle toneioem to tond rm tond and aon't assosa them tosssstnt ton', b d tsther toech toem to tend dor themsnd ess tmm rsity an toemsorc\n",
      "poae t and do t nld tothipd ton't ao m ud dercle tonetoem toetonderm tood and don't ass ta them tosss asd aon', b d t teer toerh toem to tenk don themsnduessitmmens ty an themsors\n",
      "pmaosstand do t nl, tothip, ton't ao m upsdencle tonetoem th dondenm tond and don't ass to them tospisand don', b d thther toich them to ton' don themsnduessitmm rsity is themsorc\n",
      "pmao  sond do t ng, aothip, aon't ao m up densle tonetoem to pond rm woog and don't ass to them tosps and don', b d thther toich them to pon' don themsnd ess tmm rsity rc themsors\n",
      "pmaon sand to t ngd tothip, aon't ao m up peor e to etoer to pon'erm woog and don't ass sa them tosk  and don', b d thther toich toem to ton' ton themsnd ess imm rsity rc themsorc\n",
      "p,aonktand to tungd torhip, aon't ao m up peocle together to po ' rh tood and don't ass ta them tosks tnd don', b d thther toich toem to tenk ton themsnduess imm rsity rc thersorc\n",
      "t,aonktand to tunld t ship, don't ao m up peocle to ether to to 'enm tood and don't ass tn them tosks and don', b t rhther thich toem to tonk ton themsnduess imm rsity rc themsorc\n",
      "tydonksand to tunld toship, don't do m up peo le tolether th co lech tood and don't dss sn them tosks and don', b t rhther thich them to ton' ton themsndue s imm rsity op themsorc\n",
      "tydonksond to tunld tsship, don't doum up people tolether to colleca tood and don't dss sn them tosks and don', b t rhther thich them to ton' ton themanduess immeosity op themsorc\n",
      "tyaonktand to burld dsship, don't doum up people to ether th sol'eca wood and don't dss sn ther to ss and don', b t rmther thich them to ton' ton thersnduess imm nsity rp thersorc\n",
      "tyaonktond to turld dsship, don't doum up peomle tolethem to conleca tond and don't ass gn them tosks and don , b t anthem toich them to ton' tor themandud s ammerkity rp themaoic\n",
      "t,tolktans to burld dsship, don't do m up perple th ether th co 'eca wo d snd won't dss gn them tosks and ton', b t thther thich them to bon' for thersndues  imm nsity rn thersorc\n",
      "t,aonktand to burld asship, don't arum up perple thlether to colgech wood and aon't ass gn them tosks and don', b t rhther thich them to bon' for themsnduess imm rsity rr thershrc\n",
      "t,aonktand to tuild dsship, don't doim up peomle together to cog'eca wonduand don't dssiin them tosks and don', bft whther thich them to ton' for themindlessiimmersity ro themshic\n",
      "t,donktand to build asship, don't doum up people together to co leck wood and don't dssign them tosks and don', but thther thich them to bol' for themandless ammensity rp themsiic\n",
      "tmdo ktand to build asship, don't dmum up people together to bolleck wood and don't dss gn them tosks and don', but rkther thich them to bonl fon themendless immensity rp themsiic\n",
      "tmdonktand to build asship, don't doum up people together to colleck wood and don't dss gn them tosks and don', but rhther thich them to con' for themendless immensity on them oic\n",
      "tmdon tand to tuild asship, don't doum up people together to colleca wood and don't dss gn them towss and don', but rhther thich them to can'efor themendless immensity oo themsoic\n",
      "lmdolktand to build asship, don't doum up people together to bo lec  wood and don't dss gn them tosks a d don', but rhther toich them to bon' for themandless immensity op the sorc\n",
      "l,dolktand to build asship, don't doum up people together to bolleck wood and won't ass gn them tosks and won', but rhther thich them to bon' for themandless immensity op themsorc\n",
      "l,dolktand to build asship, don't anum up people together th colleck wood and won't assign them tosks and wor', but rhther thich them to bon' for themendless immensity op themghic\n",
      "l,donktand to build asship, don't dnum up people together to colleck wood and won't dssign them tosks and won', but rhther toach them to lon' for themendlessiimmensity op the shic\n",
      "p,donktand to build asship, don't doum up people together to colleck wood and won't dssign them tosks and donk, but rhther toich them to lon' for themendlessiimmensity op the shic\n",
      "p,dolktand to build a ship, don't doum up people together to colleca wood and don't dssign them tosks and donk, but rither toich them to lon' for themendlessiimmensity of the shic\n",
      "p,dolktand to build a ship, don't drum up people together to collect wood and don't dssign them tosks and don', but rither thich them to lon' for themendlessiimmensity op the seic\n",
      "prdolktand to build a ship, don't drum up people together to colleca wood and don't dssign them tosks and dor', but rather thach them to bon' for themendless immensity op the snic\n",
      "prdo  tand to build a ship, don't drum up people together to collect wood and don't dss gn them tosks and dor', but rather thach them to lon' for the endless immensity oo the soic\n",
      "prdo  tand to build a ship, don't drum up people together to collect wood and don't ass gn them tosks and dork, but rather toach them to lon' for themendless immensity oo the snic\n",
      "prdol want to build a ship, don't drum up people together to collect wood and don't assign them tosks and dork, but rather toach them to lon' for themendlessiimmensity of the snic\n",
      "prdol want to build asship, don't arum up people together th collect wood and don't assign them tosks and dork, but rather thach them to long for the endlessiimmensity of the soic\n",
      "podol tant to build asship, don't drum up people together to collect wood and don't dssign them tosks and dork, but rather toach them to bong for themendlessiimmensity op the snic\n",
      "p dol want to build a ship, don't drum up people together to collect wood and don't dssign them tosks and dork, but rather toach them to bong for the endlessiimmensity of the shic\n",
      "p do  want to build a ship, don't drum up people together to collect wood and won't dssign them tosks and dork, but rather toach them to long for the endlessiimmensity of the shic\n",
      "p do  want to build a ship, don't drum up people together to collect wood and won't dssign them tosks and work, but rather thach them to long for the endlessiimmensity op the snic\n",
      "p do  want to build a ship, don't drum up people together to collect wood and won't dssign them tosks and work, but rather thach them to long for the endlessiimmensity of the snac\n",
      "p do  want to build a ship, don't drum up people together to collect wood and won't dssign them tosks and work, but rather toach them to long for the endlessiimmensity of the seac\n",
      "p do  want to build a ship, don't drum up people together to collect wood and don't dssign them tosks and dork, but rather toach them to long for the endlessiimmensity op the seac\n",
      "p do  want to build a ship, don't drum up people together to collect wood and won't assign them tosks and dork, but rather thach them to long for the erdless immensity of the shac\n",
      "p do  want to build a ship, don't drum up people together to collect wood and won't assign them tosks and dork, but rather toach them to long for the endless immensity of the snac\n",
      "p do  want to build a ship, don't drum up people together to collect wood and won't assign them tosks and work, but rather toach them to long for the endless immensity op the seac\n",
      "p do  want to build a ship, don't arum up people together to collect wood and won't assign them tosks and work, but rather toach them to long for the endless immensity of the shac\n",
      "p dol want to build a ship, don't drum up people together to collect wood and won't dssign them tosks and work, but rather toach them to long for the endless immensity op the seac\n",
      "p dol want to build a ship, don't drum up people together to collect wood and won't dssign them tosks and work, but rather toach them to long for the endless immensity of the seac\n",
      "p dol want to build a ship, don't drum up people together to collect wood and won't dssign them tosks and work, but rather toach them to long for the endless immensity of the shac\n",
      "p dol want to build a ship, don't drum up people together to collect wood and won't dssign them tosks and work, but rather toach them to long for the endless immensity of the shac\n",
      "p dol want to build a ship, don't drum up people together to collect wood and won't dssign them tosks and work, but rather toach them to long for the endless immensity of the snrc\n",
      "p dou want to build a ship, don't arum up people together to collect wood and won't assign them tosks and work, but rather toach them to long for the endless immensity of the seac\n",
      "p do  want to build a ship, don't drum up people together to collect wood and don't dssign them tosks and dork, but rather toach them to long for the endless immensity of the seac\n",
      "p dou want to build a ship, don't drum up people together to collect wood and don't dssign them tosks and dork, but rather toach them to long for the endless immensity op the seac\n",
      "p dou wand to build a ship, don't drum up people together to collect wood and don't assign them tosks and dork, but rather toach them to long for the endless immensity of the shac\n",
      "p dou want to build a ship, don't arum up people together to collect wood and won't assign them tosks and work, but rather toach them to long for the endless immensity of the sfac\n",
      "p dol want to build a ship, don't drum up people together to collect wood and won't dssign them tosks and work, but rather toach them to long for the endless immensity op the seac\n",
      "p dou wand to build a ship, don't drum up people together to collect wood and won't assign them tosks and work, but rather toach them to long for the endless immensity of the shac\n",
      "p dou want to build a ship, don't arum up people together to collect wood and don't assign them thsks and dork, but rather toach them to leng for the endless immensity of the shac\n",
      "p dou want to build a ship, don't arum up people together to collect wood and don't assign them tosks and dork, but rather toach them to lo g for thecsndless immensity of thecseat\n",
      "p dou wont to build a ship, don't dram up people together to collerm wood and don't assign them tosks and dork, but rathem toach them to bong for themendless immensity of toemffat\n",
      "l dou wond to cuild a sh p, don't drum um people together to collect wood and won't dssign them tosks and work, but rather toach them to long for the endless immensity on the  eac\n",
      "l dou want to build a ship, don't arum up people together to collect wood and won't assign them tosks and work, but rather toach them to long for the endless immensity on the seac\n",
      "p dou want to build a ship, don't arum up people together to collect wood and don't assign them thsks and dork, but rather toach them to long for the end ess immensity of the efrc\n",
      "p dou want to build a ship, don't drumlup peopleutogether to collect wood and don't assign them tosks and dork, but rasher toach them to long for the sndless immensity of the shit\n",
      "f dou want to luild a ship, don't drum up people together to collect wood and won't dssign them tosks and work, but rather toach them to lol' for themendless immensity op the eeic\n",
      "f dou want to build a ship, don't drum up people together to collect wood and won't dssign them tosks and work, but rather toach them to bong for the endless immensity op the shic\n",
      "f dou want to build a ship, don't arum up people together th collect wood and won't assign them tosks and work, but rather thach them to bong for the endless immensity of the shat\n",
      "l dou want to build a ship, don't arum up people together to collect wood and don't assign them tosks and dork, but rather toach them to bong for the endless tmmensity of the sfat\n",
      "l dou wand to build a ship, don't drum lp people together to collect wood and don't assign them tosks and dork, but rather toach them to bong for the sndless immensity of the shat\n",
      "l dou want to build a ship, don't drum up people together to collect wood and don't dssign them tosks and dork, but rather toach them to bong for the endless immensity of the shat\n",
      "p dou want to build a ship, don't drum up people together to collect wood and won't dssign them tosks and dork, but rather toach them to long for the endless immensiiy of the seat\n",
      "p dou want to build a ship, don't drum up people together to collect wood and won't dssign them tosks and work, but rather toach them to long for the endless immensity of thecseat\n",
      "p dou want to build a ship, don't drum up people together to collect wood and won't dssign them tosks and work, but rather toach them to long for the endless immensity of the seat\n",
      "p dou want to build a ship, don't drum up people together to collect wood and won't dssign them tosks and work, but rather toach them to long for the endless immensity of the seat\n",
      "p dou want to build a ship, don't drum up people together to collect wood and won't dssign them thsks and work, but rather toach them to long for the endless immensity of the seat\n",
      "l dog want to build a ship, don't arum up people together to collect wood and don't assign them tosks and dork, but rather toach them to long for the endless immensity of the seac\n",
      "l dog want to build a ship, don't arum up people together to collect wood and won't assign them tosks and dork, but rather toach them to long for the endless immensity of the seac\n",
      "l dou want to build a ship, don't drum up people together to collect wood and don't dssign them tosks and dork, but rather toach them to long for the endless immensity of the seat\n",
      "t dou want to build a ship, don't drum up people together to collect wood and don't dssign them tosks and dork, but rather toach them to long for the endless immensity of the seat\n",
      "t dou want to build a ship, don't drum up people together to collect wood and don't dssign them tosks and dork, but rather toach ther to long for the endless immensity of the seat\n",
      "t dou want to build a ship, don't drum up people together to collect wood and won't dssign them thsks and work, but rather toach them th long for the endless immensity of the sert\n",
      "g dou wand to build a ship, don't arum up people together to collect wood and won't assign them tosks and work, but rather toach them to long for the endless immensity of the seat\n",
      "g dou want to build a ship, don't drum up people together to collect wood and won't dssign them tosks and work, but rather toach them to long for the endless immensity of the seat\n"
     ]
    }
   ],
   "source": [
    "# start training\n",
    "for i in range(100):\n",
    "    optimizer.zero_grad() #gradient가 매 루프마다 리셋되도록\n",
    "    outputs = net(X) #아까 정의한 모델에 input x 넣어서 output 나오도록\n",
    "    loss = criterion(outputs.view(-1, dic_size), Y.view(-1))\n",
    "    loss.backward() #gradient 계산됨 \n",
    "    optimizer.step() #방금 계산한 gradient 값들로 parameter 업데이트\n",
    "\n",
    "    results = outputs.argmax(dim=2) #prediction 확률이 가장 큰 결과값들 구해옴\n",
    "    predict_str = \"\"\n",
    "    for j, result in enumerate(results):\n",
    "        # print(i, j, ''.join([char_set[t] for t in result]), loss.item())\n",
    "        if j == 0: #맨처음엔 seq_length만큼의 길이의 character들 만들고\n",
    "            predict_str += ''.join([char_set[t] for t in result])\n",
    "        else: #그 이후부턴 맨 마지막글자를 제외하곤 기존의 것과 겹치기 때문에 맨 마지막 글자만 가져와서 붙임\n",
    "            predict_str += char_set[result[-1]]\n",
    "\n",
    "    print(predict_str)"
   ]
  },
  {
   "cell_type": "code",
   "execution_count": null,
   "metadata": {},
   "outputs": [],
   "source": []
  },
  {
   "cell_type": "code",
   "execution_count": null,
   "metadata": {},
   "outputs": [],
   "source": []
  },
  {
   "cell_type": "code",
   "execution_count": null,
   "metadata": {},
   "outputs": [],
   "source": []
  },
  {
   "cell_type": "markdown",
   "metadata": {},
   "source": [
    "## 2번 문제\n",
    " https://tutorials.pytorch.kr/intermediate/char_rnn_classification_tutorial.html 따라해보기\n",
    "\n",
    "\n",
    "18개 언어로 된 수천 개의 성(姓)을 훈련시키고, 철자에 따라 이름이 어떤 언어인지 예측합니다."
   ]
  },
  {
   "cell_type": "code",
   "execution_count": 12,
   "metadata": {},
   "outputs": [],
   "source": [
    "from __future__ import unicode_literals, print_function, division\n",
    "from io import open\n",
    "import glob\n",
    "import os"
   ]
  },
  {
   "cell_type": "code",
   "execution_count": 13,
   "metadata": {},
   "outputs": [
    {
     "name": "stdout",
     "output_type": "stream",
     "text": [
      "['C:/data/names\\\\Arabic.txt', 'C:/data/names\\\\Chinese.txt', 'C:/data/names\\\\Czech.txt', 'C:/data/names\\\\Dutch.txt', 'C:/data/names\\\\English.txt', 'C:/data/names\\\\French.txt', 'C:/data/names\\\\German.txt', 'C:/data/names\\\\Greek.txt', 'C:/data/names\\\\Irish.txt', 'C:/data/names\\\\Italian.txt', 'C:/data/names\\\\Japanese.txt', 'C:/data/names\\\\Korean.txt', 'C:/data/names\\\\Polish.txt', 'C:/data/names\\\\Portuguese.txt', 'C:/data/names\\\\Russian.txt', 'C:/data/names\\\\Scottish.txt', 'C:/data/names\\\\Spanish.txt', 'C:/data/names\\\\Vietnamese.txt']\n"
     ]
    }
   ],
   "source": [
    "def findFiles(path): return glob.glob(path)\n",
    "\n",
    "print(findFiles('C:/data/names/*.txt')) #파일 위치 주의하기...."
   ]
  },
  {
   "cell_type": "code",
   "execution_count": 14,
   "metadata": {},
   "outputs": [],
   "source": [
    "import unicodedata\n",
    "import string\n",
    "\n",
    "all_letters = string.ascii_letters + \" .,;'\"\n",
    "n_letters = len(all_letters)"
   ]
  },
  {
   "cell_type": "code",
   "execution_count": 41,
   "metadata": {},
   "outputs": [
    {
     "data": {
      "text/plain": [
       "\"abcdefghijklmnopqrstuvwxyzABCDEFGHIJKLMNOPQRSTUVWXYZ .,;'\""
      ]
     },
     "execution_count": 41,
     "metadata": {},
     "output_type": "execute_result"
    }
   ],
   "source": [
    "all_letters"
   ]
  },
  {
   "cell_type": "code",
   "execution_count": 15,
   "metadata": {},
   "outputs": [
    {
     "name": "stdout",
     "output_type": "stream",
     "text": [
      "Slusarski\n"
     ]
    }
   ],
   "source": [
    "# 유니코드 문자열을 ASCII로 변환, https://stackoverflow.com/a/518232/2809427\n",
    "def unicodeToAscii(s):\n",
    "    return ''.join(\n",
    "        c for c in unicodedata.normalize('NFD', s)\n",
    "        if unicodedata.category(c) != 'Mn'\n",
    "        and c in all_letters\n",
    "    )\n",
    "\n",
    "print(unicodeToAscii('Ślusàrski'))\n"
   ]
  },
  {
   "cell_type": "code",
   "execution_count": 16,
   "metadata": {},
   "outputs": [],
   "source": [
    "# 각 언어의 이름 목록인 category_lines 사전 생성\n",
    "category_lines = {}\n",
    "all_categories = []"
   ]
  },
  {
   "cell_type": "code",
   "execution_count": 17,
   "metadata": {},
   "outputs": [],
   "source": [
    "# 파일을 읽고 줄 단위로 분리\n",
    "def readLines(filename):\n",
    "    lines = open(filename, encoding='utf-8').read().strip().split('\\n')\n",
    "    return [unicodeToAscii(line) for line in lines]\n",
    "\n",
    "for filename in findFiles('C:/data/names/*.txt'):\n",
    "    category = os.path.splitext(os.path.basename(filename))[0]\n",
    "    all_categories.append(category)\n",
    "    lines = readLines(filename)\n",
    "    category_lines[category] = lines\n",
    "\n",
    "n_categories = len(all_categories)"
   ]
  },
  {
   "cell_type": "code",
   "execution_count": 18,
   "metadata": {},
   "outputs": [
    {
     "name": "stdout",
     "output_type": "stream",
     "text": [
      "['Abandonato', 'Abatangelo', 'Abatantuono', 'Abate', 'Abategiovanni']\n"
     ]
    }
   ],
   "source": [
    "print(category_lines['Italian'][:5])"
   ]
  },
  {
   "cell_type": "code",
   "execution_count": 19,
   "metadata": {},
   "outputs": [],
   "source": [
    "import torch"
   ]
  },
  {
   "cell_type": "code",
   "execution_count": 20,
   "metadata": {},
   "outputs": [],
   "source": [
    "# all_letters 로 문자의 주소 찾기, 예시 \"a\" = 0\n",
    "def letterToIndex(letter):\n",
    "    return all_letters.find(letter)"
   ]
  },
  {
   "cell_type": "code",
   "execution_count": 21,
   "metadata": {},
   "outputs": [],
   "source": [
    "# 검증을 위해서 한개의 문자를 <1 x n_letters> Tensor로 변환\n",
    "def letterToTensor(letter):\n",
    "    tensor = torch.zeros(1, n_letters)\n",
    "    tensor[0][letterToIndex(letter)] = 1\n",
    "    return tensor"
   ]
  },
  {
   "cell_type": "code",
   "execution_count": 22,
   "metadata": {},
   "outputs": [],
   "source": [
    "# 한 줄(이름)을  <line_length x 1 x n_letters>,\n",
    "# 또는 One-Hot 문자 벡터의 Array로 변경\n",
    "def lineToTensor(line):\n",
    "    tensor = torch.zeros(len(line), 1, n_letters)\n",
    "    for li, letter in enumerate(line):\n",
    "        tensor[li][0][letterToIndex(letter)] = 1\n",
    "    return tensor"
   ]
  },
  {
   "cell_type": "code",
   "execution_count": 23,
   "metadata": {},
   "outputs": [
    {
     "name": "stdout",
     "output_type": "stream",
     "text": [
      "tensor([[0., 0., 0., 0., 0., 0., 0., 0., 0., 0., 0., 0., 0., 0., 0., 0., 0., 0.,\n",
      "         0., 0., 0., 0., 0., 0., 0., 0., 0., 0., 0., 0., 0., 0., 0., 0., 0., 1.,\n",
      "         0., 0., 0., 0., 0., 0., 0., 0., 0., 0., 0., 0., 0., 0., 0., 0., 0., 0.,\n",
      "         0., 0., 0.]])\n",
      "torch.Size([5, 1, 57])\n"
     ]
    }
   ],
   "source": [
    "print(letterToTensor('J'))\n",
    "\n",
    "print(lineToTensor('Jones').size())"
   ]
  },
  {
   "cell_type": "code",
   "execution_count": 24,
   "metadata": {},
   "outputs": [],
   "source": [
    "import torch.nn as nn"
   ]
  },
  {
   "cell_type": "code",
   "execution_count": 25,
   "metadata": {},
   "outputs": [],
   "source": [
    "class RNN(nn.Module):\n",
    "    def __init__(self, input_size, hidden_size, output_size):\n",
    "        super(RNN, self).__init__()\n",
    "\n",
    "        self.hidden_size = hidden_size\n",
    "\n",
    "        self.i2h = nn.Linear(input_size + hidden_size, hidden_size)\n",
    "        self.i2o = nn.Linear(input_size + hidden_size, output_size)\n",
    "        self.softmax = nn.LogSoftmax(dim=1)\n",
    "\n",
    "    def forward(self, input, hidden):\n",
    "        combined = torch.cat((input, hidden), 1)\n",
    "        hidden = self.i2h(combined)\n",
    "        output = self.i2o(combined)\n",
    "        output = self.softmax(output)\n",
    "        return output, hidden\n",
    "\n",
    "    def initHidden(self):\n",
    "        return torch.zeros(1, self.hidden_size)\n",
    "\n",
    "n_hidden = 128\n",
    "rnn = RNN(n_letters, n_hidden, n_categories)"
   ]
  },
  {
   "cell_type": "code",
   "execution_count": 26,
   "metadata": {},
   "outputs": [],
   "source": [
    "input = letterToTensor('A')\n",
    "hidden =torch.zeros(1, n_hidden)\n",
    "\n",
    "output, next_hidden = rnn(input, hidden)"
   ]
  },
  {
   "cell_type": "code",
   "execution_count": 27,
   "metadata": {},
   "outputs": [
    {
     "name": "stdout",
     "output_type": "stream",
     "text": [
      "tensor([[-2.8445, -2.8727, -3.0294, -2.9006, -2.8926, -2.9646, -2.8060, -2.7947,\n",
      "         -3.0138, -2.8262, -2.8908, -2.9072, -2.7824, -2.9781, -2.8192, -2.8924,\n",
      "         -2.9296, -2.9268]], grad_fn=<LogSoftmaxBackward>)\n"
     ]
    }
   ],
   "source": [
    "input = lineToTensor('Albert')\n",
    "hidden = torch.zeros(1, n_hidden)\n",
    "\n",
    "output, next_hidden = rnn(input[0], hidden)\n",
    "print(output)"
   ]
  },
  {
   "cell_type": "code",
   "execution_count": 28,
   "metadata": {},
   "outputs": [
    {
     "name": "stdout",
     "output_type": "stream",
     "text": [
      "('Polish', 12)\n"
     ]
    }
   ],
   "source": [
    "#네트워크 출력(각 카테고리의 우도)으로 가장 확률이 높은 카테고리 이름(언어)과 카테고리 번호 반환\n",
    "def categoryFromOutput(output):\n",
    "    top_n, top_i = output.topk(1) # 텐서의 가장 큰 값 및 주소\n",
    "    category_i = top_i[0].item()     # 텐서에서 정수 값으로 변경\n",
    "    return all_categories[category_i], category_i\n",
    "\n",
    "print(categoryFromOutput(output))"
   ]
  },
  {
   "cell_type": "code",
   "execution_count": 29,
   "metadata": {},
   "outputs": [],
   "source": [
    "import random"
   ]
  },
  {
   "cell_type": "code",
   "execution_count": 30,
   "metadata": {},
   "outputs": [],
   "source": [
    "#학습 예시(하나의 이름과 그 언어)를 얻는 빠른 방법도 필요\n",
    "def randomChoice(l):\n",
    "    return l[random.randint(0, len(l) - 1)]\n",
    "\n",
    "def randomTrainingExample():\n",
    "    category = randomChoice(all_categories)\n",
    "    line = randomChoice(category_lines[category])\n",
    "    category_tensor = torch.tensor([all_categories.index(category)], dtype=torch.long)\n",
    "    line_tensor = lineToTensor(line)\n",
    "    return category, line, category_tensor, line_tensor"
   ]
  },
  {
   "cell_type": "code",
   "execution_count": 31,
   "metadata": {},
   "outputs": [
    {
     "name": "stdout",
     "output_type": "stream",
     "text": [
      "category = Russian / line = V'Yuhin\n",
      "category = Greek / line = Paschalis\n",
      "category = Vietnamese / line = Luong\n",
      "category = Dutch / line = Agthoven\n",
      "category = Spanish / line = Arechavaleta\n",
      "category = German / line = Ingersleben\n",
      "category = Irish / line = Mcneil\n",
      "category = Arabic / line = Daher\n",
      "category = Chinese / line = Wang\n",
      "category = Arabic / line = Fakhoury\n"
     ]
    }
   ],
   "source": [
    "for i in range(10):\n",
    "    category, line, category_tensor, line_tensor = randomTrainingExample()\n",
    "    print('category =', category, '/ line =', line)"
   ]
  },
  {
   "cell_type": "code",
   "execution_count": 32,
   "metadata": {},
   "outputs": [],
   "source": [
    "criterion = nn.NLLLoss() #loss설정\n",
    "#RNN의 마지막 계층이 nn.LogSoftmax 이므로 손실 함수로 nn.NLLLoss 가 적합합니다."
   ]
  },
  {
   "cell_type": "code",
   "execution_count": 33,
   "metadata": {},
   "outputs": [],
   "source": [
    "learning_rate = 0.005 # 이것을 너무 높게 설정하면 발산할 수 있고, 너무 낮으면 학습이 되지 않을 수 있습니다.\n",
    "\n",
    "def train(category_tensor, line_tensor):\n",
    "    hidden = rnn.initHidden()\n",
    "\n",
    "    rnn.zero_grad()\n",
    "\n",
    "    for i in range(line_tensor.size()[0]):\n",
    "        output, hidden = rnn(line_tensor[i], hidden)\n",
    "\n",
    "    loss = criterion(output, category_tensor)\n",
    "    loss.backward()\n",
    "\n",
    "    # 매개변수의 경사도에 학습률을 곱해서 그 매개변수의 값에 더합니다.\n",
    "    for p in rnn.parameters():\n",
    "        p.data.add_(p.grad.data, alpha=-learning_rate)\n",
    "\n",
    "    return output, loss.item()\n",
    "\n",
    "#각 학습 루프는 다음과 같습니다:\n",
    "#입력과 목표 Tensor 생성\n",
    "#0 로 초기화된 은닉 상태 생성\n",
    "#각 문자를 읽기\n",
    "#다음 문자를 위한 은닉 상태 유지\n",
    "#목표와 최종 출력 비교\n",
    "#역전파\n",
    "#출력과 손실 반환"
   ]
  },
  {
   "cell_type": "code",
   "execution_count": 34,
   "metadata": {},
   "outputs": [],
   "source": [
    "import time\n",
    "import math\n",
    "\n",
    "n_iters = 100000\n",
    "print_every = 5000\n",
    "plot_every = 1000"
   ]
  },
  {
   "cell_type": "code",
   "execution_count": 35,
   "metadata": {},
   "outputs": [
    {
     "name": "stdout",
     "output_type": "stream",
     "text": [
      "5000 5% (0m 17s) 2.5342 Sohda / Spanish ✗ (Japanese)\n",
      "10000 10% (0m 34s) 2.9754 Kennedy / French ✗ (Irish)\n",
      "15000 15% (0m 55s) 3.7159 Jurba / Spanish ✗ (Russian)\n",
      "20000 20% (1m 14s) 3.6841 Close / French ✗ (Greek)\n",
      "25000 25% (1m 33s) 1.9781 Belo / Spanish ✗ (Portuguese)\n",
      "30000 30% (1m 51s) 2.5243 Araya / Japanese ✗ (Spanish)\n",
      "35000 35% (2m 7s) 3.1747 Morcos / Greek ✗ (Arabic)\n",
      "40000 40% (2m 26s) 0.6746 Mitsuharu / Japanese ✓\n",
      "45000 45% (2m 45s) 0.5654 Lemmi / Italian ✓\n",
      "50000 50% (3m 2s) 1.1838 Dempko / Czech ✓\n",
      "55000 55% (3m 20s) 0.7145 Onoda / Japanese ✓\n",
      "60000 60% (3m 39s) 1.2767 Gordon / English ✗ (Scottish)\n",
      "65000 65% (3m 59s) 1.5154 Macleod / French ✗ (Scottish)\n",
      "70000 70% (4m 16s) 2.0829 Hlavsa / Spanish ✗ (Czech)\n",
      "75000 75% (4m 31s) 0.5270 Alesi / Italian ✓\n",
      "80000 80% (4m 47s) 0.1484 Pham / Vietnamese ✓\n",
      "85000 85% (5m 2s) 1.7946 Perina / Spanish ✗ (Czech)\n",
      "90000 90% (5m 18s) 1.6404 Awad / Chinese ✗ (Arabic)\n",
      "95000 95% (5m 32s) 0.3813 Sedmikova / Czech ✓\n",
      "100000 100% (5m 48s) 3.5494 Kalaida / Czech ✗ (Russian)\n"
     ]
    }
   ],
   "source": [
    "# 도식화를 위한 손실 추적\n",
    "current_loss = 0\n",
    "all_losses = []\n",
    "\n",
    "def timeSince(since):\n",
    "    now = time.time()\n",
    "    s = now - since\n",
    "    m = math.floor(s / 60)\n",
    "    s -= m * 60\n",
    "    return '%dm %ds' % (m, s)\n",
    "\n",
    "start = time.time()\n",
    "\n",
    "for iter in range(1, n_iters + 1):\n",
    "    category, line, category_tensor, line_tensor = randomTrainingExample()\n",
    "    output, loss = train(category_tensor, line_tensor)\n",
    "    current_loss += loss\n",
    "\n",
    "    # iter 숫자, 손실, 이름, 추측 화면 출력\n",
    "    if iter % print_every == 0:\n",
    "        guess, guess_i = categoryFromOutput(output)\n",
    "        correct = '✓' if guess == category else '✗ (%s)' % category\n",
    "        print('%d %d%% (%s) %.4f %s / %s %s' % (iter, iter / n_iters * 100, timeSince(start), loss, line, guess, correct))\n",
    "\n",
    "    # 현재 평균 손실을 전체 손실 리스트에 추가\n",
    "    if iter % plot_every == 0:\n",
    "        all_losses.append(current_loss / plot_every)\n",
    "        current_loss = 0"
   ]
  },
  {
   "cell_type": "code",
   "execution_count": 36,
   "metadata": {},
   "outputs": [
    {
     "data": {
      "text/plain": [
       "[<matplotlib.lines.Line2D at 0x1a03eb15c48>]"
      ]
     },
     "execution_count": 36,
     "metadata": {},
     "output_type": "execute_result"
    },
    {
     "data": {
      "image/png": "[encoded data removed]",
      "text/plain": [
       "<Figure size 432x288 with 1 Axes>"
      ]
     },
     "metadata": {
      "needs_background": "light"
     },
     "output_type": "display_data"
    }
   ],
   "source": [
    "import matplotlib.pyplot as plt\n",
    "import matplotlib.ticker as ticker\n",
    "\n",
    "plt.figure()\n",
    "plt.plot(all_losses)"
   ]
  },
  {
   "cell_type": "markdown",
   "metadata": {},
   "source": [
    "네트워크가 다른 카테고리에서 얼마나 잘 작동하는지 보기위해 모든 실제 언어(행)가 네트워크에서 어떤 언어로 추측(열)되는지를 나타내는 혼란 행열(confusion matrix)을 만듭니다"
   ]
  },
  {
   "cell_type": "code",
   "execution_count": 37,
   "metadata": {},
   "outputs": [
    {
     "data": {
      "image/png": "[encoded data removed]",
      "text/plain": [
       "<Figure size 432x288 with 2 Axes>"
      ]
     },
     "metadata": {
      "needs_background": "light"
     },
     "output_type": "display_data"
    }
   ],
   "source": [
    "# 혼란 행렬에서 정확한 추측을 추적\n",
    "confusion = torch.zeros(n_categories, n_categories)\n",
    "n_confusion = 10000\n",
    "\n",
    "# 주어진 라인의 출력 반환\n",
    "def evaluate(line_tensor):\n",
    "    hidden = rnn.initHidden()\n",
    "\n",
    "    for i in range(line_tensor.size()[0]):\n",
    "        output, hidden = rnn(line_tensor[i], hidden)\n",
    "\n",
    "    return output\n",
    "\n",
    "# 예시들 중에 어떤 것이 정확하게 예측되었는지 기록\n",
    "for i in range(n_confusion):\n",
    "    category, line, category_tensor, line_tensor = randomTrainingExample()\n",
    "    output = evaluate(line_tensor)\n",
    "    guess, guess_i = categoryFromOutput(output)\n",
    "    category_i = all_categories.index(category)\n",
    "    confusion[category_i][guess_i] += 1\n",
    "\n",
    "# 모든 행을 합계로 나누어 정규화\n",
    "for i in range(n_categories):\n",
    "    confusion[i] = confusion[i] / confusion[i].sum()\n",
    "\n",
    "# 도식 설정\n",
    "fig = plt.figure()\n",
    "ax = fig.add_subplot(111)\n",
    "cax = ax.matshow(confusion.numpy())\n",
    "fig.colorbar(cax)\n",
    "\n",
    "# 축 설정\n",
    "ax.set_xticklabels([''] + all_categories, rotation=90)\n",
    "ax.set_yticklabels([''] + all_categories)\n",
    "\n",
    "# 모든 tick에서 레이블 지정\n",
    "ax.xaxis.set_major_locator(ticker.MultipleLocator(1))\n",
    "ax.yaxis.set_major_locator(ticker.MultipleLocator(1))\n",
    "\n",
    "# sphinx_gallery_thumbnail_number = 2\n",
    "plt.show()"
   ]
  },
  {
   "cell_type": "markdown",
   "metadata": {},
   "source": [
    "주축에서 벗어난 밝은 점을 선택하여 잘못 추측한 언어를 표시 할 수 있습니다\n",
    "ex. 한국어 --> 중국어로 잘못 추측"
   ]
  },
  {
   "cell_type": "code",
   "execution_count": 38,
   "metadata": {},
   "outputs": [
    {
     "name": "stdout",
     "output_type": "stream",
     "text": [
      "\n",
      "> Dovesky\n",
      "(-0.67) Russian\n",
      "(-1.05) Czech\n",
      "(-2.24) English\n",
      "\n",
      "> Jackson\n",
      "(-0.39) English\n",
      "(-2.00) Scottish\n",
      "(-2.83) Russian\n",
      "\n",
      "> Satoshi\n",
      "(-0.91) Japanese\n",
      "(-1.43) Polish\n",
      "(-2.24) Arabic\n"
     ]
    }
   ],
   "source": [
    "def predict(input_line, n_predictions=3):\n",
    "    print('\\n> %s' % input_line)\n",
    "    with torch.no_grad():\n",
    "        output = evaluate(lineToTensor(input_line))\n",
    "\n",
    "        # Get top N categories\n",
    "        topv, topi = output.topk(n_predictions, 1, True)\n",
    "        predictions = []\n",
    "\n",
    "        for i in range(n_predictions):\n",
    "            value = topv[0][i].item()\n",
    "            category_index = topi[0][i].item()\n",
    "            print('(%.2f) %s' % (value, all_categories[category_index]))\n",
    "            predictions.append([value, all_categories[category_index]])\n",
    "\n",
    "predict('Dovesky')\n",
    "predict('Jackson')\n",
    "predict('Satoshi')"
   ]
  },
  {
   "cell_type": "code",
   "execution_count": null,
   "metadata": {},
   "outputs": [],
   "source": []
  }
 ],
 "metadata": {
  "kernelspec": {
   "display_name": "Python 3",
   "language": "python",
   "name": "python3"
  },
  "language_info": {
   "codemirror_mode": {
    "name": "ipython",
    "version": 3
   },
   "file_extension": ".py",
   "mimetype": "text/x-python",
   "name": "python",
   "nbconvert_exporter": "python",
   "pygments_lexer": "ipython3",
   "version": "3.7.6"
  }
 },
 "nbformat": 4,
 "nbformat_minor": 4
}
